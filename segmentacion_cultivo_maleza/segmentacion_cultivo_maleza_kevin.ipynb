{
 "cells": [
  {
   "cell_type": "markdown",
   "metadata": {},
   "source": [
    "# Segmentación de cultivo y maleza en agricultura de precisión aplicando U-Net\n",
    "\n",
    "Pontificia Universidad Católica del Perú\n",
    "\n",
    "Escuela de Posgrado PUCP, Maestría en Informática, Ciencias de la Computacion\n",
    "\n",
    "Curso: \n",
    "- Técnicas avanzadas de data mining y sistemas inteligentes\n",
    "\n",
    "Alumnos:\n",
    "- 20173589 Alarcon Flores, Jorge Brian\n",
    "- 20173685 Chicchón Apaza, Miguel Angel\n",
    "- 20173789 Alvarez Mouravskaia, Kevin\n",
    "- 20173810 Pacheco Condori, Jesús Edwar"
   ]
  },
  {
   "cell_type": "markdown",
   "metadata": {},
   "source": [
    "## Librerías"
   ]
  },
  {
   "cell_type": "code",
   "execution_count": 5,
   "metadata": {
    "ExecuteTime": {
     "end_time": "2018-11-05T13:32:15.744875Z",
     "start_time": "2018-11-05T13:32:15.740049Z"
    }
   },
   "outputs": [],
   "source": [
    "import numpy as np\n",
    "import cv2 #https://opencv-python-tutroals.readthedocs.io/en/latest/index.html\n",
    "import glob #https://docs.python.org/2/library/glob.html\n",
    "from skimage.transform import rescale, resize #https://scikit-image.org/\n",
    "from tqdm import tqdm_notebook as tqdm\n",
    "import logging\n",
    "import matplotlib.pyplot as plt\n",
    "%matplotlib inline\n",
    "from sklearn.model_selection import train_test_split"
   ]
  },
  {
   "cell_type": "code",
   "execution_count": 289,
   "metadata": {
    "ExecuteTime": {
     "end_time": "2018-11-05T16:19:36.524109Z",
     "start_time": "2018-11-05T16:19:36.518951Z"
    }
   },
   "outputs": [],
   "source": [
    "from keras.models import Model, load_model, Sequential\n",
    "from keras.layers import Input, UpSampling2D, ZeroPadding2D, Layer, Cropping2D, Add, Activation, Reshape, BatchNormalization\n",
    "from keras.layers.core import Dropout, Lambda\n",
    "from keras.layers.convolutional import Conv2D, Conv2DTranspose\n",
    "from keras.layers.pooling import MaxPooling2D\n",
    "from keras.layers.merge import concatenate\n",
    "from keras.callbacks import EarlyStopping, ModelCheckpoint\n",
    "from keras import backend as K\n",
    "import tensorflow as tf"
   ]
  },
  {
   "cell_type": "code",
   "execution_count": 7,
   "metadata": {
    "ExecuteTime": {
     "end_time": "2018-11-05T13:32:28.771501Z",
     "start_time": "2018-11-05T13:32:28.768194Z"
    }
   },
   "outputs": [],
   "source": [
    "logging.basicConfig(level=logging.INFO, format='%(asctime)s %(message)s')"
   ]
  },
  {
   "cell_type": "markdown",
   "metadata": {},
   "source": [
    "## Lectura de datos"
   ]
  },
  {
   "cell_type": "code",
   "execution_count": 575,
   "metadata": {
    "ExecuteTime": {
     "end_time": "2018-11-05T19:25:19.139579Z",
     "start_time": "2018-11-05T19:25:19.134472Z"
    }
   },
   "outputs": [],
   "source": [
    "def make_label(a):\n",
    "    \"\"\"\n",
    "    Método que etiqueta los labels según colores\n",
    "    Fuente: elaboración propia\n",
    "    \"\"\"    \n",
    "    if a[1] == 255:\n",
    "        a[0] = 255\n",
    "        a[1] = 0\n",
    "        a[2] = 0\n",
    "    elif a[2] == 255:\n",
    "        a[0] = 0\n",
    "        a[1] = 255\n",
    "        a[2] = 0\n",
    "    else:\n",
    "        a[0] = 0\n",
    "        a[1] = 0\n",
    "        a[2] = 255\n",
    "    return (a / 255)"
   ]
  },
  {
   "cell_type": "code",
   "execution_count": 576,
   "metadata": {
    "ExecuteTime": {
     "end_time": "2018-11-05T19:25:21.516069Z",
     "start_time": "2018-11-05T19:25:21.504540Z"
    }
   },
   "outputs": [],
   "source": [
    "class DatasetProvider():\n",
    "    \"\"\"\n",
    "    Clase que lee el dataset\n",
    "    Fuente: elaboración propia\n",
    "    \"\"\"\n",
    "    def __init__(self, scale=1.0/6.0):\n",
    "        self.scale = scale\n",
    "        self.x, self.y = self.__run__()\n",
    "        \n",
    "    def __run__(self):\n",
    "        labels = self.__read_images__('annotation') \n",
    "        images = self.__read_images__('image') \n",
    "        x = self.__create_x__(images)\n",
    "        y = self.__create_y_annotations__(labels)\n",
    "        return x, y\n",
    "        \n",
    "    def __create_x__(self, images):\n",
    "        logging.info('Creando imágenes')\n",
    "        scale = self.scale\n",
    "        height, width, channels = images[0].shape\n",
    "        x = np.zeros((len(images), int(height * scale), int(width * scale), channels))\n",
    "        for i, image in tqdm(enumerate(images)):\n",
    "            image_rescaled = rescale(image, scale, anti_aliasing=True, multichannel=True, mode='reflect')\n",
    "            x[i,:,:,:] = image_rescaled\n",
    "        return x\n",
    "    \n",
    "    def __create_y_annotations__(self, annotations, shape=3):\n",
    "        logging.info('Creando labels')\n",
    "        scale = self.scale\n",
    "        height, width, channels = annotations[0].shape\n",
    "        labels = np.zeros((height, width, shape))\n",
    "        y = np.zeros((len(annotations), int(height * scale), int(width * scale), shape))\n",
    "        for i, image in tqdm(enumerate(annotations)):\n",
    "            np_image = np.array(image)\n",
    "            np_image = np.apply_along_axis(make_label, -1, np_image)\n",
    "            image_rescaled = rescale(np_image, scale, anti_aliasing=True, multichannel=True, mode='reflect')\n",
    "            y[i,:,:,:] = image_rescaled\n",
    "        return y\n",
    "        \n",
    "    def __read_images__(self, prefix):\n",
    "        logging.info('Leyendo imágenes {}'.format(prefix))\n",
    "        images = []\n",
    "        path = '../dataset/cwfid/' + prefix + 's'\n",
    "        files = glob.glob(path + \"/*.png\")\n",
    "        files = np.sort(files) \n",
    "        for i, img_name in enumerate(files):\n",
    "            path_img = img_name.replace('\\\\','/')\n",
    "            img = cv2.imread(path_img)\n",
    "            images.append(img)\n",
    "        return images"
   ]
  },
  {
   "cell_type": "code",
   "execution_count": 577,
   "metadata": {
    "ExecuteTime": {
     "end_time": "2018-11-05T19:25:24.302705Z",
     "start_time": "2018-11-05T19:25:24.298309Z"
    }
   },
   "outputs": [],
   "source": [
    "def execute_dataset_provider():\n",
    "    dataset_provider = DatasetProvider()\n",
    "    X = dataset_provider.x\n",
    "    y = dataset_provider.y\n",
    "    return X, y"
   ]
  },
  {
   "cell_type": "code",
   "execution_count": 578,
   "metadata": {
    "ExecuteTime": {
     "end_time": "2018-11-05T19:37:29.438780Z",
     "start_time": "2018-11-05T19:25:26.121241Z"
    }
   },
   "outputs": [
    {
     "name": "stderr",
     "output_type": "stream",
     "text": [
      "2018-11-05 19:25:26,122 Leyendo imágenes annotation\n",
      "2018-11-05 19:25:26,843 Leyendo imágenes image\n",
      "2018-11-05 19:25:28,970 Creando imágenes\n"
     ]
    },
    {
     "data": {
      "application/vnd.jupyter.widget-view+json": {
       "model_id": "fc9456f0222f456e99e48ffa3b5c2db7",
       "version_major": 2,
       "version_minor": 0
      },
      "text/plain": [
       "HBox(children=(IntProgress(value=1, bar_style='info', max=1), HTML(value='')))"
      ]
     },
     "metadata": {},
     "output_type": "display_data"
    },
    {
     "name": "stderr",
     "output_type": "stream",
     "text": [
      "2018-11-05 19:25:37,342 Creando labels\n"
     ]
    },
    {
     "data": {
      "application/vnd.jupyter.widget-view+json": {
       "model_id": "ddd9559a470a4820b97ab31aed89d861",
       "version_major": 2,
       "version_minor": 0
      },
      "text/plain": [
       "HBox(children=(IntProgress(value=1, bar_style='info', max=1), HTML(value='')))"
      ]
     },
     "metadata": {},
     "output_type": "display_data"
    }
   ],
   "source": [
    "X, y = execute_dataset_provider()"
   ]
  },
  {
   "cell_type": "code",
   "execution_count": 579,
   "metadata": {
    "ExecuteTime": {
     "end_time": "2018-11-05T19:37:29.446862Z",
     "start_time": "2018-11-05T19:37:29.441469Z"
    }
   },
   "outputs": [
    {
     "data": {
      "text/plain": [
       "((60, 161, 216, 3), (60, 161, 216, 3))"
      ]
     },
     "execution_count": 579,
     "metadata": {},
     "output_type": "execute_result"
    }
   ],
   "source": [
    "X.shape, y.shape"
   ]
  },
  {
   "cell_type": "code",
   "execution_count": 580,
   "metadata": {
    "ExecuteTime": {
     "end_time": "2018-11-05T19:37:29.672865Z",
     "start_time": "2018-11-05T19:37:29.449238Z"
    }
   },
   "outputs": [
    {
     "data": {
      "text/plain": [
       "<matplotlib.image.AxesImage at 0x7fb256ac3eb8>"
      ]
     },
     "execution_count": 580,
     "metadata": {},
     "output_type": "execute_result"
    },
    {
     "data": {
      "image/png": "[encoded data removed]",
      "text/plain": [
       "<Figure size 432x288 with 2 Axes>"
      ]
     },
     "metadata": {},
     "output_type": "display_data"
    }
   ],
   "source": [
    "np.random.seed(0)\n",
    "sample_idx = np.random.choice(len(X))  \n",
    "\n",
    "plt.subplot(1,2,1)\n",
    "plt.xticks([])\n",
    "plt.yticks([])\n",
    "plt.xlabel('img:{}'.format(sample_idx))\n",
    "plt.imshow(X[sample_idx,:,:,:])\n",
    "\n",
    "plt.subplot(1,2,2)\n",
    "plt.xticks([])\n",
    "plt.yticks([])\n",
    "plt.xlabel('img:{}'.format(sample_idx))\n",
    "plt.imshow(y[sample_idx,:,:,:])"
   ]
  },
  {
   "cell_type": "markdown",
   "metadata": {},
   "source": [
    "## Train validation split"
   ]
  },
  {
   "cell_type": "code",
   "execution_count": 581,
   "metadata": {
    "ExecuteTime": {
     "end_time": "2018-11-05T19:37:29.707417Z",
     "start_time": "2018-11-05T19:37:29.675654Z"
    }
   },
   "outputs": [],
   "source": [
    "X_train, X_test, y_train, y_test = train_test_split(X, y, test_size=0.33, random_state=42)"
   ]
  },
  {
   "cell_type": "code",
   "execution_count": 582,
   "metadata": {
    "ExecuteTime": {
     "end_time": "2018-11-05T19:37:29.715891Z",
     "start_time": "2018-11-05T19:37:29.710212Z"
    }
   },
   "outputs": [
    {
     "data": {
      "text/plain": [
       "((40, 161, 216, 3), (20, 161, 216, 3))"
      ]
     },
     "execution_count": 582,
     "metadata": {},
     "output_type": "execute_result"
    }
   ],
   "source": [
    "X_train.shape, X_test.shape"
   ]
  },
  {
   "cell_type": "markdown",
   "metadata": {},
   "source": [
    "## Pre entrenamiento (Aumentación)"
   ]
  },
  {
   "cell_type": "code",
   "execution_count": 583,
   "metadata": {
    "ExecuteTime": {
     "end_time": "2018-11-05T19:37:29.725352Z",
     "start_time": "2018-11-05T19:37:29.718764Z"
    }
   },
   "outputs": [],
   "source": [
    "class DatasetAugmentation():\n",
    "    \n",
    "    def __init__(self, X, y):\n",
    "        self.X, self.y = self.__run__(X, y)\n",
    "        \n",
    "    def __run__(self, X, y):\n",
    "        logging.info('Realizando aumentación')\n",
    "        X_augmentated = X\n",
    "        y_augmentated = y\n",
    "        for i, x_image in tqdm(enumerate(X)):\n",
    "            fliplr_x_image = np.fliplr(x_image)\n",
    "            flipup_x_image = np.flipud(x_image)\n",
    "            fliplr_y_image = np.fliplr(y[i])\n",
    "            flipup_y_image = np.flipud(y[i])\n",
    "            X_augmentated = np.append(X_augmentated, [fliplr_x_image], axis=0)\n",
    "            X_augmentated = np.append(X_augmentated, [flipup_x_image], axis=0)\n",
    "            y_augmentated = np.append(y_augmentated, [fliplr_y_image], axis=0)\n",
    "            y_augmentated = np.append(y_augmentated, [flipup_y_image], axis=0)\n",
    "        return X_augmentated, y_augmentated"
   ]
  },
  {
   "cell_type": "code",
   "execution_count": 584,
   "metadata": {
    "ExecuteTime": {
     "end_time": "2018-11-05T19:37:29.733394Z",
     "start_time": "2018-11-05T19:37:29.727804Z"
    }
   },
   "outputs": [],
   "source": [
    "def execute_dataset_pretrain(X, y):\n",
    "    dataset = DatasetAugmentation(X, y)\n",
    "    X_augmentated =  dataset.X\n",
    "    y_augmentated = dataset.y\n",
    "    return X_augmentated, y_augmentated"
   ]
  },
  {
   "cell_type": "code",
   "execution_count": 585,
   "metadata": {
    "ExecuteTime": {
     "end_time": "2018-11-05T19:37:38.930475Z",
     "start_time": "2018-11-05T19:37:29.735878Z"
    }
   },
   "outputs": [
    {
     "name": "stderr",
     "output_type": "stream",
     "text": [
      "2018-11-05 19:37:29,738 Realizando aumentación\n"
     ]
    },
    {
     "data": {
      "application/vnd.jupyter.widget-view+json": {
       "model_id": "b068742b0ecf4ed1aae2cccbc6349ce9",
       "version_major": 2,
       "version_minor": 0
      },
      "text/plain": [
       "HBox(children=(IntProgress(value=1, bar_style='info', max=1), HTML(value='')))"
      ]
     },
     "metadata": {},
     "output_type": "display_data"
    },
    {
     "name": "stderr",
     "output_type": "stream",
     "text": [
      "2018-11-05 19:37:37,527 Realizando aumentación\n"
     ]
    },
    {
     "data": {
      "application/vnd.jupyter.widget-view+json": {
       "model_id": "79a26c4fbcc14df686ff010d6faacb8a",
       "version_major": 2,
       "version_minor": 0
      },
      "text/plain": [
       "HBox(children=(IntProgress(value=1, bar_style='info', max=1), HTML(value='')))"
      ]
     },
     "metadata": {},
     "output_type": "display_data"
    }
   ],
   "source": [
    "X_train, y_train = execute_dataset_pretrain(X_train, y_train)\n",
    "X_test, y_test = execute_dataset_pretrain(X_test, y_test)"
   ]
  },
  {
   "cell_type": "code",
   "execution_count": 586,
   "metadata": {
    "ExecuteTime": {
     "end_time": "2018-11-05T19:37:38.937770Z",
     "start_time": "2018-11-05T19:37:38.933070Z"
    },
    "scrolled": true
   },
   "outputs": [
    {
     "data": {
      "text/plain": [
       "((120, 161, 216, 3), (60, 161, 216, 3))"
      ]
     },
     "execution_count": 586,
     "metadata": {},
     "output_type": "execute_result"
    }
   ],
   "source": [
    "X_train.shape, X_test.shape"
   ]
  },
  {
   "cell_type": "markdown",
   "metadata": {},
   "source": [
    "## Pre entrenamiento (normalización)"
   ]
  },
  {
   "cell_type": "code",
   "execution_count": 469,
   "metadata": {
    "ExecuteTime": {
     "end_time": "2018-11-05T18:33:48.800729Z",
     "start_time": "2018-11-05T18:33:48.797687Z"
    }
   },
   "outputs": [],
   "source": [
    "## TODO validar si es necesario"
   ]
  },
  {
   "cell_type": "markdown",
   "metadata": {},
   "source": [
    "## Métricas"
   ]
  },
  {
   "cell_type": "code",
   "execution_count": 470,
   "metadata": {
    "ExecuteTime": {
     "end_time": "2018-11-05T18:33:48.809507Z",
     "start_time": "2018-11-05T18:33:48.803170Z"
    }
   },
   "outputs": [],
   "source": [
    "def f1(y_true, y_pred):\n",
    "    def recall(y_true, y_pred):\n",
    "        true_positives = K.sum(K.round(K.clip(y_true * y_pred, 0, 1)))\n",
    "        possible_positives = K.sum(K.round(K.clip(y_true, 0, 1)))\n",
    "        recall = true_positives / (possible_positives + K.epsilon())\n",
    "        return recall\n",
    "\n",
    "    def precision(y_true, y_pred):\n",
    "        true_positives = K.sum(K.round(K.clip(y_true * y_pred, 0, 1)))\n",
    "        predicted_positives = K.sum(K.round(K.clip(y_pred, 0, 1)))\n",
    "        precision = true_positives / (predicted_positives + K.epsilon())\n",
    "        return precision\n",
    "    \n",
    "    precision = precision(y_true, y_pred)\n",
    "    recall = recall(y_true, y_pred)\n",
    "    return 2*((precision*recall)/(precision+recall+K.epsilon()))"
   ]
  },
  {
   "cell_type": "code",
   "execution_count": 319,
   "metadata": {
    "ExecuteTime": {
     "end_time": "2018-11-05T16:45:16.882818Z",
     "start_time": "2018-11-05T16:45:16.878054Z"
    }
   },
   "outputs": [],
   "source": [
    "# Define IoU metric\n",
    "def mean_iou(y_true, y_pred):\n",
    "    prec = []\n",
    "    for t in np.arange(0.5, 1.0, 0.05):\n",
    "        y_pred_ = tf.to_int32(y_pred > t)\n",
    "        score, up_opt = tf.metrics.mean_iou(y_true, y_pred_, 2)\n",
    "        K.get_session().run(tf.local_variables_initializer())\n",
    "        with tf.control_dependencies([up_opt]):\n",
    "            score = tf.identity(score)\n",
    "        prec.append(score)\n",
    "    return K.mean(K.stack(prec), axis=0)"
   ]
  },
  {
   "cell_type": "markdown",
   "metadata": {},
   "source": [
    "## Modelo U-Net"
   ]
  },
  {
   "cell_type": "markdown",
   "metadata": {},
   "source": [
    "### Definir modelo"
   ]
  },
  {
   "cell_type": "markdown",
   "metadata": {},
   "source": [
    "![title](https://lmb.informatik.uni-freiburg.de/people/ronneber/u-net/u-net-architecture.png)"
   ]
  },
  {
   "cell_type": "code",
   "execution_count": 603,
   "metadata": {
    "ExecuteTime": {
     "end_time": "2018-11-05T19:54:02.863709Z",
     "start_time": "2018-11-05T19:54:02.847703Z"
    }
   },
   "outputs": [],
   "source": [
    "class ModelUnetCreator():\n",
    "    \n",
    "    #Fuente: https://www.kaggle.com/keegil/keras-u-net-starter-lb-0-277\n",
    "    def unet(self, height, width, channels):\n",
    "        \n",
    "        start_neurons = 16\n",
    "        n_classes = 3\n",
    "        \n",
    "        #input\n",
    "        inputs = Input((height, width, channels))\n",
    "        zero_padding = ZeroPadding2D(padding=((7,8),(4,4))) (inputs)\n",
    "        \n",
    "        #downscaling\n",
    "        c1 = Conv2D(16, (3, 3), activation='relu', padding='same') (zero_padding)\n",
    "        c1 = Dropout(0.1) (c1)\n",
    "        c1 = Conv2D(16, (3, 3), activation='relu', padding='same') (c1)\n",
    "        p1 = MaxPooling2D((2, 2)) (c1)\n",
    "        \n",
    "        c2 = Conv2D(32, (3, 3), activation='relu', padding='same') (p1)\n",
    "        c2 = Dropout(0.1) (c2)\n",
    "        c2 = Conv2D(32, (3, 3), activation='relu', padding='same') (c2)\n",
    "        p2 = MaxPooling2D((2, 2)) (c2)\n",
    "\n",
    "        c3 = Conv2D(64, (3, 3), activation='relu', padding='same') (p2)\n",
    "        c3 = Dropout(0.2) (c3)\n",
    "        c3 = Conv2D(64, (3, 3), activation='relu', padding='same') (c3)\n",
    "        p3 = MaxPooling2D((2, 2)) (c3)\n",
    "\n",
    "        c4 = Conv2D(128, (3, 3), activation='relu', padding='same') (p3)\n",
    "        c4 = Dropout(0.2) (c4)\n",
    "        c4 = Conv2D(128, (3, 3), activation='relu', padding='same') (c4)\n",
    "        p4 = MaxPooling2D(pool_size=(2, 2)) (c4)\n",
    "        \n",
    "        #capa intermedia \n",
    "        c5 = Conv2D(256, (3, 3), activation='relu', padding='same') (p4)\n",
    "        c5 = Dropout(0.3) (c5)\n",
    "        c5 = Conv2D(256, (3, 3), activation='relu', padding='same') (c5)\n",
    "        \n",
    "        #upscaling\n",
    "        u6 = Conv2DTranspose(128, (2, 2), strides=(2, 2), padding='same') (c5)\n",
    "        u6 = concatenate([u6, c4])\n",
    "        c6 = Conv2D(128, (3, 3), activation='relu', padding='same') (u6)\n",
    "        c6 = Dropout(0.2) (c6)\n",
    "        c6 = Conv2D(128, (3, 3), activation='relu', padding='same') (c6)\n",
    "\n",
    "        u7 = Conv2DTranspose(64, (2, 2), strides=(2, 2), padding='same') (c6)\n",
    "        u7 = concatenate([u7, c3])\n",
    "        c7 = Conv2D(64, (3, 3), activation='relu', padding='same') (u7)\n",
    "        c7 = Dropout(0.2) (c7)\n",
    "        c7 = Conv2D(64, (3, 3), activation='relu', padding='same') (c7)\n",
    "\n",
    "        u8 = Conv2DTranspose(32, (2, 2), strides=(2, 2), padding='same') (c7)\n",
    "        u8 = concatenate([u8, c2])\n",
    "        c8 = Conv2D(32, (3, 3), activation='relu', padding='same') (u8)\n",
    "        c8 = Dropout(0.1) (c8)\n",
    "        c8 = Conv2D(32, (3, 3), activation='relu', padding='same') (c8)\n",
    "\n",
    "        u9 = Conv2DTranspose(16, (2, 2), strides=(2, 2), padding='same') (c8)\n",
    "        u9 = concatenate([u9, c1], axis=3)\n",
    "        c9 = Conv2D(16, (3, 3), activation='relu', padding='same') (u9)\n",
    "        c9 = Dropout(0.1) (c9)\n",
    "        c9 = Conv2D(16, (3, 3), activation='relu', padding='same') (c9)\n",
    "        \n",
    "        #output\n",
    "        output = Conv2D(n_classes, (1,1), padding=\"same\", activation=None)(c9)\n",
    "        output = Cropping2D(cropping=((7,8),(4,4))) (output)\n",
    "        output_layer = (Reshape((height, width, 3),\n",
    "                          input_shape=(height, width, 3)))(output)\n",
    "        output_layer =  Activation('sigmoid')(output_layer)\n",
    "        \n",
    "        model = Model(inputs=[inputs], outputs=[output_layer])\n",
    "        \n",
    "        return model    "
   ]
  },
  {
   "cell_type": "code",
   "execution_count": 604,
   "metadata": {
    "ExecuteTime": {
     "end_time": "2018-11-05T19:54:04.945389Z",
     "start_time": "2018-11-05T19:54:04.940838Z"
    }
   },
   "outputs": [],
   "source": [
    "def execute_model_unet():\n",
    "    logging.info('Creando modelo U-Net')\n",
    "    model = ModelUnetCreator()\n",
    "    model_unet = model.unet(X_train.shape[1], X_train.shape[2], X_train.shape[3])\n",
    "    model_unet.compile(loss = 'binary_crossentropy',\n",
    "             optimizer = 'Adam',\n",
    "             metrics = [f1, mean_iou])\n",
    "    model_unet.summary()\n",
    "    return model_unet"
   ]
  },
  {
   "cell_type": "code",
   "execution_count": 605,
   "metadata": {
    "ExecuteTime": {
     "end_time": "2018-11-05T19:56:15.821372Z",
     "start_time": "2018-11-05T19:54:07.159853Z"
    },
    "scrolled": true
   },
   "outputs": [
    {
     "name": "stderr",
     "output_type": "stream",
     "text": [
      "2018-11-05 19:54:07,161 Creando modelo U-Net\n"
     ]
    },
    {
     "name": "stdout",
     "output_type": "stream",
     "text": [
      "__________________________________________________________________________________________________\n",
      "Layer (type)                    Output Shape         Param #     Connected to                     \n",
      "==================================================================================================\n",
      "input_47 (InputLayer)           (None, 161, 216, 3)  0                                            \n",
      "__________________________________________________________________________________________________\n",
      "zero_padding2d_73 (ZeroPadding2 (None, 176, 224, 3)  0           input_47[0][0]                   \n",
      "__________________________________________________________________________________________________\n",
      "conv2d_878 (Conv2D)             (None, 176, 224, 16) 448         zero_padding2d_73[0][0]          \n",
      "__________________________________________________________________________________________________\n",
      "dropout_379 (Dropout)           (None, 176, 224, 16) 0           conv2d_878[0][0]                 \n",
      "__________________________________________________________________________________________________\n",
      "conv2d_879 (Conv2D)             (None, 176, 224, 16) 2320        dropout_379[0][0]                \n",
      "__________________________________________________________________________________________________\n",
      "max_pooling2d_257 (MaxPooling2D (None, 88, 112, 16)  0           conv2d_879[0][0]                 \n",
      "__________________________________________________________________________________________________\n",
      "conv2d_880 (Conv2D)             (None, 88, 112, 32)  4640        max_pooling2d_257[0][0]          \n",
      "__________________________________________________________________________________________________\n",
      "dropout_380 (Dropout)           (None, 88, 112, 32)  0           conv2d_880[0][0]                 \n",
      "__________________________________________________________________________________________________\n",
      "conv2d_881 (Conv2D)             (None, 88, 112, 32)  9248        dropout_380[0][0]                \n",
      "__________________________________________________________________________________________________\n",
      "max_pooling2d_258 (MaxPooling2D (None, 44, 56, 32)   0           conv2d_881[0][0]                 \n",
      "__________________________________________________________________________________________________\n",
      "conv2d_882 (Conv2D)             (None, 44, 56, 64)   18496       max_pooling2d_258[0][0]          \n",
      "__________________________________________________________________________________________________\n",
      "dropout_381 (Dropout)           (None, 44, 56, 64)   0           conv2d_882[0][0]                 \n",
      "__________________________________________________________________________________________________\n",
      "conv2d_883 (Conv2D)             (None, 44, 56, 64)   36928       dropout_381[0][0]                \n",
      "__________________________________________________________________________________________________\n",
      "max_pooling2d_259 (MaxPooling2D (None, 22, 28, 64)   0           conv2d_883[0][0]                 \n",
      "__________________________________________________________________________________________________\n",
      "conv2d_884 (Conv2D)             (None, 22, 28, 128)  73856       max_pooling2d_259[0][0]          \n",
      "__________________________________________________________________________________________________\n",
      "dropout_382 (Dropout)           (None, 22, 28, 128)  0           conv2d_884[0][0]                 \n",
      "__________________________________________________________________________________________________\n",
      "conv2d_885 (Conv2D)             (None, 22, 28, 128)  147584      dropout_382[0][0]                \n",
      "__________________________________________________________________________________________________\n",
      "max_pooling2d_260 (MaxPooling2D (None, 11, 14, 128)  0           conv2d_885[0][0]                 \n",
      "__________________________________________________________________________________________________\n",
      "conv2d_886 (Conv2D)             (None, 11, 14, 256)  295168      max_pooling2d_260[0][0]          \n",
      "__________________________________________________________________________________________________\n",
      "dropout_383 (Dropout)           (None, 11, 14, 256)  0           conv2d_886[0][0]                 \n",
      "__________________________________________________________________________________________________\n",
      "conv2d_887 (Conv2D)             (None, 11, 14, 256)  590080      dropout_383[0][0]                \n",
      "__________________________________________________________________________________________________\n",
      "conv2d_transpose_114 (Conv2DTra (None, 22, 28, 128)  131200      conv2d_887[0][0]                 \n",
      "__________________________________________________________________________________________________\n",
      "concatenate_82 (Concatenate)    (None, 22, 28, 256)  0           conv2d_transpose_114[0][0]       \n",
      "                                                                 conv2d_885[0][0]                 \n",
      "__________________________________________________________________________________________________\n",
      "conv2d_888 (Conv2D)             (None, 22, 28, 128)  295040      concatenate_82[0][0]             \n",
      "__________________________________________________________________________________________________\n",
      "dropout_384 (Dropout)           (None, 22, 28, 128)  0           conv2d_888[0][0]                 \n",
      "__________________________________________________________________________________________________\n",
      "conv2d_889 (Conv2D)             (None, 22, 28, 128)  147584      dropout_384[0][0]                \n",
      "__________________________________________________________________________________________________\n",
      "conv2d_transpose_115 (Conv2DTra (None, 44, 56, 64)   32832       conv2d_889[0][0]                 \n",
      "__________________________________________________________________________________________________\n",
      "concatenate_83 (Concatenate)    (None, 44, 56, 128)  0           conv2d_transpose_115[0][0]       \n",
      "                                                                 conv2d_883[0][0]                 \n",
      "__________________________________________________________________________________________________\n",
      "conv2d_890 (Conv2D)             (None, 44, 56, 64)   73792       concatenate_83[0][0]             \n",
      "__________________________________________________________________________________________________\n",
      "dropout_385 (Dropout)           (None, 44, 56, 64)   0           conv2d_890[0][0]                 \n",
      "__________________________________________________________________________________________________\n",
      "conv2d_891 (Conv2D)             (None, 44, 56, 64)   36928       dropout_385[0][0]                \n",
      "__________________________________________________________________________________________________\n",
      "conv2d_transpose_116 (Conv2DTra (None, 88, 112, 32)  8224        conv2d_891[0][0]                 \n",
      "__________________________________________________________________________________________________\n",
      "concatenate_84 (Concatenate)    (None, 88, 112, 64)  0           conv2d_transpose_116[0][0]       \n",
      "                                                                 conv2d_881[0][0]                 \n",
      "__________________________________________________________________________________________________\n",
      "conv2d_892 (Conv2D)             (None, 88, 112, 32)  18464       concatenate_84[0][0]             \n",
      "__________________________________________________________________________________________________\n",
      "dropout_386 (Dropout)           (None, 88, 112, 32)  0           conv2d_892[0][0]                 \n",
      "__________________________________________________________________________________________________\n",
      "conv2d_893 (Conv2D)             (None, 88, 112, 32)  9248        dropout_386[0][0]                \n",
      "__________________________________________________________________________________________________\n",
      "conv2d_transpose_117 (Conv2DTra (None, 176, 224, 16) 2064        conv2d_893[0][0]                 \n",
      "__________________________________________________________________________________________________\n",
      "concatenate_85 (Concatenate)    (None, 176, 224, 32) 0           conv2d_transpose_117[0][0]       \n",
      "                                                                 conv2d_879[0][0]                 \n",
      "__________________________________________________________________________________________________\n",
      "conv2d_894 (Conv2D)             (None, 176, 224, 16) 4624        concatenate_85[0][0]             \n",
      "__________________________________________________________________________________________________\n",
      "dropout_387 (Dropout)           (None, 176, 224, 16) 0           conv2d_894[0][0]                 \n",
      "__________________________________________________________________________________________________\n",
      "conv2d_895 (Conv2D)             (None, 176, 224, 16) 2320        dropout_387[0][0]                \n",
      "__________________________________________________________________________________________________\n",
      "conv2d_896 (Conv2D)             (None, 176, 224, 3)  51          conv2d_895[0][0]                 \n",
      "__________________________________________________________________________________________________\n",
      "cropping2d_49 (Cropping2D)      (None, 161, 216, 3)  0           conv2d_896[0][0]                 \n",
      "__________________________________________________________________________________________________\n",
      "reshape_7 (Reshape)             (None, 161, 216, 3)  0           cropping2d_49[0][0]              \n",
      "__________________________________________________________________________________________________\n",
      "activation_462 (Activation)     (None, 161, 216, 3)  0           reshape_7[0][0]                  \n",
      "==================================================================================================\n",
      "Total params: 1,941,139\n",
      "Trainable params: 1,941,139\n",
      "Non-trainable params: 0\n",
      "__________________________________________________________________________________________________\n"
     ]
    }
   ],
   "source": [
    "model_unet = execute_model_unet()"
   ]
  },
  {
   "cell_type": "markdown",
   "metadata": {},
   "source": [
    "### Entrenamiento"
   ]
  },
  {
   "cell_type": "code",
   "execution_count": 607,
   "metadata": {
    "ExecuteTime": {
     "end_time": "2018-11-05T19:59:25.089202Z",
     "start_time": "2018-11-05T19:57:23.750786Z"
    },
    "scrolled": true
   },
   "outputs": [
    {
     "name": "stdout",
     "output_type": "stream",
     "text": [
      "Train on 96 samples, validate on 24 samples\n",
      "Epoch 1/30\n",
      "96/96 [==============================] - 9s 90ms/step - loss: 0.6895 - f1: 0.5149 - mean_iou: 0.2304 - val_loss: 0.6610 - val_f1: 0.6343 - val_mean_iou: 0.3544\n",
      "\n",
      "Epoch 00001: val_loss improved from inf to 0.66100, saving model to model-unet-cwfid.h5\n",
      "Epoch 2/30\n",
      "96/96 [==============================] - 2s 19ms/step - loss: 0.6221 - f1: 0.7089 - mean_iou: 0.3634 - val_loss: 0.4496 - val_f1: 0.8044 - val_mean_iou: 0.3877\n",
      "\n",
      "Epoch 00002: val_loss improved from 0.66100 to 0.44959, saving model to model-unet-cwfid.h5\n",
      "Epoch 3/30\n",
      "96/96 [==============================] - 2s 18ms/step - loss: 0.4340 - f1: 0.8281 - mean_iou: 0.4503 - val_loss: 0.3414 - val_f1: 0.9292 - val_mean_iou: 0.5250\n",
      "\n",
      "Epoch 00003: val_loss improved from 0.44959 to 0.34144, saving model to model-unet-cwfid.h5\n",
      "Epoch 4/30\n",
      "96/96 [==============================] - 2s 18ms/step - loss: 0.3107 - f1: 0.9227 - mean_iou: 0.5597 - val_loss: 0.2811 - val_f1: 0.9308 - val_mean_iou: 0.5925\n",
      "\n",
      "Epoch 00004: val_loss improved from 0.34144 to 0.28107, saving model to model-unet-cwfid.h5\n",
      "Epoch 5/30\n",
      "96/96 [==============================] - 2s 18ms/step - loss: 0.2549 - f1: 0.9271 - mean_iou: 0.6183 - val_loss: 0.2226 - val_f1: 0.9330 - val_mean_iou: 0.6473\n",
      "\n",
      "Epoch 00005: val_loss improved from 0.28107 to 0.22264, saving model to model-unet-cwfid.h5\n",
      "Epoch 6/30\n",
      "96/96 [==============================] - 2s 18ms/step - loss: 0.2497 - f1: 0.9276 - mean_iou: 0.6680 - val_loss: 0.2256 - val_f1: 0.9317 - val_mean_iou: 0.6882\n",
      "\n",
      "Epoch 00006: val_loss did not improve from 0.22264\n",
      "Epoch 7/30\n",
      "96/96 [==============================] - 2s 18ms/step - loss: 0.2256 - f1: 0.9264 - mean_iou: 0.7007 - val_loss: 0.2353 - val_f1: 0.9308 - val_mean_iou: 0.7126\n",
      "\n",
      "Epoch 00007: val_loss did not improve from 0.22264\n",
      "Epoch 8/30\n",
      "96/96 [==============================] - 2s 18ms/step - loss: 0.2111 - f1: 0.9265 - mean_iou: 0.7207 - val_loss: 0.1894 - val_f1: 0.9322 - val_mean_iou: 0.7307\n",
      "\n",
      "Epoch 00008: val_loss improved from 0.22264 to 0.18937, saving model to model-unet-cwfid.h5\n",
      "Epoch 9/30\n",
      "96/96 [==============================] - 2s 18ms/step - loss: 0.2000 - f1: 0.9273 - mean_iou: 0.7392 - val_loss: 0.1790 - val_f1: 0.9320 - val_mean_iou: 0.7480\n",
      "\n",
      "Epoch 00009: val_loss improved from 0.18937 to 0.17899, saving model to model-unet-cwfid.h5\n",
      "Epoch 10/30\n",
      "96/96 [==============================] - 2s 18ms/step - loss: 0.1851 - f1: 0.9265 - mean_iou: 0.7544 - val_loss: 0.1838 - val_f1: 0.9304 - val_mean_iou: 0.7608\n",
      "\n",
      "Epoch 00010: val_loss did not improve from 0.17899\n",
      "Epoch 11/30\n",
      "96/96 [==============================] - 2s 18ms/step - loss: 0.1761 - f1: 0.9255 - mean_iou: 0.7648 - val_loss: 0.1591 - val_f1: 0.9310 - val_mean_iou: 0.7694\n",
      "\n",
      "Epoch 00011: val_loss improved from 0.17899 to 0.15909, saving model to model-unet-cwfid.h5\n",
      "Epoch 12/30\n",
      "96/96 [==============================] - 2s 18ms/step - loss: 0.1638 - f1: 0.9261 - mean_iou: 0.7736 - val_loss: 0.1472 - val_f1: 0.9308 - val_mean_iou: 0.7784\n",
      "\n",
      "Epoch 00012: val_loss improved from 0.15909 to 0.14723, saving model to model-unet-cwfid.h5\n",
      "Epoch 13/30\n",
      "96/96 [==============================] - 2s 18ms/step - loss: 0.1528 - f1: 0.9251 - mean_iou: 0.7821 - val_loss: 0.1453 - val_f1: 0.9289 - val_mean_iou: 0.7857\n",
      "\n",
      "Epoch 00013: val_loss improved from 0.14723 to 0.14534, saving model to model-unet-cwfid.h5\n",
      "Epoch 14/30\n",
      "96/96 [==============================] - 2s 18ms/step - loss: 0.1432 - f1: 0.9240 - mean_iou: 0.7883 - val_loss: 0.1289 - val_f1: 0.9295 - val_mean_iou: 0.7914\n",
      "\n",
      "Epoch 00014: val_loss improved from 0.14534 to 0.12893, saving model to model-unet-cwfid.h5\n",
      "Epoch 15/30\n",
      "96/96 [==============================] - 2s 18ms/step - loss: 0.1330 - f1: 0.9241 - mean_iou: 0.7945 - val_loss: 0.1226 - val_f1: 0.9277 - val_mean_iou: 0.7979\n",
      "\n",
      "Epoch 00015: val_loss improved from 0.12893 to 0.12260, saving model to model-unet-cwfid.h5\n",
      "Epoch 16/30\n",
      "96/96 [==============================] - 2s 18ms/step - loss: 0.1251 - f1: 0.9223 - mean_iou: 0.8004 - val_loss: 0.1131 - val_f1: 0.9280 - val_mean_iou: 0.8034\n",
      "\n",
      "Epoch 00016: val_loss improved from 0.12260 to 0.11306, saving model to model-unet-cwfid.h5\n",
      "Epoch 17/30\n",
      "96/96 [==============================] - 2s 18ms/step - loss: 0.1188 - f1: 0.9228 - mean_iou: 0.8062 - val_loss: 0.1124 - val_f1: 0.9256 - val_mean_iou: 0.8093\n",
      "\n",
      "Epoch 00017: val_loss improved from 0.11306 to 0.11239, saving model to model-unet-cwfid.h5\n",
      "Epoch 18/30\n",
      "96/96 [==============================] - 2s 18ms/step - loss: 0.1144 - f1: 0.9210 - mean_iou: 0.8118 - val_loss: 0.1046 - val_f1: 0.9271 - val_mean_iou: 0.8146\n",
      "\n",
      "Epoch 00018: val_loss improved from 0.11239 to 0.10455, saving model to model-unet-cwfid.h5\n",
      "Epoch 19/30\n",
      "96/96 [==============================] - 2s 18ms/step - loss: 0.1092 - f1: 0.9204 - mean_iou: 0.8171 - val_loss: 0.1006 - val_f1: 0.9242 - val_mean_iou: 0.8198\n",
      "\n",
      "Epoch 00019: val_loss improved from 0.10455 to 0.10058, saving model to model-unet-cwfid.h5\n",
      "Epoch 20/30\n",
      "96/96 [==============================] - 2s 18ms/step - loss: 0.1037 - f1: 0.9192 - mean_iou: 0.8221 - val_loss: 0.0938 - val_f1: 0.9242 - val_mean_iou: 0.8247\n",
      "\n",
      "Epoch 00020: val_loss improved from 0.10058 to 0.09381, saving model to model-unet-cwfid.h5\n",
      "Epoch 21/30\n",
      "96/96 [==============================] - 2s 18ms/step - loss: 0.0978 - f1: 0.9189 - mean_iou: 0.8269 - val_loss: 0.0892 - val_f1: 0.9242 - val_mean_iou: 0.8293\n",
      "\n",
      "Epoch 00021: val_loss improved from 0.09381 to 0.08922, saving model to model-unet-cwfid.h5\n",
      "Epoch 22/30\n",
      "96/96 [==============================] - 2s 18ms/step - loss: 0.0934 - f1: 0.9190 - mean_iou: 0.8314 - val_loss: 0.0878 - val_f1: 0.9254 - val_mean_iou: 0.8337\n",
      "\n",
      "Epoch 00022: val_loss improved from 0.08922 to 0.08783, saving model to model-unet-cwfid.h5\n",
      "Epoch 23/30\n",
      "96/96 [==============================] - 2s 18ms/step - loss: 0.0912 - f1: 0.9201 - mean_iou: 0.8356 - val_loss: 0.0841 - val_f1: 0.9256 - val_mean_iou: 0.8378\n",
      "\n",
      "Epoch 00023: val_loss improved from 0.08783 to 0.08411, saving model to model-unet-cwfid.h5\n",
      "Epoch 24/30\n",
      "96/96 [==============================] - 2s 18ms/step - loss: 0.0885 - f1: 0.9204 - mean_iou: 0.8396 - val_loss: 0.0821 - val_f1: 0.9254 - val_mean_iou: 0.8416\n",
      "\n",
      "Epoch 00024: val_loss improved from 0.08411 to 0.08205, saving model to model-unet-cwfid.h5\n",
      "Epoch 25/30\n",
      "96/96 [==============================] - 2s 18ms/step - loss: 0.0864 - f1: 0.9209 - mean_iou: 0.8434 - val_loss: 0.0810 - val_f1: 0.9262 - val_mean_iou: 0.8452\n",
      "\n",
      "Epoch 00025: val_loss improved from 0.08205 to 0.08100, saving model to model-unet-cwfid.h5\n",
      "Epoch 26/30\n",
      "96/96 [==============================] - 2s 18ms/step - loss: 0.0846 - f1: 0.9211 - mean_iou: 0.8469 - val_loss: 0.0783 - val_f1: 0.9264 - val_mean_iou: 0.8486\n",
      "\n",
      "Epoch 00026: val_loss improved from 0.08100 to 0.07829, saving model to model-unet-cwfid.h5\n",
      "Epoch 27/30\n",
      "96/96 [==============================] - 2s 18ms/step - loss: 0.0836 - f1: 0.9224 - mean_iou: 0.8501 - val_loss: 0.0787 - val_f1: 0.9286 - val_mean_iou: 0.8518\n",
      "\n",
      "Epoch 00027: val_loss did not improve from 0.07829\n",
      "Epoch 28/30\n",
      "96/96 [==============================] - 2s 18ms/step - loss: 0.0824 - f1: 0.9236 - mean_iou: 0.8532 - val_loss: 0.0763 - val_f1: 0.9287 - val_mean_iou: 0.8548\n",
      "\n",
      "Epoch 00028: val_loss improved from 0.07829 to 0.07634, saving model to model-unet-cwfid.h5\n",
      "Epoch 29/30\n",
      "96/96 [==============================] - 2s 18ms/step - loss: 0.0813 - f1: 0.9239 - mean_iou: 0.8561 - val_loss: 0.0762 - val_f1: 0.9305 - val_mean_iou: 0.8575\n",
      "\n",
      "Epoch 00029: val_loss improved from 0.07634 to 0.07620, saving model to model-unet-cwfid.h5\n",
      "Epoch 30/30\n",
      "96/96 [==============================] - 2s 18ms/step - loss: 0.0802 - f1: 0.9253 - mean_iou: 0.8588 - val_loss: 0.0754 - val_f1: 0.9329 - val_mean_iou: 0.8601\n",
      "\n",
      "Epoch 00030: val_loss improved from 0.07620 to 0.07540, saving model to model-unet-cwfid.h5\n"
     ]
    }
   ],
   "source": [
    "callbacks_full = [\n",
    "    ModelCheckpoint('model-unet-cwfid.h5', verbose=1, save_best_only=True)\n",
    "]\n",
    "\n",
    "model_unet_full_history = model_unet.fit(x = X_train,\n",
    "                         y = y_train,\n",
    "                         batch_size = 32,\n",
    "                         epochs = 30,\n",
    "                         verbose = 1,\n",
    "                         validation_split = 0.2,\n",
    "                          callbacks = callbacks_full\n",
    "                         )"
   ]
  },
  {
   "cell_type": "markdown",
   "metadata": {},
   "source": [
    "### Métricas"
   ]
  },
  {
   "cell_type": "code",
   "execution_count": null,
   "metadata": {
    "ExecuteTime": {
     "end_time": "2018-11-05T19:56:43.188807Z",
     "start_time": "2018-11-05T19:54:11.678Z"
    }
   },
   "outputs": [],
   "source": [
    "model_unet.evaluate(X_val, y_val)"
   ]
  },
  {
   "cell_type": "markdown",
   "metadata": {},
   "source": [
    "## Modelo Seg-Net"
   ]
  },
  {
   "cell_type": "markdown",
   "metadata": {},
   "source": [
    "### Definir modelo"
   ]
  },
  {
   "cell_type": "code",
   "execution_count": 609,
   "metadata": {
    "ExecuteTime": {
     "end_time": "2018-11-05T20:00:50.923941Z",
     "start_time": "2018-11-05T20:00:50.911471Z"
    }
   },
   "outputs": [],
   "source": [
    "def segnet(n_classes, input_height=161, input_width=216):\n",
    "    kernel = 3\n",
    "    filter_size = 64\n",
    "    pad = 1\n",
    "    pool_size = 2\n",
    "    \n",
    "    model = Sequential()\n",
    "    model.add(Layer(input_shape=(input_height, input_width, 3)))\n",
    "    model.add(ZeroPadding2D(padding=((7,8),(0,0))))\n",
    "    \n",
    "    model.add(Conv2D(filter_size,(kernel,kernel),padding='same'))\n",
    "    model.add(BatchNormalization())\n",
    "    model.add(Activation('relu'))\n",
    "    model.add(MaxPooling2D(pool_size=(pool_size,pool_size)))\n",
    "    \n",
    "    model.add(Conv2D(128,(kernel,kernel),padding='same'))\n",
    "    model.add(BatchNormalization())\n",
    "    model.add(Activation('relu'))\n",
    "    model.add(MaxPooling2D(pool_size=(pool_size,pool_size)))\n",
    "    \n",
    "    model.add(Conv2D(256,(kernel,kernel),padding='same'))\n",
    "    model.add(BatchNormalization())\n",
    "    model.add(Activation('relu'))\n",
    "    model.add(MaxPooling2D(pool_size=(pool_size,pool_size)))\n",
    "    \n",
    "    model.add(Conv2D(512,(kernel,kernel),padding='same'))\n",
    "    model.add(BatchNormalization())\n",
    "    model.add(Activation('relu'))\n",
    "    \n",
    "    model.add(Conv2D(512,(kernel,kernel),padding='same'))\n",
    "    model.add(BatchNormalization())\n",
    "    \n",
    "    model.add(UpSampling2D(size=(pool_size,pool_size)))\n",
    "    model.add(Conv2D(256,(kernel,kernel),padding='same'))\n",
    "    model.add(BatchNormalization())\n",
    "    \n",
    "    model.add(UpSampling2D(size=(pool_size,pool_size)))\n",
    "    model.add(Conv2D(128,(kernel,kernel),padding='same'))\n",
    "    model.add(BatchNormalization())\n",
    "    \n",
    "    model.add(UpSampling2D(size=(pool_size,pool_size)))\n",
    "    model.add(Conv2D(filter_size,(kernel,kernel),padding='same'))\n",
    "    model.add(BatchNormalization())\n",
    "    \n",
    "    model.add(Conv2D(n_classes,(1,1), padding='same'))\n",
    "    \n",
    "    model.add(Cropping2D(cropping=((7,8),(0,0))))\n",
    "    \n",
    "    model.outputHeight = model.output_shape[-3]\n",
    "    model.outputWidth = model.output_shape[-2]\n",
    "    \n",
    "    if n_classes == 1:\n",
    "        model.add(Reshape((model.output_shape[-3], model.output_shape[-2]),\n",
    "                          input_shape=(model.output_shape[-3], model.output_shape[-2], 3)))\n",
    "        model.add(Activation('sigmoid'))\n",
    "    else:\n",
    "        model.add(Reshape((model.output_shape[-3], model.output_shape[-2], n_classes),\n",
    "                          input_shape=(model.output_shape[-3], model.output_shape[-2], 3)))\n",
    "        model.add(Activation('sigmoid'))\n",
    "        \n",
    "    #if not optimizer is None:\n",
    "    #    model.compile(loss=\"categorical_crossentropy\", optimizer= optimizer , metrics=['accuracy'] )\n",
    "        \n",
    "    return model"
   ]
  },
  {
   "cell_type": "code",
   "execution_count": 610,
   "metadata": {
    "ExecuteTime": {
     "end_time": "2018-11-05T20:03:07.944650Z",
     "start_time": "2018-11-05T20:00:52.917306Z"
    }
   },
   "outputs": [],
   "source": [
    "model_segnet = segnet(n_classes=3)\n",
    "model_segnet.compile(loss = 'binary_crossentropy',\n",
    "             optimizer = 'Adam',\n",
    "             metrics = [f1, mean_iou])"
   ]
  },
  {
   "cell_type": "code",
   "execution_count": 611,
   "metadata": {
    "ExecuteTime": {
     "end_time": "2018-11-05T20:03:07.956942Z",
     "start_time": "2018-11-05T20:03:07.947095Z"
    }
   },
   "outputs": [
    {
     "name": "stdout",
     "output_type": "stream",
     "text": [
      "_________________________________________________________________\n",
      "Layer (type)                 Output Shape              Param #   \n",
      "=================================================================\n",
      "layer_39 (Layer)             (None, 161, 216, 3)       0         \n",
      "_________________________________________________________________\n",
      "zero_padding2d_74 (ZeroPaddi (None, 176, 216, 3)       0         \n",
      "_________________________________________________________________\n",
      "conv2d_897 (Conv2D)          (None, 176, 216, 64)      1792      \n",
      "_________________________________________________________________\n",
      "batch_normalization_183 (Bat (None, 176, 216, 64)      256       \n",
      "_________________________________________________________________\n",
      "activation_463 (Activation)  (None, 176, 216, 64)      0         \n",
      "_________________________________________________________________\n",
      "max_pooling2d_261 (MaxPoolin (None, 88, 108, 64)       0         \n",
      "_________________________________________________________________\n",
      "conv2d_898 (Conv2D)          (None, 88, 108, 128)      73856     \n",
      "_________________________________________________________________\n",
      "batch_normalization_184 (Bat (None, 88, 108, 128)      512       \n",
      "_________________________________________________________________\n",
      "activation_464 (Activation)  (None, 88, 108, 128)      0         \n",
      "_________________________________________________________________\n",
      "max_pooling2d_262 (MaxPoolin (None, 44, 54, 128)       0         \n",
      "_________________________________________________________________\n",
      "conv2d_899 (Conv2D)          (None, 44, 54, 256)       295168    \n",
      "_________________________________________________________________\n",
      "batch_normalization_185 (Bat (None, 44, 54, 256)       1024      \n",
      "_________________________________________________________________\n",
      "activation_465 (Activation)  (None, 44, 54, 256)       0         \n",
      "_________________________________________________________________\n",
      "max_pooling2d_263 (MaxPoolin (None, 22, 27, 256)       0         \n",
      "_________________________________________________________________\n",
      "conv2d_900 (Conv2D)          (None, 22, 27, 512)       1180160   \n",
      "_________________________________________________________________\n",
      "batch_normalization_186 (Bat (None, 22, 27, 512)       2048      \n",
      "_________________________________________________________________\n",
      "activation_466 (Activation)  (None, 22, 27, 512)       0         \n",
      "_________________________________________________________________\n",
      "conv2d_901 (Conv2D)          (None, 22, 27, 512)       2359808   \n",
      "_________________________________________________________________\n",
      "batch_normalization_187 (Bat (None, 22, 27, 512)       2048      \n",
      "_________________________________________________________________\n",
      "up_sampling2d_4 (UpSampling2 (None, 44, 54, 512)       0         \n",
      "_________________________________________________________________\n",
      "conv2d_902 (Conv2D)          (None, 44, 54, 256)       1179904   \n",
      "_________________________________________________________________\n",
      "batch_normalization_188 (Bat (None, 44, 54, 256)       1024      \n",
      "_________________________________________________________________\n",
      "up_sampling2d_5 (UpSampling2 (None, 88, 108, 256)      0         \n",
      "_________________________________________________________________\n",
      "conv2d_903 (Conv2D)          (None, 88, 108, 128)      295040    \n",
      "_________________________________________________________________\n",
      "batch_normalization_189 (Bat (None, 88, 108, 128)      512       \n",
      "_________________________________________________________________\n",
      "up_sampling2d_6 (UpSampling2 (None, 176, 216, 128)     0         \n",
      "_________________________________________________________________\n",
      "conv2d_904 (Conv2D)          (None, 176, 216, 64)      73792     \n",
      "_________________________________________________________________\n",
      "batch_normalization_190 (Bat (None, 176, 216, 64)      256       \n",
      "_________________________________________________________________\n",
      "conv2d_905 (Conv2D)          (None, 176, 216, 3)       195       \n",
      "_________________________________________________________________\n",
      "cropping2d_50 (Cropping2D)   (None, 161, 216, 3)       0         \n",
      "_________________________________________________________________\n",
      "reshape_8 (Reshape)          (None, 161, 216, 3)       0         \n",
      "_________________________________________________________________\n",
      "activation_467 (Activation)  (None, 161, 216, 3)       0         \n",
      "=================================================================\n",
      "Total params: 5,467,395\n",
      "Trainable params: 5,463,555\n",
      "Non-trainable params: 3,840\n",
      "_________________________________________________________________\n"
     ]
    }
   ],
   "source": [
    "model_segnet.summary()"
   ]
  },
  {
   "cell_type": "markdown",
   "metadata": {},
   "source": [
    "### Entrenamiento"
   ]
  },
  {
   "cell_type": "code",
   "execution_count": 612,
   "metadata": {
    "ExecuteTime": {
     "end_time": "2018-11-05T20:06:28.674075Z",
     "start_time": "2018-11-05T20:03:07.960339Z"
    },
    "scrolled": true
   },
   "outputs": [
    {
     "name": "stdout",
     "output_type": "stream",
     "text": [
      "Train on 96 samples, validate on 24 samples\n",
      "Epoch 1/30\n",
      "96/96 [==============================] - 42s 436ms/step - loss: 0.9127 - f1: 0.4910 - mean_iou: 0.2641 - val_loss: 3.3892 - val_f1: 0.6446 - val_mean_iou: 0.4228\n",
      "\n",
      "Epoch 00001: val_loss improved from inf to 3.38915, saving model to model-segnet-cwfid.h5\n",
      "Epoch 2/30\n",
      "96/96 [==============================] - 4s 39ms/step - loss: 0.5899 - f1: 0.6753 - mean_iou: 0.4422 - val_loss: 0.4690 - val_f1: 0.8510 - val_mean_iou: 0.4535\n",
      "\n",
      "Epoch 00002: val_loss improved from 3.38915 to 0.46900, saving model to model-segnet-cwfid.h5\n",
      "Epoch 3/30\n",
      "96/96 [==============================] - 4s 38ms/step - loss: 0.4788 - f1: 0.8296 - mean_iou: 0.4844 - val_loss: 0.7188 - val_f1: 0.7325 - val_mean_iou: 0.5018\n",
      "\n",
      "Epoch 00003: val_loss did not improve from 0.46900\n",
      "Epoch 4/30\n",
      "96/96 [==============================] - 4s 38ms/step - loss: 0.3883 - f1: 0.8586 - mean_iou: 0.5198 - val_loss: 1.1592 - val_f1: 0.5956 - val_mean_iou: 0.5381\n",
      "\n",
      "Epoch 00004: val_loss did not improve from 0.46900\n",
      "Epoch 5/30\n",
      "96/96 [==============================] - 4s 38ms/step - loss: 0.3222 - f1: 0.8834 - mean_iou: 0.5479 - val_loss: 0.6064 - val_f1: 0.7691 - val_mean_iou: 0.5662\n",
      "\n",
      "Epoch 00005: val_loss did not improve from 0.46900\n",
      "Epoch 6/30\n",
      "96/96 [==============================] - 4s 38ms/step - loss: 0.2791 - f1: 0.8900 - mean_iou: 0.5802 - val_loss: 0.4289 - val_f1: 0.8458 - val_mean_iou: 0.5960\n",
      "\n",
      "Epoch 00006: val_loss improved from 0.46900 to 0.42887, saving model to model-segnet-cwfid.h5\n",
      "Epoch 7/30\n",
      "96/96 [==============================] - 4s 38ms/step - loss: 0.2525 - f1: 0.8997 - mean_iou: 0.6090 - val_loss: 0.5161 - val_f1: 0.7870 - val_mean_iou: 0.6219\n",
      "\n",
      "Epoch 00007: val_loss did not improve from 0.42887\n",
      "Epoch 8/30\n",
      "96/96 [==============================] - 4s 38ms/step - loss: 0.2352 - f1: 0.9047 - mean_iou: 0.6298 - val_loss: 0.3238 - val_f1: 0.8588 - val_mean_iou: 0.6406\n",
      "\n",
      "Epoch 00008: val_loss improved from 0.42887 to 0.32377, saving model to model-segnet-cwfid.h5\n",
      "Epoch 9/30\n",
      "96/96 [==============================] - 4s 38ms/step - loss: 0.2200 - f1: 0.9081 - mean_iou: 0.6491 - val_loss: 0.2609 - val_f1: 0.8720 - val_mean_iou: 0.6589\n",
      "\n",
      "Epoch 00009: val_loss improved from 0.32377 to 0.26093, saving model to model-segnet-cwfid.h5\n",
      "Epoch 10/30\n",
      "96/96 [==============================] - 4s 38ms/step - loss: 0.2071 - f1: 0.9158 - mean_iou: 0.6666 - val_loss: 0.2815 - val_f1: 0.8508 - val_mean_iou: 0.6752\n",
      "\n",
      "Epoch 00010: val_loss did not improve from 0.26093\n",
      "Epoch 11/30\n",
      "96/96 [==============================] - 4s 38ms/step - loss: 0.1952 - f1: 0.9192 - mean_iou: 0.6813 - val_loss: 0.2753 - val_f1: 0.8556 - val_mean_iou: 0.6889\n",
      "\n",
      "Epoch 00011: val_loss did not improve from 0.26093\n",
      "Epoch 12/30\n",
      "96/96 [==============================] - 4s 38ms/step - loss: 0.1852 - f1: 0.9246 - mean_iou: 0.6937 - val_loss: 0.2357 - val_f1: 0.8715 - val_mean_iou: 0.7005\n",
      "\n",
      "Epoch 00012: val_loss improved from 0.26093 to 0.23571, saving model to model-segnet-cwfid.h5\n",
      "Epoch 13/30\n",
      "96/96 [==============================] - 4s 38ms/step - loss: 0.1761 - f1: 0.9288 - mean_iou: 0.7051 - val_loss: 0.2251 - val_f1: 0.8795 - val_mean_iou: 0.7112\n",
      "\n",
      "Epoch 00013: val_loss improved from 0.23571 to 0.22514, saving model to model-segnet-cwfid.h5\n",
      "Epoch 14/30\n",
      "96/96 [==============================] - 4s 38ms/step - loss: 0.1680 - f1: 0.9293 - mean_iou: 0.7155 - val_loss: 0.2327 - val_f1: 0.8807 - val_mean_iou: 0.7210\n",
      "\n",
      "Epoch 00014: val_loss did not improve from 0.22514\n",
      "Epoch 15/30\n",
      "96/96 [==============================] - 4s 38ms/step - loss: 0.1614 - f1: 0.9310 - mean_iou: 0.7246 - val_loss: 0.2461 - val_f1: 0.8756 - val_mean_iou: 0.7297\n",
      "\n",
      "Epoch 00015: val_loss did not improve from 0.22514\n",
      "Epoch 16/30\n",
      "96/96 [==============================] - 4s 38ms/step - loss: 0.1550 - f1: 0.9319 - mean_iou: 0.7329 - val_loss: 0.2043 - val_f1: 0.8901 - val_mean_iou: 0.7376\n",
      "\n",
      "Epoch 00016: val_loss improved from 0.22514 to 0.20432, saving model to model-segnet-cwfid.h5\n",
      "Epoch 17/30\n",
      "96/96 [==============================] - 4s 38ms/step - loss: 0.1490 - f1: 0.9328 - mean_iou: 0.7409 - val_loss: 0.1889 - val_f1: 0.8967 - val_mean_iou: 0.7451\n",
      "\n",
      "Epoch 00017: val_loss improved from 0.20432 to 0.18895, saving model to model-segnet-cwfid.h5\n",
      "Epoch 18/30\n",
      "96/96 [==============================] - 4s 38ms/step - loss: 0.1438 - f1: 0.9340 - mean_iou: 0.7482 - val_loss: 0.2069 - val_f1: 0.8846 - val_mean_iou: 0.7521\n",
      "\n",
      "Epoch 00018: val_loss did not improve from 0.18895\n",
      "Epoch 19/30\n",
      "96/96 [==============================] - 4s 38ms/step - loss: 0.1417 - f1: 0.9328 - mean_iou: 0.7547 - val_loss: 0.1676 - val_f1: 0.9208 - val_mean_iou: 0.7586\n",
      "\n",
      "Epoch 00019: val_loss improved from 0.18895 to 0.16759, saving model to model-segnet-cwfid.h5\n",
      "Epoch 20/30\n",
      "96/96 [==============================] - 4s 38ms/step - loss: 0.1430 - f1: 0.9329 - mean_iou: 0.7613 - val_loss: 0.1721 - val_f1: 0.9066 - val_mean_iou: 0.7647\n",
      "\n",
      "Epoch 00020: val_loss did not improve from 0.16759\n",
      "Epoch 21/30\n",
      "96/96 [==============================] - 4s 38ms/step - loss: 0.1345 - f1: 0.9345 - mean_iou: 0.7673 - val_loss: 0.1974 - val_f1: 0.8889 - val_mean_iou: 0.7707\n",
      "\n",
      "Epoch 00021: val_loss did not improve from 0.16759\n",
      "Epoch 22/30\n",
      "96/96 [==============================] - 4s 38ms/step - loss: 0.1294 - f1: 0.9355 - mean_iou: 0.7729 - val_loss: 0.1875 - val_f1: 0.8941 - val_mean_iou: 0.7761\n",
      "\n",
      "Epoch 00022: val_loss did not improve from 0.16759\n",
      "Epoch 23/30\n",
      "96/96 [==============================] - 4s 38ms/step - loss: 0.1237 - f1: 0.9372 - mean_iou: 0.7783 - val_loss: 0.1797 - val_f1: 0.9016 - val_mean_iou: 0.7816\n",
      "\n",
      "Epoch 00023: val_loss did not improve from 0.16759\n",
      "Epoch 24/30\n",
      "96/96 [==============================] - 4s 38ms/step - loss: 0.1196 - f1: 0.9376 - mean_iou: 0.7837 - val_loss: 0.2118 - val_f1: 0.8812 - val_mean_iou: 0.7868\n",
      "\n",
      "Epoch 00024: val_loss did not improve from 0.16759\n",
      "Epoch 25/30\n",
      "96/96 [==============================] - 4s 38ms/step - loss: 0.1153 - f1: 0.9382 - mean_iou: 0.7886 - val_loss: 0.1926 - val_f1: 0.8988 - val_mean_iou: 0.7915\n",
      "\n",
      "Epoch 00025: val_loss did not improve from 0.16759\n",
      "Epoch 26/30\n",
      "96/96 [==============================] - 4s 38ms/step - loss: 0.1118 - f1: 0.9391 - mean_iou: 0.7933 - val_loss: 0.1831 - val_f1: 0.9047 - val_mean_iou: 0.7961\n",
      "\n",
      "Epoch 00026: val_loss did not improve from 0.16759\n",
      "Epoch 27/30\n",
      "96/96 [==============================] - 4s 38ms/step - loss: 0.1098 - f1: 0.9394 - mean_iou: 0.7978 - val_loss: 0.1649 - val_f1: 0.9189 - val_mean_iou: 0.8004\n",
      "\n",
      "Epoch 00027: val_loss improved from 0.16759 to 0.16494, saving model to model-segnet-cwfid.h5\n",
      "Epoch 28/30\n",
      "96/96 [==============================] - 4s 38ms/step - loss: 0.1071 - f1: 0.9402 - mean_iou: 0.8021 - val_loss: 0.1834 - val_f1: 0.8973 - val_mean_iou: 0.8046\n",
      "\n",
      "Epoch 00028: val_loss did not improve from 0.16494\n",
      "Epoch 29/30\n",
      "96/96 [==============================] - 4s 38ms/step - loss: 0.1041 - f1: 0.9409 - mean_iou: 0.8061 - val_loss: 0.1702 - val_f1: 0.9041 - val_mean_iou: 0.8084\n",
      "\n",
      "Epoch 00029: val_loss did not improve from 0.16494\n",
      "Epoch 30/30\n",
      "96/96 [==============================] - 4s 38ms/step - loss: 0.1016 - f1: 0.9416 - mean_iou: 0.8100 - val_loss: 0.1593 - val_f1: 0.9128 - val_mean_iou: 0.8122\n",
      "\n",
      "Epoch 00030: val_loss improved from 0.16494 to 0.15929, saving model to model-segnet-cwfid.h5\n"
     ]
    }
   ],
   "source": [
    "callbacks_full = [\n",
    "    ModelCheckpoint('model-segnet-cwfid.h5', verbose=1, save_best_only=True)\n",
    "]\n",
    "\n",
    "model_segnet_full_history = model_segnet.fit(x = X_train,\n",
    "                         y = y_train,\n",
    "                         batch_size = 32,\n",
    "                         epochs = 30,\n",
    "                         verbose = 1,\n",
    "                         validation_split = 0.2,\n",
    "                          callbacks = callbacks_full\n",
    "                         )"
   ]
  },
  {
   "cell_type": "markdown",
   "metadata": {},
   "source": [
    "### Métricas"
   ]
  },
  {
   "cell_type": "code",
   "execution_count": 614,
   "metadata": {
    "ExecuteTime": {
     "end_time": "2018-11-05T20:07:31.466150Z",
     "start_time": "2018-11-05T20:07:17.028361Z"
    }
   },
   "outputs": [],
   "source": [
    "pred_model_segnet = model_segnet.predict(X_test)"
   ]
  },
  {
   "cell_type": "code",
   "execution_count": 615,
   "metadata": {
    "ExecuteTime": {
     "end_time": "2018-11-05T20:07:31.799048Z",
     "start_time": "2018-11-05T20:07:31.468999Z"
    }
   },
   "outputs": [
    {
     "data": {
      "text/plain": [
       "<matplotlib.image.AxesImage at 0x7fb15845ff60>"
      ]
     },
     "execution_count": 615,
     "metadata": {},
     "output_type": "execute_result"
    },
    {
     "data": {
      "image/png": "[encoded data removed]",
      "text/plain": [
       "<Figure size 432x288 with 2 Axes>"
      ]
     },
     "metadata": {
      "needs_background": "light"
     },
     "output_type": "display_data"
    }
   ],
   "source": [
    "i = 5\n",
    "plt.figure()\n",
    "plt.subplot(1,2,1)\n",
    "plt.imshow(pred_model_segnet[i,:,:,:])\n",
    "plt.subplot(1,2,2)\n",
    "plt.imshow(y_test[i,:,:,:])"
   ]
  },
  {
   "cell_type": "markdown",
   "metadata": {},
   "source": [
    "## Modelo U-Net Res"
   ]
  },
  {
   "cell_type": "markdown",
   "metadata": {},
   "source": [
    "### Definir modelo"
   ]
  },
  {
   "cell_type": "code",
   "execution_count": 437,
   "metadata": {
    "ExecuteTime": {
     "end_time": "2018-11-05T18:05:29.381752Z",
     "start_time": "2018-11-05T18:05:29.360406Z"
    }
   },
   "outputs": [],
   "source": [
    "def unet_res(n_classes = 1, start_neurons = 16, DropoutRatio = 0.5, img_height=161,img_width=216):\n",
    "    \n",
    "    def BatchActivate(x):\n",
    "        x = BatchNormalization()(x)\n",
    "        x = Activation('relu')(x)\n",
    "        return x\n",
    "\n",
    "    def convolution_block(x, filters, size, strides=(1,1), padding='same', activation=True):\n",
    "        x = Conv2D(filters, size, strides=strides, padding=padding)(x)\n",
    "        if activation == True:\n",
    "            x = BatchActivate(x)\n",
    "        return x\n",
    "\n",
    "    def residual_block(blockInput, num_filters=16, batch_activate = False):\n",
    "        x = BatchActivate(blockInput)\n",
    "        x = convolution_block(x, num_filters, (3,3) )\n",
    "        x = convolution_block(x, num_filters, (3,3), activation=False)\n",
    "        x = Add()([x, blockInput])\n",
    "        if batch_activate:\n",
    "            x = BatchActivate(x)\n",
    "        return x\n",
    "\n",
    "    # 101 -> 50\n",
    "    input_layer = Input((img_height, img_width, 3))\n",
    "    zero_pad = ZeroPadding2D(padding=((7,8),(4,4)))(input_layer)\n",
    "    conv1 = Conv2D(start_neurons * 1, (3, 3), activation=None, padding=\"same\")(zero_pad)\n",
    "    conv1 = residual_block(conv1,start_neurons * 1)\n",
    "    conv1 = residual_block(conv1,start_neurons * 1, True)\n",
    "    pool1 = MaxPooling2D((2, 2))(conv1)\n",
    "    pool1 = Dropout(DropoutRatio/2)(pool1)\n",
    "\n",
    "    # 50 -> 25\n",
    "    conv2 = Conv2D(start_neurons * 2, (3, 3), activation=None, padding=\"same\")(pool1)\n",
    "    conv2 = residual_block(conv2,start_neurons * 2)\n",
    "    conv2 = residual_block(conv2,start_neurons * 2, True)\n",
    "    pool2 = MaxPooling2D((2, 2))(conv2)\n",
    "    pool2 = Dropout(DropoutRatio)(pool2)\n",
    "\n",
    "    # 25 -> 12\n",
    "    conv3 = Conv2D(start_neurons * 4, (3, 3), activation=None, padding=\"same\")(pool2)\n",
    "    conv3 = residual_block(conv3,start_neurons * 4)\n",
    "    conv3 = residual_block(conv3,start_neurons * 4, True)\n",
    "    pool3 = MaxPooling2D((2, 2))(conv3)\n",
    "    pool3 = Dropout(DropoutRatio)(pool3)\n",
    "\n",
    "    # 12 -> 6\n",
    "    conv4 = Conv2D(start_neurons * 8, (3, 3), activation=None, padding=\"same\")(pool3)\n",
    "    conv4 = residual_block(conv4,start_neurons * 8)\n",
    "    conv4 = residual_block(conv4,start_neurons * 8, True)\n",
    "    pool4 = MaxPooling2D((2, 2))(conv4)\n",
    "    pool4 = Dropout(DropoutRatio)(pool4)\n",
    "\n",
    "    # Middle\n",
    "    convm = Conv2D(start_neurons * 16, (3, 3), activation=None, padding=\"same\")(pool4)\n",
    "    convm = residual_block(convm,start_neurons * 16)\n",
    "    convm = residual_block(convm,start_neurons * 16, True)\n",
    "    \n",
    "    # 6 -> 12\n",
    "    deconv4 = Conv2DTranspose(start_neurons * 8, (3, 3), strides=(2, 2), padding=\"same\")(convm)\n",
    "    uconv4 = concatenate([deconv4, conv4])\n",
    "    uconv4 = Dropout(DropoutRatio)(uconv4)\n",
    "    \n",
    "    uconv4 = Conv2D(start_neurons * 8, (3, 3), activation=None, padding=\"same\")(uconv4)\n",
    "    uconv4 = residual_block(uconv4,start_neurons * 8)\n",
    "    uconv4 = residual_block(uconv4,start_neurons * 8, True)\n",
    "    \n",
    "    # 12 -> 25\n",
    "    deconv3 = Conv2DTranspose(start_neurons * 4, (3, 3), strides=(2, 2), padding=\"same\")(uconv4)\n",
    "    #deconv3 = Conv2DTranspose(start_neurons * 4, (3, 3), strides=(2, 2), padding=\"valid\")(uconv4)\n",
    "    uconv3 = concatenate([deconv3, conv3])    \n",
    "    uconv3 = Dropout(DropoutRatio)(uconv3)\n",
    "    \n",
    "    uconv3 = Conv2D(start_neurons * 4, (3, 3), activation=None, padding=\"same\")(uconv3)\n",
    "    uconv3 = residual_block(uconv3,start_neurons * 4)\n",
    "    uconv3 = residual_block(uconv3,start_neurons * 4, True)\n",
    "\n",
    "    # 25 -> 50\n",
    "    deconv2 = Conv2DTranspose(start_neurons * 2, (3, 3), strides=(2, 2), padding=\"same\")(uconv3)\n",
    "    uconv2 = concatenate([deconv2, conv2])\n",
    "        \n",
    "    uconv2 = Dropout(DropoutRatio)(uconv2)\n",
    "    uconv2 = Conv2D(start_neurons * 2, (3, 3), activation=None, padding=\"same\")(uconv2)\n",
    "    uconv2 = residual_block(uconv2,start_neurons * 2)\n",
    "    uconv2 = residual_block(uconv2,start_neurons * 2, True)\n",
    "    \n",
    "    # 50 -> 101\n",
    "    deconv1 = Conv2DTranspose(start_neurons * 1, (3, 3), strides=(2, 2), padding=\"same\")(uconv2)\n",
    "    #deconv1 = Conv2DTranspose(start_neurons * 1, (3, 3), strides=(2, 2), padding=\"valid\")(uconv2)\n",
    "    uconv1 = concatenate([deconv1, conv1])\n",
    "    \n",
    "    uconv1 = Dropout(DropoutRatio)(uconv1)\n",
    "    uconv1 = Conv2D(start_neurons * 1, (3, 3), activation=None, padding=\"same\")(uconv1)\n",
    "    uconv1 = residual_block(uconv1,start_neurons * 1)\n",
    "    uconv1 = residual_block(uconv1,start_neurons * 1, True)\n",
    "    \n",
    "    #uconv1 = Dropout(DropoutRatio/2)(uconv1)\n",
    "    #output_layer = Conv2D(1, (1,1), padding=\"same\", activation=\"sigmoid\")(uconv1)\n",
    "    output_layer_noActi = Conv2D(n_classes, (1,1), padding=\"same\", activation=None)(uconv1)\n",
    "    output_layer = Cropping2D(cropping=((7,8),(4,4)))(output_layer_noActi)\n",
    "    \n",
    "    if n_classes == 1:\n",
    "        output_layer = (Reshape((img_height, img_width),\n",
    "                          input_shape=(img_height, img_width, 3)))(output_layer)\n",
    "    else:\n",
    "        output_layer = (Reshape((img_height, img_width, n_classes),\n",
    "                          input_shape=(img_height, img_width, 3)))(output_layer)\n",
    "    \n",
    "    output_layer =  Activation('sigmoid')(output_layer)\n",
    "    \n",
    "    model = Model(input_layer, output_layer)\n",
    "    \n",
    "    return model"
   ]
  },
  {
   "cell_type": "code",
   "execution_count": 438,
   "metadata": {
    "ExecuteTime": {
     "end_time": "2018-11-05T18:07:35.288288Z",
     "start_time": "2018-11-05T18:05:33.650126Z"
    }
   },
   "outputs": [],
   "source": [
    "model_unet_res = unet_res(n_classes=3)\n",
    "model_unet_res.compile(loss = 'binary_crossentropy',\n",
    "             optimizer = 'Adam',\n",
    "             metrics = [f1, mean_iou])"
   ]
  },
  {
   "cell_type": "code",
   "execution_count": 439,
   "metadata": {
    "ExecuteTime": {
     "end_time": "2018-11-05T18:07:35.326051Z",
     "start_time": "2018-11-05T18:07:35.290934Z"
    }
   },
   "outputs": [
    {
     "name": "stdout",
     "output_type": "stream",
     "text": [
      "__________________________________________________________________________________________________\n",
      "Layer (type)                    Output Shape         Param #     Connected to                     \n",
      "==================================================================================================\n",
      "input_44 (InputLayer)           (None, 161, 216, 3)  0                                            \n",
      "__________________________________________________________________________________________________\n",
      "zero_padding2d_70 (ZeroPadding2 (None, 176, 224, 3)  0           input_44[0][0]                   \n",
      "__________________________________________________________________________________________________\n",
      "conv2d_794 (Conv2D)             (None, 176, 224, 16) 448         zero_padding2d_70[0][0]          \n",
      "__________________________________________________________________________________________________\n",
      "batch_normalization_138 (BatchN (None, 176, 224, 16) 64          conv2d_794[0][0]                 \n",
      "__________________________________________________________________________________________________\n",
      "activation_414 (Activation)     (None, 176, 224, 16) 0           batch_normalization_138[0][0]    \n",
      "__________________________________________________________________________________________________\n",
      "conv2d_795 (Conv2D)             (None, 176, 224, 16) 2320        activation_414[0][0]             \n",
      "__________________________________________________________________________________________________\n",
      "batch_normalization_139 (BatchN (None, 176, 224, 16) 64          conv2d_795[0][0]                 \n",
      "__________________________________________________________________________________________________\n",
      "activation_415 (Activation)     (None, 176, 224, 16) 0           batch_normalization_139[0][0]    \n",
      "__________________________________________________________________________________________________\n",
      "conv2d_796 (Conv2D)             (None, 176, 224, 16) 2320        activation_415[0][0]             \n",
      "__________________________________________________________________________________________________\n",
      "add_55 (Add)                    (None, 176, 224, 16) 0           conv2d_796[0][0]                 \n",
      "                                                                 conv2d_794[0][0]                 \n",
      "__________________________________________________________________________________________________\n",
      "batch_normalization_140 (BatchN (None, 176, 224, 16) 64          add_55[0][0]                     \n",
      "__________________________________________________________________________________________________\n",
      "activation_416 (Activation)     (None, 176, 224, 16) 0           batch_normalization_140[0][0]    \n",
      "__________________________________________________________________________________________________\n",
      "conv2d_797 (Conv2D)             (None, 176, 224, 16) 2320        activation_416[0][0]             \n",
      "__________________________________________________________________________________________________\n",
      "batch_normalization_141 (BatchN (None, 176, 224, 16) 64          conv2d_797[0][0]                 \n",
      "__________________________________________________________________________________________________\n",
      "activation_417 (Activation)     (None, 176, 224, 16) 0           batch_normalization_141[0][0]    \n",
      "__________________________________________________________________________________________________\n",
      "conv2d_798 (Conv2D)             (None, 176, 224, 16) 2320        activation_417[0][0]             \n",
      "__________________________________________________________________________________________________\n",
      "add_56 (Add)                    (None, 176, 224, 16) 0           conv2d_798[0][0]                 \n",
      "                                                                 add_55[0][0]                     \n",
      "__________________________________________________________________________________________________\n",
      "batch_normalization_142 (BatchN (None, 176, 224, 16) 64          add_56[0][0]                     \n",
      "__________________________________________________________________________________________________\n",
      "activation_418 (Activation)     (None, 176, 224, 16) 0           batch_normalization_142[0][0]    \n",
      "__________________________________________________________________________________________________\n",
      "max_pooling2d_245 (MaxPooling2D (None, 88, 112, 16)  0           activation_418[0][0]             \n",
      "__________________________________________________________________________________________________\n",
      "dropout_353 (Dropout)           (None, 88, 112, 16)  0           max_pooling2d_245[0][0]          \n",
      "__________________________________________________________________________________________________\n",
      "conv2d_799 (Conv2D)             (None, 88, 112, 32)  4640        dropout_353[0][0]                \n",
      "__________________________________________________________________________________________________\n",
      "batch_normalization_143 (BatchN (None, 88, 112, 32)  128         conv2d_799[0][0]                 \n",
      "__________________________________________________________________________________________________\n",
      "activation_419 (Activation)     (None, 88, 112, 32)  0           batch_normalization_143[0][0]    \n",
      "__________________________________________________________________________________________________\n",
      "conv2d_800 (Conv2D)             (None, 88, 112, 32)  9248        activation_419[0][0]             \n",
      "__________________________________________________________________________________________________\n",
      "batch_normalization_144 (BatchN (None, 88, 112, 32)  128         conv2d_800[0][0]                 \n",
      "__________________________________________________________________________________________________\n",
      "activation_420 (Activation)     (None, 88, 112, 32)  0           batch_normalization_144[0][0]    \n",
      "__________________________________________________________________________________________________\n",
      "conv2d_801 (Conv2D)             (None, 88, 112, 32)  9248        activation_420[0][0]             \n",
      "__________________________________________________________________________________________________\n",
      "add_57 (Add)                    (None, 88, 112, 32)  0           conv2d_801[0][0]                 \n",
      "                                                                 conv2d_799[0][0]                 \n",
      "__________________________________________________________________________________________________\n",
      "batch_normalization_145 (BatchN (None, 88, 112, 32)  128         add_57[0][0]                     \n",
      "__________________________________________________________________________________________________\n",
      "activation_421 (Activation)     (None, 88, 112, 32)  0           batch_normalization_145[0][0]    \n",
      "__________________________________________________________________________________________________\n",
      "conv2d_802 (Conv2D)             (None, 88, 112, 32)  9248        activation_421[0][0]             \n",
      "__________________________________________________________________________________________________\n",
      "batch_normalization_146 (BatchN (None, 88, 112, 32)  128         conv2d_802[0][0]                 \n",
      "__________________________________________________________________________________________________\n",
      "activation_422 (Activation)     (None, 88, 112, 32)  0           batch_normalization_146[0][0]    \n",
      "__________________________________________________________________________________________________\n",
      "conv2d_803 (Conv2D)             (None, 88, 112, 32)  9248        activation_422[0][0]             \n",
      "__________________________________________________________________________________________________\n",
      "add_58 (Add)                    (None, 88, 112, 32)  0           conv2d_803[0][0]                 \n",
      "                                                                 add_57[0][0]                     \n",
      "__________________________________________________________________________________________________\n",
      "batch_normalization_147 (BatchN (None, 88, 112, 32)  128         add_58[0][0]                     \n",
      "__________________________________________________________________________________________________\n",
      "activation_423 (Activation)     (None, 88, 112, 32)  0           batch_normalization_147[0][0]    \n",
      "__________________________________________________________________________________________________\n",
      "max_pooling2d_246 (MaxPooling2D (None, 44, 56, 32)   0           activation_423[0][0]             \n",
      "__________________________________________________________________________________________________\n",
      "dropout_354 (Dropout)           (None, 44, 56, 32)   0           max_pooling2d_246[0][0]          \n",
      "__________________________________________________________________________________________________\n",
      "conv2d_804 (Conv2D)             (None, 44, 56, 64)   18496       dropout_354[0][0]                \n",
      "__________________________________________________________________________________________________\n",
      "batch_normalization_148 (BatchN (None, 44, 56, 64)   256         conv2d_804[0][0]                 \n",
      "__________________________________________________________________________________________________\n",
      "activation_424 (Activation)     (None, 44, 56, 64)   0           batch_normalization_148[0][0]    \n",
      "__________________________________________________________________________________________________\n",
      "conv2d_805 (Conv2D)             (None, 44, 56, 64)   36928       activation_424[0][0]             \n",
      "__________________________________________________________________________________________________\n",
      "batch_normalization_149 (BatchN (None, 44, 56, 64)   256         conv2d_805[0][0]                 \n",
      "__________________________________________________________________________________________________\n",
      "activation_425 (Activation)     (None, 44, 56, 64)   0           batch_normalization_149[0][0]    \n",
      "__________________________________________________________________________________________________\n",
      "conv2d_806 (Conv2D)             (None, 44, 56, 64)   36928       activation_425[0][0]             \n",
      "__________________________________________________________________________________________________\n",
      "add_59 (Add)                    (None, 44, 56, 64)   0           conv2d_806[0][0]                 \n",
      "                                                                 conv2d_804[0][0]                 \n",
      "__________________________________________________________________________________________________\n",
      "batch_normalization_150 (BatchN (None, 44, 56, 64)   256         add_59[0][0]                     \n",
      "__________________________________________________________________________________________________\n",
      "activation_426 (Activation)     (None, 44, 56, 64)   0           batch_normalization_150[0][0]    \n",
      "__________________________________________________________________________________________________\n",
      "conv2d_807 (Conv2D)             (None, 44, 56, 64)   36928       activation_426[0][0]             \n",
      "__________________________________________________________________________________________________\n",
      "batch_normalization_151 (BatchN (None, 44, 56, 64)   256         conv2d_807[0][0]                 \n",
      "__________________________________________________________________________________________________\n",
      "activation_427 (Activation)     (None, 44, 56, 64)   0           batch_normalization_151[0][0]    \n",
      "__________________________________________________________________________________________________\n",
      "conv2d_808 (Conv2D)             (None, 44, 56, 64)   36928       activation_427[0][0]             \n",
      "__________________________________________________________________________________________________\n",
      "add_60 (Add)                    (None, 44, 56, 64)   0           conv2d_808[0][0]                 \n",
      "                                                                 add_59[0][0]                     \n",
      "__________________________________________________________________________________________________\n",
      "batch_normalization_152 (BatchN (None, 44, 56, 64)   256         add_60[0][0]                     \n",
      "__________________________________________________________________________________________________\n",
      "activation_428 (Activation)     (None, 44, 56, 64)   0           batch_normalization_152[0][0]    \n",
      "__________________________________________________________________________________________________\n",
      "max_pooling2d_247 (MaxPooling2D (None, 22, 28, 64)   0           activation_428[0][0]             \n",
      "__________________________________________________________________________________________________\n",
      "dropout_355 (Dropout)           (None, 22, 28, 64)   0           max_pooling2d_247[0][0]          \n",
      "__________________________________________________________________________________________________\n",
      "conv2d_809 (Conv2D)             (None, 22, 28, 128)  73856       dropout_355[0][0]                \n",
      "__________________________________________________________________________________________________\n",
      "batch_normalization_153 (BatchN (None, 22, 28, 128)  512         conv2d_809[0][0]                 \n",
      "__________________________________________________________________________________________________\n",
      "activation_429 (Activation)     (None, 22, 28, 128)  0           batch_normalization_153[0][0]    \n",
      "__________________________________________________________________________________________________\n",
      "conv2d_810 (Conv2D)             (None, 22, 28, 128)  147584      activation_429[0][0]             \n",
      "__________________________________________________________________________________________________\n",
      "batch_normalization_154 (BatchN (None, 22, 28, 128)  512         conv2d_810[0][0]                 \n",
      "__________________________________________________________________________________________________\n",
      "activation_430 (Activation)     (None, 22, 28, 128)  0           batch_normalization_154[0][0]    \n",
      "__________________________________________________________________________________________________\n",
      "conv2d_811 (Conv2D)             (None, 22, 28, 128)  147584      activation_430[0][0]             \n",
      "__________________________________________________________________________________________________\n",
      "add_61 (Add)                    (None, 22, 28, 128)  0           conv2d_811[0][0]                 \n",
      "                                                                 conv2d_809[0][0]                 \n",
      "__________________________________________________________________________________________________\n",
      "batch_normalization_155 (BatchN (None, 22, 28, 128)  512         add_61[0][0]                     \n",
      "__________________________________________________________________________________________________\n",
      "activation_431 (Activation)     (None, 22, 28, 128)  0           batch_normalization_155[0][0]    \n",
      "__________________________________________________________________________________________________\n",
      "conv2d_812 (Conv2D)             (None, 22, 28, 128)  147584      activation_431[0][0]             \n",
      "__________________________________________________________________________________________________\n",
      "batch_normalization_156 (BatchN (None, 22, 28, 128)  512         conv2d_812[0][0]                 \n",
      "__________________________________________________________________________________________________\n",
      "activation_432 (Activation)     (None, 22, 28, 128)  0           batch_normalization_156[0][0]    \n",
      "__________________________________________________________________________________________________\n",
      "conv2d_813 (Conv2D)             (None, 22, 28, 128)  147584      activation_432[0][0]             \n",
      "__________________________________________________________________________________________________\n",
      "add_62 (Add)                    (None, 22, 28, 128)  0           conv2d_813[0][0]                 \n",
      "                                                                 add_61[0][0]                     \n",
      "__________________________________________________________________________________________________\n",
      "batch_normalization_157 (BatchN (None, 22, 28, 128)  512         add_62[0][0]                     \n",
      "__________________________________________________________________________________________________\n",
      "activation_433 (Activation)     (None, 22, 28, 128)  0           batch_normalization_157[0][0]    \n",
      "__________________________________________________________________________________________________\n",
      "max_pooling2d_248 (MaxPooling2D (None, 11, 14, 128)  0           activation_433[0][0]             \n",
      "__________________________________________________________________________________________________\n",
      "dropout_356 (Dropout)           (None, 11, 14, 128)  0           max_pooling2d_248[0][0]          \n",
      "__________________________________________________________________________________________________\n",
      "conv2d_814 (Conv2D)             (None, 11, 14, 256)  295168      dropout_356[0][0]                \n",
      "__________________________________________________________________________________________________\n",
      "batch_normalization_158 (BatchN (None, 11, 14, 256)  1024        conv2d_814[0][0]                 \n",
      "__________________________________________________________________________________________________\n",
      "activation_434 (Activation)     (None, 11, 14, 256)  0           batch_normalization_158[0][0]    \n",
      "__________________________________________________________________________________________________\n",
      "conv2d_815 (Conv2D)             (None, 11, 14, 256)  590080      activation_434[0][0]             \n",
      "__________________________________________________________________________________________________\n",
      "batch_normalization_159 (BatchN (None, 11, 14, 256)  1024        conv2d_815[0][0]                 \n",
      "__________________________________________________________________________________________________\n",
      "activation_435 (Activation)     (None, 11, 14, 256)  0           batch_normalization_159[0][0]    \n",
      "__________________________________________________________________________________________________\n",
      "conv2d_816 (Conv2D)             (None, 11, 14, 256)  590080      activation_435[0][0]             \n",
      "__________________________________________________________________________________________________\n",
      "add_63 (Add)                    (None, 11, 14, 256)  0           conv2d_816[0][0]                 \n",
      "                                                                 conv2d_814[0][0]                 \n",
      "__________________________________________________________________________________________________\n",
      "batch_normalization_160 (BatchN (None, 11, 14, 256)  1024        add_63[0][0]                     \n",
      "__________________________________________________________________________________________________\n",
      "activation_436 (Activation)     (None, 11, 14, 256)  0           batch_normalization_160[0][0]    \n",
      "__________________________________________________________________________________________________\n",
      "conv2d_817 (Conv2D)             (None, 11, 14, 256)  590080      activation_436[0][0]             \n",
      "__________________________________________________________________________________________________\n",
      "batch_normalization_161 (BatchN (None, 11, 14, 256)  1024        conv2d_817[0][0]                 \n",
      "__________________________________________________________________________________________________\n",
      "activation_437 (Activation)     (None, 11, 14, 256)  0           batch_normalization_161[0][0]    \n",
      "__________________________________________________________________________________________________\n",
      "conv2d_818 (Conv2D)             (None, 11, 14, 256)  590080      activation_437[0][0]             \n",
      "__________________________________________________________________________________________________\n",
      "add_64 (Add)                    (None, 11, 14, 256)  0           conv2d_818[0][0]                 \n",
      "                                                                 add_63[0][0]                     \n",
      "__________________________________________________________________________________________________\n",
      "batch_normalization_162 (BatchN (None, 11, 14, 256)  1024        add_64[0][0]                     \n",
      "__________________________________________________________________________________________________\n",
      "activation_438 (Activation)     (None, 11, 14, 256)  0           batch_normalization_162[0][0]    \n",
      "__________________________________________________________________________________________________\n",
      "conv2d_transpose_102 (Conv2DTra (None, 22, 28, 128)  295040      activation_438[0][0]             \n",
      "__________________________________________________________________________________________________\n",
      "concatenate_70 (Concatenate)    (None, 22, 28, 256)  0           conv2d_transpose_102[0][0]       \n",
      "                                                                 activation_433[0][0]             \n",
      "__________________________________________________________________________________________________\n",
      "dropout_357 (Dropout)           (None, 22, 28, 256)  0           concatenate_70[0][0]             \n",
      "__________________________________________________________________________________________________\n",
      "conv2d_819 (Conv2D)             (None, 22, 28, 128)  295040      dropout_357[0][0]                \n",
      "__________________________________________________________________________________________________\n",
      "batch_normalization_163 (BatchN (None, 22, 28, 128)  512         conv2d_819[0][0]                 \n",
      "__________________________________________________________________________________________________\n",
      "activation_439 (Activation)     (None, 22, 28, 128)  0           batch_normalization_163[0][0]    \n",
      "__________________________________________________________________________________________________\n",
      "conv2d_820 (Conv2D)             (None, 22, 28, 128)  147584      activation_439[0][0]             \n",
      "__________________________________________________________________________________________________\n",
      "batch_normalization_164 (BatchN (None, 22, 28, 128)  512         conv2d_820[0][0]                 \n",
      "__________________________________________________________________________________________________\n",
      "activation_440 (Activation)     (None, 22, 28, 128)  0           batch_normalization_164[0][0]    \n",
      "__________________________________________________________________________________________________\n",
      "conv2d_821 (Conv2D)             (None, 22, 28, 128)  147584      activation_440[0][0]             \n",
      "__________________________________________________________________________________________________\n",
      "add_65 (Add)                    (None, 22, 28, 128)  0           conv2d_821[0][0]                 \n",
      "                                                                 conv2d_819[0][0]                 \n",
      "__________________________________________________________________________________________________\n",
      "batch_normalization_165 (BatchN (None, 22, 28, 128)  512         add_65[0][0]                     \n",
      "__________________________________________________________________________________________________\n",
      "activation_441 (Activation)     (None, 22, 28, 128)  0           batch_normalization_165[0][0]    \n",
      "__________________________________________________________________________________________________\n",
      "conv2d_822 (Conv2D)             (None, 22, 28, 128)  147584      activation_441[0][0]             \n",
      "__________________________________________________________________________________________________\n",
      "batch_normalization_166 (BatchN (None, 22, 28, 128)  512         conv2d_822[0][0]                 \n",
      "__________________________________________________________________________________________________\n",
      "activation_442 (Activation)     (None, 22, 28, 128)  0           batch_normalization_166[0][0]    \n",
      "__________________________________________________________________________________________________\n",
      "conv2d_823 (Conv2D)             (None, 22, 28, 128)  147584      activation_442[0][0]             \n",
      "__________________________________________________________________________________________________\n",
      "add_66 (Add)                    (None, 22, 28, 128)  0           conv2d_823[0][0]                 \n",
      "                                                                 add_65[0][0]                     \n",
      "__________________________________________________________________________________________________\n",
      "batch_normalization_167 (BatchN (None, 22, 28, 128)  512         add_66[0][0]                     \n",
      "__________________________________________________________________________________________________\n",
      "activation_443 (Activation)     (None, 22, 28, 128)  0           batch_normalization_167[0][0]    \n",
      "__________________________________________________________________________________________________\n",
      "conv2d_transpose_103 (Conv2DTra (None, 44, 56, 64)   73792       activation_443[0][0]             \n",
      "__________________________________________________________________________________________________\n",
      "concatenate_71 (Concatenate)    (None, 44, 56, 128)  0           conv2d_transpose_103[0][0]       \n",
      "                                                                 activation_428[0][0]             \n",
      "__________________________________________________________________________________________________\n",
      "dropout_358 (Dropout)           (None, 44, 56, 128)  0           concatenate_71[0][0]             \n",
      "__________________________________________________________________________________________________\n",
      "conv2d_824 (Conv2D)             (None, 44, 56, 64)   73792       dropout_358[0][0]                \n",
      "__________________________________________________________________________________________________\n",
      "batch_normalization_168 (BatchN (None, 44, 56, 64)   256         conv2d_824[0][0]                 \n",
      "__________________________________________________________________________________________________\n",
      "activation_444 (Activation)     (None, 44, 56, 64)   0           batch_normalization_168[0][0]    \n",
      "__________________________________________________________________________________________________\n",
      "conv2d_825 (Conv2D)             (None, 44, 56, 64)   36928       activation_444[0][0]             \n",
      "__________________________________________________________________________________________________\n",
      "batch_normalization_169 (BatchN (None, 44, 56, 64)   256         conv2d_825[0][0]                 \n",
      "__________________________________________________________________________________________________\n",
      "activation_445 (Activation)     (None, 44, 56, 64)   0           batch_normalization_169[0][0]    \n",
      "__________________________________________________________________________________________________\n",
      "conv2d_826 (Conv2D)             (None, 44, 56, 64)   36928       activation_445[0][0]             \n",
      "__________________________________________________________________________________________________\n",
      "add_67 (Add)                    (None, 44, 56, 64)   0           conv2d_826[0][0]                 \n",
      "                                                                 conv2d_824[0][0]                 \n",
      "__________________________________________________________________________________________________\n",
      "batch_normalization_170 (BatchN (None, 44, 56, 64)   256         add_67[0][0]                     \n",
      "__________________________________________________________________________________________________\n",
      "activation_446 (Activation)     (None, 44, 56, 64)   0           batch_normalization_170[0][0]    \n",
      "__________________________________________________________________________________________________\n",
      "conv2d_827 (Conv2D)             (None, 44, 56, 64)   36928       activation_446[0][0]             \n",
      "__________________________________________________________________________________________________\n",
      "batch_normalization_171 (BatchN (None, 44, 56, 64)   256         conv2d_827[0][0]                 \n",
      "__________________________________________________________________________________________________\n",
      "activation_447 (Activation)     (None, 44, 56, 64)   0           batch_normalization_171[0][0]    \n",
      "__________________________________________________________________________________________________\n",
      "conv2d_828 (Conv2D)             (None, 44, 56, 64)   36928       activation_447[0][0]             \n",
      "__________________________________________________________________________________________________\n",
      "add_68 (Add)                    (None, 44, 56, 64)   0           conv2d_828[0][0]                 \n",
      "                                                                 add_67[0][0]                     \n",
      "__________________________________________________________________________________________________\n",
      "batch_normalization_172 (BatchN (None, 44, 56, 64)   256         add_68[0][0]                     \n",
      "__________________________________________________________________________________________________\n",
      "activation_448 (Activation)     (None, 44, 56, 64)   0           batch_normalization_172[0][0]    \n",
      "__________________________________________________________________________________________________\n",
      "conv2d_transpose_104 (Conv2DTra (None, 88, 112, 32)  18464       activation_448[0][0]             \n",
      "__________________________________________________________________________________________________\n",
      "concatenate_72 (Concatenate)    (None, 88, 112, 64)  0           conv2d_transpose_104[0][0]       \n",
      "                                                                 activation_423[0][0]             \n",
      "__________________________________________________________________________________________________\n",
      "dropout_359 (Dropout)           (None, 88, 112, 64)  0           concatenate_72[0][0]             \n",
      "__________________________________________________________________________________________________\n",
      "conv2d_829 (Conv2D)             (None, 88, 112, 32)  18464       dropout_359[0][0]                \n",
      "__________________________________________________________________________________________________\n",
      "batch_normalization_173 (BatchN (None, 88, 112, 32)  128         conv2d_829[0][0]                 \n",
      "__________________________________________________________________________________________________\n",
      "activation_449 (Activation)     (None, 88, 112, 32)  0           batch_normalization_173[0][0]    \n",
      "__________________________________________________________________________________________________\n",
      "conv2d_830 (Conv2D)             (None, 88, 112, 32)  9248        activation_449[0][0]             \n",
      "__________________________________________________________________________________________________\n",
      "batch_normalization_174 (BatchN (None, 88, 112, 32)  128         conv2d_830[0][0]                 \n",
      "__________________________________________________________________________________________________\n",
      "activation_450 (Activation)     (None, 88, 112, 32)  0           batch_normalization_174[0][0]    \n",
      "__________________________________________________________________________________________________\n",
      "conv2d_831 (Conv2D)             (None, 88, 112, 32)  9248        activation_450[0][0]             \n",
      "__________________________________________________________________________________________________\n",
      "add_69 (Add)                    (None, 88, 112, 32)  0           conv2d_831[0][0]                 \n",
      "                                                                 conv2d_829[0][0]                 \n",
      "__________________________________________________________________________________________________\n",
      "batch_normalization_175 (BatchN (None, 88, 112, 32)  128         add_69[0][0]                     \n",
      "__________________________________________________________________________________________________\n",
      "activation_451 (Activation)     (None, 88, 112, 32)  0           batch_normalization_175[0][0]    \n",
      "__________________________________________________________________________________________________\n",
      "conv2d_832 (Conv2D)             (None, 88, 112, 32)  9248        activation_451[0][0]             \n",
      "__________________________________________________________________________________________________\n",
      "batch_normalization_176 (BatchN (None, 88, 112, 32)  128         conv2d_832[0][0]                 \n",
      "__________________________________________________________________________________________________\n",
      "activation_452 (Activation)     (None, 88, 112, 32)  0           batch_normalization_176[0][0]    \n",
      "__________________________________________________________________________________________________\n",
      "conv2d_833 (Conv2D)             (None, 88, 112, 32)  9248        activation_452[0][0]             \n",
      "__________________________________________________________________________________________________\n",
      "add_70 (Add)                    (None, 88, 112, 32)  0           conv2d_833[0][0]                 \n",
      "                                                                 add_69[0][0]                     \n",
      "__________________________________________________________________________________________________\n",
      "batch_normalization_177 (BatchN (None, 88, 112, 32)  128         add_70[0][0]                     \n",
      "__________________________________________________________________________________________________\n",
      "activation_453 (Activation)     (None, 88, 112, 32)  0           batch_normalization_177[0][0]    \n",
      "__________________________________________________________________________________________________\n",
      "conv2d_transpose_105 (Conv2DTra (None, 176, 224, 16) 4624        activation_453[0][0]             \n",
      "__________________________________________________________________________________________________\n",
      "concatenate_73 (Concatenate)    (None, 176, 224, 32) 0           conv2d_transpose_105[0][0]       \n",
      "                                                                 activation_418[0][0]             \n",
      "__________________________________________________________________________________________________\n",
      "dropout_360 (Dropout)           (None, 176, 224, 32) 0           concatenate_73[0][0]             \n",
      "__________________________________________________________________________________________________\n",
      "conv2d_834 (Conv2D)             (None, 176, 224, 16) 4624        dropout_360[0][0]                \n",
      "__________________________________________________________________________________________________\n",
      "batch_normalization_178 (BatchN (None, 176, 224, 16) 64          conv2d_834[0][0]                 \n",
      "__________________________________________________________________________________________________\n",
      "activation_454 (Activation)     (None, 176, 224, 16) 0           batch_normalization_178[0][0]    \n",
      "__________________________________________________________________________________________________\n",
      "conv2d_835 (Conv2D)             (None, 176, 224, 16) 2320        activation_454[0][0]             \n",
      "__________________________________________________________________________________________________\n",
      "batch_normalization_179 (BatchN (None, 176, 224, 16) 64          conv2d_835[0][0]                 \n",
      "__________________________________________________________________________________________________\n",
      "activation_455 (Activation)     (None, 176, 224, 16) 0           batch_normalization_179[0][0]    \n",
      "__________________________________________________________________________________________________\n",
      "conv2d_836 (Conv2D)             (None, 176, 224, 16) 2320        activation_455[0][0]             \n",
      "__________________________________________________________________________________________________\n",
      "add_71 (Add)                    (None, 176, 224, 16) 0           conv2d_836[0][0]                 \n",
      "                                                                 conv2d_834[0][0]                 \n",
      "__________________________________________________________________________________________________\n",
      "batch_normalization_180 (BatchN (None, 176, 224, 16) 64          add_71[0][0]                     \n",
      "__________________________________________________________________________________________________\n",
      "activation_456 (Activation)     (None, 176, 224, 16) 0           batch_normalization_180[0][0]    \n",
      "__________________________________________________________________________________________________\n",
      "conv2d_837 (Conv2D)             (None, 176, 224, 16) 2320        activation_456[0][0]             \n",
      "__________________________________________________________________________________________________\n",
      "batch_normalization_181 (BatchN (None, 176, 224, 16) 64          conv2d_837[0][0]                 \n",
      "__________________________________________________________________________________________________\n",
      "activation_457 (Activation)     (None, 176, 224, 16) 0           batch_normalization_181[0][0]    \n",
      "__________________________________________________________________________________________________\n",
      "conv2d_838 (Conv2D)             (None, 176, 224, 16) 2320        activation_457[0][0]             \n",
      "__________________________________________________________________________________________________\n",
      "add_72 (Add)                    (None, 176, 224, 16) 0           conv2d_838[0][0]                 \n",
      "                                                                 add_71[0][0]                     \n",
      "__________________________________________________________________________________________________\n",
      "batch_normalization_182 (BatchN (None, 176, 224, 16) 64          add_72[0][0]                     \n",
      "__________________________________________________________________________________________________\n",
      "activation_458 (Activation)     (None, 176, 224, 16) 0           batch_normalization_182[0][0]    \n",
      "__________________________________________________________________________________________________\n",
      "conv2d_839 (Conv2D)             (None, 176, 224, 3)  51          activation_458[0][0]             \n",
      "__________________________________________________________________________________________________\n",
      "cropping2d_46 (Cropping2D)      (None, 161, 216, 3)  0           conv2d_839[0][0]                 \n",
      "__________________________________________________________________________________________________\n",
      "reshape_6 (Reshape)             (None, 161, 216, 3)  0           cropping2d_46[0][0]              \n",
      "__________________________________________________________________________________________________\n",
      "activation_459 (Activation)     (None, 161, 216, 3)  0           reshape_6[0][0]                  \n",
      "==================================================================================================\n",
      "Total params: 5,120,179\n",
      "Trainable params: 5,112,819\n",
      "Non-trainable params: 7,360\n",
      "__________________________________________________________________________________________________\n"
     ]
    }
   ],
   "source": [
    "model_unet_res.summary()"
   ]
  },
  {
   "cell_type": "markdown",
   "metadata": {},
   "source": [
    "### Entrenamiento"
   ]
  },
  {
   "cell_type": "code",
   "execution_count": 588,
   "metadata": {
    "ExecuteTime": {
     "end_time": "2018-11-05T19:40:57.796864Z",
     "start_time": "2018-11-05T19:38:25.437225Z"
    },
    "scrolled": true
   },
   "outputs": [
    {
     "name": "stdout",
     "output_type": "stream",
     "text": [
      "Train on 96 samples, validate on 24 samples\n",
      "Epoch 1/30\n",
      "96/96 [==============================] - 5s 51ms/step - loss: 0.1382 - f1: 0.9468 - mean_iou: 0.6360 - val_loss: 0.2893 - val_f1: 0.8910 - val_mean_iou: 0.6516\n",
      "\n",
      "Epoch 00001: val_loss improved from inf to 0.28931, saving model to model-unet-res-cwfid.h5\n",
      "Epoch 2/30\n",
      "96/96 [==============================] - 4s 43ms/step - loss: 0.1341 - f1: 0.9479 - mean_iou: 0.6576 - val_loss: 0.2803 - val_f1: 0.9005 - val_mean_iou: 0.6697\n",
      "\n",
      "Epoch 00002: val_loss improved from 0.28931 to 0.28027, saving model to model-unet-res-cwfid.h5\n",
      "Epoch 3/30\n",
      "96/96 [==============================] - 4s 43ms/step - loss: 0.1310 - f1: 0.9483 - mean_iou: 0.6740 - val_loss: 0.2936 - val_f1: 0.8953 - val_mean_iou: 0.6836\n",
      "\n",
      "Epoch 00003: val_loss did not improve from 0.28027\n",
      "Epoch 4/30\n",
      "96/96 [==============================] - 4s 43ms/step - loss: 0.1280 - f1: 0.9487 - mean_iou: 0.6865 - val_loss: 0.3239 - val_f1: 0.8739 - val_mean_iou: 0.6945\n",
      "\n",
      "Epoch 00004: val_loss did not improve from 0.28027\n",
      "Epoch 5/30\n",
      "96/96 [==============================] - 4s 43ms/step - loss: 0.1249 - f1: 0.9489 - mean_iou: 0.6961 - val_loss: 0.3298 - val_f1: 0.8761 - val_mean_iou: 0.7031\n",
      "\n",
      "Epoch 00005: val_loss did not improve from 0.28027\n",
      "Epoch 6/30\n",
      "96/96 [==============================] - 4s 43ms/step - loss: 0.1223 - f1: 0.9493 - mean_iou: 0.7043 - val_loss: 0.3042 - val_f1: 0.8995 - val_mean_iou: 0.7103\n",
      "\n",
      "Epoch 00006: val_loss did not improve from 0.28027\n",
      "Epoch 7/30\n",
      "96/96 [==============================] - 4s 43ms/step - loss: 0.1198 - f1: 0.9496 - mean_iou: 0.7119 - val_loss: 0.2627 - val_f1: 0.9157 - val_mean_iou: 0.7174\n",
      "\n",
      "Epoch 00007: val_loss improved from 0.28027 to 0.26275, saving model to model-unet-res-cwfid.h5\n",
      "Epoch 8/30\n",
      "96/96 [==============================] - 4s 43ms/step - loss: 0.1174 - f1: 0.9498 - mean_iou: 0.7194 - val_loss: 0.2180 - val_f1: 0.9276 - val_mean_iou: 0.7244\n",
      "\n",
      "Epoch 00008: val_loss improved from 0.26275 to 0.21798, saving model to model-unet-res-cwfid.h5\n",
      "Epoch 9/30\n",
      "96/96 [==============================] - 4s 43ms/step - loss: 0.1150 - f1: 0.9498 - mean_iou: 0.7266 - val_loss: 0.1945 - val_f1: 0.9326 - val_mean_iou: 0.7312\n",
      "\n",
      "Epoch 00009: val_loss improved from 0.21798 to 0.19449, saving model to model-unet-res-cwfid.h5\n",
      "Epoch 10/30\n",
      "96/96 [==============================] - 4s 43ms/step - loss: 0.1126 - f1: 0.9503 - mean_iou: 0.7335 - val_loss: 0.1764 - val_f1: 0.9353 - val_mean_iou: 0.7377\n",
      "\n",
      "Epoch 00010: val_loss improved from 0.19449 to 0.17640, saving model to model-unet-res-cwfid.h5\n",
      "Epoch 11/30\n",
      "96/96 [==============================] - 4s 43ms/step - loss: 0.1107 - f1: 0.9502 - mean_iou: 0.7400 - val_loss: 0.1636 - val_f1: 0.9372 - val_mean_iou: 0.7439\n",
      "\n",
      "Epoch 00011: val_loss improved from 0.17640 to 0.16356, saving model to model-unet-res-cwfid.h5\n",
      "Epoch 12/30\n",
      "96/96 [==============================] - 4s 43ms/step - loss: 0.1083 - f1: 0.9508 - mean_iou: 0.7462 - val_loss: 0.1478 - val_f1: 0.9409 - val_mean_iou: 0.7497\n",
      "\n",
      "Epoch 00012: val_loss improved from 0.16356 to 0.14779, saving model to model-unet-res-cwfid.h5\n",
      "Epoch 13/30\n",
      "96/96 [==============================] - 4s 43ms/step - loss: 0.1068 - f1: 0.9510 - mean_iou: 0.7520 - val_loss: 0.1373 - val_f1: 0.9437 - val_mean_iou: 0.7552\n",
      "\n",
      "Epoch 00013: val_loss improved from 0.14779 to 0.13727, saving model to model-unet-res-cwfid.h5\n",
      "Epoch 14/30\n",
      "96/96 [==============================] - 4s 43ms/step - loss: 0.1052 - f1: 0.9509 - mean_iou: 0.7574 - val_loss: 0.1336 - val_f1: 0.9446 - val_mean_iou: 0.7604\n",
      "\n",
      "Epoch 00014: val_loss improved from 0.13727 to 0.13363, saving model to model-unet-res-cwfid.h5\n",
      "Epoch 15/30\n",
      "96/96 [==============================] - 4s 43ms/step - loss: 0.1029 - f1: 0.9512 - mean_iou: 0.7623 - val_loss: 0.1314 - val_f1: 0.9444 - val_mean_iou: 0.7651\n",
      "\n",
      "Epoch 00015: val_loss improved from 0.13363 to 0.13139, saving model to model-unet-res-cwfid.h5\n",
      "Epoch 16/30\n",
      "96/96 [==============================] - 4s 43ms/step - loss: 0.1012 - f1: 0.9513 - mean_iou: 0.7670 - val_loss: 0.1227 - val_f1: 0.9466 - val_mean_iou: 0.7695\n",
      "\n",
      "Epoch 00016: val_loss improved from 0.13139 to 0.12270, saving model to model-unet-res-cwfid.h5\n",
      "Epoch 17/30\n",
      "96/96 [==============================] - 4s 43ms/step - loss: 0.0995 - f1: 0.9516 - mean_iou: 0.7713 - val_loss: 0.1166 - val_f1: 0.9481 - val_mean_iou: 0.7736\n",
      "\n",
      "Epoch 00017: val_loss improved from 0.12270 to 0.11664, saving model to model-unet-res-cwfid.h5\n",
      "Epoch 18/30\n",
      "96/96 [==============================] - 4s 43ms/step - loss: 0.0986 - f1: 0.9518 - mean_iou: 0.7753 - val_loss: 0.1117 - val_f1: 0.9499 - val_mean_iou: 0.7775\n",
      "\n",
      "Epoch 00018: val_loss improved from 0.11664 to 0.11166, saving model to model-unet-res-cwfid.h5\n",
      "Epoch 19/30\n",
      "96/96 [==============================] - 4s 43ms/step - loss: 0.0962 - f1: 0.9523 - mean_iou: 0.7791 - val_loss: 0.1098 - val_f1: 0.9503 - val_mean_iou: 0.7811\n",
      "\n",
      "Epoch 00019: val_loss improved from 0.11166 to 0.10976, saving model to model-unet-res-cwfid.h5\n",
      "Epoch 20/30\n",
      "96/96 [==============================] - 4s 43ms/step - loss: 0.0944 - f1: 0.9528 - mean_iou: 0.7826 - val_loss: 0.1060 - val_f1: 0.9511 - val_mean_iou: 0.7844\n",
      "\n",
      "Epoch 00020: val_loss improved from 0.10976 to 0.10601, saving model to model-unet-res-cwfid.h5\n",
      "Epoch 21/30\n",
      "96/96 [==============================] - 4s 43ms/step - loss: 0.0936 - f1: 0.9532 - mean_iou: 0.7859 - val_loss: 0.1017 - val_f1: 0.9526 - val_mean_iou: 0.7876\n",
      "\n",
      "Epoch 00021: val_loss improved from 0.10601 to 0.10173, saving model to model-unet-res-cwfid.h5\n",
      "Epoch 22/30\n",
      "96/96 [==============================] - 4s 43ms/step - loss: 0.0921 - f1: 0.9533 - mean_iou: 0.7890 - val_loss: 0.0974 - val_f1: 0.9536 - val_mean_iou: 0.7906\n",
      "\n",
      "Epoch 00022: val_loss improved from 0.10173 to 0.09742, saving model to model-unet-res-cwfid.h5\n",
      "Epoch 23/30\n",
      "96/96 [==============================] - 4s 43ms/step - loss: 0.0903 - f1: 0.9543 - mean_iou: 0.7919 - val_loss: 0.0972 - val_f1: 0.9539 - val_mean_iou: 0.7935\n",
      "\n",
      "Epoch 00023: val_loss improved from 0.09742 to 0.09717, saving model to model-unet-res-cwfid.h5\n",
      "Epoch 24/30\n",
      "96/96 [==============================] - 4s 43ms/step - loss: 0.0885 - f1: 0.9549 - mean_iou: 0.7948 - val_loss: 0.0964 - val_f1: 0.9544 - val_mean_iou: 0.7963\n",
      "\n",
      "Epoch 00024: val_loss improved from 0.09717 to 0.09636, saving model to model-unet-res-cwfid.h5\n",
      "Epoch 25/30\n",
      "96/96 [==============================] - 4s 43ms/step - loss: 0.0871 - f1: 0.9558 - mean_iou: 0.7975 - val_loss: 0.0938 - val_f1: 0.9548 - val_mean_iou: 0.7989\n",
      "\n",
      "Epoch 00025: val_loss improved from 0.09636 to 0.09380, saving model to model-unet-res-cwfid.h5\n",
      "Epoch 26/30\n",
      "96/96 [==============================] - 4s 43ms/step - loss: 0.0863 - f1: 0.9558 - mean_iou: 0.8001 - val_loss: 0.0932 - val_f1: 0.9546 - val_mean_iou: 0.8015\n",
      "\n",
      "Epoch 00026: val_loss improved from 0.09380 to 0.09318, saving model to model-unet-res-cwfid.h5\n",
      "Epoch 27/30\n",
      "96/96 [==============================] - 4s 43ms/step - loss: 0.0850 - f1: 0.9566 - mean_iou: 0.8027 - val_loss: 0.0898 - val_f1: 0.9551 - val_mean_iou: 0.8040\n",
      "\n",
      "Epoch 00027: val_loss improved from 0.09318 to 0.08982, saving model to model-unet-res-cwfid.h5\n",
      "Epoch 28/30\n",
      "96/96 [==============================] - 4s 43ms/step - loss: 0.0839 - f1: 0.9571 - mean_iou: 0.8052 - val_loss: 0.0871 - val_f1: 0.9554 - val_mean_iou: 0.8065\n",
      "\n",
      "Epoch 00028: val_loss improved from 0.08982 to 0.08714, saving model to model-unet-res-cwfid.h5\n",
      "Epoch 29/30\n",
      "96/96 [==============================] - 4s 43ms/step - loss: 0.0829 - f1: 0.9571 - mean_iou: 0.8076 - val_loss: 0.0901 - val_f1: 0.9510 - val_mean_iou: 0.8089\n",
      "\n",
      "Epoch 00029: val_loss did not improve from 0.08714\n",
      "Epoch 30/30\n",
      "96/96 [==============================] - 4s 43ms/step - loss: 0.0829 - f1: 0.9566 - mean_iou: 0.8101 - val_loss: 0.0892 - val_f1: 0.9502 - val_mean_iou: 0.8113\n",
      "\n",
      "Epoch 00030: val_loss did not improve from 0.08714\n"
     ]
    }
   ],
   "source": [
    "callbacks_full = [\n",
    "    ModelCheckpoint('model-unet-res-cwfid.h5', verbose=1, save_best_only=True)\n",
    "]\n",
    "\n",
    "model_unet_res_full_history = model_unet_res.fit(x = X_train,\n",
    "                         y = y_train,\n",
    "                         batch_size = 32,\n",
    "                         epochs = 30,\n",
    "                         verbose = 1,\n",
    "                         validation_split = 0.2,\n",
    "                          callbacks = callbacks_full\n",
    "                         )"
   ]
  },
  {
   "cell_type": "markdown",
   "metadata": {},
   "source": [
    "### Métricas"
   ]
  },
  {
   "cell_type": "code",
   "execution_count": 589,
   "metadata": {
    "ExecuteTime": {
     "end_time": "2018-11-05T19:41:13.167683Z",
     "start_time": "2018-11-05T19:41:01.576527Z"
    }
   },
   "outputs": [],
   "source": [
    "pred_model_unet_res = model_unet_res.predict(X_test)"
   ]
  },
  {
   "cell_type": "code",
   "execution_count": 592,
   "metadata": {
    "ExecuteTime": {
     "end_time": "2018-11-05T19:42:21.073760Z",
     "start_time": "2018-11-05T19:42:20.306543Z"
    }
   },
   "outputs": [
    {
     "data": {
      "text/plain": [
       "<matplotlib.image.AxesImage at 0x7fb254d5ef98>"
      ]
     },
     "execution_count": 592,
     "metadata": {},
     "output_type": "execute_result"
    },
    {
     "data": {
      "image/png": "[encoded data removed]",
      "text/plain": [
       "<Figure size 432x288 with 6 Axes>"
      ]
     },
     "metadata": {
      "needs_background": "light"
     },
     "output_type": "display_data"
    }
   ],
   "source": [
    "i = 5\n",
    "plt.figure()\n",
    "plt.subplot(2,3,1)\n",
    "plt.imshow(pred_model_unet_res[i,:,:,2])\n",
    "plt.subplot(2,3,4)\n",
    "plt.imshow(y_test[i,:,:,2])\n",
    "plt.subplot(2,3,2)\n",
    "plt.imshow(pred_model_unet_res[i,:,:,1])\n",
    "plt.subplot(2,3,5)\n",
    "plt.imshow(y_test[i,:,:,1])\n",
    "plt.subplot(2,3,3)\n",
    "plt.imshow(pred_model_unet_res[i,:,:,0])\n",
    "plt.subplot(2,3,6)\n",
    "plt.imshow(y_test[i,:,:,0])"
   ]
  },
  {
   "cell_type": "code",
   "execution_count": 590,
   "metadata": {
    "ExecuteTime": {
     "end_time": "2018-11-05T19:41:13.500512Z",
     "start_time": "2018-11-05T19:41:13.170455Z"
    }
   },
   "outputs": [
    {
     "data": {
      "text/plain": [
       "<matplotlib.image.AxesImage at 0x7fb256b00dd8>"
      ]
     },
     "execution_count": 590,
     "metadata": {},
     "output_type": "execute_result"
    },
    {
     "data": {
      "image/png": "[encoded data removed]",
      "text/plain": [
       "<Figure size 432x288 with 2 Axes>"
      ]
     },
     "metadata": {
      "needs_background": "light"
     },
     "output_type": "display_data"
    }
   ],
   "source": [
    "i = 5\n",
    "plt.figure()\n",
    "plt.subplot(1,2,1)\n",
    "plt.imshow(pred_model_unet_res[i,:,:,:])\n",
    "plt.subplot(1,2,2)\n",
    "plt.imshow(y_test[i,:,:,:])"
   ]
  }
 ],
 "metadata": {
  "kernelspec": {
   "display_name": "Python 3",
   "language": "python",
   "name": "python3"
  },
  "language_info": {
   "codemirror_mode": {
    "name": "ipython",
    "version": 3
   },
   "file_extension": ".py",
   "mimetype": "text/x-python",
   "name": "python",
   "nbconvert_exporter": "python",
   "pygments_lexer": "ipython3",
   "version": "3.5.2"
  },
  "toc": {
   "base_numbering": 1,
   "nav_menu": {},
   "number_sections": true,
   "sideBar": true,
   "skip_h1_title": false,
   "title_cell": "Table of Contents",
   "title_sidebar": "Contents",
   "toc_cell": false,
   "toc_position": {
    "height": "calc(100% - 180px)",
    "left": "10px",
    "top": "150px",
    "width": "273.188px"
   },
   "toc_section_display": true,
   "toc_window_display": true
  }
 },
 "nbformat": 4,
 "nbformat_minor": 2
}
