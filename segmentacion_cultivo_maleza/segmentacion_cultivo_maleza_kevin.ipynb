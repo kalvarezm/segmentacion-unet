{
 "cells": [
  {
   "cell_type": "markdown",
   "metadata": {},
   "source": [
    "# Segmentación de cultivo y maleza en agricultura de precisión aplicando U-Net\n",
    "\n",
    "Pontificia Universidad Católica del Perú\n",
    "\n",
    "Escuela de Posgrado PUCP, Maestría en Informática, Ciencias de la Computacion\n",
    "\n",
    "Curso: \n",
    "- Técnicas avanzadas de data mining y sistemas inteligentes\n",
    "\n",
    "Alumnos:\n",
    "- 20173589 Alarcon Flores, Jorge Brian\n",
    "- 20173685 Chicchón Apaza, Miguel Angel\n",
    "- 20173789 Alvarez Mouravskaia, Kevin\n",
    "- 20173810 Pacheco Condori, Jesús Edwar"
   ]
  },
  {
   "cell_type": "markdown",
   "metadata": {},
   "source": [
    "## Librerías"
   ]
  },
  {
   "cell_type": "code",
   "execution_count": 5,
   "metadata": {
    "ExecuteTime": {
     "end_time": "2018-11-05T13:32:15.744875Z",
     "start_time": "2018-11-05T13:32:15.740049Z"
    }
   },
   "outputs": [],
   "source": [
    "import numpy as np\n",
    "import cv2 #https://opencv-python-tutroals.readthedocs.io/en/latest/index.html\n",
    "import glob #https://docs.python.org/2/library/glob.html\n",
    "from skimage.transform import rescale, resize #https://scikit-image.org/\n",
    "from tqdm import tqdm_notebook as tqdm\n",
    "import logging\n",
    "import matplotlib.pyplot as plt\n",
    "%matplotlib inline\n",
    "from sklearn.model_selection import train_test_split"
   ]
  },
  {
   "cell_type": "code",
   "execution_count": 28,
   "metadata": {
    "ExecuteTime": {
     "end_time": "2018-11-05T13:43:28.372912Z",
     "start_time": "2018-11-05T13:43:28.368004Z"
    }
   },
   "outputs": [],
   "source": [
    "from keras.models import Model, load_model\n",
    "from keras.layers import Input\n",
    "from keras.layers.core import Dropout, Lambda\n",
    "from keras.layers.convolutional import Conv2D, Conv2DTranspose\n",
    "from keras.layers.pooling import MaxPooling2D\n",
    "from keras.layers.merge import concatenate\n",
    "from keras.callbacks import EarlyStopping, ModelCheckpoint\n",
    "from keras import backend as K\n",
    "import tensorflow as tf"
   ]
  },
  {
   "cell_type": "code",
   "execution_count": 7,
   "metadata": {
    "ExecuteTime": {
     "end_time": "2018-11-05T13:32:28.771501Z",
     "start_time": "2018-11-05T13:32:28.768194Z"
    }
   },
   "outputs": [],
   "source": [
    "logging.basicConfig(level=logging.INFO, format='%(asctime)s %(message)s')"
   ]
  },
  {
   "cell_type": "markdown",
   "metadata": {},
   "source": [
    "## Lectura de datos"
   ]
  },
  {
   "cell_type": "code",
   "execution_count": 8,
   "metadata": {
    "ExecuteTime": {
     "end_time": "2018-11-05T13:32:28.781608Z",
     "start_time": "2018-11-05T13:32:28.773743Z"
    }
   },
   "outputs": [],
   "source": [
    "def make_label(a):\n",
    "    \"\"\"\n",
    "    Método que etiqueta los labels según colores\n",
    "    Fuente: elaboración propia\n",
    "    \"\"\"    \n",
    "    if a[1] == 255:\n",
    "        a[0] = 1\n",
    "    elif a[2] == 255:\n",
    "        a[1] = 1\n",
    "    else:\n",
    "        a[2] = 1\n",
    "    return a"
   ]
  },
  {
   "cell_type": "code",
   "execution_count": 9,
   "metadata": {
    "ExecuteTime": {
     "end_time": "2018-11-05T13:32:28.793913Z",
     "start_time": "2018-11-05T13:32:28.783801Z"
    }
   },
   "outputs": [],
   "source": [
    "class DatasetProvider():\n",
    "    \"\"\"\n",
    "    Clase que lee el dataset\n",
    "    Fuente: elaboración propia\n",
    "    \"\"\"\n",
    "    def __init__(self, scale=1.0/6.0):\n",
    "        self.scale = scale\n",
    "        self.x, self.y = self.__run__()\n",
    "        \n",
    "    def __run__(self):\n",
    "        labels = self.__read_images__('annotation') \n",
    "        images = self.__read_images__('image') \n",
    "        x = self.__create_x__(images)\n",
    "        y = self.__create_y_annotations__(labels)\n",
    "        return x, y\n",
    "        \n",
    "    def __create_x__(self, images):\n",
    "        logging.info('Creando imágenes')\n",
    "        scale = self.scale\n",
    "        height, width, channels = images[0].shape\n",
    "        x = np.zeros((len(images), int(height * scale), int(width * scale), channels))\n",
    "        for i, image in tqdm(enumerate(images)):\n",
    "            image_rescaled = rescale(image, scale, anti_aliasing=True, multichannel=True, mode='reflect')\n",
    "            x[i,:,:,:] = image_rescaled\n",
    "        return x\n",
    "    \n",
    "    def __create_y_annotations__(self, annotations, shape=3):\n",
    "        logging.info('Creando labels')\n",
    "        scale = self.scale\n",
    "        height, width, channels = annotations[0].shape\n",
    "        labels = np.zeros((height, width, shape))\n",
    "        y = np.zeros((len(annotations), int(height * scale), int(width * scale), shape))\n",
    "        for i, image in tqdm(enumerate(annotations)):\n",
    "            np_image = np.array(image)\n",
    "            np_image = np.apply_along_axis(make_label, -1, np_image)\n",
    "            image_rescaled = rescale(np_image, scale, anti_aliasing=True, multichannel=True, mode='reflect')\n",
    "            y[i,:,:,:] = image_rescaled\n",
    "        return y\n",
    "        \n",
    "    def __read_images__(self, prefix):\n",
    "        logging.info('Leyendo imágenes {}'.format(prefix))\n",
    "        images = []\n",
    "        path = '../dataset/cwfid/' + prefix + 's'\n",
    "        files = glob.glob(path + \"/*.png\")\n",
    "        for i, img_name in enumerate(files):\n",
    "            path_img = img_name.replace('\\\\','/')\n",
    "            img = cv2.imread(path_img)\n",
    "            images.append(img)\n",
    "        return images"
   ]
  },
  {
   "cell_type": "code",
   "execution_count": 10,
   "metadata": {
    "ExecuteTime": {
     "end_time": "2018-11-05T13:32:28.800386Z",
     "start_time": "2018-11-05T13:32:28.796617Z"
    }
   },
   "outputs": [],
   "source": [
    "def execute_dataset_provider():\n",
    "    dataset_provider = DatasetProvider()\n",
    "    X = dataset_provider.x\n",
    "    y = dataset_provider.y\n",
    "    return X, y"
   ]
  },
  {
   "cell_type": "code",
   "execution_count": 11,
   "metadata": {
    "ExecuteTime": {
     "end_time": "2018-11-05T13:41:32.787299Z",
     "start_time": "2018-11-05T13:32:28.802469Z"
    }
   },
   "outputs": [
    {
     "name": "stderr",
     "output_type": "stream",
     "text": [
      "2018-11-05 13:32:28,803 Leyendo imágenes annotation\n",
      "2018-11-05 13:32:29,809 Leyendo imágenes image\n",
      "2018-11-05 13:32:32,032 Creando imágenes\n"
     ]
    },
    {
     "data": {
      "application/vnd.jupyter.widget-view+json": {
       "model_id": "2c63aeaa2a6b409999aca9f2a4f8ce5e",
       "version_major": 2,
       "version_minor": 0
      },
      "text/plain": [
       "HBox(children=(IntProgress(value=1, bar_style='info', max=1), HTML(value='')))"
      ]
     },
     "metadata": {},
     "output_type": "display_data"
    },
    {
     "name": "stderr",
     "output_type": "stream",
     "text": [
      "2018-11-05 13:32:40,724 Creando labels\n"
     ]
    },
    {
     "name": "stdout",
     "output_type": "stream",
     "text": [
      "\n"
     ]
    },
    {
     "data": {
      "application/vnd.jupyter.widget-view+json": {
       "model_id": "4b67539d32ab4a5cb1ec4f34829d4a3e",
       "version_major": 2,
       "version_minor": 0
      },
      "text/plain": [
       "HBox(children=(IntProgress(value=1, bar_style='info', max=1), HTML(value='')))"
      ]
     },
     "metadata": {},
     "output_type": "display_data"
    },
    {
     "name": "stdout",
     "output_type": "stream",
     "text": [
      "\n"
     ]
    }
   ],
   "source": [
    "X, y = execute_dataset_provider()"
   ]
  },
  {
   "cell_type": "code",
   "execution_count": 12,
   "metadata": {
    "ExecuteTime": {
     "end_time": "2018-11-05T13:41:32.796436Z",
     "start_time": "2018-11-05T13:41:32.789824Z"
    }
   },
   "outputs": [
    {
     "data": {
      "text/plain": [
       "((60, 161, 216, 3), (60, 161, 216, 3))"
      ]
     },
     "execution_count": 12,
     "metadata": {},
     "output_type": "execute_result"
    }
   ],
   "source": [
    "X.shape, y.shape"
   ]
  },
  {
   "cell_type": "code",
   "execution_count": 13,
   "metadata": {
    "ExecuteTime": {
     "end_time": "2018-11-05T13:41:33.089454Z",
     "start_time": "2018-11-05T13:41:32.798487Z"
    }
   },
   "outputs": [
    {
     "data": {
      "text/plain": [
       "<matplotlib.image.AxesImage at 0x7fb3d164ac18>"
      ]
     },
     "execution_count": 13,
     "metadata": {},
     "output_type": "execute_result"
    },
    {
     "data": {
      "image/png": "[encoded data removed]",
      "text/plain": [
       "<Figure size 432x288 with 2 Axes>"
      ]
     },
     "metadata": {},
     "output_type": "display_data"
    }
   ],
   "source": [
    "np.random.seed(0)\n",
    "sample_idx = np.random.choice(len(X))  \n",
    "\n",
    "plt.subplot(1,2,1)\n",
    "plt.xticks([])\n",
    "plt.yticks([])\n",
    "plt.xlabel('img:{}'.format(sample_idx))\n",
    "plt.imshow(X[sample_idx,:,:,:])\n",
    "\n",
    "plt.subplot(1,2,2)\n",
    "plt.xticks([])\n",
    "plt.yticks([])\n",
    "plt.xlabel('img:{}'.format(sample_idx))\n",
    "plt.imshow(y[sample_idx,:,:,:])"
   ]
  },
  {
   "cell_type": "markdown",
   "metadata": {},
   "source": [
    "## Pre entrenamiento (Aumentación)"
   ]
  },
  {
   "cell_type": "code",
   "execution_count": 14,
   "metadata": {
    "ExecuteTime": {
     "end_time": "2018-11-05T13:41:33.098581Z",
     "start_time": "2018-11-05T13:41:33.092011Z"
    }
   },
   "outputs": [],
   "source": [
    "class DatasetAugmentation():\n",
    "    \n",
    "    def __init__(self, X, y):\n",
    "        self.X, self.y = self.__run__(X, y)\n",
    "        \n",
    "    def __run__(self, X, y):\n",
    "        logging.info('Realizando aumentación')\n",
    "        X_augmentated = X\n",
    "        y_augmentated = y\n",
    "        for i, x_image in tqdm(enumerate(X)):\n",
    "            fliplr_x_image = np.fliplr(x_image)\n",
    "            flipup_x_image = np.flipud(x_image)\n",
    "            fliplr_y_image = np.fliplr(y[i])\n",
    "            flipup_y_image = np.flipud(y[i])\n",
    "            X_augmentated = np.append(X_augmentated, [fliplr_x_image], axis=0)\n",
    "            X_augmentated = np.append(X_augmentated, [flipup_x_image], axis=0)\n",
    "            y_augmentated = np.append(y_augmentated, [fliplr_y_image], axis=0)\n",
    "            y_augmentated = np.append(y_augmentated, [flipup_y_image], axis=0)\n",
    "        return X_augmentated, y_augmentated"
   ]
  },
  {
   "cell_type": "code",
   "execution_count": 15,
   "metadata": {
    "ExecuteTime": {
     "end_time": "2018-11-05T13:41:33.106142Z",
     "start_time": "2018-11-05T13:41:33.100775Z"
    }
   },
   "outputs": [],
   "source": [
    "def execute_dataset_pretrain(X, y):\n",
    "    dataset = DatasetAugmentation(X, y)\n",
    "    X_augmentated =  dataset.X\n",
    "    y_augmentated = dataset.y\n",
    "    return X_augmentated, y_augmentated"
   ]
  },
  {
   "cell_type": "code",
   "execution_count": 16,
   "metadata": {
    "ExecuteTime": {
     "end_time": "2018-11-05T13:41:45.562662Z",
     "start_time": "2018-11-05T13:41:33.108386Z"
    }
   },
   "outputs": [
    {
     "name": "stderr",
     "output_type": "stream",
     "text": [
      "2018-11-05 13:41:33,110 Realizando aumentación\n"
     ]
    },
    {
     "data": {
      "application/vnd.jupyter.widget-view+json": {
       "model_id": "f889483938e14123a07250c4163034ba",
       "version_major": 2,
       "version_minor": 0
      },
      "text/plain": [
       "HBox(children=(IntProgress(value=1, bar_style='info', max=1), HTML(value='')))"
      ]
     },
     "metadata": {},
     "output_type": "display_data"
    },
    {
     "name": "stdout",
     "output_type": "stream",
     "text": [
      "\n"
     ]
    }
   ],
   "source": [
    "X_augmentated, y_augmentated = execute_dataset_pretrain(X, y)"
   ]
  },
  {
   "cell_type": "code",
   "execution_count": 17,
   "metadata": {
    "ExecuteTime": {
     "end_time": "2018-11-05T13:41:45.570270Z",
     "start_time": "2018-11-05T13:41:45.565333Z"
    }
   },
   "outputs": [
    {
     "data": {
      "text/plain": [
       "((180, 161, 216, 3), (180, 161, 216, 3))"
      ]
     },
     "execution_count": 17,
     "metadata": {},
     "output_type": "execute_result"
    }
   ],
   "source": [
    "X_augmentated.shape, y_augmentated.shape"
   ]
  },
  {
   "cell_type": "markdown",
   "metadata": {},
   "source": [
    "## Train validation split"
   ]
  },
  {
   "cell_type": "code",
   "execution_count": 18,
   "metadata": {
    "ExecuteTime": {
     "end_time": "2018-11-05T13:41:45.770781Z",
     "start_time": "2018-11-05T13:41:45.572763Z"
    }
   },
   "outputs": [],
   "source": [
    "X_train, X_val, y_train, y_val = train_test_split(X_augmentated, y_augmentated, test_size=0.2, random_state=42)"
   ]
  },
  {
   "cell_type": "code",
   "execution_count": 19,
   "metadata": {
    "ExecuteTime": {
     "end_time": "2018-11-05T13:41:45.778667Z",
     "start_time": "2018-11-05T13:41:45.773558Z"
    }
   },
   "outputs": [
    {
     "data": {
      "text/plain": [
       "((144, 161, 216, 3), (36, 161, 216, 3))"
      ]
     },
     "execution_count": 19,
     "metadata": {},
     "output_type": "execute_result"
    }
   ],
   "source": [
    "X_train.shape, X_val.shape"
   ]
  },
  {
   "cell_type": "markdown",
   "metadata": {},
   "source": [
    "## Pre entrenamiento (normalización)"
   ]
  },
  {
   "cell_type": "code",
   "execution_count": 20,
   "metadata": {
    "ExecuteTime": {
     "end_time": "2018-11-05T13:41:46.106640Z",
     "start_time": "2018-11-05T13:41:45.780899Z"
    }
   },
   "outputs": [],
   "source": [
    "X_mean = X_train.mean()\n",
    "X_std = X_train.std()\n",
    "X_train = (X_train - X_mean) / X_std\n",
    "X_val = (X_val - X_mean) / X_std"
   ]
  },
  {
   "cell_type": "markdown",
   "metadata": {},
   "source": [
    "## Métricas"
   ]
  },
  {
   "cell_type": "code",
   "execution_count": 21,
   "metadata": {
    "ExecuteTime": {
     "end_time": "2018-11-05T13:41:46.114190Z",
     "start_time": "2018-11-05T13:41:46.109330Z"
    }
   },
   "outputs": [],
   "source": [
    "# Define IoU metric\n",
    "def mean_iou(y_true, y_pred):\n",
    "    prec = []\n",
    "    for t in np.arange(0.5, 1.0, 0.05):\n",
    "        y_pred_ = tf.to_int32(y_pred > t)\n",
    "        score, up_opt = tf.metrics.mean_iou(y_true, y_pred_, 2)\n",
    "        K.get_session().run(tf.local_variables_initializer())\n",
    "        with tf.control_dependencies([up_opt]):\n",
    "            score = tf.identity(score)\n",
    "        prec.append(score)\n",
    "    return K.mean(K.stack(prec), axis=0)"
   ]
  },
  {
   "cell_type": "markdown",
   "metadata": {},
   "source": [
    "## Modelo"
   ]
  },
  {
   "cell_type": "markdown",
   "metadata": {},
   "source": [
    "![title](https://lmb.informatik.uni-freiburg.de/people/ronneber/u-net/u-net-architecture.png)"
   ]
  },
  {
   "cell_type": "code",
   "execution_count": 25,
   "metadata": {
    "ExecuteTime": {
     "end_time": "2018-11-05T13:42:53.633043Z",
     "start_time": "2018-11-05T13:42:53.621685Z"
    }
   },
   "outputs": [],
   "source": [
    "class ModelCreator():\n",
    "    \n",
    "    #Fuente: https://www.kaggle.com/keegil/keras-u-net-starter-lb-0-277\n",
    "    def unet(self, height, width, channels):\n",
    "        \n",
    "        inputs = Input((height, width, channels))\n",
    "        s = Lambda(lambda x: x / 255) (inputs)\n",
    "\n",
    "        c1 = Conv2D(16, (3, 3), activation='elu', kernel_initializer='he_normal', padding='same') (s)\n",
    "        c1 = Dropout(0.1) (c1)\n",
    "        c1 = Conv2D(16, (3, 3), activation='elu', kernel_initializer='he_normal', padding='same') (c1)\n",
    "        p1 = MaxPooling2D((2, 2)) (c1)\n",
    "\n",
    "        c2 = Conv2D(32, (3, 3), activation='elu', kernel_initializer='he_normal', padding='same') (p1)\n",
    "        c2 = Dropout(0.1) (c2)\n",
    "        c2 = Conv2D(32, (3, 3), activation='elu', kernel_initializer='he_normal', padding='same') (c2)\n",
    "        p2 = MaxPooling2D((2, 2)) (c2)\n",
    "\n",
    "        c3 = Conv2D(64, (3, 3), activation='elu', kernel_initializer='he_normal', padding='same') (p2)\n",
    "        c3 = Dropout(0.2) (c3)\n",
    "        c3 = Conv2D(64, (3, 3), activation='elu', kernel_initializer='he_normal', padding='same') (c3)\n",
    "        p3 = MaxPooling2D((2, 2)) (c3)\n",
    "\n",
    "        c4 = Conv2D(128, (3, 3), activation='elu', kernel_initializer='he_normal', padding='same') (p3)\n",
    "        c4 = Dropout(0.2) (c4)\n",
    "        c4 = Conv2D(128, (3, 3), activation='elu', kernel_initializer='he_normal', padding='same') (c4)\n",
    "        p4 = MaxPooling2D(pool_size=(2, 2)) (c4)\n",
    "\n",
    "        c5 = Conv2D(256, (3, 3), activation='elu', kernel_initializer='he_normal', padding='same') (p4)\n",
    "        c5 = Dropout(0.3) (c5)\n",
    "        c5 = Conv2D(256, (3, 3), activation='elu', kernel_initializer='he_normal', padding='same') (c5)\n",
    "        \n",
    "#         up_conv5 = UpSampling2D(size=(2, 2), data_format=\"channels_last\")(conv5)\n",
    "#         ch, cw = get_crop_shape(conv4, up_conv5)\n",
    "#         crop_conv4 = Cropping2D(cropping=(ch,cw), data_format=\"channels_last\")(conv4)\n",
    "#         up6   = concatenate([up_conv5, crop_conv4], axis=concat_axis)`\n",
    "\n",
    "#         u6 = Conv2DTranspose(128, (2, 2), strides=(2, 2), padding='same') (c5)\n",
    "#         u6 = concatenate([u6, c4])\n",
    "#         c6 = Conv2D(128, (3, 3), activation='elu', kernel_initializer='he_normal', padding='same') (u6)\n",
    "#         c6 = Dropout(0.2) (c6)\n",
    "#         c6 = Conv2D(128, (3, 3), activation='elu', kernel_initializer='he_normal', padding='same') (c6)\n",
    "\n",
    "#         u7 = Conv2DTranspose(64, (2, 2), strides=(2, 2), padding='same') (c6)\n",
    "#         u7 = concatenate([u7, c3])\n",
    "#         c7 = Conv2D(64, (3, 3), activation='elu', kernel_initializer='he_normal', padding='same') (u7)\n",
    "#         c7 = Dropout(0.2) (c7)\n",
    "#         c7 = Conv2D(64, (3, 3), activation='elu', kernel_initializer='he_normal', padding='same') (c7)\n",
    "\n",
    "#         u8 = Conv2DTranspose(32, (2, 2), strides=(2, 2), padding='same') (c7)\n",
    "#         u8 = concatenate([u8, c2])\n",
    "#         c8 = Conv2D(32, (3, 3), activation='elu', kernel_initializer='he_normal', padding='same') (u8)\n",
    "#         c8 = Dropout(0.1) (c8)\n",
    "#         c8 = Conv2D(32, (3, 3), activation='elu', kernel_initializer='he_normal', padding='same') (c8)\n",
    "\n",
    "#         u9 = Conv2DTranspose(16, (2, 2), strides=(2, 2), padding='same') (c8)\n",
    "#         u9 = concatenate([u9, c1], axis=3)\n",
    "#         c9 = Conv2D(16, (3, 3), activation='elu', kernel_initializer='he_normal', padding='same') (u9)\n",
    "#         c9 = Dropout(0.1) (c9)\n",
    "#         c9 = Conv2D(16, (3, 3), activation='elu', kernel_initializer='he_normal', padding='same') (c9)\n",
    "\n",
    "        outputs = Conv2D(1, (1, 1), activation='sigmoid') (c5)\n",
    "\n",
    "        model = Model(inputs=[inputs], outputs=[outputs])\n",
    "        model.compile(optimizer='adam', loss='binary_crossentropy', metrics=[mean_iou])\n",
    "        \n",
    "        return model    "
   ]
  },
  {
   "cell_type": "code",
   "execution_count": 30,
   "metadata": {
    "ExecuteTime": {
     "end_time": "2018-11-05T13:44:13.386143Z",
     "start_time": "2018-11-05T13:44:13.382397Z"
    }
   },
   "outputs": [],
   "source": [
    "def execute_model():\n",
    "    print()\n",
    "    model = ModelCreator()\n",
    "    model_unet = model.unet(X_train.shape[1], X_train.shape[2], X_train.shape[3])\n",
    "    model_unet.summary()"
   ]
  },
  {
   "cell_type": "code",
   "execution_count": 31,
   "metadata": {
    "ExecuteTime": {
     "end_time": "2018-11-05T13:44:17.515908Z",
     "start_time": "2018-11-05T13:44:14.642941Z"
    }
   },
   "outputs": [
    {
     "name": "stdout",
     "output_type": "stream",
     "text": [
      "\n",
      "_________________________________________________________________\n",
      "Layer (type)                 Output Shape              Param #   \n",
      "=================================================================\n",
      "input_4 (InputLayer)         (None, 161, 216, 3)       0         \n",
      "_________________________________________________________________\n",
      "lambda_4 (Lambda)            (None, 161, 216, 3)       0         \n",
      "_________________________________________________________________\n",
      "conv2d_33 (Conv2D)           (None, 161, 216, 16)      448       \n",
      "_________________________________________________________________\n",
      "dropout_16 (Dropout)         (None, 161, 216, 16)      0         \n",
      "_________________________________________________________________\n",
      "conv2d_34 (Conv2D)           (None, 161, 216, 16)      2320      \n",
      "_________________________________________________________________\n",
      "max_pooling2d_13 (MaxPooling (None, 80, 108, 16)       0         \n",
      "_________________________________________________________________\n",
      "conv2d_35 (Conv2D)           (None, 80, 108, 32)       4640      \n",
      "_________________________________________________________________\n",
      "dropout_17 (Dropout)         (None, 80, 108, 32)       0         \n",
      "_________________________________________________________________\n",
      "conv2d_36 (Conv2D)           (None, 80, 108, 32)       9248      \n",
      "_________________________________________________________________\n",
      "max_pooling2d_14 (MaxPooling (None, 40, 54, 32)        0         \n",
      "_________________________________________________________________\n",
      "conv2d_37 (Conv2D)           (None, 40, 54, 64)        18496     \n",
      "_________________________________________________________________\n",
      "dropout_18 (Dropout)         (None, 40, 54, 64)        0         \n",
      "_________________________________________________________________\n",
      "conv2d_38 (Conv2D)           (None, 40, 54, 64)        36928     \n",
      "_________________________________________________________________\n",
      "max_pooling2d_15 (MaxPooling (None, 20, 27, 64)        0         \n",
      "_________________________________________________________________\n",
      "conv2d_39 (Conv2D)           (None, 20, 27, 128)       73856     \n",
      "_________________________________________________________________\n",
      "dropout_19 (Dropout)         (None, 20, 27, 128)       0         \n",
      "_________________________________________________________________\n",
      "conv2d_40 (Conv2D)           (None, 20, 27, 128)       147584    \n",
      "_________________________________________________________________\n",
      "max_pooling2d_16 (MaxPooling (None, 10, 13, 128)       0         \n",
      "_________________________________________________________________\n",
      "conv2d_41 (Conv2D)           (None, 10, 13, 256)       295168    \n",
      "_________________________________________________________________\n",
      "dropout_20 (Dropout)         (None, 10, 13, 256)       0         \n",
      "_________________________________________________________________\n",
      "conv2d_42 (Conv2D)           (None, 10, 13, 256)       590080    \n",
      "_________________________________________________________________\n",
      "conv2d_43 (Conv2D)           (None, 10, 13, 1)         257       \n",
      "=================================================================\n",
      "Total params: 1,179,025\n",
      "Trainable params: 1,179,025\n",
      "Non-trainable params: 0\n",
      "_________________________________________________________________\n"
     ]
    }
   ],
   "source": [
    "execute_model()"
   ]
  }
 ],
 "metadata": {
  "kernelspec": {
   "display_name": "Python 3",
   "language": "python",
   "name": "python3"
  },
  "language_info": {
   "codemirror_mode": {
    "name": "ipython",
    "version": 3
   },
   "file_extension": ".py",
   "mimetype": "text/x-python",
   "name": "python",
   "nbconvert_exporter": "python",
   "pygments_lexer": "ipython3",
   "version": "3.5.2"
  },
  "toc": {
   "base_numbering": 1,
   "nav_menu": {},
   "number_sections": true,
   "sideBar": true,
   "skip_h1_title": false,
   "title_cell": "Table of Contents",
   "title_sidebar": "Contents",
   "toc_cell": false,
   "toc_position": {},
   "toc_section_display": true,
   "toc_window_display": true
  }
 },
 "nbformat": 4,
 "nbformat_minor": 2
}
