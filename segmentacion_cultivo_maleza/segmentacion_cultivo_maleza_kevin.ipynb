{
 "cells": [
  {
   "cell_type": "markdown",
   "metadata": {},
   "source": [
    "# Segmentación de cultivo y maleza en agricultura de precisión aplicando U-Net\n",
    "\n",
    "Pontificia Universidad Católica del Perú\n",
    "\n",
    "Escuela de Posgrado PUCP, Maestría en Informática, Ciencias de la Computacion\n",
    "\n",
    "Curso: \n",
    "- Técnicas avanzadas de data mining y sistemas inteligentes\n",
    "\n",
    "Alumnos:\n",
    "- 20173589 Alarcon Flores, Jorge Brian\n",
    "- 20173685 Chicchón Apaza, Miguel Angel\n",
    "- 20173789 Alvarez Mouravskaia, Kevin\n",
    "- 20173810 Pacheco Condori, Jesús Edwar"
   ]
  },
  {
   "cell_type": "markdown",
   "metadata": {},
   "source": [
    "## Librerías"
   ]
  },
  {
   "cell_type": "code",
   "execution_count": 1,
   "metadata": {
    "ExecuteTime": {
     "end_time": "2018-11-06T02:05:11.795298Z",
     "start_time": "2018-11-06T02:05:10.494298Z"
    }
   },
   "outputs": [],
   "source": [
    "import numpy as np\n",
    "import cv2 #https://opencv-python-tutroals.readthedocs.io/en/latest/index.html\n",
    "import glob #https://docs.python.org/2/library/glob.html\n",
    "from skimage.transform import rescale, resize #https://scikit-image.org/\n",
    "from tqdm import tqdm_notebook as tqdm\n",
    "import logging\n",
    "import matplotlib.pyplot as plt\n",
    "%matplotlib inline\n",
    "from sklearn.model_selection import train_test_split\n",
    "from sklearn.model_selection import StratifiedKFold\n",
    "import gc"
   ]
  },
  {
   "cell_type": "code",
   "execution_count": 2,
   "metadata": {
    "ExecuteTime": {
     "end_time": "2018-11-06T02:05:16.228311Z",
     "start_time": "2018-11-06T02:05:11.797298Z"
    }
   },
   "outputs": [
    {
     "name": "stderr",
     "output_type": "stream",
     "text": [
      "Using TensorFlow backend.\n"
     ]
    }
   ],
   "source": [
    "from keras.models import Model, load_model, Sequential\n",
    "from keras.layers import Input, UpSampling2D, ZeroPadding2D, Layer, Cropping2D, Add, Activation, Reshape, BatchNormalization\n",
    "from keras.layers.core import Dropout, Lambda\n",
    "from keras.layers.convolutional import Conv2D, Conv2DTranspose\n",
    "from keras.layers.pooling import MaxPooling2D\n",
    "from keras.layers.merge import concatenate\n",
    "from keras.callbacks import EarlyStopping, ModelCheckpoint\n",
    "from keras import backend as K\n",
    "import tensorflow as tf"
   ]
  },
  {
   "cell_type": "code",
   "execution_count": 3,
   "metadata": {
    "ExecuteTime": {
     "end_time": "2018-11-06T02:05:16.236303Z",
     "start_time": "2018-11-06T02:05:16.229298Z"
    }
   },
   "outputs": [],
   "source": [
    "import pandas\n",
    "from keras.models import Sequential\n",
    "from keras.layers import Dense\n",
    "from keras.wrappers.scikit_learn import KerasClassifier\n",
    "from keras.utils import np_utils\n",
    "from sklearn.model_selection import cross_val_score\n",
    "from sklearn.model_selection import KFold\n",
    "from sklearn.preprocessing import LabelEncoder\n",
    "from sklearn.pipeline import Pipeline"
   ]
  },
  {
   "cell_type": "code",
   "execution_count": 4,
   "metadata": {
    "ExecuteTime": {
     "end_time": "2018-11-06T02:05:16.255300Z",
     "start_time": "2018-11-06T02:05:16.239298Z"
    }
   },
   "outputs": [],
   "source": [
    "logging.basicConfig(level=logging.INFO, format='%(asctime)s %(message)s')"
   ]
  },
  {
   "cell_type": "markdown",
   "metadata": {},
   "source": [
    "## Lectura de datos"
   ]
  },
  {
   "cell_type": "code",
   "execution_count": 5,
   "metadata": {
    "ExecuteTime": {
     "end_time": "2018-11-06T02:05:16.269297Z",
     "start_time": "2018-11-06T02:05:16.259299Z"
    }
   },
   "outputs": [],
   "source": [
    "class DatasetProvider():\n",
    "    \"\"\"\n",
    "    Clase que lee el dataset\n",
    "    Fuente: elaboración propia\n",
    "    \"\"\"\n",
    "    def __init__(self, scale=1.0/6.0):\n",
    "        self.scale = scale\n",
    "        self.x, self.y = self.__run__()\n",
    "        \n",
    "    def __run__(self):\n",
    "        labels = self.__read_images__('annotation') \n",
    "        images = self.__read_images__('image') \n",
    "        x = self.__create_x__(images)\n",
    "        y = self.__create_y_annotations__(labels)\n",
    "        return x, y\n",
    "        \n",
    "    def __create_x__(self, images):\n",
    "        logging.info('Creando imágenes')\n",
    "        scale = self.scale\n",
    "        height, width, channels = images[0].shape\n",
    "        x = np.zeros((len(images), int(height * scale), int(width * scale), channels))\n",
    "        for i, image in tqdm(enumerate(images)):\n",
    "            image_rescaled = rescale(image, scale, anti_aliasing=True, multichannel=True, mode='reflect')\n",
    "            x[i,:,:,:] = image_rescaled\n",
    "        return x\n",
    "    \n",
    "    \"\"\"\n",
    "    Cambiamos el color negro por rojo para obtener tener una representación one-hot encoding\n",
    "    Luego dividimos sobre 255 para normalizar\n",
    "    \"\"\"\n",
    "    def normalize_mask(self, image):\n",
    "        image[np.where((image == [0,0,0]).all(axis = 2))] = [255,0,0]\n",
    "        image = image/255\n",
    "        return image\n",
    "    \n",
    "    def __create_y_annotations__(self, annotations, shape=3):\n",
    "        logging.info('Creando labels')\n",
    "        scale = self.scale\n",
    "        height, width, channels = annotations[0].shape\n",
    "        labels = np.zeros((height, width, shape))\n",
    "        y = np.zeros((len(annotations), int(height * scale), int(width * scale), shape))\n",
    "        for i, image in tqdm(enumerate(annotations)):\n",
    "            image = self.normalize_mask(image)\n",
    "            image_rescaled = rescale(image, scale, anti_aliasing=True, multichannel=True, mode='reflect')\n",
    "            y[i,:,:,:] = image_rescaled\n",
    "        return y\n",
    "        \n",
    "    def __read_images__(self, prefix):\n",
    "        logging.info('Leyendo imágenes {}'.format(prefix))\n",
    "        images = []\n",
    "        path = '../dataset/cwfid/' + prefix + 's'\n",
    "        files = glob.glob(path + \"/*.png\")\n",
    "        files = np.sort(files) \n",
    "        for i, img_name in enumerate(files):\n",
    "            path_img = img_name.replace('\\\\','/')\n",
    "            img = cv2.imread(path_img)\n",
    "            images.append(img)\n",
    "        return images"
   ]
  },
  {
   "cell_type": "code",
   "execution_count": 6,
   "metadata": {
    "ExecuteTime": {
     "end_time": "2018-11-06T02:05:16.279298Z",
     "start_time": "2018-11-06T02:05:16.270299Z"
    }
   },
   "outputs": [],
   "source": [
    "def execute_dataset_provider():\n",
    "    dataset_provider = DatasetProvider()\n",
    "    X = dataset_provider.x\n",
    "    y = dataset_provider.y\n",
    "    return X, y"
   ]
  },
  {
   "cell_type": "code",
   "execution_count": 7,
   "metadata": {
    "ExecuteTime": {
     "end_time": "2018-11-06T02:05:41.312318Z",
     "start_time": "2018-11-06T02:05:16.280299Z"
    }
   },
   "outputs": [
    {
     "name": "stderr",
     "output_type": "stream",
     "text": [
      "2018-11-05 21:05:16,292 Leyendo imágenes annotation\n",
      "2018-11-05 21:05:17,070 Leyendo imágenes image\n",
      "2018-11-05 21:05:18,877 Creando imágenes\n"
     ]
    },
    {
     "data": {
      "application/vnd.jupyter.widget-view+json": {
       "model_id": "8ab2b4952a634efd9bad6c42fc05875a",
       "version_major": 2,
       "version_minor": 0
      },
      "text/plain": [
       "HBox(children=(IntProgress(value=1, bar_style='info', max=1), HTML(value='')))"
      ]
     },
     "metadata": {},
     "output_type": "display_data"
    },
    {
     "name": "stdout",
     "output_type": "stream",
     "text": [
      "\n"
     ]
    },
    {
     "name": "stderr",
     "output_type": "stream",
     "text": [
      "2018-11-05 21:05:26,932 Creando labels\n"
     ]
    },
    {
     "data": {
      "application/vnd.jupyter.widget-view+json": {
       "model_id": "fb2cf77fadbe4067854726f5a661921a",
       "version_major": 2,
       "version_minor": 0
      },
      "text/plain": [
       "HBox(children=(IntProgress(value=1, bar_style='info', max=1), HTML(value='')))"
      ]
     },
     "metadata": {},
     "output_type": "display_data"
    },
    {
     "name": "stdout",
     "output_type": "stream",
     "text": [
      "\n"
     ]
    }
   ],
   "source": [
    "X, y = execute_dataset_provider()"
   ]
  },
  {
   "cell_type": "code",
   "execution_count": 8,
   "metadata": {
    "ExecuteTime": {
     "end_time": "2018-11-06T02:05:41.319309Z",
     "start_time": "2018-11-06T02:05:41.314298Z"
    }
   },
   "outputs": [
    {
     "data": {
      "text/plain": [
       "((60, 161, 216, 3), (60, 161, 216, 3))"
      ]
     },
     "execution_count": 8,
     "metadata": {},
     "output_type": "execute_result"
    }
   ],
   "source": [
    "X.shape, y.shape"
   ]
  },
  {
   "cell_type": "code",
   "execution_count": 9,
   "metadata": {
    "ExecuteTime": {
     "end_time": "2018-11-06T02:05:41.417298Z",
     "start_time": "2018-11-06T02:05:41.321298Z"
    }
   },
   "outputs": [
    {
     "data": {
      "text/plain": [
       "<matplotlib.image.AxesImage at 0x17730b0b470>"
      ]
     },
     "execution_count": 9,
     "metadata": {},
     "output_type": "execute_result"
    },
    {
     "data": {
      "image/png": "[encoded data removed]",
      "text/plain": [
       "<Figure size 432x288 with 2 Axes>"
      ]
     },
     "metadata": {},
     "output_type": "display_data"
    }
   ],
   "source": [
    "np.random.seed(0)\n",
    "sample_idx = np.random.choice(len(X))  \n",
    "\n",
    "plt.subplot(1,2,1)\n",
    "plt.xticks([])\n",
    "plt.yticks([])\n",
    "plt.xlabel('img:{}'.format(sample_idx))\n",
    "plt.imshow(X[sample_idx,:,:,:])\n",
    "\n",
    "plt.subplot(1,2,2)\n",
    "plt.xticks([])\n",
    "plt.yticks([])\n",
    "plt.xlabel('img:{}'.format(sample_idx))\n",
    "plt.imshow(y[sample_idx,:,:,:])"
   ]
  },
  {
   "cell_type": "markdown",
   "metadata": {},
   "source": [
    "## Train validation split"
   ]
  },
  {
   "cell_type": "code",
   "execution_count": 10,
   "metadata": {
    "ExecuteTime": {
     "end_time": "2018-11-06T02:05:41.476313Z",
     "start_time": "2018-11-06T02:05:41.418298Z"
    }
   },
   "outputs": [],
   "source": [
    "X_train, X_test, y_train, y_test = train_test_split(X, y, test_size=0.33, random_state=42)"
   ]
  },
  {
   "cell_type": "code",
   "execution_count": 11,
   "metadata": {
    "ExecuteTime": {
     "end_time": "2018-11-06T02:05:41.482298Z",
     "start_time": "2018-11-06T02:05:41.477298Z"
    }
   },
   "outputs": [
    {
     "data": {
      "text/plain": [
       "((40, 161, 216, 3), (20, 161, 216, 3))"
      ]
     },
     "execution_count": 11,
     "metadata": {},
     "output_type": "execute_result"
    }
   ],
   "source": [
    "X_train.shape, X_test.shape"
   ]
  },
  {
   "cell_type": "markdown",
   "metadata": {},
   "source": [
    "## Pre entrenamiento (Aumentación)"
   ]
  },
  {
   "cell_type": "code",
   "execution_count": 12,
   "metadata": {
    "ExecuteTime": {
     "end_time": "2018-11-06T02:05:41.489300Z",
     "start_time": "2018-11-06T02:05:41.484300Z"
    }
   },
   "outputs": [],
   "source": [
    "class DatasetAugmentation():\n",
    "    \n",
    "    def __init__(self, X, y):\n",
    "        self.X, self.y = self.__run__(X, y)\n",
    "        \n",
    "    def __run__(self, X, y):\n",
    "        logging.info('Realizando aumentación')\n",
    "        X_augmentated = X\n",
    "        y_augmentated = y\n",
    "        for i, x_image in tqdm(enumerate(X)):\n",
    "            fliplr_x_image = np.fliplr(x_image)\n",
    "            flipup_x_image = np.flipud(x_image)\n",
    "            fliplr_y_image = np.fliplr(y[i])\n",
    "            flipup_y_image = np.flipud(y[i])\n",
    "            X_augmentated = np.append(X_augmentated, [fliplr_x_image], axis=0)\n",
    "            X_augmentated = np.append(X_augmentated, [flipup_x_image], axis=0)\n",
    "            y_augmentated = np.append(y_augmentated, [fliplr_y_image], axis=0)\n",
    "            y_augmentated = np.append(y_augmentated, [flipup_y_image], axis=0)\n",
    "        return X_augmentated, y_augmentated"
   ]
  },
  {
   "cell_type": "code",
   "execution_count": 13,
   "metadata": {
    "ExecuteTime": {
     "end_time": "2018-11-06T02:05:41.499313Z",
     "start_time": "2018-11-06T02:05:41.491298Z"
    }
   },
   "outputs": [],
   "source": [
    "def execute_dataset_pretrain(X, y):\n",
    "    dataset = DatasetAugmentation(X, y)\n",
    "    X_augmentated =  dataset.X\n",
    "    y_augmentated = dataset.y\n",
    "    return X_augmentated, y_augmentated"
   ]
  },
  {
   "cell_type": "code",
   "execution_count": 14,
   "metadata": {
    "ExecuteTime": {
     "end_time": "2018-11-06T02:05:50.904299Z",
     "start_time": "2018-11-06T02:05:41.500297Z"
    }
   },
   "outputs": [
    {
     "name": "stderr",
     "output_type": "stream",
     "text": [
      "2018-11-05 21:05:41,506 Realizando aumentación\n"
     ]
    },
    {
     "data": {
      "application/vnd.jupyter.widget-view+json": {
       "model_id": "0a9b30aab0da42188129784608fc78d3",
       "version_major": 2,
       "version_minor": 0
      },
      "text/plain": [
       "HBox(children=(IntProgress(value=1, bar_style='info', max=1), HTML(value='')))"
      ]
     },
     "metadata": {},
     "output_type": "display_data"
    },
    {
     "name": "stdout",
     "output_type": "stream",
     "text": [
      "\n"
     ]
    },
    {
     "name": "stderr",
     "output_type": "stream",
     "text": [
      "2018-11-05 21:05:48,976 Realizando aumentación\n"
     ]
    },
    {
     "data": {
      "application/vnd.jupyter.widget-view+json": {
       "model_id": "bfb288edb89f4bbcba863080bb7e7052",
       "version_major": 2,
       "version_minor": 0
      },
      "text/plain": [
       "HBox(children=(IntProgress(value=1, bar_style='info', max=1), HTML(value='')))"
      ]
     },
     "metadata": {},
     "output_type": "display_data"
    },
    {
     "name": "stdout",
     "output_type": "stream",
     "text": [
      "\n"
     ]
    }
   ],
   "source": [
    "X_train, y_train = execute_dataset_pretrain(X_train, y_train)\n",
    "X_test, y_test = execute_dataset_pretrain(X_test, y_test)"
   ]
  },
  {
   "cell_type": "code",
   "execution_count": 15,
   "metadata": {
    "ExecuteTime": {
     "end_time": "2018-11-06T02:05:50.909299Z",
     "start_time": "2018-11-06T02:05:50.906300Z"
    },
    "scrolled": true
   },
   "outputs": [
    {
     "data": {
      "text/plain": [
       "((120, 161, 216, 3), (60, 161, 216, 3))"
      ]
     },
     "execution_count": 15,
     "metadata": {},
     "output_type": "execute_result"
    }
   ],
   "source": [
    "X_train.shape, X_test.shape"
   ]
  },
  {
   "cell_type": "markdown",
   "metadata": {},
   "source": [
    "## Pre entrenamiento (normalización)"
   ]
  },
  {
   "cell_type": "code",
   "execution_count": 16,
   "metadata": {
    "ExecuteTime": {
     "end_time": "2018-11-06T02:05:50.920297Z",
     "start_time": "2018-11-06T02:05:50.911301Z"
    }
   },
   "outputs": [],
   "source": [
    "## TODO validar si es necesario"
   ]
  },
  {
   "cell_type": "markdown",
   "metadata": {},
   "source": [
    "## Métricas"
   ]
  },
  {
   "cell_type": "code",
   "execution_count": 17,
   "metadata": {
    "ExecuteTime": {
     "end_time": "2018-11-06T02:05:50.930301Z",
     "start_time": "2018-11-06T02:05:50.921298Z"
    }
   },
   "outputs": [],
   "source": [
    "def f1(y_true, y_pred):\n",
    "    def recall(y_true, y_pred):\n",
    "        true_positives = K.sum(K.round(K.clip(y_true * y_pred, 0, 1)))\n",
    "        possible_positives = K.sum(K.round(K.clip(y_true, 0, 1)))\n",
    "        recall = true_positives / (possible_positives + K.epsilon())\n",
    "        return recall\n",
    "\n",
    "    def precision(y_true, y_pred):\n",
    "        true_positives = K.sum(K.round(K.clip(y_true * y_pred, 0, 1)))\n",
    "        predicted_positives = K.sum(K.round(K.clip(y_pred, 0, 1)))\n",
    "        precision = true_positives / (predicted_positives + K.epsilon())\n",
    "        return precision\n",
    "    \n",
    "    precision = precision(y_true, y_pred)\n",
    "    recall = recall(y_true, y_pred)\n",
    "    return 2*((precision*recall)/(precision+recall+K.epsilon()))"
   ]
  },
  {
   "cell_type": "code",
   "execution_count": 18,
   "metadata": {
    "ExecuteTime": {
     "end_time": "2018-11-06T02:05:50.943297Z",
     "start_time": "2018-11-06T02:05:50.936301Z"
    }
   },
   "outputs": [],
   "source": [
    "# Define IoU metric\n",
    "def mean_iou(y_true, y_pred):\n",
    "    prec = []\n",
    "    for t in np.arange(0.5, 1.0, 0.05):\n",
    "        y_pred_ = tf.to_int32(y_pred > t)\n",
    "        score, up_opt = tf.metrics.mean_iou(y_true, y_pred_, 2)\n",
    "        K.get_session().run(tf.local_variables_initializer())\n",
    "        with tf.control_dependencies([up_opt]):\n",
    "            score = tf.identity(score)\n",
    "        prec.append(score)\n",
    "    return K.mean(K.stack(prec), axis=0)"
   ]
  },
  {
   "cell_type": "markdown",
   "metadata": {},
   "source": [
    "## Modelo U-Net"
   ]
  },
  {
   "cell_type": "markdown",
   "metadata": {},
   "source": [
    "### Definir modelo"
   ]
  },
  {
   "cell_type": "markdown",
   "metadata": {},
   "source": [
    "![title](https://lmb.informatik.uni-freiburg.de/people/ronneber/u-net/u-net-architecture.png)"
   ]
  },
  {
   "cell_type": "code",
   "execution_count": 19,
   "metadata": {
    "ExecuteTime": {
     "end_time": "2018-11-06T02:05:50.957301Z",
     "start_time": "2018-11-06T02:05:50.945298Z"
    }
   },
   "outputs": [],
   "source": [
    "class ModelUnetCreator():\n",
    "    \n",
    "    #Fuente: https://www.kaggle.com/keegil/keras-u-net-starter-lb-0-277\n",
    "    def unet(self, height, width, channels):\n",
    "        \n",
    "        start_neurons = 16\n",
    "        n_classes = 3\n",
    "        \n",
    "        #input\n",
    "        inputs = Input((height, width, channels))\n",
    "        zero_padding = ZeroPadding2D(padding=((7,8),(4,4))) (inputs)\n",
    "        \n",
    "        #downscaling\n",
    "        c1 = Conv2D(16, (3, 3), activation='relu', padding='same') (zero_padding)\n",
    "        c1 = Dropout(0.1) (c1)\n",
    "        c1 = Conv2D(16, (3, 3), activation='relu', padding='same') (c1)\n",
    "        p1 = MaxPooling2D((2, 2)) (c1)\n",
    "        \n",
    "        c2 = Conv2D(32, (3, 3), activation='relu', padding='same') (p1)\n",
    "        c2 = Dropout(0.1) (c2)\n",
    "        c2 = Conv2D(32, (3, 3), activation='relu', padding='same') (c2)\n",
    "        p2 = MaxPooling2D((2, 2)) (c2)\n",
    "\n",
    "        c3 = Conv2D(64, (3, 3), activation='relu', padding='same') (p2)\n",
    "        c3 = Dropout(0.2) (c3)\n",
    "        c3 = Conv2D(64, (3, 3), activation='relu', padding='same') (c3)\n",
    "        p3 = MaxPooling2D((2, 2)) (c3)\n",
    "\n",
    "        c4 = Conv2D(128, (3, 3), activation='relu', padding='same') (p3)\n",
    "        c4 = Dropout(0.2) (c4)\n",
    "        c4 = Conv2D(128, (3, 3), activation='relu', padding='same') (c4)\n",
    "        p4 = MaxPooling2D(pool_size=(2, 2)) (c4)\n",
    "        \n",
    "        #capa intermedia \n",
    "        c5 = Conv2D(256, (3, 3), activation='relu', padding='same') (p4)\n",
    "        c5 = Dropout(0.3) (c5)\n",
    "        c5 = Conv2D(256, (3, 3), activation='relu', padding='same') (c5)\n",
    "        \n",
    "        #upscaling\n",
    "        u6 = Conv2DTranspose(128, (2, 2), strides=(2, 2), padding='same') (c5)\n",
    "        u6 = concatenate([u6, c4])\n",
    "        c6 = Conv2D(128, (3, 3), activation='relu', padding='same') (u6)\n",
    "        c6 = Dropout(0.2) (c6)\n",
    "        c6 = Conv2D(128, (3, 3), activation='relu', padding='same') (c6)\n",
    "\n",
    "        u7 = Conv2DTranspose(64, (2, 2), strides=(2, 2), padding='same') (c6)\n",
    "        u7 = concatenate([u7, c3])\n",
    "        c7 = Conv2D(64, (3, 3), activation='relu', padding='same') (u7)\n",
    "        c7 = Dropout(0.2) (c7)\n",
    "        c7 = Conv2D(64, (3, 3), activation='relu', padding='same') (c7)\n",
    "\n",
    "        u8 = Conv2DTranspose(32, (2, 2), strides=(2, 2), padding='same') (c7)\n",
    "        u8 = concatenate([u8, c2])\n",
    "        c8 = Conv2D(32, (3, 3), activation='relu', padding='same') (u8)\n",
    "        c8 = Dropout(0.1) (c8)\n",
    "        c8 = Conv2D(32, (3, 3), activation='relu', padding='same') (c8)\n",
    "\n",
    "        u9 = Conv2DTranspose(16, (2, 2), strides=(2, 2), padding='same') (c8)\n",
    "        u9 = concatenate([u9, c1], axis=3)\n",
    "        c9 = Conv2D(16, (3, 3), activation='relu', padding='same') (u9)\n",
    "        c9 = Dropout(0.1) (c9)\n",
    "        c9 = Conv2D(16, (3, 3), activation='relu', padding='same') (c9)\n",
    "        \n",
    "        #output\n",
    "        output = Conv2D(n_classes, (1,1), padding=\"same\", activation=None)(c9)\n",
    "        output = Cropping2D(cropping=((7,8),(4,4))) (output)\n",
    "        output_layer = (Reshape((height, width, 3),\n",
    "                          input_shape=(height, width, 3)))(output)\n",
    "        output_layer =  Activation('sigmoid')(output_layer)\n",
    "        \n",
    "        model = Model(inputs=[inputs], outputs=[output_layer])\n",
    "        \n",
    "        return model    "
   ]
  },
  {
   "cell_type": "code",
   "execution_count": 20,
   "metadata": {
    "ExecuteTime": {
     "end_time": "2018-11-06T02:05:50.967301Z",
     "start_time": "2018-11-06T02:05:50.958298Z"
    }
   },
   "outputs": [],
   "source": [
    "def execute_model_unet():\n",
    "    logging.info('Creando modelo U-Net')\n",
    "    model = ModelUnetCreator()\n",
    "    model_unet = model.unet(X_train.shape[1], X_train.shape[2], X_train.shape[3])\n",
    "    model_unet.compile(loss = 'binary_crossentropy',\n",
    "             optimizer = 'Adam',\n",
    "             metrics = [f1, mean_iou])\n",
    "    model_unet.summary()\n",
    "    return model_unet"
   ]
  },
  {
   "cell_type": "code",
   "execution_count": 21,
   "metadata": {
    "ExecuteTime": {
     "end_time": "2018-11-06T02:05:54.472560Z",
     "start_time": "2018-11-06T02:05:50.968298Z"
    },
    "scrolled": true
   },
   "outputs": [
    {
     "name": "stderr",
     "output_type": "stream",
     "text": [
      "2018-11-05 21:05:50,974 Creando modelo U-Net\n"
     ]
    },
    {
     "name": "stdout",
     "output_type": "stream",
     "text": [
      "__________________________________________________________________________________________________\n",
      "Layer (type)                    Output Shape         Param #     Connected to                     \n",
      "==================================================================================================\n",
      "input_1 (InputLayer)            (None, 161, 216, 3)  0                                            \n",
      "__________________________________________________________________________________________________\n",
      "zero_padding2d_1 (ZeroPadding2D (None, 176, 224, 3)  0           input_1[0][0]                    \n",
      "__________________________________________________________________________________________________\n",
      "conv2d_1 (Conv2D)               (None, 176, 224, 16) 448         zero_padding2d_1[0][0]           \n",
      "__________________________________________________________________________________________________\n",
      "dropout_1 (Dropout)             (None, 176, 224, 16) 0           conv2d_1[0][0]                   \n",
      "__________________________________________________________________________________________________\n",
      "conv2d_2 (Conv2D)               (None, 176, 224, 16) 2320        dropout_1[0][0]                  \n",
      "__________________________________________________________________________________________________\n",
      "max_pooling2d_1 (MaxPooling2D)  (None, 88, 112, 16)  0           conv2d_2[0][0]                   \n",
      "__________________________________________________________________________________________________\n",
      "conv2d_3 (Conv2D)               (None, 88, 112, 32)  4640        max_pooling2d_1[0][0]            \n",
      "__________________________________________________________________________________________________\n",
      "dropout_2 (Dropout)             (None, 88, 112, 32)  0           conv2d_3[0][0]                   \n",
      "__________________________________________________________________________________________________\n",
      "conv2d_4 (Conv2D)               (None, 88, 112, 32)  9248        dropout_2[0][0]                  \n",
      "__________________________________________________________________________________________________\n",
      "max_pooling2d_2 (MaxPooling2D)  (None, 44, 56, 32)   0           conv2d_4[0][0]                   \n",
      "__________________________________________________________________________________________________\n",
      "conv2d_5 (Conv2D)               (None, 44, 56, 64)   18496       max_pooling2d_2[0][0]            \n",
      "__________________________________________________________________________________________________\n",
      "dropout_3 (Dropout)             (None, 44, 56, 64)   0           conv2d_5[0][0]                   \n",
      "__________________________________________________________________________________________________\n",
      "conv2d_6 (Conv2D)               (None, 44, 56, 64)   36928       dropout_3[0][0]                  \n",
      "__________________________________________________________________________________________________\n",
      "max_pooling2d_3 (MaxPooling2D)  (None, 22, 28, 64)   0           conv2d_6[0][0]                   \n",
      "__________________________________________________________________________________________________\n",
      "conv2d_7 (Conv2D)               (None, 22, 28, 128)  73856       max_pooling2d_3[0][0]            \n",
      "__________________________________________________________________________________________________\n",
      "dropout_4 (Dropout)             (None, 22, 28, 128)  0           conv2d_7[0][0]                   \n",
      "__________________________________________________________________________________________________\n",
      "conv2d_8 (Conv2D)               (None, 22, 28, 128)  147584      dropout_4[0][0]                  \n",
      "__________________________________________________________________________________________________\n",
      "max_pooling2d_4 (MaxPooling2D)  (None, 11, 14, 128)  0           conv2d_8[0][0]                   \n",
      "__________________________________________________________________________________________________\n",
      "conv2d_9 (Conv2D)               (None, 11, 14, 256)  295168      max_pooling2d_4[0][0]            \n",
      "__________________________________________________________________________________________________\n",
      "dropout_5 (Dropout)             (None, 11, 14, 256)  0           conv2d_9[0][0]                   \n",
      "__________________________________________________________________________________________________\n",
      "conv2d_10 (Conv2D)              (None, 11, 14, 256)  590080      dropout_5[0][0]                  \n",
      "__________________________________________________________________________________________________\n",
      "conv2d_transpose_1 (Conv2DTrans (None, 22, 28, 128)  131200      conv2d_10[0][0]                  \n",
      "__________________________________________________________________________________________________\n",
      "concatenate_1 (Concatenate)     (None, 22, 28, 256)  0           conv2d_transpose_1[0][0]         \n",
      "                                                                 conv2d_8[0][0]                   \n",
      "__________________________________________________________________________________________________\n",
      "conv2d_11 (Conv2D)              (None, 22, 28, 128)  295040      concatenate_1[0][0]              \n",
      "__________________________________________________________________________________________________\n",
      "dropout_6 (Dropout)             (None, 22, 28, 128)  0           conv2d_11[0][0]                  \n",
      "__________________________________________________________________________________________________\n",
      "conv2d_12 (Conv2D)              (None, 22, 28, 128)  147584      dropout_6[0][0]                  \n",
      "__________________________________________________________________________________________________\n",
      "conv2d_transpose_2 (Conv2DTrans (None, 44, 56, 64)   32832       conv2d_12[0][0]                  \n",
      "__________________________________________________________________________________________________\n",
      "concatenate_2 (Concatenate)     (None, 44, 56, 128)  0           conv2d_transpose_2[0][0]         \n",
      "                                                                 conv2d_6[0][0]                   \n",
      "__________________________________________________________________________________________________\n",
      "conv2d_13 (Conv2D)              (None, 44, 56, 64)   73792       concatenate_2[0][0]              \n",
      "__________________________________________________________________________________________________\n",
      "dropout_7 (Dropout)             (None, 44, 56, 64)   0           conv2d_13[0][0]                  \n",
      "__________________________________________________________________________________________________\n",
      "conv2d_14 (Conv2D)              (None, 44, 56, 64)   36928       dropout_7[0][0]                  \n",
      "__________________________________________________________________________________________________\n",
      "conv2d_transpose_3 (Conv2DTrans (None, 88, 112, 32)  8224        conv2d_14[0][0]                  \n",
      "__________________________________________________________________________________________________\n",
      "concatenate_3 (Concatenate)     (None, 88, 112, 64)  0           conv2d_transpose_3[0][0]         \n",
      "                                                                 conv2d_4[0][0]                   \n",
      "__________________________________________________________________________________________________\n",
      "conv2d_15 (Conv2D)              (None, 88, 112, 32)  18464       concatenate_3[0][0]              \n",
      "__________________________________________________________________________________________________\n",
      "dropout_8 (Dropout)             (None, 88, 112, 32)  0           conv2d_15[0][0]                  \n",
      "__________________________________________________________________________________________________\n",
      "conv2d_16 (Conv2D)              (None, 88, 112, 32)  9248        dropout_8[0][0]                  \n",
      "__________________________________________________________________________________________________\n",
      "conv2d_transpose_4 (Conv2DTrans (None, 176, 224, 16) 2064        conv2d_16[0][0]                  \n",
      "__________________________________________________________________________________________________\n",
      "concatenate_4 (Concatenate)     (None, 176, 224, 32) 0           conv2d_transpose_4[0][0]         \n",
      "                                                                 conv2d_2[0][0]                   \n"
     ]
    },
    {
     "name": "stdout",
     "output_type": "stream",
     "text": [
      "__________________________________________________________________________________________________\n",
      "conv2d_17 (Conv2D)              (None, 176, 224, 16) 4624        concatenate_4[0][0]              \n",
      "__________________________________________________________________________________________________\n",
      "dropout_9 (Dropout)             (None, 176, 224, 16) 0           conv2d_17[0][0]                  \n",
      "__________________________________________________________________________________________________\n",
      "conv2d_18 (Conv2D)              (None, 176, 224, 16) 2320        dropout_9[0][0]                  \n",
      "__________________________________________________________________________________________________\n",
      "conv2d_19 (Conv2D)              (None, 176, 224, 3)  51          conv2d_18[0][0]                  \n",
      "__________________________________________________________________________________________________\n",
      "cropping2d_1 (Cropping2D)       (None, 161, 216, 3)  0           conv2d_19[0][0]                  \n",
      "__________________________________________________________________________________________________\n",
      "reshape_1 (Reshape)             (None, 161, 216, 3)  0           cropping2d_1[0][0]               \n",
      "__________________________________________________________________________________________________\n",
      "activation_1 (Activation)       (None, 161, 216, 3)  0           reshape_1[0][0]                  \n",
      "==================================================================================================\n",
      "Total params: 1,941,139\n",
      "Trainable params: 1,941,139\n",
      "Non-trainable params: 0\n",
      "__________________________________________________________________________________________________\n"
     ]
    }
   ],
   "source": [
    "model_unet = execute_model_unet()"
   ]
  },
  {
   "cell_type": "markdown",
   "metadata": {},
   "source": [
    "### Entrenamiento"
   ]
  },
  {
   "cell_type": "code",
   "execution_count": 22,
   "metadata": {
    "ExecuteTime": {
     "end_time": "2018-11-06T02:06:30.135493Z",
     "start_time": "2018-11-06T02:05:54.473561Z"
    },
    "scrolled": true
   },
   "outputs": [
    {
     "name": "stdout",
     "output_type": "stream",
     "text": [
      "Train on 96 samples, validate on 24 samples\n",
      "Epoch 1/10\n",
      "96/96 [==============================] - ETA: 49s - loss: 0.7107 - f1: 0.1695 - mean_iou: 0.0000e+ - ETA: 23s - loss: 0.7037 - f1: 0.3143 - mean_iou: 0.1680   - ETA: 14s - loss: 0.6978 - f1: 0.3935 - mean_iou: 0.22 - ETA: 10s - loss: 0.6920 - f1: 0.4447 - mean_iou: 0.25 - ETA: 7s - loss: 0.6869 - f1: 0.4724 - mean_iou: 0.2765 - ETA: 5s - loss: 0.6796 - f1: 0.4968 - mean_iou: 0.289 - ETA: 4s - loss: 0.6715 - f1: 0.5126 - mean_iou: 0.300 - ETA: 2s - loss: 0.6655 - f1: 0.5268 - mean_iou: 0.308 - ETA: 2s - loss: 0.6553 - f1: 0.5371 - mean_iou: 0.318 - ETA: 1s - loss: 0.6465 - f1: 0.5450 - mean_iou: 0.326 - ETA: 0s - loss: 0.6375 - f1: 0.5527 - mean_iou: 0.334 - 8s 80ms/step - loss: 0.6281 - f1: 0.5601 - mean_iou: 0.3411 - val_loss: 0.5006 - val_f1: 0.7105 - val_mean_iou: 0.4369\n",
      "\n",
      "Epoch 00001: val_loss improved from inf to 0.50055, saving model to model-unet-cwfid.h5\n",
      "Epoch 2/10\n",
      "96/96 [==============================] - ETA: 2s - loss: 0.4966 - f1: 0.6748 - mean_iou: 0.454 - ETA: 1s - loss: 0.4697 - f1: 0.6964 - mean_iou: 0.458 - ETA: 1s - loss: 0.4426 - f1: 0.7131 - mean_iou: 0.463 - ETA: 1s - loss: 0.4185 - f1: 0.7331 - mean_iou: 0.470 - ETA: 1s - loss: 0.4076 - f1: 0.7547 - mean_iou: 0.477 - ETA: 1s - loss: 0.3876 - f1: 0.7773 - mean_iou: 0.485 - ETA: 0s - loss: 0.3633 - f1: 0.7975 - mean_iou: 0.492 - ETA: 0s - loss: 0.3393 - f1: 0.8158 - mean_iou: 0.500 - ETA: 0s - loss: 0.3241 - f1: 0.8269 - mean_iou: 0.507 - ETA: 0s - loss: 0.3090 - f1: 0.8374 - mean_iou: 0.513 - ETA: 0s - loss: 0.2970 - f1: 0.8459 - mean_iou: 0.519 - 3s 27ms/step - loss: 0.2838 - f1: 0.8546 - mean_iou: 0.5251 - val_loss: 0.1721 - val_f1: 0.9293 - val_mean_iou: 0.6043\n",
      "\n",
      "Epoch 00002: val_loss improved from 0.50055 to 0.17214, saving model to model-unet-cwfid.h5\n",
      "Epoch 3/10\n",
      "96/96 [==============================] - ETA: 2s - loss: 0.2141 - f1: 0.9151 - mean_iou: 0.617 - ETA: 1s - loss: 0.1962 - f1: 0.9237 - mean_iou: 0.620 - ETA: 1s - loss: 0.1929 - f1: 0.9210 - mean_iou: 0.623 - ETA: 1s - loss: 0.1890 - f1: 0.9199 - mean_iou: 0.626 - ETA: 1s - loss: 0.1850 - f1: 0.9200 - mean_iou: 0.628 - ETA: 1s - loss: 0.1814 - f1: 0.9218 - mean_iou: 0.630 - ETA: 0s - loss: 0.1781 - f1: 0.9221 - mean_iou: 0.633 - ETA: 0s - loss: 0.1745 - f1: 0.9223 - mean_iou: 0.635 - ETA: 0s - loss: 0.1748 - f1: 0.9199 - mean_iou: 0.637 - ETA: 0s - loss: 0.1701 - f1: 0.9214 - mean_iou: 0.639 - ETA: 0s - loss: 0.1679 - f1: 0.9211 - mean_iou: 0.641 - 3s 27ms/step - loss: 0.1630 - f1: 0.9231 - mean_iou: 0.6438 - val_loss: 0.1242 - val_f1: 0.9283 - val_mean_iou: 0.6791\n",
      "\n",
      "Epoch 00003: val_loss improved from 0.17214 to 0.12424, saving model to model-unet-cwfid.h5\n",
      "Epoch 4/10\n",
      "96/96 [==============================] - ETA: 2s - loss: 0.1265 - f1: 0.9292 - mean_iou: 0.687 - ETA: 1s - loss: 0.1341 - f1: 0.9202 - mean_iou: 0.689 - ETA: 1s - loss: 0.1246 - f1: 0.9265 - mean_iou: 0.691 - ETA: 1s - loss: 0.1243 - f1: 0.9253 - mean_iou: 0.693 - ETA: 1s - loss: 0.1259 - f1: 0.9206 - mean_iou: 0.695 - ETA: 1s - loss: 0.1258 - f1: 0.9183 - mean_iou: 0.697 - ETA: 0s - loss: 0.1242 - f1: 0.9187 - mean_iou: 0.699 - ETA: 0s - loss: 0.1241 - f1: 0.9174 - mean_iou: 0.701 - ETA: 0s - loss: 0.1216 - f1: 0.9182 - mean_iou: 0.703 - ETA: 0s - loss: 0.1202 - f1: 0.9186 - mean_iou: 0.704 - ETA: 0s - loss: 0.1172 - f1: 0.9198 - mean_iou: 0.706 - 3s 28ms/step - loss: 0.1139 - f1: 0.9215 - mean_iou: 0.7084 - val_loss: 0.0945 - val_f1: 0.9249 - val_mean_iou: 0.7350\n",
      "\n",
      "Epoch 00004: val_loss improved from 0.12424 to 0.09451, saving model to model-unet-cwfid.h5\n",
      "Epoch 5/10\n",
      "96/96 [==============================] - ETA: 1s - loss: 0.0934 - f1: 0.9274 - mean_iou: 0.740 - ETA: 1s - loss: 0.0928 - f1: 0.9281 - mean_iou: 0.742 - ETA: 1s - loss: 0.0851 - f1: 0.9359 - mean_iou: 0.743 - ETA: 1s - loss: 0.0923 - f1: 0.9281 - mean_iou: 0.745 - ETA: 1s - loss: 0.0915 - f1: 0.9275 - mean_iou: 0.746 - ETA: 1s - loss: 0.0953 - f1: 0.9227 - mean_iou: 0.748 - ETA: 0s - loss: 0.0946 - f1: 0.9227 - mean_iou: 0.749 - ETA: 0s - loss: 0.0945 - f1: 0.9221 - mean_iou: 0.750 - ETA: 0s - loss: 0.0951 - f1: 0.9211 - mean_iou: 0.752 - ETA: 0s - loss: 0.0966 - f1: 0.9199 - mean_iou: 0.753 - ETA: 0s - loss: 0.0958 - f1: 0.9204 - mean_iou: 0.754 - 3s 29ms/step - loss: 0.0954 - f1: 0.9209 - mean_iou: 0.7556 - val_loss: 0.0858 - val_f1: 0.9304 - val_mean_iou: 0.7734\n",
      "\n",
      "Epoch 00005: val_loss improved from 0.09451 to 0.08576, saving model to model-unet-cwfid.h5\n",
      "Epoch 6/10\n",
      "96/96 [==============================] - ETA: 2s - loss: 0.0738 - f1: 0.9420 - mean_iou: 0.777 - ETA: 1s - loss: 0.0800 - f1: 0.9404 - mean_iou: 0.778 - ETA: 1s - loss: 0.0746 - f1: 0.9430 - mean_iou: 0.779 - ETA: 1s - loss: 0.0775 - f1: 0.9400 - mean_iou: 0.780 - ETA: 1s - loss: 0.0824 - f1: 0.9352 - mean_iou: 0.781 - ETA: 1s - loss: 0.0837 - f1: 0.9343 - mean_iou: 0.782 - ETA: 0s - loss: 0.0838 - f1: 0.9343 - mean_iou: 0.783 - ETA: 0s - loss: 0.0844 - f1: 0.9331 - mean_iou: 0.784 - ETA: 0s - loss: 0.0880 - f1: 0.9298 - mean_iou: 0.785 - ETA: 0s - loss: 0.0883 - f1: 0.9296 - mean_iou: 0.786 - ETA: 0s - loss: 0.0885 - f1: 0.9291 - mean_iou: 0.787 - 3s 27ms/step - loss: 0.0871 - f1: 0.9299 - mean_iou: 0.7879 - val_loss: 0.0767 - val_f1: 0.9381 - val_mean_iou: 0.8004\n",
      "\n",
      "Epoch 00006: val_loss improved from 0.08576 to 0.07668, saving model to model-unet-cwfid.h5\n",
      "Epoch 7/10\n",
      "96/96 [==============================] - ETA: 2s - loss: 0.0824 - f1: 0.9343 - mean_iou: 0.803 - ETA: 1s - loss: 0.0771 - f1: 0.9372 - mean_iou: 0.804 - ETA: 1s - loss: 0.0708 - f1: 0.9432 - mean_iou: 0.804 - ETA: 1s - loss: 0.0732 - f1: 0.9417 - mean_iou: 0.805 - ETA: 1s - loss: 0.0781 - f1: 0.9385 - mean_iou: 0.806 - ETA: 1s - loss: 0.0797 - f1: 0.9366 - mean_iou: 0.807 - ETA: 0s - loss: 0.0771 - f1: 0.9389 - mean_iou: 0.807 - ETA: 0s - loss: 0.0774 - f1: 0.9382 - mean_iou: 0.808 - ETA: 0s - loss: 0.0772 - f1: 0.9379 - mean_iou: 0.809 - ETA: 0s - loss: 0.0764 - f1: 0.9388 - mean_iou: 0.809 - ETA: 0s - loss: 0.0774 - f1: 0.9385 - mean_iou: 0.810 - 3s 27ms/step - loss: 0.0779 - f1: 0.9382 - mean_iou: 0.8111 - val_loss: 0.0686 - val_f1: 0.9451 - val_mean_iou: 0.8208\n",
      "\n",
      "Epoch 00007: val_loss improved from 0.07668 to 0.06860, saving model to model-unet-cwfid.h5\n",
      "Epoch 8/10\n",
      "96/96 [==============================] - ETA: 2s - loss: 0.0594 - f1: 0.9554 - mean_iou: 0.823 - ETA: 1s - loss: 0.0668 - f1: 0.9482 - mean_iou: 0.823 - ETA: 1s - loss: 0.0702 - f1: 0.9454 - mean_iou: 0.824 - ETA: 1s - loss: 0.0716 - f1: 0.9437 - mean_iou: 0.824 - ETA: 1s - loss: 0.0723 - f1: 0.9424 - mean_iou: 0.825 - ETA: 1s - loss: 0.0730 - f1: 0.9416 - mean_iou: 0.826 - ETA: 0s - loss: 0.0718 - f1: 0.9429 - mean_iou: 0.826 - ETA: 0s - loss: 0.0727 - f1: 0.9423 - mean_iou: 0.827 - ETA: 0s - loss: 0.0728 - f1: 0.9422 - mean_iou: 0.827 - ETA: 0s - loss: 0.0723 - f1: 0.9424 - mean_iou: 0.828 - ETA: 0s - loss: 0.0715 - f1: 0.9429 - mean_iou: 0.828 - 3s 28ms/step - loss: 0.0706 - f1: 0.9438 - mean_iou: 0.8291 - val_loss: 0.0637 - val_f1: 0.9486 - val_mean_iou: 0.8366\n",
      "\n",
      "Epoch 00008: val_loss improved from 0.06860 to 0.06366, saving model to model-unet-cwfid.h5\n",
      "Epoch 9/10\n",
      "96/96 [==============================] - ETA: 1s - loss: 0.0710 - f1: 0.9428 - mean_iou: 0.838 - ETA: 1s - loss: 0.0717 - f1: 0.9417 - mean_iou: 0.838 - ETA: 1s - loss: 0.0725 - f1: 0.9417 - mean_iou: 0.839 - ETA: 1s - loss: 0.0723 - f1: 0.9421 - mean_iou: 0.839 - ETA: 1s - loss: 0.0740 - f1: 0.9405 - mean_iou: 0.839 - ETA: 1s - loss: 0.0739 - f1: 0.9403 - mean_iou: 0.840 - ETA: 0s - loss: 0.0716 - f1: 0.9424 - mean_iou: 0.840 - ETA: 0s - loss: 0.0699 - f1: 0.9439 - mean_iou: 0.841 - ETA: 0s - loss: 0.0692 - f1: 0.9444 - mean_iou: 0.841 - ETA: 0s - loss: 0.0685 - f1: 0.9449 - mean_iou: 0.841 - ETA: 0s - loss: 0.0672 - f1: 0.9461 - mean_iou: 0.842 - 3s 28ms/step - loss: 0.0671 - f1: 0.9464 - mean_iou: 0.8426 - val_loss: 0.0618 - val_f1: 0.9497 - val_mean_iou: 0.8484\n",
      "\n",
      "Epoch 00009: val_loss improved from 0.06366 to 0.06177, saving model to model-unet-cwfid.h5\n",
      "Epoch 10/10\n"
     ]
    },
    {
     "name": "stdout",
     "output_type": "stream",
     "text": [
      "96/96 [==============================] - ETA: 1s - loss: 0.0739 - f1: 0.9403 - mean_iou: 0.849 - ETA: 1s - loss: 0.0789 - f1: 0.9354 - mean_iou: 0.850 - ETA: 1s - loss: 0.0771 - f1: 0.9369 - mean_iou: 0.850 - ETA: 1s - loss: 0.0758 - f1: 0.9387 - mean_iou: 0.850 - ETA: 1s - loss: 0.0732 - f1: 0.9408 - mean_iou: 0.850 - ETA: 1s - loss: 0.0701 - f1: 0.9436 - mean_iou: 0.851 - ETA: 0s - loss: 0.0689 - f1: 0.9445 - mean_iou: 0.851 - ETA: 0s - loss: 0.0673 - f1: 0.9459 - mean_iou: 0.851 - ETA: 0s - loss: 0.0673 - f1: 0.9461 - mean_iou: 0.852 - ETA: 0s - loss: 0.0670 - f1: 0.9463 - mean_iou: 0.852 - ETA: 0s - loss: 0.0660 - f1: 0.9472 - mean_iou: 0.852 - 3s 28ms/step - loss: 0.0649 - f1: 0.9482 - mean_iou: 0.8530 - val_loss: 0.0594 - val_f1: 0.9531 - val_mean_iou: 0.8577\n",
      "\n",
      "Epoch 00010: val_loss improved from 0.06177 to 0.05937, saving model to model-unet-cwfid.h5\n"
     ]
    }
   ],
   "source": [
    "callbacks_full = [\n",
    "    ModelCheckpoint('model-unet-cwfid.h5', verbose=1, save_best_only=True)\n",
    "]\n",
    "\n",
    "model_unet_full_history = model_unet.fit(x = X_train,\n",
    "                         y = y_train,\n",
    "                         batch_size = 8,\n",
    "                         epochs = 10,\n",
    "                         verbose = 1,\n",
    "                         validation_split = 0.2,\n",
    "                          callbacks = callbacks_full\n",
    "                         )"
   ]
  },
  {
   "cell_type": "markdown",
   "metadata": {},
   "source": [
    "### Métricas"
   ]
  },
  {
   "cell_type": "code",
   "execution_count": 23,
   "metadata": {
    "ExecuteTime": {
     "end_time": "2018-11-06T02:06:32.725495Z",
     "start_time": "2018-11-06T02:06:30.137500Z"
    }
   },
   "outputs": [
    {
     "name": "stdout",
     "output_type": "stream",
     "text": [
      "60/60 [==============================] - ETA:  - 3s 43ms/step\n"
     ]
    },
    {
     "data": {
      "text/plain": [
       "[0.07159457206726075, 0.9423821051915486, 0.8596855600674947]"
      ]
     },
     "execution_count": 23,
     "metadata": {},
     "output_type": "execute_result"
    }
   ],
   "source": [
    "model_unet.evaluate(X_test, y_test)"
   ]
  },
  {
   "cell_type": "markdown",
   "metadata": {},
   "source": [
    "## Modelo Seg-Net"
   ]
  },
  {
   "cell_type": "markdown",
   "metadata": {},
   "source": [
    "### Definir modelo"
   ]
  },
  {
   "cell_type": "code",
   "execution_count": 24,
   "metadata": {
    "ExecuteTime": {
     "end_time": "2018-11-06T02:06:32.738497Z",
     "start_time": "2018-11-06T02:06:32.727501Z"
    }
   },
   "outputs": [],
   "source": [
    "#Fuente: https://github.com/Anki0909/CWFID-Image-Segmentation/blob/master/main.py\n",
    "def segnet(n_classes, input_height=161, input_width=216):\n",
    "    kernel = 3\n",
    "    filter_size = 64\n",
    "    pad = 1\n",
    "    pool_size = 2\n",
    "    \n",
    "    model = Sequential()\n",
    "    model.add(Layer(input_shape=(input_height, input_width, 3)))\n",
    "    model.add(ZeroPadding2D(padding=((7,8),(0,0))))\n",
    "    \n",
    "    model.add(Conv2D(filter_size,(kernel,kernel),padding='same'))\n",
    "    model.add(BatchNormalization())\n",
    "    model.add(Activation('relu'))\n",
    "    model.add(MaxPooling2D(pool_size=(pool_size,pool_size)))\n",
    "    \n",
    "    model.add(Conv2D(128,(kernel,kernel),padding='same'))\n",
    "    model.add(BatchNormalization())\n",
    "    model.add(Activation('relu'))\n",
    "    model.add(MaxPooling2D(pool_size=(pool_size,pool_size)))\n",
    "    \n",
    "    model.add(Conv2D(256,(kernel,kernel),padding='same'))\n",
    "    model.add(BatchNormalization())\n",
    "    model.add(Activation('relu'))\n",
    "    model.add(MaxPooling2D(pool_size=(pool_size,pool_size)))\n",
    "    \n",
    "    model.add(Conv2D(512,(kernel,kernel),padding='same'))\n",
    "    model.add(BatchNormalization())\n",
    "    model.add(Activation('relu'))\n",
    "    \n",
    "    model.add(Conv2D(512,(kernel,kernel),padding='same'))\n",
    "    model.add(BatchNormalization())\n",
    "    \n",
    "    model.add(UpSampling2D(size=(pool_size,pool_size)))\n",
    "    model.add(Conv2D(256,(kernel,kernel),padding='same'))\n",
    "    model.add(BatchNormalization())\n",
    "    \n",
    "    model.add(UpSampling2D(size=(pool_size,pool_size)))\n",
    "    model.add(Conv2D(128,(kernel,kernel),padding='same'))\n",
    "    model.add(BatchNormalization())\n",
    "    \n",
    "    model.add(UpSampling2D(size=(pool_size,pool_size)))\n",
    "    model.add(Conv2D(filter_size,(kernel,kernel),padding='same'))\n",
    "    model.add(BatchNormalization())\n",
    "    \n",
    "    model.add(Conv2D(n_classes,(1,1), padding='same'))\n",
    "    \n",
    "    model.add(Cropping2D(cropping=((7,8),(0,0))))\n",
    "    \n",
    "    model.outputHeight = model.output_shape[-3]\n",
    "    model.outputWidth = model.output_shape[-2]\n",
    "    \n",
    "    if n_classes == 1:\n",
    "        model.add(Reshape((model.output_shape[-3], model.output_shape[-2]),\n",
    "                          input_shape=(model.output_shape[-3], model.output_shape[-2], 3)))\n",
    "        model.add(Activation('sigmoid'))\n",
    "    else:\n",
    "        model.add(Reshape((model.output_shape[-3], model.output_shape[-2], n_classes),\n",
    "                          input_shape=(model.output_shape[-3], model.output_shape[-2], 3)))\n",
    "        model.add(Activation('sigmoid'))\n",
    "        \n",
    "    #if not optimizer is None:\n",
    "    #    model.compile(loss=\"categorical_crossentropy\", optimizer= optimizer , metrics=['accuracy'] )\n",
    "        \n",
    "    return model"
   ]
  },
  {
   "cell_type": "code",
   "execution_count": 25,
   "metadata": {
    "ExecuteTime": {
     "end_time": "2018-11-06T02:06:36.578536Z",
     "start_time": "2018-11-06T02:06:32.740497Z"
    }
   },
   "outputs": [],
   "source": [
    "model_segnet = segnet(n_classes=3)\n",
    "model_segnet.compile(loss = 'binary_crossentropy',\n",
    "             optimizer = 'Adam',\n",
    "             metrics = [f1, mean_iou])"
   ]
  },
  {
   "cell_type": "code",
   "execution_count": 26,
   "metadata": {
    "ExecuteTime": {
     "end_time": "2018-11-06T02:06:36.658495Z",
     "start_time": "2018-11-06T02:06:36.579506Z"
    },
    "scrolled": true
   },
   "outputs": [
    {
     "name": "stdout",
     "output_type": "stream",
     "text": [
      "_________________________________________________________________\n",
      "Layer (type)                 Output Shape              Param #   \n",
      "=================================================================\n",
      "layer_1 (Layer)              (None, 161, 216, 3)       0         \n",
      "_________________________________________________________________\n",
      "zero_padding2d_2 (ZeroPaddin (None, 176, 216, 3)       0         \n",
      "_________________________________________________________________\n",
      "conv2d_20 (Conv2D)           (None, 176, 216, 64)      1792      \n",
      "_________________________________________________________________\n",
      "batch_normalization_1 (Batch (None, 176, 216, 64)      256       \n",
      "_________________________________________________________________\n",
      "activation_2 (Activation)    (None, 176, 216, 64)      0         \n",
      "_________________________________________________________________\n",
      "max_pooling2d_5 (MaxPooling2 (None, 88, 108, 64)       0         \n",
      "_________________________________________________________________\n",
      "conv2d_21 (Conv2D)           (None, 88, 108, 128)      73856     \n",
      "_________________________________________________________________\n",
      "batch_normalization_2 (Batch (None, 88, 108, 128)      512       \n",
      "_________________________________________________________________\n",
      "activation_3 (Activation)    (None, 88, 108, 128)      0         \n",
      "_________________________________________________________________\n",
      "max_pooling2d_6 (MaxPooling2 (None, 44, 54, 128)       0         \n",
      "_________________________________________________________________\n",
      "conv2d_22 (Conv2D)           (None, 44, 54, 256)       295168    \n",
      "_________________________________________________________________\n",
      "batch_normalization_3 (Batch (None, 44, 54, 256)       1024      \n",
      "_________________________________________________________________\n",
      "activation_4 (Activation)    (None, 44, 54, 256)       0         \n",
      "_________________________________________________________________\n",
      "max_pooling2d_7 (MaxPooling2 (None, 22, 27, 256)       0         \n",
      "_________________________________________________________________\n",
      "conv2d_23 (Conv2D)           (None, 22, 27, 512)       1180160   \n",
      "_________________________________________________________________\n",
      "batch_normalization_4 (Batch (None, 22, 27, 512)       2048      \n",
      "_________________________________________________________________\n",
      "activation_5 (Activation)    (None, 22, 27, 512)       0         \n",
      "_________________________________________________________________\n",
      "conv2d_24 (Conv2D)           (None, 22, 27, 512)       2359808   \n",
      "_________________________________________________________________\n",
      "batch_normalization_5 (Batch (None, 22, 27, 512)       2048      \n",
      "_________________________________________________________________\n",
      "up_sampling2d_1 (UpSampling2 (None, 44, 54, 512)       0         \n",
      "_________________________________________________________________\n",
      "conv2d_25 (Conv2D)           (None, 44, 54, 256)       1179904   \n",
      "_________________________________________________________________\n",
      "batch_normalization_6 (Batch (None, 44, 54, 256)       1024      \n",
      "_________________________________________________________________\n",
      "up_sampling2d_2 (UpSampling2 (None, 88, 108, 256)      0         \n",
      "_________________________________________________________________\n",
      "conv2d_26 (Conv2D)           (None, 88, 108, 128)      295040    \n",
      "_________________________________________________________________\n",
      "batch_normalization_7 (Batch (None, 88, 108, 128)      512       \n",
      "_________________________________________________________________\n",
      "up_sampling2d_3 (UpSampling2 (None, 176, 216, 128)     0         \n",
      "_________________________________________________________________\n",
      "conv2d_27 (Conv2D)           (None, 176, 216, 64)      73792     \n",
      "_________________________________________________________________\n",
      "batch_normalization_8 (Batch (None, 176, 216, 64)      256       \n",
      "_________________________________________________________________\n",
      "conv2d_28 (Conv2D)           (None, 176, 216, 3)       195       \n",
      "_________________________________________________________________\n",
      "cropping2d_2 (Cropping2D)    (None, 161, 216, 3)       0         \n",
      "_________________________________________________________________\n",
      "reshape_2 (Reshape)          (None, 161, 216, 3)       0         \n",
      "_________________________________________________________________\n",
      "activation_6 (Activation)    (None, 161, 216, 3)       0         \n",
      "=================================================================\n",
      "Total params: 5,467,395\n",
      "Trainable params: 5,463,555\n",
      "Non-trainable params: 3,840\n",
      "_________________________________________________________________\n"
     ]
    }
   ],
   "source": [
    "model_segnet.summary()"
   ]
  },
  {
   "cell_type": "markdown",
   "metadata": {},
   "source": [
    "### Entrenamiento"
   ]
  },
  {
   "cell_type": "code",
   "execution_count": 27,
   "metadata": {
    "ExecuteTime": {
     "end_time": "2018-11-06T02:07:50.544603Z",
     "start_time": "2018-11-06T02:06:36.659494Z"
    },
    "scrolled": true
   },
   "outputs": [
    {
     "name": "stdout",
     "output_type": "stream",
     "text": [
      "Train on 96 samples, validate on 24 samples\n",
      "Epoch 1/10\n",
      "96/96 [==============================] - ETA: 1:49 - loss: 0.8879 - f1: 0.3966 - mean_iou: 0.0000e+0 - ETA: 54s - loss: 0.9250 - f1: 0.4783 - mean_iou: 0.1771    - ETA: 36s - loss: 0.8957 - f1: 0.4392 - mean_iou: 0.25 - ETA: 27s - loss: 0.8279 - f1: 0.4883 - mean_iou: 0.29 - ETA: 21s - loss: 0.7707 - f1: 0.5279 - mean_iou: 0.31 - ETA: 17s - loss: 0.7281 - f1: 0.5734 - mean_iou: 0.34 - ETA: 14s - loss: 0.6933 - f1: 0.6121 - mean_iou: 0.35 - ETA: 12s - loss: 0.6615 - f1: 0.6408 - mean_iou: 0.37 - ETA: 11s - loss: 0.6343 - f1: 0.6609 - mean_iou: 0.38 - ETA: 9s - loss: 0.6091 - f1: 0.6846 - mean_iou: 0.3915 - ETA: 8s - loss: 0.5879 - f1: 0.7026 - mean_iou: 0.401 - ETA: 7s - loss: 0.5683 - f1: 0.7170 - mean_iou: 0.410 - ETA: 6s - loss: 0.5505 - f1: 0.7275 - mean_iou: 0.418 - ETA: 5s - loss: 0.5345 - f1: 0.7370 - mean_iou: 0.426 - ETA: 4s - loss: 0.5192 - f1: 0.7490 - mean_iou: 0.434 - ETA: 4s - loss: 0.5054 - f1: 0.7586 - mean_iou: 0.441 - ETA: 3s - loss: 0.4923 - f1: 0.7667 - mean_iou: 0.447 - ETA: 2s - loss: 0.4806 - f1: 0.7729 - mean_iou: 0.454 - ETA: 2s - loss: 0.4700 - f1: 0.7786 - mean_iou: 0.460 - ETA: 1s - loss: 0.4601 - f1: 0.7842 - mean_iou: 0.466 - ETA: 1s - loss: 0.4511 - f1: 0.7885 - mean_iou: 0.472 - ETA: 0s - loss: 0.4422 - f1: 0.7933 - mean_iou: 0.478 - ETA: 0s - loss: 0.4342 - f1: 0.7973 - mean_iou: 0.483 - 12s 123ms/step - loss: 0.4264 - f1: 0.8014 - mean_iou: 0.4892 - val_loss: 1.0294 - val_f1: 0.7009 - val_mean_iou: 0.6193\n",
      "\n",
      "Epoch 00001: val_loss improved from inf to 1.02940, saving model to model-segnet-cwfid.h5\n",
      "Epoch 2/10\n",
      "96/96 [==============================] - ETA: 5s - loss: 0.2433 - f1: 0.9048 - mean_iou: 0.619 - ETA: 5s - loss: 0.2400 - f1: 0.9085 - mean_iou: 0.621 - ETA: 4s - loss: 0.2366 - f1: 0.9122 - mean_iou: 0.624 - ETA: 4s - loss: 0.2319 - f1: 0.9176 - mean_iou: 0.626 - ETA: 4s - loss: 0.2344 - f1: 0.9105 - mean_iou: 0.628 - ETA: 4s - loss: 0.2313 - f1: 0.9123 - mean_iou: 0.630 - ETA: 4s - loss: 0.2314 - f1: 0.9085 - mean_iou: 0.632 - ETA: 3s - loss: 0.2295 - f1: 0.9088 - mean_iou: 0.634 - ETA: 3s - loss: 0.2264 - f1: 0.9121 - mean_iou: 0.636 - ETA: 3s - loss: 0.2239 - f1: 0.9145 - mean_iou: 0.638 - ETA: 3s - loss: 0.2228 - f1: 0.9140 - mean_iou: 0.640 - ETA: 2s - loss: 0.2207 - f1: 0.9151 - mean_iou: 0.642 - ETA: 2s - loss: 0.2192 - f1: 0.9149 - mean_iou: 0.643 - ETA: 2s - loss: 0.2179 - f1: 0.9148 - mean_iou: 0.645 - ETA: 2s - loss: 0.2169 - f1: 0.9141 - mean_iou: 0.647 - ETA: 1s - loss: 0.2161 - f1: 0.9133 - mean_iou: 0.649 - ETA: 1s - loss: 0.2136 - f1: 0.9155 - mean_iou: 0.650 - ETA: 1s - loss: 0.2114 - f1: 0.9171 - mean_iou: 0.652 - ETA: 1s - loss: 0.2100 - f1: 0.9175 - mean_iou: 0.654 - ETA: 0s - loss: 0.2086 - f1: 0.9177 - mean_iou: 0.655 - ETA: 0s - loss: 0.2071 - f1: 0.9180 - mean_iou: 0.657 - ETA: 0s - loss: 0.2055 - f1: 0.9186 - mean_iou: 0.658 - ETA: 0s - loss: 0.2040 - f1: 0.9192 - mean_iou: 0.660 - 6s 67ms/step - loss: 0.2031 - f1: 0.9190 - mean_iou: 0.6620 - val_loss: 0.3682 - val_f1: 0.8114 - val_mean_iou: 0.7019\n",
      "\n",
      "Epoch 00002: val_loss improved from 1.02940 to 0.36816, saving model to model-segnet-cwfid.h5\n",
      "Epoch 3/10\n",
      "96/96 [==============================] - ETA: 5s - loss: 0.1649 - f1: 0.9345 - mean_iou: 0.703 - ETA: 5s - loss: 0.1588 - f1: 0.9419 - mean_iou: 0.704 - ETA: 4s - loss: 0.1613 - f1: 0.9356 - mean_iou: 0.705 - ETA: 4s - loss: 0.1647 - f1: 0.9297 - mean_iou: 0.706 - ETA: 4s - loss: 0.1615 - f1: 0.9335 - mean_iou: 0.707 - ETA: 4s - loss: 0.1609 - f1: 0.9328 - mean_iou: 0.708 - ETA: 4s - loss: 0.1608 - f1: 0.9310 - mean_iou: 0.709 - ETA: 3s - loss: 0.1597 - f1: 0.9317 - mean_iou: 0.710 - ETA: 3s - loss: 0.1588 - f1: 0.9318 - mean_iou: 0.711 - ETA: 3s - loss: 0.1576 - f1: 0.9321 - mean_iou: 0.713 - ETA: 3s - loss: 0.1570 - f1: 0.9317 - mean_iou: 0.714 - ETA: 2s - loss: 0.1565 - f1: 0.9311 - mean_iou: 0.715 - ETA: 2s - loss: 0.1553 - f1: 0.9317 - mean_iou: 0.716 - ETA: 2s - loss: 0.1544 - f1: 0.9315 - mean_iou: 0.717 - ETA: 2s - loss: 0.1541 - f1: 0.9308 - mean_iou: 0.718 - ETA: 1s - loss: 0.1541 - f1: 0.9298 - mean_iou: 0.719 - ETA: 1s - loss: 0.1530 - f1: 0.9302 - mean_iou: 0.720 - ETA: 1s - loss: 0.1519 - f1: 0.9306 - mean_iou: 0.721 - ETA: 1s - loss: 0.1501 - f1: 0.9321 - mean_iou: 0.722 - ETA: 0s - loss: 0.1492 - f1: 0.9323 - mean_iou: 0.723 - ETA: 0s - loss: 0.1486 - f1: 0.9322 - mean_iou: 0.723 - ETA: 0s - loss: 0.1479 - f1: 0.9322 - mean_iou: 0.724 - ETA: 0s - loss: 0.1476 - f1: 0.9316 - mean_iou: 0.725 - 7s 68ms/step - loss: 0.1470 - f1: 0.9317 - mean_iou: 0.7267 - val_loss: 0.2206 - val_f1: 0.8804 - val_mean_iou: 0.7518\n",
      "\n",
      "Epoch 00003: val_loss improved from 0.36816 to 0.22065, saving model to model-segnet-cwfid.h5\n",
      "Epoch 4/10\n",
      "96/96 [==============================] - ETA: 5s - loss: 0.1241 - f1: 0.9394 - mean_iou: 0.754 - ETA: 5s - loss: 0.1384 - f1: 0.9235 - mean_iou: 0.755 - ETA: 5s - loss: 0.1272 - f1: 0.9370 - mean_iou: 0.755 - ETA: 4s - loss: 0.1299 - f1: 0.9326 - mean_iou: 0.756 - ETA: 4s - loss: 0.1270 - f1: 0.9352 - mean_iou: 0.757 - ETA: 4s - loss: 0.1261 - f1: 0.9347 - mean_iou: 0.757 - ETA: 4s - loss: 0.1254 - f1: 0.9341 - mean_iou: 0.758 - ETA: 3s - loss: 0.1239 - f1: 0.9362 - mean_iou: 0.759 - ETA: 3s - loss: 0.1254 - f1: 0.9334 - mean_iou: 0.760 - ETA: 3s - loss: 0.1240 - f1: 0.9343 - mean_iou: 0.760 - ETA: 3s - loss: 0.1230 - f1: 0.9350 - mean_iou: 0.761 - ETA: 2s - loss: 0.1222 - f1: 0.9352 - mean_iou: 0.762 - ETA: 2s - loss: 0.1216 - f1: 0.9355 - mean_iou: 0.762 - ETA: 2s - loss: 0.1221 - f1: 0.9344 - mean_iou: 0.763 - ETA: 2s - loss: 0.1220 - f1: 0.9337 - mean_iou: 0.764 - ETA: 1s - loss: 0.1216 - f1: 0.9338 - mean_iou: 0.765 - ETA: 1s - loss: 0.1203 - f1: 0.9349 - mean_iou: 0.765 - ETA: 1s - loss: 0.1195 - f1: 0.9352 - mean_iou: 0.766 - ETA: 1s - loss: 0.1186 - f1: 0.9357 - mean_iou: 0.767 - ETA: 0s - loss: 0.1177 - f1: 0.9363 - mean_iou: 0.767 - ETA: 0s - loss: 0.1169 - f1: 0.9367 - mean_iou: 0.768 - ETA: 0s - loss: 0.1169 - f1: 0.9363 - mean_iou: 0.769 - ETA: 0s - loss: 0.1165 - f1: 0.9363 - mean_iou: 0.769 - 6s 68ms/step - loss: 0.1165 - f1: 0.9358 - mean_iou: 0.7704 - val_loss: 0.1560 - val_f1: 0.9216 - val_mean_iou: 0.7885\n",
      "\n",
      "Epoch 00004: val_loss improved from 0.22065 to 0.15597, saving model to model-segnet-cwfid.h5\n",
      "Epoch 5/10\n",
      "96/96 [==============================] - ETA: 5s - loss: 0.0929 - f1: 0.9516 - mean_iou: 0.790 - ETA: 5s - loss: 0.0935 - f1: 0.9521 - mean_iou: 0.791 - ETA: 4s - loss: 0.0980 - f1: 0.9457 - mean_iou: 0.792 - ETA: 4s - loss: 0.0985 - f1: 0.9450 - mean_iou: 0.792 - ETA: 4s - loss: 0.1001 - f1: 0.9423 - mean_iou: 0.793 - ETA: 4s - loss: 0.1003 - f1: 0.9421 - mean_iou: 0.793 - ETA: 4s - loss: 0.1021 - f1: 0.9399 - mean_iou: 0.794 - ETA: 3s - loss: 0.1011 - f1: 0.9408 - mean_iou: 0.794 - ETA: 3s - loss: 0.1015 - f1: 0.9401 - mean_iou: 0.795 - ETA: 3s - loss: 0.1006 - f1: 0.9408 - mean_iou: 0.795 - ETA: 3s - loss: 0.1025 - f1: 0.9384 - mean_iou: 0.796 - ETA: 2s - loss: 0.1023 - f1: 0.9385 - mean_iou: 0.796 - ETA: 2s - loss: 0.1016 - f1: 0.9393 - mean_iou: 0.797 - ETA: 2s - loss: 0.1008 - f1: 0.9397 - mean_iou: 0.797 - ETA: 2s - loss: 0.1000 - f1: 0.9403 - mean_iou: 0.798 - ETA: 1s - loss: 0.1012 - f1: 0.9388 - mean_iou: 0.798 - ETA: 1s - loss: 0.1008 - f1: 0.9391 - mean_iou: 0.799 - ETA: 1s - loss: 0.1015 - f1: 0.9380 - mean_iou: 0.799 - ETA: 1s - loss: 0.1012 - f1: 0.9381 - mean_iou: 0.800 - ETA: 0s - loss: 0.1009 - f1: 0.9382 - mean_iou: 0.800 - ETA: 0s - loss: 0.1012 - f1: 0.9376 - mean_iou: 0.801 - ETA: 0s - loss: 0.1005 - f1: 0.9382 - mean_iou: 0.801 - ETA: 0s - loss: 0.1004 - f1: 0.9380 - mean_iou: 0.801 - 6s 67ms/step - loss: 0.1001 - f1: 0.9380 - mean_iou: 0.8023 - val_loss: 0.1539 - val_f1: 0.9043 - val_mean_iou: 0.8149\n",
      "\n",
      "Epoch 00005: val_loss improved from 0.15597 to 0.15394, saving model to model-segnet-cwfid.h5\n",
      "Epoch 6/10\n"
     ]
    },
    {
     "name": "stdout",
     "output_type": "stream",
     "text": [
      "96/96 [==============================] - ETA: 5s - loss: 0.1129 - f1: 0.9167 - mean_iou: 0.816 - ETA: 5s - loss: 0.1000 - f1: 0.9314 - mean_iou: 0.816 - ETA: 5s - loss: 0.0996 - f1: 0.9310 - mean_iou: 0.817 - ETA: 4s - loss: 0.0959 - f1: 0.9344 - mean_iou: 0.817 - ETA: 4s - loss: 0.0911 - f1: 0.9398 - mean_iou: 0.818 - ETA: 4s - loss: 0.0910 - f1: 0.9399 - mean_iou: 0.818 - ETA: 4s - loss: 0.0925 - f1: 0.9382 - mean_iou: 0.818 - ETA: 3s - loss: 0.0921 - f1: 0.9385 - mean_iou: 0.819 - ETA: 3s - loss: 0.0918 - f1: 0.9388 - mean_iou: 0.819 - ETA: 3s - loss: 0.0918 - f1: 0.9381 - mean_iou: 0.819 - ETA: 3s - loss: 0.0928 - f1: 0.9372 - mean_iou: 0.820 - ETA: 2s - loss: 0.0930 - f1: 0.9367 - mean_iou: 0.820 - ETA: 2s - loss: 0.0928 - f1: 0.9368 - mean_iou: 0.820 - ETA: 2s - loss: 0.0929 - f1: 0.9367 - mean_iou: 0.821 - ETA: 2s - loss: 0.0919 - f1: 0.9378 - mean_iou: 0.821 - ETA: 1s - loss: 0.0925 - f1: 0.9371 - mean_iou: 0.821 - ETA: 1s - loss: 0.0920 - f1: 0.9376 - mean_iou: 0.822 - ETA: 1s - loss: 0.0916 - f1: 0.9381 - mean_iou: 0.822 - ETA: 1s - loss: 0.0906 - f1: 0.9392 - mean_iou: 0.822 - ETA: 0s - loss: 0.0892 - f1: 0.9406 - mean_iou: 0.823 - ETA: 0s - loss: 0.0886 - f1: 0.9412 - mean_iou: 0.823 - ETA: 0s - loss: 0.0892 - f1: 0.9404 - mean_iou: 0.823 - ETA: 0s - loss: 0.0898 - f1: 0.9397 - mean_iou: 0.824 - 6s 67ms/step - loss: 0.0888 - f1: 0.9407 - mean_iou: 0.8245 - val_loss: 0.1173 - val_f1: 0.9240 - val_mean_iou: 0.8341\n",
      "\n",
      "Epoch 00006: val_loss improved from 0.15394 to 0.11725, saving model to model-segnet-cwfid.h5\n",
      "Epoch 7/10\n",
      "96/96 [==============================] - ETA: 5s - loss: 0.0942 - f1: 0.9322 - mean_iou: 0.835 - ETA: 5s - loss: 0.0858 - f1: 0.9394 - mean_iou: 0.835 - ETA: 4s - loss: 0.0815 - f1: 0.9449 - mean_iou: 0.836 - ETA: 4s - loss: 0.0782 - f1: 0.9477 - mean_iou: 0.836 - ETA: 4s - loss: 0.0797 - f1: 0.9470 - mean_iou: 0.836 - ETA: 4s - loss: 0.0785 - f1: 0.9485 - mean_iou: 0.837 - ETA: 4s - loss: 0.0785 - f1: 0.9484 - mean_iou: 0.837 - ETA: 3s - loss: 0.0774 - f1: 0.9494 - mean_iou: 0.837 - ETA: 3s - loss: 0.0808 - f1: 0.9457 - mean_iou: 0.837 - ETA: 3s - loss: 0.0808 - f1: 0.9455 - mean_iou: 0.838 - ETA: 3s - loss: 0.0815 - f1: 0.9448 - mean_iou: 0.838 - ETA: 2s - loss: 0.0807 - f1: 0.9455 - mean_iou: 0.838 - ETA: 2s - loss: 0.0803 - f1: 0.9460 - mean_iou: 0.839 - ETA: 2s - loss: 0.0797 - f1: 0.9463 - mean_iou: 0.839 - ETA: 2s - loss: 0.0804 - f1: 0.9456 - mean_iou: 0.839 - ETA: 1s - loss: 0.0805 - f1: 0.9454 - mean_iou: 0.839 - ETA: 1s - loss: 0.0809 - f1: 0.9448 - mean_iou: 0.840 - ETA: 1s - loss: 0.0803 - f1: 0.9454 - mean_iou: 0.840 - ETA: 1s - loss: 0.0802 - f1: 0.9453 - mean_iou: 0.840 - ETA: 0s - loss: 0.0807 - f1: 0.9449 - mean_iou: 0.840 - ETA: 0s - loss: 0.0810 - f1: 0.9444 - mean_iou: 0.841 - ETA: 0s - loss: 0.0809 - f1: 0.9444 - mean_iou: 0.841 - ETA: 0s - loss: 0.0811 - f1: 0.9440 - mean_iou: 0.841 - 6s 67ms/step - loss: 0.0815 - f1: 0.9434 - mean_iou: 0.8417 - val_loss: 0.0940 - val_f1: 0.9353 - val_mean_iou: 0.8485\n",
      "\n",
      "Epoch 00007: val_loss improved from 0.11725 to 0.09403, saving model to model-segnet-cwfid.h5\n",
      "Epoch 8/10\n",
      "96/96 [==============================] - ETA: 5s - loss: 0.0671 - f1: 0.9537 - mean_iou: 0.849 - ETA: 5s - loss: 0.0663 - f1: 0.9552 - mean_iou: 0.849 - ETA: 4s - loss: 0.0730 - f1: 0.9481 - mean_iou: 0.850 - ETA: 4s - loss: 0.0712 - f1: 0.9497 - mean_iou: 0.850 - ETA: 4s - loss: 0.0719 - f1: 0.9491 - mean_iou: 0.850 - ETA: 4s - loss: 0.0731 - f1: 0.9477 - mean_iou: 0.850 - ETA: 4s - loss: 0.0741 - f1: 0.9464 - mean_iou: 0.851 - ETA: 3s - loss: 0.0765 - f1: 0.9436 - mean_iou: 0.851 - ETA: 3s - loss: 0.0768 - f1: 0.9429 - mean_iou: 0.851 - ETA: 3s - loss: 0.0783 - f1: 0.9418 - mean_iou: 0.851 - ETA: 3s - loss: 0.0772 - f1: 0.9431 - mean_iou: 0.851 - ETA: 2s - loss: 0.0775 - f1: 0.9427 - mean_iou: 0.852 - ETA: 2s - loss: 0.0770 - f1: 0.9433 - mean_iou: 0.852 - ETA: 2s - loss: 0.0767 - f1: 0.9436 - mean_iou: 0.852 - ETA: 2s - loss: 0.0761 - f1: 0.9442 - mean_iou: 0.852 - ETA: 1s - loss: 0.0756 - f1: 0.9447 - mean_iou: 0.852 - ETA: 1s - loss: 0.0756 - f1: 0.9445 - mean_iou: 0.852 - ETA: 1s - loss: 0.0746 - f1: 0.9454 - mean_iou: 0.853 - ETA: 1s - loss: 0.0740 - f1: 0.9460 - mean_iou: 0.853 - ETA: 0s - loss: 0.0742 - f1: 0.9458 - mean_iou: 0.853 - ETA: 0s - loss: 0.0744 - f1: 0.9456 - mean_iou: 0.853 - ETA: 0s - loss: 0.0748 - f1: 0.9451 - mean_iou: 0.853 - ETA: 0s - loss: 0.0743 - f1: 0.9455 - mean_iou: 0.854 - 6s 66ms/step - loss: 0.0741 - f1: 0.9457 - mean_iou: 0.8542 - val_loss: 0.0967 - val_f1: 0.9371 - val_mean_iou: 0.8597\n",
      "\n",
      "Epoch 00008: val_loss did not improve from 0.09403\n",
      "Epoch 9/10\n",
      "96/96 [==============================] - ETA: 5s - loss: 0.0646 - f1: 0.9535 - mean_iou: 0.860 - ETA: 5s - loss: 0.0803 - f1: 0.9441 - mean_iou: 0.860 - ETA: 5s - loss: 0.0782 - f1: 0.9433 - mean_iou: 0.861 - ETA: 4s - loss: 0.0751 - f1: 0.9463 - mean_iou: 0.861 - ETA: 4s - loss: 0.0758 - f1: 0.9449 - mean_iou: 0.861 - ETA: 4s - loss: 0.0750 - f1: 0.9455 - mean_iou: 0.861 - ETA: 4s - loss: 0.0770 - f1: 0.9432 - mean_iou: 0.861 - ETA: 3s - loss: 0.0769 - f1: 0.9431 - mean_iou: 0.861 - ETA: 3s - loss: 0.0743 - f1: 0.9456 - mean_iou: 0.861 - ETA: 3s - loss: 0.0731 - f1: 0.9464 - mean_iou: 0.862 - ETA: 3s - loss: 0.0753 - f1: 0.9440 - mean_iou: 0.862 - ETA: 2s - loss: 0.0751 - f1: 0.9438 - mean_iou: 0.862 - ETA: 2s - loss: 0.0767 - f1: 0.9423 - mean_iou: 0.862 - ETA: 2s - loss: 0.0773 - f1: 0.9416 - mean_iou: 0.862 - ETA: 2s - loss: 0.0766 - f1: 0.9421 - mean_iou: 0.862 - ETA: 1s - loss: 0.0757 - f1: 0.9431 - mean_iou: 0.863 - ETA: 1s - loss: 0.0781 - f1: 0.9407 - mean_iou: 0.863 - ETA: 1s - loss: 0.0779 - f1: 0.9410 - mean_iou: 0.863 - ETA: 1s - loss: 0.0770 - f1: 0.9420 - mean_iou: 0.863 - ETA: 0s - loss: 0.0760 - f1: 0.9431 - mean_iou: 0.863 - ETA: 0s - loss: 0.0760 - f1: 0.9431 - mean_iou: 0.863 - ETA: 0s - loss: 0.0758 - f1: 0.9431 - mean_iou: 0.863 - ETA: 0s - loss: 0.0751 - f1: 0.9436 - mean_iou: 0.864 - 6s 66ms/step - loss: 0.0747 - f1: 0.9439 - mean_iou: 0.8641 - val_loss: 0.0779 - val_f1: 0.9440 - val_mean_iou: 0.8683\n",
      "\n",
      "Epoch 00009: val_loss improved from 0.09403 to 0.07791, saving model to model-segnet-cwfid.h5\n",
      "Epoch 10/10\n",
      "96/96 [==============================] - ETA: 5s - loss: 0.0806 - f1: 0.9357 - mean_iou: 0.869 - ETA: 5s - loss: 0.0837 - f1: 0.9315 - mean_iou: 0.869 - ETA: 4s - loss: 0.0843 - f1: 0.9320 - mean_iou: 0.869 - ETA: 4s - loss: 0.0804 - f1: 0.9358 - mean_iou: 0.869 - ETA: 4s - loss: 0.0790 - f1: 0.9375 - mean_iou: 0.869 - ETA: 4s - loss: 0.0807 - f1: 0.9357 - mean_iou: 0.869 - ETA: 4s - loss: 0.0798 - f1: 0.9368 - mean_iou: 0.869 - ETA: 3s - loss: 0.0788 - f1: 0.9382 - mean_iou: 0.869 - ETA: 3s - loss: 0.0757 - f1: 0.9409 - mean_iou: 0.869 - ETA: 3s - loss: 0.0756 - f1: 0.9409 - mean_iou: 0.870 - ETA: 3s - loss: 0.0745 - f1: 0.9422 - mean_iou: 0.870 - ETA: 2s - loss: 0.0737 - f1: 0.9431 - mean_iou: 0.870 - ETA: 2s - loss: 0.0724 - f1: 0.9444 - mean_iou: 0.870 - ETA: 2s - loss: 0.0710 - f1: 0.9456 - mean_iou: 0.870 - ETA: 2s - loss: 0.0710 - f1: 0.9457 - mean_iou: 0.870 - ETA: 1s - loss: 0.0705 - f1: 0.9462 - mean_iou: 0.870 - ETA: 1s - loss: 0.0715 - f1: 0.9452 - mean_iou: 0.870 - ETA: 1s - loss: 0.0714 - f1: 0.9453 - mean_iou: 0.871 - ETA: 1s - loss: 0.0709 - f1: 0.9458 - mean_iou: 0.871 - ETA: 0s - loss: 0.0710 - f1: 0.9456 - mean_iou: 0.871 - ETA: 0s - loss: 0.0702 - f1: 0.9464 - mean_iou: 0.871 - ETA: 0s - loss: 0.0699 - f1: 0.9467 - mean_iou: 0.871 - ETA: 0s - loss: 0.0696 - f1: 0.9470 - mean_iou: 0.871 - 6s 67ms/step - loss: 0.0699 - f1: 0.9466 - mean_iou: 0.8717 - val_loss: 0.0708 - val_f1: 0.9474 - val_mean_iou: 0.8753\n",
      "\n",
      "Epoch 00010: val_loss improved from 0.07791 to 0.07079, saving model to model-segnet-cwfid.h5\n"
     ]
    }
   ],
   "source": [
    "callbacks_full = [\n",
    "    ModelCheckpoint('model-segnet-cwfid.h5', verbose=1, save_best_only=True)\n",
    "]\n",
    "\n",
    "model_segnet_full_history = model_segnet.fit(x = X_train,\n",
    "                         y = y_train,\n",
    "                         batch_size = 4,\n",
    "                         epochs = 10,\n",
    "                         verbose = 1,\n",
    "                         validation_split = 0.2,\n",
    "                          callbacks = callbacks_full\n",
    "                         )"
   ]
  },
  {
   "cell_type": "markdown",
   "metadata": {},
   "source": [
    "### Métricas"
   ]
  },
  {
   "cell_type": "code",
   "execution_count": 28,
   "metadata": {
    "ExecuteTime": {
     "end_time": "2018-11-06T02:08:09.005421Z",
     "start_time": "2018-11-06T02:07:50.548587Z"
    },
    "scrolled": true
   },
   "outputs": [
    {
     "ename": "ResourceExhaustedError",
     "evalue": "OOM when allocating tensor with shape[32,128,176,216] and type float on /job:localhost/replica:0/task:0/device:GPU:0 by allocator GPU_0_bfc\n\t [[{{node conv2d_27/convolution-0-TransposeNHWCToNCHW-LayoutOptimizer}} = Transpose[T=DT_FLOAT, Tperm=DT_INT32, _device=\"/job:localhost/replica:0/task:0/device:GPU:0\"](up_sampling2d_3/ResizeNearestNeighbor, PermConstNHWCToNCHW-LayoutOptimizer)]]\nHint: If you want to see a list of allocated tensors when OOM happens, add report_tensor_allocations_upon_oom to RunOptions for current allocation info.\n\n\t [[{{node activation_6/Sigmoid/_4005}} = _Recv[client_terminated=false, recv_device=\"/job:localhost/replica:0/task:0/device:CPU:0\", send_device=\"/job:localhost/replica:0/task:0/device:GPU:0\", send_device_incarnation=1, tensor_name=\"edge_420_activation_6/Sigmoid\", tensor_type=DT_FLOAT, _device=\"/job:localhost/replica:0/task:0/device:CPU:0\"]()]]\nHint: If you want to see a list of allocated tensors when OOM happens, add report_tensor_allocations_upon_oom to RunOptions for current allocation info.\n",
     "output_type": "error",
     "traceback": [
      "\u001b[1;31m---------------------------------------------------------------------------\u001b[0m",
      "\u001b[1;31mResourceExhaustedError\u001b[0m                    Traceback (most recent call last)",
      "\u001b[1;32m<ipython-input-28-5f77a1768a06>\u001b[0m in \u001b[0;36m<module>\u001b[1;34m()\u001b[0m\n\u001b[1;32m----> 1\u001b[1;33m \u001b[0mpred_model_segnet\u001b[0m \u001b[1;33m=\u001b[0m \u001b[0mmodel_segnet\u001b[0m\u001b[1;33m.\u001b[0m\u001b[0mpredict\u001b[0m\u001b[1;33m(\u001b[0m\u001b[0mX_test\u001b[0m\u001b[1;33m)\u001b[0m\u001b[1;33m\u001b[0m\u001b[0m\n\u001b[0m",
      "\u001b[1;32m~\\Anaconda3\\lib\\site-packages\\keras\\engine\\training.py\u001b[0m in \u001b[0;36mpredict\u001b[1;34m(self, x, batch_size, verbose, steps)\u001b[0m\n\u001b[0;32m   1165\u001b[0m                                             \u001b[0mbatch_size\u001b[0m\u001b[1;33m=\u001b[0m\u001b[0mbatch_size\u001b[0m\u001b[1;33m,\u001b[0m\u001b[1;33m\u001b[0m\u001b[0m\n\u001b[0;32m   1166\u001b[0m                                             \u001b[0mverbose\u001b[0m\u001b[1;33m=\u001b[0m\u001b[0mverbose\u001b[0m\u001b[1;33m,\u001b[0m\u001b[1;33m\u001b[0m\u001b[0m\n\u001b[1;32m-> 1167\u001b[1;33m                                             steps=steps)\n\u001b[0m\u001b[0;32m   1168\u001b[0m \u001b[1;33m\u001b[0m\u001b[0m\n\u001b[0;32m   1169\u001b[0m     def train_on_batch(self, x, y,\n",
      "\u001b[1;32m~\\Anaconda3\\lib\\site-packages\\keras\\engine\\training_arrays.py\u001b[0m in \u001b[0;36mpredict_loop\u001b[1;34m(model, f, ins, batch_size, verbose, steps)\u001b[0m\n\u001b[0;32m    292\u001b[0m                 \u001b[0mins_batch\u001b[0m\u001b[1;33m[\u001b[0m\u001b[0mi\u001b[0m\u001b[1;33m]\u001b[0m \u001b[1;33m=\u001b[0m \u001b[0mins_batch\u001b[0m\u001b[1;33m[\u001b[0m\u001b[0mi\u001b[0m\u001b[1;33m]\u001b[0m\u001b[1;33m.\u001b[0m\u001b[0mtoarray\u001b[0m\u001b[1;33m(\u001b[0m\u001b[1;33m)\u001b[0m\u001b[1;33m\u001b[0m\u001b[0m\n\u001b[0;32m    293\u001b[0m \u001b[1;33m\u001b[0m\u001b[0m\n\u001b[1;32m--> 294\u001b[1;33m             \u001b[0mbatch_outs\u001b[0m \u001b[1;33m=\u001b[0m \u001b[0mf\u001b[0m\u001b[1;33m(\u001b[0m\u001b[0mins_batch\u001b[0m\u001b[1;33m)\u001b[0m\u001b[1;33m\u001b[0m\u001b[0m\n\u001b[0m\u001b[0;32m    295\u001b[0m             \u001b[0mbatch_outs\u001b[0m \u001b[1;33m=\u001b[0m \u001b[0mto_list\u001b[0m\u001b[1;33m(\u001b[0m\u001b[0mbatch_outs\u001b[0m\u001b[1;33m)\u001b[0m\u001b[1;33m\u001b[0m\u001b[0m\n\u001b[0;32m    296\u001b[0m             \u001b[1;32mif\u001b[0m \u001b[0mbatch_index\u001b[0m \u001b[1;33m==\u001b[0m \u001b[1;36m0\u001b[0m\u001b[1;33m:\u001b[0m\u001b[1;33m\u001b[0m\u001b[0m\n",
      "\u001b[1;32m~\\Anaconda3\\lib\\site-packages\\keras\\backend\\tensorflow_backend.py\u001b[0m in \u001b[0;36m__call__\u001b[1;34m(self, inputs)\u001b[0m\n\u001b[0;32m   2664\u001b[0m                 \u001b[1;32mreturn\u001b[0m \u001b[0mself\u001b[0m\u001b[1;33m.\u001b[0m\u001b[0m_legacy_call\u001b[0m\u001b[1;33m(\u001b[0m\u001b[0minputs\u001b[0m\u001b[1;33m)\u001b[0m\u001b[1;33m\u001b[0m\u001b[0m\n\u001b[0;32m   2665\u001b[0m \u001b[1;33m\u001b[0m\u001b[0m\n\u001b[1;32m-> 2666\u001b[1;33m             \u001b[1;32mreturn\u001b[0m \u001b[0mself\u001b[0m\u001b[1;33m.\u001b[0m\u001b[0m_call\u001b[0m\u001b[1;33m(\u001b[0m\u001b[0minputs\u001b[0m\u001b[1;33m)\u001b[0m\u001b[1;33m\u001b[0m\u001b[0m\n\u001b[0m\u001b[0;32m   2667\u001b[0m         \u001b[1;32melse\u001b[0m\u001b[1;33m:\u001b[0m\u001b[1;33m\u001b[0m\u001b[0m\n\u001b[0;32m   2668\u001b[0m             \u001b[1;32mif\u001b[0m \u001b[0mpy_any\u001b[0m\u001b[1;33m(\u001b[0m\u001b[0mis_tensor\u001b[0m\u001b[1;33m(\u001b[0m\u001b[0mx\u001b[0m\u001b[1;33m)\u001b[0m \u001b[1;32mfor\u001b[0m \u001b[0mx\u001b[0m \u001b[1;32min\u001b[0m \u001b[0minputs\u001b[0m\u001b[1;33m)\u001b[0m\u001b[1;33m:\u001b[0m\u001b[1;33m\u001b[0m\u001b[0m\n",
      "\u001b[1;32m~\\Anaconda3\\lib\\site-packages\\keras\\backend\\tensorflow_backend.py\u001b[0m in \u001b[0;36m_call\u001b[1;34m(self, inputs)\u001b[0m\n\u001b[0;32m   2634\u001b[0m                                 \u001b[0msymbol_vals\u001b[0m\u001b[1;33m,\u001b[0m\u001b[1;33m\u001b[0m\u001b[0m\n\u001b[0;32m   2635\u001b[0m                                 session)\n\u001b[1;32m-> 2636\u001b[1;33m         \u001b[0mfetched\u001b[0m \u001b[1;33m=\u001b[0m \u001b[0mself\u001b[0m\u001b[1;33m.\u001b[0m\u001b[0m_callable_fn\u001b[0m\u001b[1;33m(\u001b[0m\u001b[1;33m*\u001b[0m\u001b[0marray_vals\u001b[0m\u001b[1;33m)\u001b[0m\u001b[1;33m\u001b[0m\u001b[0m\n\u001b[0m\u001b[0;32m   2637\u001b[0m         \u001b[1;32mreturn\u001b[0m \u001b[0mfetched\u001b[0m\u001b[1;33m[\u001b[0m\u001b[1;33m:\u001b[0m\u001b[0mlen\u001b[0m\u001b[1;33m(\u001b[0m\u001b[0mself\u001b[0m\u001b[1;33m.\u001b[0m\u001b[0moutputs\u001b[0m\u001b[1;33m)\u001b[0m\u001b[1;33m]\u001b[0m\u001b[1;33m\u001b[0m\u001b[0m\n\u001b[0;32m   2638\u001b[0m \u001b[1;33m\u001b[0m\u001b[0m\n",
      "\u001b[1;32m~\\Anaconda3\\lib\\site-packages\\tensorflow\\python\\client\\session.py\u001b[0m in \u001b[0;36m__call__\u001b[1;34m(self, *args, **kwargs)\u001b[0m\n\u001b[0;32m   1397\u001b[0m           ret = tf_session.TF_SessionRunCallable(\n\u001b[0;32m   1398\u001b[0m               \u001b[0mself\u001b[0m\u001b[1;33m.\u001b[0m\u001b[0m_session\u001b[0m\u001b[1;33m.\u001b[0m\u001b[0m_session\u001b[0m\u001b[1;33m,\u001b[0m \u001b[0mself\u001b[0m\u001b[1;33m.\u001b[0m\u001b[0m_handle\u001b[0m\u001b[1;33m,\u001b[0m \u001b[0margs\u001b[0m\u001b[1;33m,\u001b[0m \u001b[0mstatus\u001b[0m\u001b[1;33m,\u001b[0m\u001b[1;33m\u001b[0m\u001b[0m\n\u001b[1;32m-> 1399\u001b[1;33m               run_metadata_ptr)\n\u001b[0m\u001b[0;32m   1400\u001b[0m         \u001b[1;32mif\u001b[0m \u001b[0mrun_metadata\u001b[0m\u001b[1;33m:\u001b[0m\u001b[1;33m\u001b[0m\u001b[0m\n\u001b[0;32m   1401\u001b[0m           \u001b[0mproto_data\u001b[0m \u001b[1;33m=\u001b[0m \u001b[0mtf_session\u001b[0m\u001b[1;33m.\u001b[0m\u001b[0mTF_GetBuffer\u001b[0m\u001b[1;33m(\u001b[0m\u001b[0mrun_metadata_ptr\u001b[0m\u001b[1;33m)\u001b[0m\u001b[1;33m\u001b[0m\u001b[0m\n",
      "\u001b[1;32m~\\Anaconda3\\lib\\site-packages\\tensorflow\\python\\framework\\errors_impl.py\u001b[0m in \u001b[0;36m__exit__\u001b[1;34m(self, type_arg, value_arg, traceback_arg)\u001b[0m\n\u001b[0;32m    524\u001b[0m             \u001b[1;32mNone\u001b[0m\u001b[1;33m,\u001b[0m \u001b[1;32mNone\u001b[0m\u001b[1;33m,\u001b[0m\u001b[1;33m\u001b[0m\u001b[0m\n\u001b[0;32m    525\u001b[0m             \u001b[0mcompat\u001b[0m\u001b[1;33m.\u001b[0m\u001b[0mas_text\u001b[0m\u001b[1;33m(\u001b[0m\u001b[0mc_api\u001b[0m\u001b[1;33m.\u001b[0m\u001b[0mTF_Message\u001b[0m\u001b[1;33m(\u001b[0m\u001b[0mself\u001b[0m\u001b[1;33m.\u001b[0m\u001b[0mstatus\u001b[0m\u001b[1;33m.\u001b[0m\u001b[0mstatus\u001b[0m\u001b[1;33m)\u001b[0m\u001b[1;33m)\u001b[0m\u001b[1;33m,\u001b[0m\u001b[1;33m\u001b[0m\u001b[0m\n\u001b[1;32m--> 526\u001b[1;33m             c_api.TF_GetCode(self.status.status))\n\u001b[0m\u001b[0;32m    527\u001b[0m     \u001b[1;31m# Delete the underlying status object from memory otherwise it stays alive\u001b[0m\u001b[1;33m\u001b[0m\u001b[1;33m\u001b[0m\u001b[0m\n\u001b[0;32m    528\u001b[0m     \u001b[1;31m# as there is a reference to status from this from the traceback due to\u001b[0m\u001b[1;33m\u001b[0m\u001b[1;33m\u001b[0m\u001b[0m\n",
      "\u001b[1;31mResourceExhaustedError\u001b[0m: OOM when allocating tensor with shape[32,128,176,216] and type float on /job:localhost/replica:0/task:0/device:GPU:0 by allocator GPU_0_bfc\n\t [[{{node conv2d_27/convolution-0-TransposeNHWCToNCHW-LayoutOptimizer}} = Transpose[T=DT_FLOAT, Tperm=DT_INT32, _device=\"/job:localhost/replica:0/task:0/device:GPU:0\"](up_sampling2d_3/ResizeNearestNeighbor, PermConstNHWCToNCHW-LayoutOptimizer)]]\nHint: If you want to see a list of allocated tensors when OOM happens, add report_tensor_allocations_upon_oom to RunOptions for current allocation info.\n\n\t [[{{node activation_6/Sigmoid/_4005}} = _Recv[client_terminated=false, recv_device=\"/job:localhost/replica:0/task:0/device:CPU:0\", send_device=\"/job:localhost/replica:0/task:0/device:GPU:0\", send_device_incarnation=1, tensor_name=\"edge_420_activation_6/Sigmoid\", tensor_type=DT_FLOAT, _device=\"/job:localhost/replica:0/task:0/device:CPU:0\"]()]]\nHint: If you want to see a list of allocated tensors when OOM happens, add report_tensor_allocations_upon_oom to RunOptions for current allocation info.\n"
     ]
    }
   ],
   "source": [
    "pred_model_segnet = model_segnet.predict(X_test)"
   ]
  },
  {
   "cell_type": "code",
   "execution_count": null,
   "metadata": {
    "ExecuteTime": {
     "end_time": "2018-11-06T02:08:09.009421Z",
     "start_time": "2018-11-06T02:05:10.577Z"
    }
   },
   "outputs": [],
   "source": [
    "i = 5\n",
    "plt.figure()\n",
    "plt.subplot(1,2,1)\n",
    "plt.imshow(pred_model_segnet[i,:,:,:])\n",
    "plt.subplot(1,2,2)\n",
    "plt.imshow(y_test[i,:,:,:])"
   ]
  },
  {
   "cell_type": "markdown",
   "metadata": {},
   "source": [
    "## Modelo U-Net Res"
   ]
  },
  {
   "cell_type": "markdown",
   "metadata": {},
   "source": [
    "### Definir modelo"
   ]
  },
  {
   "cell_type": "code",
   "execution_count": null,
   "metadata": {
    "ExecuteTime": {
     "end_time": "2018-11-06T02:08:09.011422Z",
     "start_time": "2018-11-06T02:05:10.580Z"
    }
   },
   "outputs": [],
   "source": [
    "#Fuente: https://github.com/Anki0909/CWFID-Image-Segmentation/blob/master/main.py\n",
    "def unet_res(n_classes = 1, start_neurons = 16, DropoutRatio = 0.5, img_height=161,img_width=216):\n",
    "    \n",
    "    def BatchActivate(x):\n",
    "        x = BatchNormalization()(x)\n",
    "        x = Activation('relu')(x)\n",
    "        return x\n",
    "\n",
    "    def convolution_block(x, filters, size, strides=(1,1), padding='same', activation=True):\n",
    "        x = Conv2D(filters, size, strides=strides, padding=padding)(x)\n",
    "        if activation == True:\n",
    "            x = BatchActivate(x)\n",
    "        return x\n",
    "\n",
    "    def residual_block(blockInput, num_filters=16, batch_activate = False):\n",
    "        x = BatchActivate(blockInput)\n",
    "        x = convolution_block(x, num_filters, (3,3) )\n",
    "        x = convolution_block(x, num_filters, (3,3), activation=False)\n",
    "        x = Add()([x, blockInput])\n",
    "        if batch_activate:\n",
    "            x = BatchActivate(x)\n",
    "        return x\n",
    "\n",
    "    # 101 -> 50\n",
    "    input_layer = Input((img_height, img_width, 3))\n",
    "    zero_pad = ZeroPadding2D(padding=((7,8),(4,4)))(input_layer)\n",
    "    conv1 = Conv2D(start_neurons * 1, (3, 3), activation=None, padding=\"same\")(zero_pad)\n",
    "    conv1 = residual_block(conv1,start_neurons * 1)\n",
    "    conv1 = residual_block(conv1,start_neurons * 1, True)\n",
    "    pool1 = MaxPooling2D((2, 2))(conv1)\n",
    "    pool1 = Dropout(DropoutRatio/2)(pool1)\n",
    "\n",
    "    # 50 -> 25\n",
    "    conv2 = Conv2D(start_neurons * 2, (3, 3), activation=None, padding=\"same\")(pool1)\n",
    "    conv2 = residual_block(conv2,start_neurons * 2)\n",
    "    conv2 = residual_block(conv2,start_neurons * 2, True)\n",
    "    pool2 = MaxPooling2D((2, 2))(conv2)\n",
    "    pool2 = Dropout(DropoutRatio)(pool2)\n",
    "\n",
    "    # 25 -> 12\n",
    "    conv3 = Conv2D(start_neurons * 4, (3, 3), activation=None, padding=\"same\")(pool2)\n",
    "    conv3 = residual_block(conv3,start_neurons * 4)\n",
    "    conv3 = residual_block(conv3,start_neurons * 4, True)\n",
    "    pool3 = MaxPooling2D((2, 2))(conv3)\n",
    "    pool3 = Dropout(DropoutRatio)(pool3)\n",
    "\n",
    "    # 12 -> 6\n",
    "    conv4 = Conv2D(start_neurons * 8, (3, 3), activation=None, padding=\"same\")(pool3)\n",
    "    conv4 = residual_block(conv4,start_neurons * 8)\n",
    "    conv4 = residual_block(conv4,start_neurons * 8, True)\n",
    "    pool4 = MaxPooling2D((2, 2))(conv4)\n",
    "    pool4 = Dropout(DropoutRatio)(pool4)\n",
    "\n",
    "    # Middle\n",
    "    convm = Conv2D(start_neurons * 16, (3, 3), activation=None, padding=\"same\")(pool4)\n",
    "    convm = residual_block(convm,start_neurons * 16)\n",
    "    convm = residual_block(convm,start_neurons * 16, True)\n",
    "    \n",
    "    # 6 -> 12\n",
    "    deconv4 = Conv2DTranspose(start_neurons * 8, (3, 3), strides=(2, 2), padding=\"same\")(convm)\n",
    "    uconv4 = concatenate([deconv4, conv4])\n",
    "    uconv4 = Dropout(DropoutRatio)(uconv4)\n",
    "    \n",
    "    uconv4 = Conv2D(start_neurons * 8, (3, 3), activation=None, padding=\"same\")(uconv4)\n",
    "    uconv4 = residual_block(uconv4,start_neurons * 8)\n",
    "    uconv4 = residual_block(uconv4,start_neurons * 8, True)\n",
    "    \n",
    "    # 12 -> 25\n",
    "    deconv3 = Conv2DTranspose(start_neurons * 4, (3, 3), strides=(2, 2), padding=\"same\")(uconv4)\n",
    "    #deconv3 = Conv2DTranspose(start_neurons * 4, (3, 3), strides=(2, 2), padding=\"valid\")(uconv4)\n",
    "    uconv3 = concatenate([deconv3, conv3])    \n",
    "    uconv3 = Dropout(DropoutRatio)(uconv3)\n",
    "    \n",
    "    uconv3 = Conv2D(start_neurons * 4, (3, 3), activation=None, padding=\"same\")(uconv3)\n",
    "    uconv3 = residual_block(uconv3,start_neurons * 4)\n",
    "    uconv3 = residual_block(uconv3,start_neurons * 4, True)\n",
    "\n",
    "    # 25 -> 50\n",
    "    deconv2 = Conv2DTranspose(start_neurons * 2, (3, 3), strides=(2, 2), padding=\"same\")(uconv3)\n",
    "    uconv2 = concatenate([deconv2, conv2])\n",
    "        \n",
    "    uconv2 = Dropout(DropoutRatio)(uconv2)\n",
    "    uconv2 = Conv2D(start_neurons * 2, (3, 3), activation=None, padding=\"same\")(uconv2)\n",
    "    uconv2 = residual_block(uconv2,start_neurons * 2)\n",
    "    uconv2 = residual_block(uconv2,start_neurons * 2, True)\n",
    "    \n",
    "    # 50 -> 101\n",
    "    deconv1 = Conv2DTranspose(start_neurons * 1, (3, 3), strides=(2, 2), padding=\"same\")(uconv2)\n",
    "    #deconv1 = Conv2DTranspose(start_neurons * 1, (3, 3), strides=(2, 2), padding=\"valid\")(uconv2)\n",
    "    uconv1 = concatenate([deconv1, conv1])\n",
    "    \n",
    "    uconv1 = Dropout(DropoutRatio)(uconv1)\n",
    "    uconv1 = Conv2D(start_neurons * 1, (3, 3), activation=None, padding=\"same\")(uconv1)\n",
    "    uconv1 = residual_block(uconv1,start_neurons * 1)\n",
    "    uconv1 = residual_block(uconv1,start_neurons * 1, True)\n",
    "    \n",
    "    #uconv1 = Dropout(DropoutRatio/2)(uconv1)\n",
    "    #output_layer = Conv2D(1, (1,1), padding=\"same\", activation=\"sigmoid\")(uconv1)\n",
    "    output_layer_noActi = Conv2D(n_classes, (1,1), padding=\"same\", activation=None)(uconv1)\n",
    "    output_layer = Cropping2D(cropping=((7,8),(4,4)))(output_layer_noActi)\n",
    "    \n",
    "    if n_classes == 1:\n",
    "        output_layer = (Reshape((img_height, img_width),\n",
    "                          input_shape=(img_height, img_width, 3)))(output_layer)\n",
    "    else:\n",
    "        output_layer = (Reshape((img_height, img_width, n_classes),\n",
    "                          input_shape=(img_height, img_width, 3)))(output_layer)\n",
    "    \n",
    "    output_layer =  Activation('sigmoid')(output_layer)\n",
    "    \n",
    "    model = Model(input_layer, output_layer)\n",
    "    \n",
    "    return model"
   ]
  },
  {
   "cell_type": "code",
   "execution_count": null,
   "metadata": {
    "ExecuteTime": {
     "end_time": "2018-11-06T02:08:09.012424Z",
     "start_time": "2018-11-06T02:05:10.583Z"
    }
   },
   "outputs": [],
   "source": [
    "model_unet_res = unet_res(n_classes=3)\n",
    "model_unet_res.compile(loss = 'binary_crossentropy',\n",
    "             optimizer = 'Adam',\n",
    "             metrics = [f1, mean_iou])"
   ]
  },
  {
   "cell_type": "code",
   "execution_count": null,
   "metadata": {
    "ExecuteTime": {
     "end_time": "2018-11-06T02:08:09.013421Z",
     "start_time": "2018-11-06T02:05:10.585Z"
    },
    "scrolled": true
   },
   "outputs": [],
   "source": [
    "model_unet_res.summary()"
   ]
  },
  {
   "cell_type": "markdown",
   "metadata": {},
   "source": [
    "### Entrenamiento"
   ]
  },
  {
   "cell_type": "code",
   "execution_count": null,
   "metadata": {
    "ExecuteTime": {
     "end_time": "2018-11-06T02:08:09.014421Z",
     "start_time": "2018-11-06T02:05:10.589Z"
    },
    "scrolled": true
   },
   "outputs": [],
   "source": [
    "callbacks_full = [\n",
    "    ModelCheckpoint('model-unet-res-cwfid.h5', verbose=1, save_best_only=True)\n",
    "]\n",
    "\n",
    "model_unet_res_full_history = model_unet_res.fit(x = X_train,\n",
    "                         y = y_train,\n",
    "                         batch_size = 4,\n",
    "                         epochs = 10,\n",
    "                         verbose = 1,\n",
    "                         validation_split = 0.2,\n",
    "                          callbacks = callbacks_full\n",
    "                         )"
   ]
  },
  {
   "cell_type": "markdown",
   "metadata": {},
   "source": [
    "### k-Fold\n",
    "Puede demorar mucho tiempo"
   ]
  },
  {
   "cell_type": "code",
   "execution_count": null,
   "metadata": {
    "ExecuteTime": {
     "end_time": "2018-11-06T02:08:09.015422Z",
     "start_time": "2018-11-06T02:05:10.595Z"
    }
   },
   "outputs": [],
   "source": [
    "kfold = KFold(n_splits=1, shuffle=True, random_state=1337)"
   ]
  },
  {
   "cell_type": "code",
   "execution_count": null,
   "metadata": {
    "ExecuteTime": {
     "end_time": "2018-11-06T02:08:09.017422Z",
     "start_time": "2018-11-06T02:05:10.598Z"
    }
   },
   "outputs": [],
   "source": [
    "def k_fold(X_train, y_train):\n",
    "    \n",
    "    histories = []\n",
    "    for train, test in kfold.split(X_train, y_train):\n",
    "        _X_train = X_train[train]\n",
    "        x_val = X_train[test]\n",
    "        _y_train = y_train[train]\n",
    "        y_val = y_train[test]\n",
    "\n",
    "        # Fit the model for each split\n",
    "        callbacks_full = [\n",
    "            ModelCheckpoint('model-unet-res-cwfid.h5', verbose=1, save_best_only=True)\n",
    "        ]\n",
    "\n",
    "        model_unet_res_full_history = model_unet_res.fit(x = _X_train,\n",
    "                                 y = _y_train,\n",
    "                                 batch_size = 32,\n",
    "                                 epochs = 10,\n",
    "                                 verbose = 1,\n",
    "                                 validation_data=([x_val], y_val),callbacks = callbacks_full)\n",
    "\n",
    "        histories.append(model_unet_res_full_history)\n",
    "\n",
    "        # Evaluation after each split\n",
    "        scores = model_unet_res.evaluate(x_val, y_val)\n",
    "        print('Scores: {}'.format(scores))"
   ]
  },
  {
   "cell_type": "code",
   "execution_count": null,
   "metadata": {
    "ExecuteTime": {
     "end_time": "2018-11-06T02:08:09.018422Z",
     "start_time": "2018-11-06T02:05:10.601Z"
    },
    "scrolled": true
   },
   "outputs": [],
   "source": [
    "k_fold(X_train, y_train)"
   ]
  },
  {
   "cell_type": "markdown",
   "metadata": {},
   "source": [
    "### Métricas"
   ]
  },
  {
   "cell_type": "code",
   "execution_count": null,
   "metadata": {
    "ExecuteTime": {
     "end_time": "2018-11-06T02:08:09.020425Z",
     "start_time": "2018-11-06T02:05:10.604Z"
    }
   },
   "outputs": [],
   "source": [
    "pred_model_unet_res = model_unet_res.predict(X_test)"
   ]
  },
  {
   "cell_type": "code",
   "execution_count": null,
   "metadata": {
    "ExecuteTime": {
     "end_time": "2018-11-06T02:08:09.021423Z",
     "start_time": "2018-11-06T02:05:10.607Z"
    }
   },
   "outputs": [],
   "source": [
    "i = 5\n",
    "plt.figure()\n",
    "plt.subplot(2,3,1)\n",
    "plt.imshow(pred_model_unet_res[i,:,:,2])\n",
    "plt.subplot(2,3,4)\n",
    "plt.imshow(y_test[i,:,:,2])\n",
    "plt.subplot(2,3,2)\n",
    "plt.imshow(pred_model_unet_res[i,:,:,1])\n",
    "plt.subplot(2,3,5)\n",
    "plt.imshow(y_test[i,:,:,1])\n",
    "plt.subplot(2,3,3)\n",
    "plt.imshow(pred_model_unet_res[i,:,:,0])\n",
    "plt.subplot(2,3,6)\n",
    "plt.imshow(y_test[i,:,:,0])"
   ]
  },
  {
   "cell_type": "code",
   "execution_count": null,
   "metadata": {
    "ExecuteTime": {
     "end_time": "2018-11-06T02:08:09.023422Z",
     "start_time": "2018-11-06T02:05:10.610Z"
    },
    "scrolled": true
   },
   "outputs": [],
   "source": [
    "i = 5\n",
    "plt.figure()\n",
    "plt.subplot(1,2,1)\n",
    "plt.imshow(pred_model_unet_res[i,:,:,:])\n",
    "plt.subplot(1,2,2)\n",
    "plt.imshow(y_test[i,:,:,:])"
   ]
  }
 ],
 "metadata": {
  "kernelspec": {
   "display_name": "Python 3",
   "language": "python",
   "name": "python3"
  },
  "language_info": {
   "codemirror_mode": {
    "name": "ipython",
    "version": 3
   },
   "file_extension": ".py",
   "mimetype": "text/x-python",
   "name": "python",
   "nbconvert_exporter": "python",
   "pygments_lexer": "ipython3",
   "version": "3.6.5"
  },
  "toc": {
   "base_numbering": 1,
   "nav_menu": {},
   "number_sections": true,
   "sideBar": true,
   "skip_h1_title": false,
   "title_cell": "Table of Contents",
   "title_sidebar": "Contents",
   "toc_cell": false,
   "toc_position": {
    "height": "calc(100% - 180px)",
    "left": "10px",
    "top": "150px",
    "width": "273px"
   },
   "toc_section_display": true,
   "toc_window_display": true
  }
 },
 "nbformat": 4,
 "nbformat_minor": 2
}
