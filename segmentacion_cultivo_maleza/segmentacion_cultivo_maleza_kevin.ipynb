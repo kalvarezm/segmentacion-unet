{
 "cells": [
  {
   "cell_type": "markdown",
   "metadata": {},
   "source": [
    "# Segmentación de cultivo y maleza en agricultura de precisión aplicando U-Net\n",
    "\n",
    "Pontificia Universidad Católica del Perú\n",
    "\n",
    "Escuela de Posgrado PUCP, Maestría en Informática, Ciencias de la Computacion\n",
    "\n",
    "Curso: \n",
    "- Técnicas avanzadas de data mining y sistemas inteligentes\n",
    "\n",
    "Alumnos:\n",
    "- 20173589 Alarcon Flores, Jorge Brian\n",
    "- 20173685 Chicchón Apaza, Miguel Angel\n",
    "- 20173789 Alvarez Mouravskaia, Kevin\n",
    "- 20173810 Pacheco Condori, Jesús Edwar"
   ]
  },
  {
   "cell_type": "markdown",
   "metadata": {},
   "source": [
    "## Librerías"
   ]
  },
  {
   "cell_type": "code",
   "execution_count": 653,
   "metadata": {
    "ExecuteTime": {
     "end_time": "2018-11-05T21:05:45.985582Z",
     "start_time": "2018-11-05T21:05:45.978754Z"
    }
   },
   "outputs": [],
   "source": [
    "import numpy as np\n",
    "import cv2 #https://opencv-python-tutroals.readthedocs.io/en/latest/index.html\n",
    "import glob #https://docs.python.org/2/library/glob.html\n",
    "from skimage.transform import rescale, resize #https://scikit-image.org/\n",
    "from tqdm import tqdm_notebook as tqdm\n",
    "import logging\n",
    "import matplotlib.pyplot as plt\n",
    "%matplotlib inline\n",
    "from sklearn.model_selection import train_test_split\n",
    "from sklearn.model_selection import StratifiedKFold"
   ]
  },
  {
   "cell_type": "code",
   "execution_count": 289,
   "metadata": {
    "ExecuteTime": {
     "end_time": "2018-11-05T16:19:36.524109Z",
     "start_time": "2018-11-05T16:19:36.518951Z"
    }
   },
   "outputs": [],
   "source": [
    "from keras.models import Model, load_model, Sequential\n",
    "from keras.layers import Input, UpSampling2D, ZeroPadding2D, Layer, Cropping2D, Add, Activation, Reshape, BatchNormalization\n",
    "from keras.layers.core import Dropout, Lambda\n",
    "from keras.layers.convolutional import Conv2D, Conv2DTranspose\n",
    "from keras.layers.pooling import MaxPooling2D\n",
    "from keras.layers.merge import concatenate\n",
    "from keras.callbacks import EarlyStopping, ModelCheckpoint\n",
    "from keras import backend as K\n",
    "import tensorflow as tf"
   ]
  },
  {
   "cell_type": "code",
   "execution_count": 644,
   "metadata": {
    "ExecuteTime": {
     "end_time": "2018-11-05T20:57:17.175944Z",
     "start_time": "2018-11-05T20:57:17.143527Z"
    }
   },
   "outputs": [],
   "source": [
    "import pandas\n",
    "from keras.models import Sequential\n",
    "from keras.layers import Dense\n",
    "from keras.wrappers.scikit_learn import KerasClassifier\n",
    "from keras.utils import np_utils\n",
    "from sklearn.model_selection import cross_val_score\n",
    "from sklearn.model_selection import KFold\n",
    "from sklearn.preprocessing import LabelEncoder\n",
    "from sklearn.pipeline import Pipeline"
   ]
  },
  {
   "cell_type": "code",
   "execution_count": 7,
   "metadata": {
    "ExecuteTime": {
     "end_time": "2018-11-05T13:32:28.771501Z",
     "start_time": "2018-11-05T13:32:28.768194Z"
    }
   },
   "outputs": [],
   "source": [
    "logging.basicConfig(level=logging.INFO, format='%(asctime)s %(message)s')"
   ]
  },
  {
   "cell_type": "markdown",
   "metadata": {},
   "source": [
    "## Lectura de datos"
   ]
  },
  {
   "cell_type": "code",
   "execution_count": 575,
   "metadata": {
    "ExecuteTime": {
     "end_time": "2018-11-05T19:25:19.139579Z",
     "start_time": "2018-11-05T19:25:19.134472Z"
    }
   },
   "outputs": [],
   "source": [
    "def make_label(a):\n",
    "    \"\"\"\n",
    "    Método que etiqueta los labels según colores\n",
    "    Fuente: elaboración propia\n",
    "    \"\"\"    \n",
    "    if a[1] == 255:\n",
    "        a[0] = 255\n",
    "        a[1] = 0\n",
    "        a[2] = 0\n",
    "    elif a[2] == 255:\n",
    "        a[0] = 0\n",
    "        a[1] = 255\n",
    "        a[2] = 0\n",
    "    else:\n",
    "        a[0] = 0\n",
    "        a[1] = 0\n",
    "        a[2] = 255\n",
    "    return (a / 255)"
   ]
  },
  {
   "cell_type": "code",
   "execution_count": 576,
   "metadata": {
    "ExecuteTime": {
     "end_time": "2018-11-05T19:25:21.516069Z",
     "start_time": "2018-11-05T19:25:21.504540Z"
    }
   },
   "outputs": [],
   "source": [
    "class DatasetProvider():\n",
    "    \"\"\"\n",
    "    Clase que lee el dataset\n",
    "    Fuente: elaboración propia\n",
    "    \"\"\"\n",
    "    def __init__(self, scale=1.0/6.0):\n",
    "        self.scale = scale\n",
    "        self.x, self.y = self.__run__()\n",
    "        \n",
    "    def __run__(self):\n",
    "        labels = self.__read_images__('annotation') \n",
    "        images = self.__read_images__('image') \n",
    "        x = self.__create_x__(images)\n",
    "        y = self.__create_y_annotations__(labels)\n",
    "        return x, y\n",
    "        \n",
    "    def __create_x__(self, images):\n",
    "        logging.info('Creando imágenes')\n",
    "        scale = self.scale\n",
    "        height, width, channels = images[0].shape\n",
    "        x = np.zeros((len(images), int(height * scale), int(width * scale), channels))\n",
    "        for i, image in tqdm(enumerate(images)):\n",
    "            image_rescaled = rescale(image, scale, anti_aliasing=True, multichannel=True, mode='reflect')\n",
    "            x[i,:,:,:] = image_rescaled\n",
    "        return x\n",
    "    \n",
    "    def __create_y_annotations__(self, annotations, shape=3):\n",
    "        logging.info('Creando labels')\n",
    "        scale = self.scale\n",
    "        height, width, channels = annotations[0].shape\n",
    "        labels = np.zeros((height, width, shape))\n",
    "        y = np.zeros((len(annotations), int(height * scale), int(width * scale), shape))\n",
    "        for i, image in tqdm(enumerate(annotations)):\n",
    "            np_image = np.array(image)\n",
    "            np_image = np.apply_along_axis(make_label, -1, np_image)\n",
    "            image_rescaled = rescale(np_image, scale, anti_aliasing=True, multichannel=True, mode='reflect')\n",
    "            y[i,:,:,:] = image_rescaled\n",
    "        return y\n",
    "        \n",
    "    def __read_images__(self, prefix):\n",
    "        logging.info('Leyendo imágenes {}'.format(prefix))\n",
    "        images = []\n",
    "        path = '../dataset/cwfid/' + prefix + 's'\n",
    "        files = glob.glob(path + \"/*.png\")\n",
    "        files = np.sort(files) \n",
    "        for i, img_name in enumerate(files):\n",
    "            path_img = img_name.replace('\\\\','/')\n",
    "            img = cv2.imread(path_img)\n",
    "            images.append(img)\n",
    "        return images"
   ]
  },
  {
   "cell_type": "code",
   "execution_count": 577,
   "metadata": {
    "ExecuteTime": {
     "end_time": "2018-11-05T19:25:24.302705Z",
     "start_time": "2018-11-05T19:25:24.298309Z"
    }
   },
   "outputs": [],
   "source": [
    "def execute_dataset_provider():\n",
    "    dataset_provider = DatasetProvider()\n",
    "    X = dataset_provider.x\n",
    "    y = dataset_provider.y\n",
    "    return X, y"
   ]
  },
  {
   "cell_type": "code",
   "execution_count": 671,
   "metadata": {
    "ExecuteTime": {
     "end_time": "2018-11-05T21:35:10.225374Z",
     "start_time": "2018-11-05T21:23:06.619714Z"
    }
   },
   "outputs": [
    {
     "name": "stderr",
     "output_type": "stream",
     "text": [
      "2018-11-05 21:23:06,621 Leyendo imágenes annotation\n",
      "2018-11-05 21:23:07,336 Leyendo imágenes image\n",
      "2018-11-05 21:23:09,459 Creando imágenes\n"
     ]
    },
    {
     "data": {
      "application/vnd.jupyter.widget-view+json": {
       "model_id": "77519ab98b7a4694abe1dcc4083e5099",
       "version_major": 2,
       "version_minor": 0
      },
      "text/plain": [
       "HBox(children=(IntProgress(value=1, bar_style='info', max=1), HTML(value='')))"
      ]
     },
     "metadata": {},
     "output_type": "display_data"
    },
    {
     "name": "stderr",
     "output_type": "stream",
     "text": [
      "2018-11-05 21:23:17,821 Creando labels\n"
     ]
    },
    {
     "data": {
      "application/vnd.jupyter.widget-view+json": {
       "model_id": "418a3d48c7d844b1ae3676a0daf41495",
       "version_major": 2,
       "version_minor": 0
      },
      "text/plain": [
       "HBox(children=(IntProgress(value=1, bar_style='info', max=1), HTML(value='')))"
      ]
     },
     "metadata": {},
     "output_type": "display_data"
    }
   ],
   "source": [
    "X, y = execute_dataset_provider()"
   ]
  },
  {
   "cell_type": "code",
   "execution_count": 672,
   "metadata": {
    "ExecuteTime": {
     "end_time": "2018-11-05T21:35:10.233357Z",
     "start_time": "2018-11-05T21:35:10.228110Z"
    }
   },
   "outputs": [
    {
     "data": {
      "text/plain": [
       "((60, 161, 216, 3), (60, 161, 216, 3))"
      ]
     },
     "execution_count": 672,
     "metadata": {},
     "output_type": "execute_result"
    }
   ],
   "source": [
    "X.shape, y.shape"
   ]
  },
  {
   "cell_type": "code",
   "execution_count": 673,
   "metadata": {
    "ExecuteTime": {
     "end_time": "2018-11-05T21:35:10.432618Z",
     "start_time": "2018-11-05T21:35:10.235660Z"
    }
   },
   "outputs": [
    {
     "data": {
      "text/plain": [
       "<matplotlib.image.AxesImage at 0x7fb2287f5160>"
      ]
     },
     "execution_count": 673,
     "metadata": {},
     "output_type": "execute_result"
    },
    {
     "data": {
      "image/png": "[encoded data removed]",
      "text/plain": [
       "<Figure size 432x288 with 2 Axes>"
      ]
     },
     "metadata": {},
     "output_type": "display_data"
    }
   ],
   "source": [
    "np.random.seed(0)\n",
    "sample_idx = np.random.choice(len(X))  \n",
    "\n",
    "plt.subplot(1,2,1)\n",
    "plt.xticks([])\n",
    "plt.yticks([])\n",
    "plt.xlabel('img:{}'.format(sample_idx))\n",
    "plt.imshow(X[sample_idx,:,:,:])\n",
    "\n",
    "plt.subplot(1,2,2)\n",
    "plt.xticks([])\n",
    "plt.yticks([])\n",
    "plt.xlabel('img:{}'.format(sample_idx))\n",
    "plt.imshow(y[sample_idx,:,:,:])"
   ]
  },
  {
   "cell_type": "markdown",
   "metadata": {},
   "source": [
    "## Train validation split"
   ]
  },
  {
   "cell_type": "code",
   "execution_count": 674,
   "metadata": {
    "ExecuteTime": {
     "end_time": "2018-11-05T21:35:10.464810Z",
     "start_time": "2018-11-05T21:35:10.435606Z"
    }
   },
   "outputs": [],
   "source": [
    "X_train, X_test, y_train, y_test = train_test_split(X, y, test_size=0.33, random_state=42)"
   ]
  },
  {
   "cell_type": "code",
   "execution_count": 675,
   "metadata": {
    "ExecuteTime": {
     "end_time": "2018-11-05T21:35:10.473761Z",
     "start_time": "2018-11-05T21:35:10.468130Z"
    }
   },
   "outputs": [
    {
     "data": {
      "text/plain": [
       "((40, 161, 216, 3), (20, 161, 216, 3))"
      ]
     },
     "execution_count": 675,
     "metadata": {},
     "output_type": "execute_result"
    }
   ],
   "source": [
    "X_train.shape, X_test.shape"
   ]
  },
  {
   "cell_type": "markdown",
   "metadata": {},
   "source": [
    "## Pre entrenamiento (Aumentación)"
   ]
  },
  {
   "cell_type": "code",
   "execution_count": 676,
   "metadata": {
    "ExecuteTime": {
     "end_time": "2018-11-05T21:35:10.482767Z",
     "start_time": "2018-11-05T21:35:10.476344Z"
    }
   },
   "outputs": [],
   "source": [
    "class DatasetAugmentation():\n",
    "    \n",
    "    def __init__(self, X, y):\n",
    "        self.X, self.y = self.__run__(X, y)\n",
    "        \n",
    "    def __run__(self, X, y):\n",
    "        logging.info('Realizando aumentación')\n",
    "        X_augmentated = X\n",
    "        y_augmentated = y\n",
    "        for i, x_image in tqdm(enumerate(X)):\n",
    "            fliplr_x_image = np.fliplr(x_image)\n",
    "            flipup_x_image = np.flipud(x_image)\n",
    "            fliplr_y_image = np.fliplr(y[i])\n",
    "            flipup_y_image = np.flipud(y[i])\n",
    "            X_augmentated = np.append(X_augmentated, [fliplr_x_image], axis=0)\n",
    "            X_augmentated = np.append(X_augmentated, [flipup_x_image], axis=0)\n",
    "            y_augmentated = np.append(y_augmentated, [fliplr_y_image], axis=0)\n",
    "            y_augmentated = np.append(y_augmentated, [flipup_y_image], axis=0)\n",
    "        return X_augmentated, y_augmentated"
   ]
  },
  {
   "cell_type": "code",
   "execution_count": 677,
   "metadata": {
    "ExecuteTime": {
     "end_time": "2018-11-05T21:35:10.489878Z",
     "start_time": "2018-11-05T21:35:10.484984Z"
    }
   },
   "outputs": [],
   "source": [
    "def execute_dataset_pretrain(X, y):\n",
    "    dataset = DatasetAugmentation(X, y)\n",
    "    X_augmentated =  dataset.X\n",
    "    y_augmentated = dataset.y\n",
    "    return X_augmentated, y_augmentated"
   ]
  },
  {
   "cell_type": "code",
   "execution_count": 678,
   "metadata": {
    "ExecuteTime": {
     "end_time": "2018-11-05T21:35:20.009343Z",
     "start_time": "2018-11-05T21:35:10.492261Z"
    }
   },
   "outputs": [
    {
     "name": "stderr",
     "output_type": "stream",
     "text": [
      "2018-11-05 21:35:10,494 Realizando aumentación\n"
     ]
    },
    {
     "data": {
      "application/vnd.jupyter.widget-view+json": {
       "model_id": "078523e58e98457098f4327feba75697",
       "version_major": 2,
       "version_minor": 0
      },
      "text/plain": [
       "HBox(children=(IntProgress(value=1, bar_style='info', max=1), HTML(value='')))"
      ]
     },
     "metadata": {},
     "output_type": "display_data"
    },
    {
     "name": "stderr",
     "output_type": "stream",
     "text": [
      "2018-11-05 21:35:18,634 Realizando aumentación\n"
     ]
    },
    {
     "data": {
      "application/vnd.jupyter.widget-view+json": {
       "model_id": "8ed4238ec11e401c81405fb6c0b36a75",
       "version_major": 2,
       "version_minor": 0
      },
      "text/plain": [
       "HBox(children=(IntProgress(value=1, bar_style='info', max=1), HTML(value='')))"
      ]
     },
     "metadata": {},
     "output_type": "display_data"
    }
   ],
   "source": [
    "X_train, y_train = execute_dataset_pretrain(X_train, y_train)\n",
    "X_test, y_test = execute_dataset_pretrain(X_test, y_test)"
   ]
  },
  {
   "cell_type": "code",
   "execution_count": 679,
   "metadata": {
    "ExecuteTime": {
     "end_time": "2018-11-05T21:35:20.016585Z",
     "start_time": "2018-11-05T21:35:20.012014Z"
    },
    "scrolled": true
   },
   "outputs": [
    {
     "data": {
      "text/plain": [
       "((120, 161, 216, 3), (60, 161, 216, 3))"
      ]
     },
     "execution_count": 679,
     "metadata": {},
     "output_type": "execute_result"
    }
   ],
   "source": [
    "X_train.shape, X_test.shape"
   ]
  },
  {
   "cell_type": "markdown",
   "metadata": {},
   "source": [
    "## Pre entrenamiento (normalización)"
   ]
  },
  {
   "cell_type": "code",
   "execution_count": 469,
   "metadata": {
    "ExecuteTime": {
     "end_time": "2018-11-05T18:33:48.800729Z",
     "start_time": "2018-11-05T18:33:48.797687Z"
    }
   },
   "outputs": [],
   "source": [
    "## TODO validar si es necesario"
   ]
  },
  {
   "cell_type": "markdown",
   "metadata": {},
   "source": [
    "## Métricas"
   ]
  },
  {
   "cell_type": "code",
   "execution_count": 470,
   "metadata": {
    "ExecuteTime": {
     "end_time": "2018-11-05T18:33:48.809507Z",
     "start_time": "2018-11-05T18:33:48.803170Z"
    }
   },
   "outputs": [],
   "source": [
    "def f1(y_true, y_pred):\n",
    "    def recall(y_true, y_pred):\n",
    "        true_positives = K.sum(K.round(K.clip(y_true * y_pred, 0, 1)))\n",
    "        possible_positives = K.sum(K.round(K.clip(y_true, 0, 1)))\n",
    "        recall = true_positives / (possible_positives + K.epsilon())\n",
    "        return recall\n",
    "\n",
    "    def precision(y_true, y_pred):\n",
    "        true_positives = K.sum(K.round(K.clip(y_true * y_pred, 0, 1)))\n",
    "        predicted_positives = K.sum(K.round(K.clip(y_pred, 0, 1)))\n",
    "        precision = true_positives / (predicted_positives + K.epsilon())\n",
    "        return precision\n",
    "    \n",
    "    precision = precision(y_true, y_pred)\n",
    "    recall = recall(y_true, y_pred)\n",
    "    return 2*((precision*recall)/(precision+recall+K.epsilon()))"
   ]
  },
  {
   "cell_type": "code",
   "execution_count": 319,
   "metadata": {
    "ExecuteTime": {
     "end_time": "2018-11-05T16:45:16.882818Z",
     "start_time": "2018-11-05T16:45:16.878054Z"
    }
   },
   "outputs": [],
   "source": [
    "# Define IoU metric\n",
    "def mean_iou(y_true, y_pred):\n",
    "    prec = []\n",
    "    for t in np.arange(0.5, 1.0, 0.05):\n",
    "        y_pred_ = tf.to_int32(y_pred > t)\n",
    "        score, up_opt = tf.metrics.mean_iou(y_true, y_pred_, 2)\n",
    "        K.get_session().run(tf.local_variables_initializer())\n",
    "        with tf.control_dependencies([up_opt]):\n",
    "            score = tf.identity(score)\n",
    "        prec.append(score)\n",
    "    return K.mean(K.stack(prec), axis=0)"
   ]
  },
  {
   "cell_type": "markdown",
   "metadata": {},
   "source": [
    "## Modelo U-Net"
   ]
  },
  {
   "cell_type": "markdown",
   "metadata": {},
   "source": [
    "### Definir modelo"
   ]
  },
  {
   "cell_type": "markdown",
   "metadata": {},
   "source": [
    "![title](https://lmb.informatik.uni-freiburg.de/people/ronneber/u-net/u-net-architecture.png)"
   ]
  },
  {
   "cell_type": "code",
   "execution_count": 603,
   "metadata": {
    "ExecuteTime": {
     "end_time": "2018-11-05T19:54:02.863709Z",
     "start_time": "2018-11-05T19:54:02.847703Z"
    }
   },
   "outputs": [],
   "source": [
    "class ModelUnetCreator():\n",
    "    \n",
    "    #Fuente: https://www.kaggle.com/keegil/keras-u-net-starter-lb-0-277\n",
    "    def unet(self, height, width, channels):\n",
    "        \n",
    "        start_neurons = 16\n",
    "        n_classes = 3\n",
    "        \n",
    "        #input\n",
    "        inputs = Input((height, width, channels))\n",
    "        zero_padding = ZeroPadding2D(padding=((7,8),(4,4))) (inputs)\n",
    "        \n",
    "        #downscaling\n",
    "        c1 = Conv2D(16, (3, 3), activation='relu', padding='same') (zero_padding)\n",
    "        c1 = Dropout(0.1) (c1)\n",
    "        c1 = Conv2D(16, (3, 3), activation='relu', padding='same') (c1)\n",
    "        p1 = MaxPooling2D((2, 2)) (c1)\n",
    "        \n",
    "        c2 = Conv2D(32, (3, 3), activation='relu', padding='same') (p1)\n",
    "        c2 = Dropout(0.1) (c2)\n",
    "        c2 = Conv2D(32, (3, 3), activation='relu', padding='same') (c2)\n",
    "        p2 = MaxPooling2D((2, 2)) (c2)\n",
    "\n",
    "        c3 = Conv2D(64, (3, 3), activation='relu', padding='same') (p2)\n",
    "        c3 = Dropout(0.2) (c3)\n",
    "        c3 = Conv2D(64, (3, 3), activation='relu', padding='same') (c3)\n",
    "        p3 = MaxPooling2D((2, 2)) (c3)\n",
    "\n",
    "        c4 = Conv2D(128, (3, 3), activation='relu', padding='same') (p3)\n",
    "        c4 = Dropout(0.2) (c4)\n",
    "        c4 = Conv2D(128, (3, 3), activation='relu', padding='same') (c4)\n",
    "        p4 = MaxPooling2D(pool_size=(2, 2)) (c4)\n",
    "        \n",
    "        #capa intermedia \n",
    "        c5 = Conv2D(256, (3, 3), activation='relu', padding='same') (p4)\n",
    "        c5 = Dropout(0.3) (c5)\n",
    "        c5 = Conv2D(256, (3, 3), activation='relu', padding='same') (c5)\n",
    "        \n",
    "        #upscaling\n",
    "        u6 = Conv2DTranspose(128, (2, 2), strides=(2, 2), padding='same') (c5)\n",
    "        u6 = concatenate([u6, c4])\n",
    "        c6 = Conv2D(128, (3, 3), activation='relu', padding='same') (u6)\n",
    "        c6 = Dropout(0.2) (c6)\n",
    "        c6 = Conv2D(128, (3, 3), activation='relu', padding='same') (c6)\n",
    "\n",
    "        u7 = Conv2DTranspose(64, (2, 2), strides=(2, 2), padding='same') (c6)\n",
    "        u7 = concatenate([u7, c3])\n",
    "        c7 = Conv2D(64, (3, 3), activation='relu', padding='same') (u7)\n",
    "        c7 = Dropout(0.2) (c7)\n",
    "        c7 = Conv2D(64, (3, 3), activation='relu', padding='same') (c7)\n",
    "\n",
    "        u8 = Conv2DTranspose(32, (2, 2), strides=(2, 2), padding='same') (c7)\n",
    "        u8 = concatenate([u8, c2])\n",
    "        c8 = Conv2D(32, (3, 3), activation='relu', padding='same') (u8)\n",
    "        c8 = Dropout(0.1) (c8)\n",
    "        c8 = Conv2D(32, (3, 3), activation='relu', padding='same') (c8)\n",
    "\n",
    "        u9 = Conv2DTranspose(16, (2, 2), strides=(2, 2), padding='same') (c8)\n",
    "        u9 = concatenate([u9, c1], axis=3)\n",
    "        c9 = Conv2D(16, (3, 3), activation='relu', padding='same') (u9)\n",
    "        c9 = Dropout(0.1) (c9)\n",
    "        c9 = Conv2D(16, (3, 3), activation='relu', padding='same') (c9)\n",
    "        \n",
    "        #output\n",
    "        output = Conv2D(n_classes, (1,1), padding=\"same\", activation=None)(c9)\n",
    "        output = Cropping2D(cropping=((7,8),(4,4))) (output)\n",
    "        output_layer = (Reshape((height, width, 3),\n",
    "                          input_shape=(height, width, 3)))(output)\n",
    "        output_layer =  Activation('sigmoid')(output_layer)\n",
    "        \n",
    "        model = Model(inputs=[inputs], outputs=[output_layer])\n",
    "        \n",
    "        return model    "
   ]
  },
  {
   "cell_type": "code",
   "execution_count": 604,
   "metadata": {
    "ExecuteTime": {
     "end_time": "2018-11-05T19:54:04.945389Z",
     "start_time": "2018-11-05T19:54:04.940838Z"
    }
   },
   "outputs": [],
   "source": [
    "def execute_model_unet():\n",
    "    logging.info('Creando modelo U-Net')\n",
    "    model = ModelUnetCreator()\n",
    "    model_unet = model.unet(X_train.shape[1], X_train.shape[2], X_train.shape[3])\n",
    "    model_unet.compile(loss = 'binary_crossentropy',\n",
    "             optimizer = 'Adam',\n",
    "             metrics = [f1, mean_iou])\n",
    "    model_unet.summary()\n",
    "    return model_unet"
   ]
  },
  {
   "cell_type": "code",
   "execution_count": 605,
   "metadata": {
    "ExecuteTime": {
     "end_time": "2018-11-05T19:56:15.821372Z",
     "start_time": "2018-11-05T19:54:07.159853Z"
    },
    "scrolled": true
   },
   "outputs": [
    {
     "name": "stderr",
     "output_type": "stream",
     "text": [
      "2018-11-05 19:54:07,161 Creando modelo U-Net\n"
     ]
    },
    {
     "name": "stdout",
     "output_type": "stream",
     "text": [
      "__________________________________________________________________________________________________\n",
      "Layer (type)                    Output Shape         Param #     Connected to                     \n",
      "==================================================================================================\n",
      "input_47 (InputLayer)           (None, 161, 216, 3)  0                                            \n",
      "__________________________________________________________________________________________________\n",
      "zero_padding2d_73 (ZeroPadding2 (None, 176, 224, 3)  0           input_47[0][0]                   \n",
      "__________________________________________________________________________________________________\n",
      "conv2d_878 (Conv2D)             (None, 176, 224, 16) 448         zero_padding2d_73[0][0]          \n",
      "__________________________________________________________________________________________________\n",
      "dropout_379 (Dropout)           (None, 176, 224, 16) 0           conv2d_878[0][0]                 \n",
      "__________________________________________________________________________________________________\n",
      "conv2d_879 (Conv2D)             (None, 176, 224, 16) 2320        dropout_379[0][0]                \n",
      "__________________________________________________________________________________________________\n",
      "max_pooling2d_257 (MaxPooling2D (None, 88, 112, 16)  0           conv2d_879[0][0]                 \n",
      "__________________________________________________________________________________________________\n",
      "conv2d_880 (Conv2D)             (None, 88, 112, 32)  4640        max_pooling2d_257[0][0]          \n",
      "__________________________________________________________________________________________________\n",
      "dropout_380 (Dropout)           (None, 88, 112, 32)  0           conv2d_880[0][0]                 \n",
      "__________________________________________________________________________________________________\n",
      "conv2d_881 (Conv2D)             (None, 88, 112, 32)  9248        dropout_380[0][0]                \n",
      "__________________________________________________________________________________________________\n",
      "max_pooling2d_258 (MaxPooling2D (None, 44, 56, 32)   0           conv2d_881[0][0]                 \n",
      "__________________________________________________________________________________________________\n",
      "conv2d_882 (Conv2D)             (None, 44, 56, 64)   18496       max_pooling2d_258[0][0]          \n",
      "__________________________________________________________________________________________________\n",
      "dropout_381 (Dropout)           (None, 44, 56, 64)   0           conv2d_882[0][0]                 \n",
      "__________________________________________________________________________________________________\n",
      "conv2d_883 (Conv2D)             (None, 44, 56, 64)   36928       dropout_381[0][0]                \n",
      "__________________________________________________________________________________________________\n",
      "max_pooling2d_259 (MaxPooling2D (None, 22, 28, 64)   0           conv2d_883[0][0]                 \n",
      "__________________________________________________________________________________________________\n",
      "conv2d_884 (Conv2D)             (None, 22, 28, 128)  73856       max_pooling2d_259[0][0]          \n",
      "__________________________________________________________________________________________________\n",
      "dropout_382 (Dropout)           (None, 22, 28, 128)  0           conv2d_884[0][0]                 \n",
      "__________________________________________________________________________________________________\n",
      "conv2d_885 (Conv2D)             (None, 22, 28, 128)  147584      dropout_382[0][0]                \n",
      "__________________________________________________________________________________________________\n",
      "max_pooling2d_260 (MaxPooling2D (None, 11, 14, 128)  0           conv2d_885[0][0]                 \n",
      "__________________________________________________________________________________________________\n",
      "conv2d_886 (Conv2D)             (None, 11, 14, 256)  295168      max_pooling2d_260[0][0]          \n",
      "__________________________________________________________________________________________________\n",
      "dropout_383 (Dropout)           (None, 11, 14, 256)  0           conv2d_886[0][0]                 \n",
      "__________________________________________________________________________________________________\n",
      "conv2d_887 (Conv2D)             (None, 11, 14, 256)  590080      dropout_383[0][0]                \n",
      "__________________________________________________________________________________________________\n",
      "conv2d_transpose_114 (Conv2DTra (None, 22, 28, 128)  131200      conv2d_887[0][0]                 \n",
      "__________________________________________________________________________________________________\n",
      "concatenate_82 (Concatenate)    (None, 22, 28, 256)  0           conv2d_transpose_114[0][0]       \n",
      "                                                                 conv2d_885[0][0]                 \n",
      "__________________________________________________________________________________________________\n",
      "conv2d_888 (Conv2D)             (None, 22, 28, 128)  295040      concatenate_82[0][0]             \n",
      "__________________________________________________________________________________________________\n",
      "dropout_384 (Dropout)           (None, 22, 28, 128)  0           conv2d_888[0][0]                 \n",
      "__________________________________________________________________________________________________\n",
      "conv2d_889 (Conv2D)             (None, 22, 28, 128)  147584      dropout_384[0][0]                \n",
      "__________________________________________________________________________________________________\n",
      "conv2d_transpose_115 (Conv2DTra (None, 44, 56, 64)   32832       conv2d_889[0][0]                 \n",
      "__________________________________________________________________________________________________\n",
      "concatenate_83 (Concatenate)    (None, 44, 56, 128)  0           conv2d_transpose_115[0][0]       \n",
      "                                                                 conv2d_883[0][0]                 \n",
      "__________________________________________________________________________________________________\n",
      "conv2d_890 (Conv2D)             (None, 44, 56, 64)   73792       concatenate_83[0][0]             \n",
      "__________________________________________________________________________________________________\n",
      "dropout_385 (Dropout)           (None, 44, 56, 64)   0           conv2d_890[0][0]                 \n",
      "__________________________________________________________________________________________________\n",
      "conv2d_891 (Conv2D)             (None, 44, 56, 64)   36928       dropout_385[0][0]                \n",
      "__________________________________________________________________________________________________\n",
      "conv2d_transpose_116 (Conv2DTra (None, 88, 112, 32)  8224        conv2d_891[0][0]                 \n",
      "__________________________________________________________________________________________________\n",
      "concatenate_84 (Concatenate)    (None, 88, 112, 64)  0           conv2d_transpose_116[0][0]       \n",
      "                                                                 conv2d_881[0][0]                 \n",
      "__________________________________________________________________________________________________\n",
      "conv2d_892 (Conv2D)             (None, 88, 112, 32)  18464       concatenate_84[0][0]             \n",
      "__________________________________________________________________________________________________\n",
      "dropout_386 (Dropout)           (None, 88, 112, 32)  0           conv2d_892[0][0]                 \n",
      "__________________________________________________________________________________________________\n",
      "conv2d_893 (Conv2D)             (None, 88, 112, 32)  9248        dropout_386[0][0]                \n",
      "__________________________________________________________________________________________________\n",
      "conv2d_transpose_117 (Conv2DTra (None, 176, 224, 16) 2064        conv2d_893[0][0]                 \n",
      "__________________________________________________________________________________________________\n",
      "concatenate_85 (Concatenate)    (None, 176, 224, 32) 0           conv2d_transpose_117[0][0]       \n",
      "                                                                 conv2d_879[0][0]                 \n",
      "__________________________________________________________________________________________________\n",
      "conv2d_894 (Conv2D)             (None, 176, 224, 16) 4624        concatenate_85[0][0]             \n",
      "__________________________________________________________________________________________________\n",
      "dropout_387 (Dropout)           (None, 176, 224, 16) 0           conv2d_894[0][0]                 \n",
      "__________________________________________________________________________________________________\n",
      "conv2d_895 (Conv2D)             (None, 176, 224, 16) 2320        dropout_387[0][0]                \n",
      "__________________________________________________________________________________________________\n",
      "conv2d_896 (Conv2D)             (None, 176, 224, 3)  51          conv2d_895[0][0]                 \n",
      "__________________________________________________________________________________________________\n",
      "cropping2d_49 (Cropping2D)      (None, 161, 216, 3)  0           conv2d_896[0][0]                 \n",
      "__________________________________________________________________________________________________\n",
      "reshape_7 (Reshape)             (None, 161, 216, 3)  0           cropping2d_49[0][0]              \n",
      "__________________________________________________________________________________________________\n",
      "activation_462 (Activation)     (None, 161, 216, 3)  0           reshape_7[0][0]                  \n",
      "==================================================================================================\n",
      "Total params: 1,941,139\n",
      "Trainable params: 1,941,139\n",
      "Non-trainable params: 0\n",
      "__________________________________________________________________________________________________\n"
     ]
    }
   ],
   "source": [
    "model_unet = execute_model_unet()"
   ]
  },
  {
   "cell_type": "markdown",
   "metadata": {},
   "source": [
    "### Entrenamiento"
   ]
  },
  {
   "cell_type": "code",
   "execution_count": 607,
   "metadata": {
    "ExecuteTime": {
     "end_time": "2018-11-05T19:59:25.089202Z",
     "start_time": "2018-11-05T19:57:23.750786Z"
    },
    "scrolled": true
   },
   "outputs": [
    {
     "name": "stdout",
     "output_type": "stream",
     "text": [
      "Train on 96 samples, validate on 24 samples\n",
      "Epoch 1/30\n",
      "96/96 [==============================] - 9s 90ms/step - loss: 0.6895 - f1: 0.5149 - mean_iou: 0.2304 - val_loss: 0.6610 - val_f1: 0.6343 - val_mean_iou: 0.3544\n",
      "\n",
      "Epoch 00001: val_loss improved from inf to 0.66100, saving model to model-unet-cwfid.h5\n",
      "Epoch 2/30\n",
      "96/96 [==============================] - 2s 19ms/step - loss: 0.6221 - f1: 0.7089 - mean_iou: 0.3634 - val_loss: 0.4496 - val_f1: 0.8044 - val_mean_iou: 0.3877\n",
      "\n",
      "Epoch 00002: val_loss improved from 0.66100 to 0.44959, saving model to model-unet-cwfid.h5\n",
      "Epoch 3/30\n",
      "96/96 [==============================] - 2s 18ms/step - loss: 0.4340 - f1: 0.8281 - mean_iou: 0.4503 - val_loss: 0.3414 - val_f1: 0.9292 - val_mean_iou: 0.5250\n",
      "\n",
      "Epoch 00003: val_loss improved from 0.44959 to 0.34144, saving model to model-unet-cwfid.h5\n",
      "Epoch 4/30\n",
      "96/96 [==============================] - 2s 18ms/step - loss: 0.3107 - f1: 0.9227 - mean_iou: 0.5597 - val_loss: 0.2811 - val_f1: 0.9308 - val_mean_iou: 0.5925\n",
      "\n",
      "Epoch 00004: val_loss improved from 0.34144 to 0.28107, saving model to model-unet-cwfid.h5\n",
      "Epoch 5/30\n",
      "96/96 [==============================] - 2s 18ms/step - loss: 0.2549 - f1: 0.9271 - mean_iou: 0.6183 - val_loss: 0.2226 - val_f1: 0.9330 - val_mean_iou: 0.6473\n",
      "\n",
      "Epoch 00005: val_loss improved from 0.28107 to 0.22264, saving model to model-unet-cwfid.h5\n",
      "Epoch 6/30\n",
      "96/96 [==============================] - 2s 18ms/step - loss: 0.2497 - f1: 0.9276 - mean_iou: 0.6680 - val_loss: 0.2256 - val_f1: 0.9317 - val_mean_iou: 0.6882\n",
      "\n",
      "Epoch 00006: val_loss did not improve from 0.22264\n",
      "Epoch 7/30\n",
      "96/96 [==============================] - 2s 18ms/step - loss: 0.2256 - f1: 0.9264 - mean_iou: 0.7007 - val_loss: 0.2353 - val_f1: 0.9308 - val_mean_iou: 0.7126\n",
      "\n",
      "Epoch 00007: val_loss did not improve from 0.22264\n",
      "Epoch 8/30\n",
      "96/96 [==============================] - 2s 18ms/step - loss: 0.2111 - f1: 0.9265 - mean_iou: 0.7207 - val_loss: 0.1894 - val_f1: 0.9322 - val_mean_iou: 0.7307\n",
      "\n",
      "Epoch 00008: val_loss improved from 0.22264 to 0.18937, saving model to model-unet-cwfid.h5\n",
      "Epoch 9/30\n",
      "96/96 [==============================] - 2s 18ms/step - loss: 0.2000 - f1: 0.9273 - mean_iou: 0.7392 - val_loss: 0.1790 - val_f1: 0.9320 - val_mean_iou: 0.7480\n",
      "\n",
      "Epoch 00009: val_loss improved from 0.18937 to 0.17899, saving model to model-unet-cwfid.h5\n",
      "Epoch 10/30\n",
      "96/96 [==============================] - 2s 18ms/step - loss: 0.1851 - f1: 0.9265 - mean_iou: 0.7544 - val_loss: 0.1838 - val_f1: 0.9304 - val_mean_iou: 0.7608\n",
      "\n",
      "Epoch 00010: val_loss did not improve from 0.17899\n",
      "Epoch 11/30\n",
      "96/96 [==============================] - 2s 18ms/step - loss: 0.1761 - f1: 0.9255 - mean_iou: 0.7648 - val_loss: 0.1591 - val_f1: 0.9310 - val_mean_iou: 0.7694\n",
      "\n",
      "Epoch 00011: val_loss improved from 0.17899 to 0.15909, saving model to model-unet-cwfid.h5\n",
      "Epoch 12/30\n",
      "96/96 [==============================] - 2s 18ms/step - loss: 0.1638 - f1: 0.9261 - mean_iou: 0.7736 - val_loss: 0.1472 - val_f1: 0.9308 - val_mean_iou: 0.7784\n",
      "\n",
      "Epoch 00012: val_loss improved from 0.15909 to 0.14723, saving model to model-unet-cwfid.h5\n",
      "Epoch 13/30\n",
      "96/96 [==============================] - 2s 18ms/step - loss: 0.1528 - f1: 0.9251 - mean_iou: 0.7821 - val_loss: 0.1453 - val_f1: 0.9289 - val_mean_iou: 0.7857\n",
      "\n",
      "Epoch 00013: val_loss improved from 0.14723 to 0.14534, saving model to model-unet-cwfid.h5\n",
      "Epoch 14/30\n",
      "96/96 [==============================] - 2s 18ms/step - loss: 0.1432 - f1: 0.9240 - mean_iou: 0.7883 - val_loss: 0.1289 - val_f1: 0.9295 - val_mean_iou: 0.7914\n",
      "\n",
      "Epoch 00014: val_loss improved from 0.14534 to 0.12893, saving model to model-unet-cwfid.h5\n",
      "Epoch 15/30\n",
      "96/96 [==============================] - 2s 18ms/step - loss: 0.1330 - f1: 0.9241 - mean_iou: 0.7945 - val_loss: 0.1226 - val_f1: 0.9277 - val_mean_iou: 0.7979\n",
      "\n",
      "Epoch 00015: val_loss improved from 0.12893 to 0.12260, saving model to model-unet-cwfid.h5\n",
      "Epoch 16/30\n",
      "96/96 [==============================] - 2s 18ms/step - loss: 0.1251 - f1: 0.9223 - mean_iou: 0.8004 - val_loss: 0.1131 - val_f1: 0.9280 - val_mean_iou: 0.8034\n",
      "\n",
      "Epoch 00016: val_loss improved from 0.12260 to 0.11306, saving model to model-unet-cwfid.h5\n",
      "Epoch 17/30\n",
      "96/96 [==============================] - 2s 18ms/step - loss: 0.1188 - f1: 0.9228 - mean_iou: 0.8062 - val_loss: 0.1124 - val_f1: 0.9256 - val_mean_iou: 0.8093\n",
      "\n",
      "Epoch 00017: val_loss improved from 0.11306 to 0.11239, saving model to model-unet-cwfid.h5\n",
      "Epoch 18/30\n",
      "96/96 [==============================] - 2s 18ms/step - loss: 0.1144 - f1: 0.9210 - mean_iou: 0.8118 - val_loss: 0.1046 - val_f1: 0.9271 - val_mean_iou: 0.8146\n",
      "\n",
      "Epoch 00018: val_loss improved from 0.11239 to 0.10455, saving model to model-unet-cwfid.h5\n",
      "Epoch 19/30\n",
      "96/96 [==============================] - 2s 18ms/step - loss: 0.1092 - f1: 0.9204 - mean_iou: 0.8171 - val_loss: 0.1006 - val_f1: 0.9242 - val_mean_iou: 0.8198\n",
      "\n",
      "Epoch 00019: val_loss improved from 0.10455 to 0.10058, saving model to model-unet-cwfid.h5\n",
      "Epoch 20/30\n",
      "96/96 [==============================] - 2s 18ms/step - loss: 0.1037 - f1: 0.9192 - mean_iou: 0.8221 - val_loss: 0.0938 - val_f1: 0.9242 - val_mean_iou: 0.8247\n",
      "\n",
      "Epoch 00020: val_loss improved from 0.10058 to 0.09381, saving model to model-unet-cwfid.h5\n",
      "Epoch 21/30\n",
      "96/96 [==============================] - 2s 18ms/step - loss: 0.0978 - f1: 0.9189 - mean_iou: 0.8269 - val_loss: 0.0892 - val_f1: 0.9242 - val_mean_iou: 0.8293\n",
      "\n",
      "Epoch 00021: val_loss improved from 0.09381 to 0.08922, saving model to model-unet-cwfid.h5\n",
      "Epoch 22/30\n",
      "96/96 [==============================] - 2s 18ms/step - loss: 0.0934 - f1: 0.9190 - mean_iou: 0.8314 - val_loss: 0.0878 - val_f1: 0.9254 - val_mean_iou: 0.8337\n",
      "\n",
      "Epoch 00022: val_loss improved from 0.08922 to 0.08783, saving model to model-unet-cwfid.h5\n",
      "Epoch 23/30\n",
      "96/96 [==============================] - 2s 18ms/step - loss: 0.0912 - f1: 0.9201 - mean_iou: 0.8356 - val_loss: 0.0841 - val_f1: 0.9256 - val_mean_iou: 0.8378\n",
      "\n",
      "Epoch 00023: val_loss improved from 0.08783 to 0.08411, saving model to model-unet-cwfid.h5\n",
      "Epoch 24/30\n",
      "96/96 [==============================] - 2s 18ms/step - loss: 0.0885 - f1: 0.9204 - mean_iou: 0.8396 - val_loss: 0.0821 - val_f1: 0.9254 - val_mean_iou: 0.8416\n",
      "\n",
      "Epoch 00024: val_loss improved from 0.08411 to 0.08205, saving model to model-unet-cwfid.h5\n",
      "Epoch 25/30\n",
      "96/96 [==============================] - 2s 18ms/step - loss: 0.0864 - f1: 0.9209 - mean_iou: 0.8434 - val_loss: 0.0810 - val_f1: 0.9262 - val_mean_iou: 0.8452\n",
      "\n",
      "Epoch 00025: val_loss improved from 0.08205 to 0.08100, saving model to model-unet-cwfid.h5\n",
      "Epoch 26/30\n",
      "96/96 [==============================] - 2s 18ms/step - loss: 0.0846 - f1: 0.9211 - mean_iou: 0.8469 - val_loss: 0.0783 - val_f1: 0.9264 - val_mean_iou: 0.8486\n",
      "\n",
      "Epoch 00026: val_loss improved from 0.08100 to 0.07829, saving model to model-unet-cwfid.h5\n",
      "Epoch 27/30\n",
      "96/96 [==============================] - 2s 18ms/step - loss: 0.0836 - f1: 0.9224 - mean_iou: 0.8501 - val_loss: 0.0787 - val_f1: 0.9286 - val_mean_iou: 0.8518\n",
      "\n",
      "Epoch 00027: val_loss did not improve from 0.07829\n",
      "Epoch 28/30\n",
      "96/96 [==============================] - 2s 18ms/step - loss: 0.0824 - f1: 0.9236 - mean_iou: 0.8532 - val_loss: 0.0763 - val_f1: 0.9287 - val_mean_iou: 0.8548\n",
      "\n",
      "Epoch 00028: val_loss improved from 0.07829 to 0.07634, saving model to model-unet-cwfid.h5\n",
      "Epoch 29/30\n",
      "96/96 [==============================] - 2s 18ms/step - loss: 0.0813 - f1: 0.9239 - mean_iou: 0.8561 - val_loss: 0.0762 - val_f1: 0.9305 - val_mean_iou: 0.8575\n",
      "\n",
      "Epoch 00029: val_loss improved from 0.07634 to 0.07620, saving model to model-unet-cwfid.h5\n",
      "Epoch 30/30\n",
      "96/96 [==============================] - 2s 18ms/step - loss: 0.0802 - f1: 0.9253 - mean_iou: 0.8588 - val_loss: 0.0754 - val_f1: 0.9329 - val_mean_iou: 0.8601\n",
      "\n",
      "Epoch 00030: val_loss improved from 0.07620 to 0.07540, saving model to model-unet-cwfid.h5\n"
     ]
    }
   ],
   "source": [
    "callbacks_full = [\n",
    "    ModelCheckpoint('model-unet-cwfid.h5', verbose=1, save_best_only=True)\n",
    "]\n",
    "\n",
    "model_unet_full_history = model_unet.fit(x = X_train,\n",
    "                         y = y_train,\n",
    "                         batch_size = 32,\n",
    "                         epochs = 30,\n",
    "                         verbose = 1,\n",
    "                         validation_split = 0.2,\n",
    "                          callbacks = callbacks_full\n",
    "                         )"
   ]
  },
  {
   "cell_type": "markdown",
   "metadata": {},
   "source": [
    "### Métricas"
   ]
  },
  {
   "cell_type": "code",
   "execution_count": null,
   "metadata": {
    "ExecuteTime": {
     "end_time": "2018-11-05T19:56:43.188807Z",
     "start_time": "2018-11-05T19:54:11.678Z"
    }
   },
   "outputs": [],
   "source": [
    "model_unet.evaluate(X_val, y_val)"
   ]
  },
  {
   "cell_type": "markdown",
   "metadata": {},
   "source": [
    "## Modelo Seg-Net"
   ]
  },
  {
   "cell_type": "markdown",
   "metadata": {},
   "source": [
    "### Definir modelo"
   ]
  },
  {
   "cell_type": "code",
   "execution_count": 609,
   "metadata": {
    "ExecuteTime": {
     "end_time": "2018-11-05T20:00:50.923941Z",
     "start_time": "2018-11-05T20:00:50.911471Z"
    }
   },
   "outputs": [],
   "source": [
    "#Fuente: https://github.com/Anki0909/CWFID-Image-Segmentation/blob/master/main.py\n",
    "def segnet(n_classes, input_height=161, input_width=216):\n",
    "    kernel = 3\n",
    "    filter_size = 64\n",
    "    pad = 1\n",
    "    pool_size = 2\n",
    "    \n",
    "    model = Sequential()\n",
    "    model.add(Layer(input_shape=(input_height, input_width, 3)))\n",
    "    model.add(ZeroPadding2D(padding=((7,8),(0,0))))\n",
    "    \n",
    "    model.add(Conv2D(filter_size,(kernel,kernel),padding='same'))\n",
    "    model.add(BatchNormalization())\n",
    "    model.add(Activation('relu'))\n",
    "    model.add(MaxPooling2D(pool_size=(pool_size,pool_size)))\n",
    "    \n",
    "    model.add(Conv2D(128,(kernel,kernel),padding='same'))\n",
    "    model.add(BatchNormalization())\n",
    "    model.add(Activation('relu'))\n",
    "    model.add(MaxPooling2D(pool_size=(pool_size,pool_size)))\n",
    "    \n",
    "    model.add(Conv2D(256,(kernel,kernel),padding='same'))\n",
    "    model.add(BatchNormalization())\n",
    "    model.add(Activation('relu'))\n",
    "    model.add(MaxPooling2D(pool_size=(pool_size,pool_size)))\n",
    "    \n",
    "    model.add(Conv2D(512,(kernel,kernel),padding='same'))\n",
    "    model.add(BatchNormalization())\n",
    "    model.add(Activation('relu'))\n",
    "    \n",
    "    model.add(Conv2D(512,(kernel,kernel),padding='same'))\n",
    "    model.add(BatchNormalization())\n",
    "    \n",
    "    model.add(UpSampling2D(size=(pool_size,pool_size)))\n",
    "    model.add(Conv2D(256,(kernel,kernel),padding='same'))\n",
    "    model.add(BatchNormalization())\n",
    "    \n",
    "    model.add(UpSampling2D(size=(pool_size,pool_size)))\n",
    "    model.add(Conv2D(128,(kernel,kernel),padding='same'))\n",
    "    model.add(BatchNormalization())\n",
    "    \n",
    "    model.add(UpSampling2D(size=(pool_size,pool_size)))\n",
    "    model.add(Conv2D(filter_size,(kernel,kernel),padding='same'))\n",
    "    model.add(BatchNormalization())\n",
    "    \n",
    "    model.add(Conv2D(n_classes,(1,1), padding='same'))\n",
    "    \n",
    "    model.add(Cropping2D(cropping=((7,8),(0,0))))\n",
    "    \n",
    "    model.outputHeight = model.output_shape[-3]\n",
    "    model.outputWidth = model.output_shape[-2]\n",
    "    \n",
    "    if n_classes == 1:\n",
    "        model.add(Reshape((model.output_shape[-3], model.output_shape[-2]),\n",
    "                          input_shape=(model.output_shape[-3], model.output_shape[-2], 3)))\n",
    "        model.add(Activation('sigmoid'))\n",
    "    else:\n",
    "        model.add(Reshape((model.output_shape[-3], model.output_shape[-2], n_classes),\n",
    "                          input_shape=(model.output_shape[-3], model.output_shape[-2], 3)))\n",
    "        model.add(Activation('sigmoid'))\n",
    "        \n",
    "    #if not optimizer is None:\n",
    "    #    model.compile(loss=\"categorical_crossentropy\", optimizer= optimizer , metrics=['accuracy'] )\n",
    "        \n",
    "    return model"
   ]
  },
  {
   "cell_type": "code",
   "execution_count": 610,
   "metadata": {
    "ExecuteTime": {
     "end_time": "2018-11-05T20:03:07.944650Z",
     "start_time": "2018-11-05T20:00:52.917306Z"
    }
   },
   "outputs": [],
   "source": [
    "model_segnet = segnet(n_classes=3)\n",
    "model_segnet.compile(loss = 'binary_crossentropy',\n",
    "             optimizer = 'Adam',\n",
    "             metrics = [f1, mean_iou])"
   ]
  },
  {
   "cell_type": "code",
   "execution_count": 611,
   "metadata": {
    "ExecuteTime": {
     "end_time": "2018-11-05T20:03:07.956942Z",
     "start_time": "2018-11-05T20:03:07.947095Z"
    },
    "scrolled": true
   },
   "outputs": [
    {
     "name": "stdout",
     "output_type": "stream",
     "text": [
      "_________________________________________________________________\n",
      "Layer (type)                 Output Shape              Param #   \n",
      "=================================================================\n",
      "layer_39 (Layer)             (None, 161, 216, 3)       0         \n",
      "_________________________________________________________________\n",
      "zero_padding2d_74 (ZeroPaddi (None, 176, 216, 3)       0         \n",
      "_________________________________________________________________\n",
      "conv2d_897 (Conv2D)          (None, 176, 216, 64)      1792      \n",
      "_________________________________________________________________\n",
      "batch_normalization_183 (Bat (None, 176, 216, 64)      256       \n",
      "_________________________________________________________________\n",
      "activation_463 (Activation)  (None, 176, 216, 64)      0         \n",
      "_________________________________________________________________\n",
      "max_pooling2d_261 (MaxPoolin (None, 88, 108, 64)       0         \n",
      "_________________________________________________________________\n",
      "conv2d_898 (Conv2D)          (None, 88, 108, 128)      73856     \n",
      "_________________________________________________________________\n",
      "batch_normalization_184 (Bat (None, 88, 108, 128)      512       \n",
      "_________________________________________________________________\n",
      "activation_464 (Activation)  (None, 88, 108, 128)      0         \n",
      "_________________________________________________________________\n",
      "max_pooling2d_262 (MaxPoolin (None, 44, 54, 128)       0         \n",
      "_________________________________________________________________\n",
      "conv2d_899 (Conv2D)          (None, 44, 54, 256)       295168    \n",
      "_________________________________________________________________\n",
      "batch_normalization_185 (Bat (None, 44, 54, 256)       1024      \n",
      "_________________________________________________________________\n",
      "activation_465 (Activation)  (None, 44, 54, 256)       0         \n",
      "_________________________________________________________________\n",
      "max_pooling2d_263 (MaxPoolin (None, 22, 27, 256)       0         \n",
      "_________________________________________________________________\n",
      "conv2d_900 (Conv2D)          (None, 22, 27, 512)       1180160   \n",
      "_________________________________________________________________\n",
      "batch_normalization_186 (Bat (None, 22, 27, 512)       2048      \n",
      "_________________________________________________________________\n",
      "activation_466 (Activation)  (None, 22, 27, 512)       0         \n",
      "_________________________________________________________________\n",
      "conv2d_901 (Conv2D)          (None, 22, 27, 512)       2359808   \n",
      "_________________________________________________________________\n",
      "batch_normalization_187 (Bat (None, 22, 27, 512)       2048      \n",
      "_________________________________________________________________\n",
      "up_sampling2d_4 (UpSampling2 (None, 44, 54, 512)       0         \n",
      "_________________________________________________________________\n",
      "conv2d_902 (Conv2D)          (None, 44, 54, 256)       1179904   \n",
      "_________________________________________________________________\n",
      "batch_normalization_188 (Bat (None, 44, 54, 256)       1024      \n",
      "_________________________________________________________________\n",
      "up_sampling2d_5 (UpSampling2 (None, 88, 108, 256)      0         \n",
      "_________________________________________________________________\n",
      "conv2d_903 (Conv2D)          (None, 88, 108, 128)      295040    \n",
      "_________________________________________________________________\n",
      "batch_normalization_189 (Bat (None, 88, 108, 128)      512       \n",
      "_________________________________________________________________\n",
      "up_sampling2d_6 (UpSampling2 (None, 176, 216, 128)     0         \n",
      "_________________________________________________________________\n",
      "conv2d_904 (Conv2D)          (None, 176, 216, 64)      73792     \n",
      "_________________________________________________________________\n",
      "batch_normalization_190 (Bat (None, 176, 216, 64)      256       \n",
      "_________________________________________________________________\n",
      "conv2d_905 (Conv2D)          (None, 176, 216, 3)       195       \n",
      "_________________________________________________________________\n",
      "cropping2d_50 (Cropping2D)   (None, 161, 216, 3)       0         \n",
      "_________________________________________________________________\n",
      "reshape_8 (Reshape)          (None, 161, 216, 3)       0         \n",
      "_________________________________________________________________\n",
      "activation_467 (Activation)  (None, 161, 216, 3)       0         \n",
      "=================================================================\n",
      "Total params: 5,467,395\n",
      "Trainable params: 5,463,555\n",
      "Non-trainable params: 3,840\n",
      "_________________________________________________________________\n"
     ]
    }
   ],
   "source": [
    "model_segnet.summary()"
   ]
  },
  {
   "cell_type": "markdown",
   "metadata": {},
   "source": [
    "### Entrenamiento"
   ]
  },
  {
   "cell_type": "code",
   "execution_count": 612,
   "metadata": {
    "ExecuteTime": {
     "end_time": "2018-11-05T20:06:28.674075Z",
     "start_time": "2018-11-05T20:03:07.960339Z"
    },
    "scrolled": true
   },
   "outputs": [
    {
     "name": "stdout",
     "output_type": "stream",
     "text": [
      "Train on 96 samples, validate on 24 samples\n",
      "Epoch 1/30\n",
      "96/96 [==============================] - 42s 436ms/step - loss: 0.9127 - f1: 0.4910 - mean_iou: 0.2641 - val_loss: 3.3892 - val_f1: 0.6446 - val_mean_iou: 0.4228\n",
      "\n",
      "Epoch 00001: val_loss improved from inf to 3.38915, saving model to model-segnet-cwfid.h5\n",
      "Epoch 2/30\n",
      "96/96 [==============================] - 4s 39ms/step - loss: 0.5899 - f1: 0.6753 - mean_iou: 0.4422 - val_loss: 0.4690 - val_f1: 0.8510 - val_mean_iou: 0.4535\n",
      "\n",
      "Epoch 00002: val_loss improved from 3.38915 to 0.46900, saving model to model-segnet-cwfid.h5\n",
      "Epoch 3/30\n",
      "96/96 [==============================] - 4s 38ms/step - loss: 0.4788 - f1: 0.8296 - mean_iou: 0.4844 - val_loss: 0.7188 - val_f1: 0.7325 - val_mean_iou: 0.5018\n",
      "\n",
      "Epoch 00003: val_loss did not improve from 0.46900\n",
      "Epoch 4/30\n",
      "96/96 [==============================] - 4s 38ms/step - loss: 0.3883 - f1: 0.8586 - mean_iou: 0.5198 - val_loss: 1.1592 - val_f1: 0.5956 - val_mean_iou: 0.5381\n",
      "\n",
      "Epoch 00004: val_loss did not improve from 0.46900\n",
      "Epoch 5/30\n",
      "96/96 [==============================] - 4s 38ms/step - loss: 0.3222 - f1: 0.8834 - mean_iou: 0.5479 - val_loss: 0.6064 - val_f1: 0.7691 - val_mean_iou: 0.5662\n",
      "\n",
      "Epoch 00005: val_loss did not improve from 0.46900\n",
      "Epoch 6/30\n",
      "96/96 [==============================] - 4s 38ms/step - loss: 0.2791 - f1: 0.8900 - mean_iou: 0.5802 - val_loss: 0.4289 - val_f1: 0.8458 - val_mean_iou: 0.5960\n",
      "\n",
      "Epoch 00006: val_loss improved from 0.46900 to 0.42887, saving model to model-segnet-cwfid.h5\n",
      "Epoch 7/30\n",
      "96/96 [==============================] - 4s 38ms/step - loss: 0.2525 - f1: 0.8997 - mean_iou: 0.6090 - val_loss: 0.5161 - val_f1: 0.7870 - val_mean_iou: 0.6219\n",
      "\n",
      "Epoch 00007: val_loss did not improve from 0.42887\n",
      "Epoch 8/30\n",
      "96/96 [==============================] - 4s 38ms/step - loss: 0.2352 - f1: 0.9047 - mean_iou: 0.6298 - val_loss: 0.3238 - val_f1: 0.8588 - val_mean_iou: 0.6406\n",
      "\n",
      "Epoch 00008: val_loss improved from 0.42887 to 0.32377, saving model to model-segnet-cwfid.h5\n",
      "Epoch 9/30\n",
      "96/96 [==============================] - 4s 38ms/step - loss: 0.2200 - f1: 0.9081 - mean_iou: 0.6491 - val_loss: 0.2609 - val_f1: 0.8720 - val_mean_iou: 0.6589\n",
      "\n",
      "Epoch 00009: val_loss improved from 0.32377 to 0.26093, saving model to model-segnet-cwfid.h5\n",
      "Epoch 10/30\n",
      "96/96 [==============================] - 4s 38ms/step - loss: 0.2071 - f1: 0.9158 - mean_iou: 0.6666 - val_loss: 0.2815 - val_f1: 0.8508 - val_mean_iou: 0.6752\n",
      "\n",
      "Epoch 00010: val_loss did not improve from 0.26093\n",
      "Epoch 11/30\n",
      "96/96 [==============================] - 4s 38ms/step - loss: 0.1952 - f1: 0.9192 - mean_iou: 0.6813 - val_loss: 0.2753 - val_f1: 0.8556 - val_mean_iou: 0.6889\n",
      "\n",
      "Epoch 00011: val_loss did not improve from 0.26093\n",
      "Epoch 12/30\n",
      "96/96 [==============================] - 4s 38ms/step - loss: 0.1852 - f1: 0.9246 - mean_iou: 0.6937 - val_loss: 0.2357 - val_f1: 0.8715 - val_mean_iou: 0.7005\n",
      "\n",
      "Epoch 00012: val_loss improved from 0.26093 to 0.23571, saving model to model-segnet-cwfid.h5\n",
      "Epoch 13/30\n",
      "96/96 [==============================] - 4s 38ms/step - loss: 0.1761 - f1: 0.9288 - mean_iou: 0.7051 - val_loss: 0.2251 - val_f1: 0.8795 - val_mean_iou: 0.7112\n",
      "\n",
      "Epoch 00013: val_loss improved from 0.23571 to 0.22514, saving model to model-segnet-cwfid.h5\n",
      "Epoch 14/30\n",
      "96/96 [==============================] - 4s 38ms/step - loss: 0.1680 - f1: 0.9293 - mean_iou: 0.7155 - val_loss: 0.2327 - val_f1: 0.8807 - val_mean_iou: 0.7210\n",
      "\n",
      "Epoch 00014: val_loss did not improve from 0.22514\n",
      "Epoch 15/30\n",
      "96/96 [==============================] - 4s 38ms/step - loss: 0.1614 - f1: 0.9310 - mean_iou: 0.7246 - val_loss: 0.2461 - val_f1: 0.8756 - val_mean_iou: 0.7297\n",
      "\n",
      "Epoch 00015: val_loss did not improve from 0.22514\n",
      "Epoch 16/30\n",
      "96/96 [==============================] - 4s 38ms/step - loss: 0.1550 - f1: 0.9319 - mean_iou: 0.7329 - val_loss: 0.2043 - val_f1: 0.8901 - val_mean_iou: 0.7376\n",
      "\n",
      "Epoch 00016: val_loss improved from 0.22514 to 0.20432, saving model to model-segnet-cwfid.h5\n",
      "Epoch 17/30\n",
      "96/96 [==============================] - 4s 38ms/step - loss: 0.1490 - f1: 0.9328 - mean_iou: 0.7409 - val_loss: 0.1889 - val_f1: 0.8967 - val_mean_iou: 0.7451\n",
      "\n",
      "Epoch 00017: val_loss improved from 0.20432 to 0.18895, saving model to model-segnet-cwfid.h5\n",
      "Epoch 18/30\n",
      "96/96 [==============================] - 4s 38ms/step - loss: 0.1438 - f1: 0.9340 - mean_iou: 0.7482 - val_loss: 0.2069 - val_f1: 0.8846 - val_mean_iou: 0.7521\n",
      "\n",
      "Epoch 00018: val_loss did not improve from 0.18895\n",
      "Epoch 19/30\n",
      "96/96 [==============================] - 4s 38ms/step - loss: 0.1417 - f1: 0.9328 - mean_iou: 0.7547 - val_loss: 0.1676 - val_f1: 0.9208 - val_mean_iou: 0.7586\n",
      "\n",
      "Epoch 00019: val_loss improved from 0.18895 to 0.16759, saving model to model-segnet-cwfid.h5\n",
      "Epoch 20/30\n",
      "96/96 [==============================] - 4s 38ms/step - loss: 0.1430 - f1: 0.9329 - mean_iou: 0.7613 - val_loss: 0.1721 - val_f1: 0.9066 - val_mean_iou: 0.7647\n",
      "\n",
      "Epoch 00020: val_loss did not improve from 0.16759\n",
      "Epoch 21/30\n",
      "96/96 [==============================] - 4s 38ms/step - loss: 0.1345 - f1: 0.9345 - mean_iou: 0.7673 - val_loss: 0.1974 - val_f1: 0.8889 - val_mean_iou: 0.7707\n",
      "\n",
      "Epoch 00021: val_loss did not improve from 0.16759\n",
      "Epoch 22/30\n",
      "96/96 [==============================] - 4s 38ms/step - loss: 0.1294 - f1: 0.9355 - mean_iou: 0.7729 - val_loss: 0.1875 - val_f1: 0.8941 - val_mean_iou: 0.7761\n",
      "\n",
      "Epoch 00022: val_loss did not improve from 0.16759\n",
      "Epoch 23/30\n",
      "96/96 [==============================] - 4s 38ms/step - loss: 0.1237 - f1: 0.9372 - mean_iou: 0.7783 - val_loss: 0.1797 - val_f1: 0.9016 - val_mean_iou: 0.7816\n",
      "\n",
      "Epoch 00023: val_loss did not improve from 0.16759\n",
      "Epoch 24/30\n",
      "96/96 [==============================] - 4s 38ms/step - loss: 0.1196 - f1: 0.9376 - mean_iou: 0.7837 - val_loss: 0.2118 - val_f1: 0.8812 - val_mean_iou: 0.7868\n",
      "\n",
      "Epoch 00024: val_loss did not improve from 0.16759\n",
      "Epoch 25/30\n",
      "96/96 [==============================] - 4s 38ms/step - loss: 0.1153 - f1: 0.9382 - mean_iou: 0.7886 - val_loss: 0.1926 - val_f1: 0.8988 - val_mean_iou: 0.7915\n",
      "\n",
      "Epoch 00025: val_loss did not improve from 0.16759\n",
      "Epoch 26/30\n",
      "96/96 [==============================] - 4s 38ms/step - loss: 0.1118 - f1: 0.9391 - mean_iou: 0.7933 - val_loss: 0.1831 - val_f1: 0.9047 - val_mean_iou: 0.7961\n",
      "\n",
      "Epoch 00026: val_loss did not improve from 0.16759\n",
      "Epoch 27/30\n",
      "96/96 [==============================] - 4s 38ms/step - loss: 0.1098 - f1: 0.9394 - mean_iou: 0.7978 - val_loss: 0.1649 - val_f1: 0.9189 - val_mean_iou: 0.8004\n",
      "\n",
      "Epoch 00027: val_loss improved from 0.16759 to 0.16494, saving model to model-segnet-cwfid.h5\n",
      "Epoch 28/30\n",
      "96/96 [==============================] - 4s 38ms/step - loss: 0.1071 - f1: 0.9402 - mean_iou: 0.8021 - val_loss: 0.1834 - val_f1: 0.8973 - val_mean_iou: 0.8046\n",
      "\n",
      "Epoch 00028: val_loss did not improve from 0.16494\n",
      "Epoch 29/30\n",
      "96/96 [==============================] - 4s 38ms/step - loss: 0.1041 - f1: 0.9409 - mean_iou: 0.8061 - val_loss: 0.1702 - val_f1: 0.9041 - val_mean_iou: 0.8084\n",
      "\n",
      "Epoch 00029: val_loss did not improve from 0.16494\n",
      "Epoch 30/30\n",
      "96/96 [==============================] - 4s 38ms/step - loss: 0.1016 - f1: 0.9416 - mean_iou: 0.8100 - val_loss: 0.1593 - val_f1: 0.9128 - val_mean_iou: 0.8122\n",
      "\n",
      "Epoch 00030: val_loss improved from 0.16494 to 0.15929, saving model to model-segnet-cwfid.h5\n"
     ]
    }
   ],
   "source": [
    "callbacks_full = [\n",
    "    ModelCheckpoint('model-segnet-cwfid.h5', verbose=1, save_best_only=True)\n",
    "]\n",
    "\n",
    "model_segnet_full_history = model_segnet.fit(x = X_train,\n",
    "                         y = y_train,\n",
    "                         batch_size = 32,\n",
    "                         epochs = 30,\n",
    "                         verbose = 1,\n",
    "                         validation_split = 0.2,\n",
    "                          callbacks = callbacks_full\n",
    "                         )"
   ]
  },
  {
   "cell_type": "markdown",
   "metadata": {},
   "source": [
    "### Métricas"
   ]
  },
  {
   "cell_type": "code",
   "execution_count": 614,
   "metadata": {
    "ExecuteTime": {
     "end_time": "2018-11-05T20:07:31.466150Z",
     "start_time": "2018-11-05T20:07:17.028361Z"
    }
   },
   "outputs": [],
   "source": [
    "pred_model_segnet = model_segnet.predict(X_test)"
   ]
  },
  {
   "cell_type": "code",
   "execution_count": 618,
   "metadata": {
    "ExecuteTime": {
     "end_time": "2018-11-05T20:20:49.780899Z",
     "start_time": "2018-11-05T20:20:49.437028Z"
    }
   },
   "outputs": [
    {
     "data": {
      "text/plain": [
       "<matplotlib.image.AxesImage at 0x7fb157d6d400>"
      ]
     },
     "execution_count": 618,
     "metadata": {},
     "output_type": "execute_result"
    },
    {
     "data": {
      "image/png": "[encoded data removed]",
      "text/plain": [
       "<Figure size 432x288 with 2 Axes>"
      ]
     },
     "metadata": {
      "needs_background": "light"
     },
     "output_type": "display_data"
    }
   ],
   "source": [
    "i = 5\n",
    "plt.figure()\n",
    "plt.subplot(1,2,1)\n",
    "plt.imshow(pred_model_segnet[i,:,:,:])\n",
    "plt.subplot(1,2,2)\n",
    "plt.imshow(y_test[i,:,:,:])"
   ]
  },
  {
   "cell_type": "markdown",
   "metadata": {},
   "source": [
    "## Modelo U-Net Res"
   ]
  },
  {
   "cell_type": "markdown",
   "metadata": {},
   "source": [
    "### Definir modelo"
   ]
  },
  {
   "cell_type": "code",
   "execution_count": 628,
   "metadata": {
    "ExecuteTime": {
     "end_time": "2018-11-05T20:33:51.876097Z",
     "start_time": "2018-11-05T20:33:51.856418Z"
    }
   },
   "outputs": [],
   "source": [
    "#Fuente: https://github.com/Anki0909/CWFID-Image-Segmentation/blob/master/main.py\n",
    "def unet_res(n_classes = 1, start_neurons = 16, DropoutRatio = 0.5, img_height=161,img_width=216):\n",
    "    \n",
    "    def BatchActivate(x):\n",
    "        x = BatchNormalization()(x)\n",
    "        x = Activation('relu')(x)\n",
    "        return x\n",
    "\n",
    "    def convolution_block(x, filters, size, strides=(1,1), padding='same', activation=True):\n",
    "        x = Conv2D(filters, size, strides=strides, padding=padding)(x)\n",
    "        if activation == True:\n",
    "            x = BatchActivate(x)\n",
    "        return x\n",
    "\n",
    "    def residual_block(blockInput, num_filters=16, batch_activate = False):\n",
    "        x = BatchActivate(blockInput)\n",
    "        x = convolution_block(x, num_filters, (3,3) )\n",
    "        x = convolution_block(x, num_filters, (3,3), activation=False)\n",
    "        x = Add()([x, blockInput])\n",
    "        if batch_activate:\n",
    "            x = BatchActivate(x)\n",
    "        return x\n",
    "\n",
    "    # 101 -> 50\n",
    "    input_layer = Input((img_height, img_width, 3))\n",
    "    zero_pad = ZeroPadding2D(padding=((7,8),(4,4)))(input_layer)\n",
    "    conv1 = Conv2D(start_neurons * 1, (3, 3), activation=None, padding=\"same\")(zero_pad)\n",
    "    conv1 = residual_block(conv1,start_neurons * 1)\n",
    "    conv1 = residual_block(conv1,start_neurons * 1, True)\n",
    "    pool1 = MaxPooling2D((2, 2))(conv1)\n",
    "    pool1 = Dropout(DropoutRatio/2)(pool1)\n",
    "\n",
    "    # 50 -> 25\n",
    "    conv2 = Conv2D(start_neurons * 2, (3, 3), activation=None, padding=\"same\")(pool1)\n",
    "    conv2 = residual_block(conv2,start_neurons * 2)\n",
    "    conv2 = residual_block(conv2,start_neurons * 2, True)\n",
    "    pool2 = MaxPooling2D((2, 2))(conv2)\n",
    "    pool2 = Dropout(DropoutRatio)(pool2)\n",
    "\n",
    "    # 25 -> 12\n",
    "    conv3 = Conv2D(start_neurons * 4, (3, 3), activation=None, padding=\"same\")(pool2)\n",
    "    conv3 = residual_block(conv3,start_neurons * 4)\n",
    "    conv3 = residual_block(conv3,start_neurons * 4, True)\n",
    "    pool3 = MaxPooling2D((2, 2))(conv3)\n",
    "    pool3 = Dropout(DropoutRatio)(pool3)\n",
    "\n",
    "    # 12 -> 6\n",
    "    conv4 = Conv2D(start_neurons * 8, (3, 3), activation=None, padding=\"same\")(pool3)\n",
    "    conv4 = residual_block(conv4,start_neurons * 8)\n",
    "    conv4 = residual_block(conv4,start_neurons * 8, True)\n",
    "    pool4 = MaxPooling2D((2, 2))(conv4)\n",
    "    pool4 = Dropout(DropoutRatio)(pool4)\n",
    "\n",
    "    # Middle\n",
    "    convm = Conv2D(start_neurons * 16, (3, 3), activation=None, padding=\"same\")(pool4)\n",
    "    convm = residual_block(convm,start_neurons * 16)\n",
    "    convm = residual_block(convm,start_neurons * 16, True)\n",
    "    \n",
    "    # 6 -> 12\n",
    "    deconv4 = Conv2DTranspose(start_neurons * 8, (3, 3), strides=(2, 2), padding=\"same\")(convm)\n",
    "    uconv4 = concatenate([deconv4, conv4])\n",
    "    uconv4 = Dropout(DropoutRatio)(uconv4)\n",
    "    \n",
    "    uconv4 = Conv2D(start_neurons * 8, (3, 3), activation=None, padding=\"same\")(uconv4)\n",
    "    uconv4 = residual_block(uconv4,start_neurons * 8)\n",
    "    uconv4 = residual_block(uconv4,start_neurons * 8, True)\n",
    "    \n",
    "    # 12 -> 25\n",
    "    deconv3 = Conv2DTranspose(start_neurons * 4, (3, 3), strides=(2, 2), padding=\"same\")(uconv4)\n",
    "    #deconv3 = Conv2DTranspose(start_neurons * 4, (3, 3), strides=(2, 2), padding=\"valid\")(uconv4)\n",
    "    uconv3 = concatenate([deconv3, conv3])    \n",
    "    uconv3 = Dropout(DropoutRatio)(uconv3)\n",
    "    \n",
    "    uconv3 = Conv2D(start_neurons * 4, (3, 3), activation=None, padding=\"same\")(uconv3)\n",
    "    uconv3 = residual_block(uconv3,start_neurons * 4)\n",
    "    uconv3 = residual_block(uconv3,start_neurons * 4, True)\n",
    "\n",
    "    # 25 -> 50\n",
    "    deconv2 = Conv2DTranspose(start_neurons * 2, (3, 3), strides=(2, 2), padding=\"same\")(uconv3)\n",
    "    uconv2 = concatenate([deconv2, conv2])\n",
    "        \n",
    "    uconv2 = Dropout(DropoutRatio)(uconv2)\n",
    "    uconv2 = Conv2D(start_neurons * 2, (3, 3), activation=None, padding=\"same\")(uconv2)\n",
    "    uconv2 = residual_block(uconv2,start_neurons * 2)\n",
    "    uconv2 = residual_block(uconv2,start_neurons * 2, True)\n",
    "    \n",
    "    # 50 -> 101\n",
    "    deconv1 = Conv2DTranspose(start_neurons * 1, (3, 3), strides=(2, 2), padding=\"same\")(uconv2)\n",
    "    #deconv1 = Conv2DTranspose(start_neurons * 1, (3, 3), strides=(2, 2), padding=\"valid\")(uconv2)\n",
    "    uconv1 = concatenate([deconv1, conv1])\n",
    "    \n",
    "    uconv1 = Dropout(DropoutRatio)(uconv1)\n",
    "    uconv1 = Conv2D(start_neurons * 1, (3, 3), activation=None, padding=\"same\")(uconv1)\n",
    "    uconv1 = residual_block(uconv1,start_neurons * 1)\n",
    "    uconv1 = residual_block(uconv1,start_neurons * 1, True)\n",
    "    \n",
    "    #uconv1 = Dropout(DropoutRatio/2)(uconv1)\n",
    "    #output_layer = Conv2D(1, (1,1), padding=\"same\", activation=\"sigmoid\")(uconv1)\n",
    "    output_layer_noActi = Conv2D(n_classes, (1,1), padding=\"same\", activation=None)(uconv1)\n",
    "    output_layer = Cropping2D(cropping=((7,8),(4,4)))(output_layer_noActi)\n",
    "    \n",
    "    if n_classes == 1:\n",
    "        output_layer = (Reshape((img_height, img_width),\n",
    "                          input_shape=(img_height, img_width, 3)))(output_layer)\n",
    "    else:\n",
    "        output_layer = (Reshape((img_height, img_width, n_classes),\n",
    "                          input_shape=(img_height, img_width, 3)))(output_layer)\n",
    "    \n",
    "    output_layer =  Activation('sigmoid')(output_layer)\n",
    "    \n",
    "    model = Model(input_layer, output_layer)\n",
    "    \n",
    "    return model"
   ]
  },
  {
   "cell_type": "code",
   "execution_count": 636,
   "metadata": {
    "ExecuteTime": {
     "end_time": "2018-11-05T20:47:24.326389Z",
     "start_time": "2018-11-05T20:44:29.852340Z"
    }
   },
   "outputs": [],
   "source": [
    "model_unet_res = unet_res(n_classes=3)\n",
    "model_unet_res.compile(loss = 'binary_crossentropy',\n",
    "             optimizer = 'Adam',\n",
    "             metrics = [f1, mean_iou])"
   ]
  },
  {
   "cell_type": "code",
   "execution_count": 643,
   "metadata": {
    "ExecuteTime": {
     "end_time": "2018-11-05T20:55:52.767316Z",
     "start_time": "2018-11-05T20:55:52.730731Z"
    },
    "scrolled": true
   },
   "outputs": [
    {
     "name": "stdout",
     "output_type": "stream",
     "text": [
      "__________________________________________________________________________________________________\n",
      "Layer (type)                    Output Shape         Param #     Connected to                     \n",
      "==================================================================================================\n",
      "input_49 (InputLayer)           (None, 161, 216, 3)  0                                            \n",
      "__________________________________________________________________________________________________\n",
      "zero_padding2d_76 (ZeroPadding2 (None, 176, 224, 3)  0           input_49[0][0]                   \n",
      "__________________________________________________________________________________________________\n",
      "conv2d_952 (Conv2D)             (None, 176, 224, 16) 448         zero_padding2d_76[0][0]          \n",
      "__________________________________________________________________________________________________\n",
      "batch_normalization_236 (BatchN (None, 176, 224, 16) 64          conv2d_952[0][0]                 \n",
      "__________________________________________________________________________________________________\n",
      "activation_514 (Activation)     (None, 176, 224, 16) 0           batch_normalization_236[0][0]    \n",
      "__________________________________________________________________________________________________\n",
      "conv2d_953 (Conv2D)             (None, 176, 224, 16) 2320        activation_514[0][0]             \n",
      "__________________________________________________________________________________________________\n",
      "batch_normalization_237 (BatchN (None, 176, 224, 16) 64          conv2d_953[0][0]                 \n",
      "__________________________________________________________________________________________________\n",
      "activation_515 (Activation)     (None, 176, 224, 16) 0           batch_normalization_237[0][0]    \n",
      "__________________________________________________________________________________________________\n",
      "conv2d_954 (Conv2D)             (None, 176, 224, 16) 2320        activation_515[0][0]             \n",
      "__________________________________________________________________________________________________\n",
      "add_91 (Add)                    (None, 176, 224, 16) 0           conv2d_954[0][0]                 \n",
      "                                                                 conv2d_952[0][0]                 \n",
      "__________________________________________________________________________________________________\n",
      "batch_normalization_238 (BatchN (None, 176, 224, 16) 64          add_91[0][0]                     \n",
      "__________________________________________________________________________________________________\n",
      "activation_516 (Activation)     (None, 176, 224, 16) 0           batch_normalization_238[0][0]    \n",
      "__________________________________________________________________________________________________\n",
      "conv2d_955 (Conv2D)             (None, 176, 224, 16) 2320        activation_516[0][0]             \n",
      "__________________________________________________________________________________________________\n",
      "batch_normalization_239 (BatchN (None, 176, 224, 16) 64          conv2d_955[0][0]                 \n",
      "__________________________________________________________________________________________________\n",
      "activation_517 (Activation)     (None, 176, 224, 16) 0           batch_normalization_239[0][0]    \n",
      "__________________________________________________________________________________________________\n",
      "conv2d_956 (Conv2D)             (None, 176, 224, 16) 2320        activation_517[0][0]             \n",
      "__________________________________________________________________________________________________\n",
      "add_92 (Add)                    (None, 176, 224, 16) 0           conv2d_956[0][0]                 \n",
      "                                                                 add_91[0][0]                     \n",
      "__________________________________________________________________________________________________\n",
      "batch_normalization_240 (BatchN (None, 176, 224, 16) 64          add_92[0][0]                     \n",
      "__________________________________________________________________________________________________\n",
      "activation_518 (Activation)     (None, 176, 224, 16) 0           batch_normalization_240[0][0]    \n",
      "__________________________________________________________________________________________________\n",
      "max_pooling2d_268 (MaxPooling2D (None, 88, 112, 16)  0           activation_518[0][0]             \n",
      "__________________________________________________________________________________________________\n",
      "dropout_396 (Dropout)           (None, 88, 112, 16)  0           max_pooling2d_268[0][0]          \n",
      "__________________________________________________________________________________________________\n",
      "conv2d_957 (Conv2D)             (None, 88, 112, 32)  4640        dropout_396[0][0]                \n",
      "__________________________________________________________________________________________________\n",
      "batch_normalization_241 (BatchN (None, 88, 112, 32)  128         conv2d_957[0][0]                 \n",
      "__________________________________________________________________________________________________\n",
      "activation_519 (Activation)     (None, 88, 112, 32)  0           batch_normalization_241[0][0]    \n",
      "__________________________________________________________________________________________________\n",
      "conv2d_958 (Conv2D)             (None, 88, 112, 32)  9248        activation_519[0][0]             \n",
      "__________________________________________________________________________________________________\n",
      "batch_normalization_242 (BatchN (None, 88, 112, 32)  128         conv2d_958[0][0]                 \n",
      "__________________________________________________________________________________________________\n",
      "activation_520 (Activation)     (None, 88, 112, 32)  0           batch_normalization_242[0][0]    \n",
      "__________________________________________________________________________________________________\n",
      "conv2d_959 (Conv2D)             (None, 88, 112, 32)  9248        activation_520[0][0]             \n",
      "__________________________________________________________________________________________________\n",
      "add_93 (Add)                    (None, 88, 112, 32)  0           conv2d_959[0][0]                 \n",
      "                                                                 conv2d_957[0][0]                 \n",
      "__________________________________________________________________________________________________\n",
      "batch_normalization_243 (BatchN (None, 88, 112, 32)  128         add_93[0][0]                     \n",
      "__________________________________________________________________________________________________\n",
      "activation_521 (Activation)     (None, 88, 112, 32)  0           batch_normalization_243[0][0]    \n",
      "__________________________________________________________________________________________________\n",
      "conv2d_960 (Conv2D)             (None, 88, 112, 32)  9248        activation_521[0][0]             \n",
      "__________________________________________________________________________________________________\n",
      "batch_normalization_244 (BatchN (None, 88, 112, 32)  128         conv2d_960[0][0]                 \n",
      "__________________________________________________________________________________________________\n",
      "activation_522 (Activation)     (None, 88, 112, 32)  0           batch_normalization_244[0][0]    \n",
      "__________________________________________________________________________________________________\n",
      "conv2d_961 (Conv2D)             (None, 88, 112, 32)  9248        activation_522[0][0]             \n",
      "__________________________________________________________________________________________________\n",
      "add_94 (Add)                    (None, 88, 112, 32)  0           conv2d_961[0][0]                 \n",
      "                                                                 add_93[0][0]                     \n",
      "__________________________________________________________________________________________________\n",
      "batch_normalization_245 (BatchN (None, 88, 112, 32)  128         add_94[0][0]                     \n",
      "__________________________________________________________________________________________________\n",
      "activation_523 (Activation)     (None, 88, 112, 32)  0           batch_normalization_245[0][0]    \n",
      "__________________________________________________________________________________________________\n",
      "max_pooling2d_269 (MaxPooling2D (None, 44, 56, 32)   0           activation_523[0][0]             \n",
      "__________________________________________________________________________________________________\n",
      "dropout_397 (Dropout)           (None, 44, 56, 32)   0           max_pooling2d_269[0][0]          \n",
      "__________________________________________________________________________________________________\n",
      "conv2d_962 (Conv2D)             (None, 44, 56, 64)   18496       dropout_397[0][0]                \n",
      "__________________________________________________________________________________________________\n",
      "batch_normalization_246 (BatchN (None, 44, 56, 64)   256         conv2d_962[0][0]                 \n",
      "__________________________________________________________________________________________________\n",
      "activation_524 (Activation)     (None, 44, 56, 64)   0           batch_normalization_246[0][0]    \n",
      "__________________________________________________________________________________________________\n",
      "conv2d_963 (Conv2D)             (None, 44, 56, 64)   36928       activation_524[0][0]             \n",
      "__________________________________________________________________________________________________\n",
      "batch_normalization_247 (BatchN (None, 44, 56, 64)   256         conv2d_963[0][0]                 \n",
      "__________________________________________________________________________________________________\n",
      "activation_525 (Activation)     (None, 44, 56, 64)   0           batch_normalization_247[0][0]    \n",
      "__________________________________________________________________________________________________\n",
      "conv2d_964 (Conv2D)             (None, 44, 56, 64)   36928       activation_525[0][0]             \n",
      "__________________________________________________________________________________________________\n",
      "add_95 (Add)                    (None, 44, 56, 64)   0           conv2d_964[0][0]                 \n",
      "                                                                 conv2d_962[0][0]                 \n",
      "__________________________________________________________________________________________________\n",
      "batch_normalization_248 (BatchN (None, 44, 56, 64)   256         add_95[0][0]                     \n",
      "__________________________________________________________________________________________________\n",
      "activation_526 (Activation)     (None, 44, 56, 64)   0           batch_normalization_248[0][0]    \n",
      "__________________________________________________________________________________________________\n",
      "conv2d_965 (Conv2D)             (None, 44, 56, 64)   36928       activation_526[0][0]             \n",
      "__________________________________________________________________________________________________\n",
      "batch_normalization_249 (BatchN (None, 44, 56, 64)   256         conv2d_965[0][0]                 \n",
      "__________________________________________________________________________________________________\n",
      "activation_527 (Activation)     (None, 44, 56, 64)   0           batch_normalization_249[0][0]    \n",
      "__________________________________________________________________________________________________\n",
      "conv2d_966 (Conv2D)             (None, 44, 56, 64)   36928       activation_527[0][0]             \n",
      "__________________________________________________________________________________________________\n",
      "add_96 (Add)                    (None, 44, 56, 64)   0           conv2d_966[0][0]                 \n",
      "                                                                 add_95[0][0]                     \n",
      "__________________________________________________________________________________________________\n",
      "batch_normalization_250 (BatchN (None, 44, 56, 64)   256         add_96[0][0]                     \n",
      "__________________________________________________________________________________________________\n",
      "activation_528 (Activation)     (None, 44, 56, 64)   0           batch_normalization_250[0][0]    \n",
      "__________________________________________________________________________________________________\n",
      "max_pooling2d_270 (MaxPooling2D (None, 22, 28, 64)   0           activation_528[0][0]             \n",
      "__________________________________________________________________________________________________\n",
      "dropout_398 (Dropout)           (None, 22, 28, 64)   0           max_pooling2d_270[0][0]          \n",
      "__________________________________________________________________________________________________\n",
      "conv2d_967 (Conv2D)             (None, 22, 28, 128)  73856       dropout_398[0][0]                \n",
      "__________________________________________________________________________________________________\n",
      "batch_normalization_251 (BatchN (None, 22, 28, 128)  512         conv2d_967[0][0]                 \n",
      "__________________________________________________________________________________________________\n",
      "activation_529 (Activation)     (None, 22, 28, 128)  0           batch_normalization_251[0][0]    \n",
      "__________________________________________________________________________________________________\n",
      "conv2d_968 (Conv2D)             (None, 22, 28, 128)  147584      activation_529[0][0]             \n",
      "__________________________________________________________________________________________________\n",
      "batch_normalization_252 (BatchN (None, 22, 28, 128)  512         conv2d_968[0][0]                 \n",
      "__________________________________________________________________________________________________\n",
      "activation_530 (Activation)     (None, 22, 28, 128)  0           batch_normalization_252[0][0]    \n",
      "__________________________________________________________________________________________________\n",
      "conv2d_969 (Conv2D)             (None, 22, 28, 128)  147584      activation_530[0][0]             \n",
      "__________________________________________________________________________________________________\n",
      "add_97 (Add)                    (None, 22, 28, 128)  0           conv2d_969[0][0]                 \n",
      "                                                                 conv2d_967[0][0]                 \n",
      "__________________________________________________________________________________________________\n",
      "batch_normalization_253 (BatchN (None, 22, 28, 128)  512         add_97[0][0]                     \n",
      "__________________________________________________________________________________________________\n",
      "activation_531 (Activation)     (None, 22, 28, 128)  0           batch_normalization_253[0][0]    \n",
      "__________________________________________________________________________________________________\n",
      "conv2d_970 (Conv2D)             (None, 22, 28, 128)  147584      activation_531[0][0]             \n",
      "__________________________________________________________________________________________________\n",
      "batch_normalization_254 (BatchN (None, 22, 28, 128)  512         conv2d_970[0][0]                 \n",
      "__________________________________________________________________________________________________\n",
      "activation_532 (Activation)     (None, 22, 28, 128)  0           batch_normalization_254[0][0]    \n",
      "__________________________________________________________________________________________________\n",
      "conv2d_971 (Conv2D)             (None, 22, 28, 128)  147584      activation_532[0][0]             \n",
      "__________________________________________________________________________________________________\n",
      "add_98 (Add)                    (None, 22, 28, 128)  0           conv2d_971[0][0]                 \n",
      "                                                                 add_97[0][0]                     \n",
      "__________________________________________________________________________________________________\n",
      "batch_normalization_255 (BatchN (None, 22, 28, 128)  512         add_98[0][0]                     \n",
      "__________________________________________________________________________________________________\n",
      "activation_533 (Activation)     (None, 22, 28, 128)  0           batch_normalization_255[0][0]    \n",
      "__________________________________________________________________________________________________\n",
      "max_pooling2d_271 (MaxPooling2D (None, 11, 14, 128)  0           activation_533[0][0]             \n",
      "__________________________________________________________________________________________________\n",
      "dropout_399 (Dropout)           (None, 11, 14, 128)  0           max_pooling2d_271[0][0]          \n",
      "__________________________________________________________________________________________________\n",
      "conv2d_972 (Conv2D)             (None, 11, 14, 256)  295168      dropout_399[0][0]                \n",
      "__________________________________________________________________________________________________\n",
      "batch_normalization_256 (BatchN (None, 11, 14, 256)  1024        conv2d_972[0][0]                 \n",
      "__________________________________________________________________________________________________\n",
      "activation_534 (Activation)     (None, 11, 14, 256)  0           batch_normalization_256[0][0]    \n",
      "__________________________________________________________________________________________________\n",
      "conv2d_973 (Conv2D)             (None, 11, 14, 256)  590080      activation_534[0][0]             \n",
      "__________________________________________________________________________________________________\n",
      "batch_normalization_257 (BatchN (None, 11, 14, 256)  1024        conv2d_973[0][0]                 \n",
      "__________________________________________________________________________________________________\n",
      "activation_535 (Activation)     (None, 11, 14, 256)  0           batch_normalization_257[0][0]    \n",
      "__________________________________________________________________________________________________\n",
      "conv2d_974 (Conv2D)             (None, 11, 14, 256)  590080      activation_535[0][0]             \n",
      "__________________________________________________________________________________________________\n",
      "add_99 (Add)                    (None, 11, 14, 256)  0           conv2d_974[0][0]                 \n",
      "                                                                 conv2d_972[0][0]                 \n",
      "__________________________________________________________________________________________________\n",
      "batch_normalization_258 (BatchN (None, 11, 14, 256)  1024        add_99[0][0]                     \n",
      "__________________________________________________________________________________________________\n",
      "activation_536 (Activation)     (None, 11, 14, 256)  0           batch_normalization_258[0][0]    \n",
      "__________________________________________________________________________________________________\n",
      "conv2d_975 (Conv2D)             (None, 11, 14, 256)  590080      activation_536[0][0]             \n",
      "__________________________________________________________________________________________________\n",
      "batch_normalization_259 (BatchN (None, 11, 14, 256)  1024        conv2d_975[0][0]                 \n",
      "__________________________________________________________________________________________________\n",
      "activation_537 (Activation)     (None, 11, 14, 256)  0           batch_normalization_259[0][0]    \n",
      "__________________________________________________________________________________________________\n",
      "conv2d_976 (Conv2D)             (None, 11, 14, 256)  590080      activation_537[0][0]             \n",
      "__________________________________________________________________________________________________\n",
      "add_100 (Add)                   (None, 11, 14, 256)  0           conv2d_976[0][0]                 \n",
      "                                                                 add_99[0][0]                     \n",
      "__________________________________________________________________________________________________\n",
      "batch_normalization_260 (BatchN (None, 11, 14, 256)  1024        add_100[0][0]                    \n",
      "__________________________________________________________________________________________________\n",
      "activation_538 (Activation)     (None, 11, 14, 256)  0           batch_normalization_260[0][0]    \n",
      "__________________________________________________________________________________________________\n",
      "conv2d_transpose_122 (Conv2DTra (None, 22, 28, 128)  295040      activation_538[0][0]             \n",
      "__________________________________________________________________________________________________\n",
      "concatenate_90 (Concatenate)    (None, 22, 28, 256)  0           conv2d_transpose_122[0][0]       \n",
      "                                                                 activation_533[0][0]             \n",
      "__________________________________________________________________________________________________\n",
      "dropout_400 (Dropout)           (None, 22, 28, 256)  0           concatenate_90[0][0]             \n",
      "__________________________________________________________________________________________________\n",
      "conv2d_977 (Conv2D)             (None, 22, 28, 128)  295040      dropout_400[0][0]                \n",
      "__________________________________________________________________________________________________\n",
      "batch_normalization_261 (BatchN (None, 22, 28, 128)  512         conv2d_977[0][0]                 \n",
      "__________________________________________________________________________________________________\n",
      "activation_539 (Activation)     (None, 22, 28, 128)  0           batch_normalization_261[0][0]    \n",
      "__________________________________________________________________________________________________\n",
      "conv2d_978 (Conv2D)             (None, 22, 28, 128)  147584      activation_539[0][0]             \n",
      "__________________________________________________________________________________________________\n",
      "batch_normalization_262 (BatchN (None, 22, 28, 128)  512         conv2d_978[0][0]                 \n",
      "__________________________________________________________________________________________________\n",
      "activation_540 (Activation)     (None, 22, 28, 128)  0           batch_normalization_262[0][0]    \n",
      "__________________________________________________________________________________________________\n",
      "conv2d_979 (Conv2D)             (None, 22, 28, 128)  147584      activation_540[0][0]             \n",
      "__________________________________________________________________________________________________\n",
      "add_101 (Add)                   (None, 22, 28, 128)  0           conv2d_979[0][0]                 \n",
      "                                                                 conv2d_977[0][0]                 \n",
      "__________________________________________________________________________________________________\n",
      "batch_normalization_263 (BatchN (None, 22, 28, 128)  512         add_101[0][0]                    \n",
      "__________________________________________________________________________________________________\n",
      "activation_541 (Activation)     (None, 22, 28, 128)  0           batch_normalization_263[0][0]    \n",
      "__________________________________________________________________________________________________\n",
      "conv2d_980 (Conv2D)             (None, 22, 28, 128)  147584      activation_541[0][0]             \n",
      "__________________________________________________________________________________________________\n",
      "batch_normalization_264 (BatchN (None, 22, 28, 128)  512         conv2d_980[0][0]                 \n",
      "__________________________________________________________________________________________________\n",
      "activation_542 (Activation)     (None, 22, 28, 128)  0           batch_normalization_264[0][0]    \n",
      "__________________________________________________________________________________________________\n",
      "conv2d_981 (Conv2D)             (None, 22, 28, 128)  147584      activation_542[0][0]             \n",
      "__________________________________________________________________________________________________\n",
      "add_102 (Add)                   (None, 22, 28, 128)  0           conv2d_981[0][0]                 \n",
      "                                                                 add_101[0][0]                    \n",
      "__________________________________________________________________________________________________\n",
      "batch_normalization_265 (BatchN (None, 22, 28, 128)  512         add_102[0][0]                    \n",
      "__________________________________________________________________________________________________\n",
      "activation_543 (Activation)     (None, 22, 28, 128)  0           batch_normalization_265[0][0]    \n",
      "__________________________________________________________________________________________________\n",
      "conv2d_transpose_123 (Conv2DTra (None, 44, 56, 64)   73792       activation_543[0][0]             \n",
      "__________________________________________________________________________________________________\n",
      "concatenate_91 (Concatenate)    (None, 44, 56, 128)  0           conv2d_transpose_123[0][0]       \n",
      "                                                                 activation_528[0][0]             \n",
      "__________________________________________________________________________________________________\n",
      "dropout_401 (Dropout)           (None, 44, 56, 128)  0           concatenate_91[0][0]             \n",
      "__________________________________________________________________________________________________\n",
      "conv2d_982 (Conv2D)             (None, 44, 56, 64)   73792       dropout_401[0][0]                \n",
      "__________________________________________________________________________________________________\n",
      "batch_normalization_266 (BatchN (None, 44, 56, 64)   256         conv2d_982[0][0]                 \n",
      "__________________________________________________________________________________________________\n",
      "activation_544 (Activation)     (None, 44, 56, 64)   0           batch_normalization_266[0][0]    \n",
      "__________________________________________________________________________________________________\n",
      "conv2d_983 (Conv2D)             (None, 44, 56, 64)   36928       activation_544[0][0]             \n",
      "__________________________________________________________________________________________________\n",
      "batch_normalization_267 (BatchN (None, 44, 56, 64)   256         conv2d_983[0][0]                 \n",
      "__________________________________________________________________________________________________\n",
      "activation_545 (Activation)     (None, 44, 56, 64)   0           batch_normalization_267[0][0]    \n",
      "__________________________________________________________________________________________________\n",
      "conv2d_984 (Conv2D)             (None, 44, 56, 64)   36928       activation_545[0][0]             \n",
      "__________________________________________________________________________________________________\n",
      "add_103 (Add)                   (None, 44, 56, 64)   0           conv2d_984[0][0]                 \n",
      "                                                                 conv2d_982[0][0]                 \n",
      "__________________________________________________________________________________________________\n",
      "batch_normalization_268 (BatchN (None, 44, 56, 64)   256         add_103[0][0]                    \n",
      "__________________________________________________________________________________________________\n",
      "activation_546 (Activation)     (None, 44, 56, 64)   0           batch_normalization_268[0][0]    \n",
      "__________________________________________________________________________________________________\n",
      "conv2d_985 (Conv2D)             (None, 44, 56, 64)   36928       activation_546[0][0]             \n",
      "__________________________________________________________________________________________________\n",
      "batch_normalization_269 (BatchN (None, 44, 56, 64)   256         conv2d_985[0][0]                 \n",
      "__________________________________________________________________________________________________\n",
      "activation_547 (Activation)     (None, 44, 56, 64)   0           batch_normalization_269[0][0]    \n",
      "__________________________________________________________________________________________________\n",
      "conv2d_986 (Conv2D)             (None, 44, 56, 64)   36928       activation_547[0][0]             \n",
      "__________________________________________________________________________________________________\n",
      "add_104 (Add)                   (None, 44, 56, 64)   0           conv2d_986[0][0]                 \n",
      "                                                                 add_103[0][0]                    \n",
      "__________________________________________________________________________________________________\n",
      "batch_normalization_270 (BatchN (None, 44, 56, 64)   256         add_104[0][0]                    \n",
      "__________________________________________________________________________________________________\n",
      "activation_548 (Activation)     (None, 44, 56, 64)   0           batch_normalization_270[0][0]    \n",
      "__________________________________________________________________________________________________\n",
      "conv2d_transpose_124 (Conv2DTra (None, 88, 112, 32)  18464       activation_548[0][0]             \n",
      "__________________________________________________________________________________________________\n",
      "concatenate_92 (Concatenate)    (None, 88, 112, 64)  0           conv2d_transpose_124[0][0]       \n",
      "                                                                 activation_523[0][0]             \n",
      "__________________________________________________________________________________________________\n",
      "dropout_402 (Dropout)           (None, 88, 112, 64)  0           concatenate_92[0][0]             \n",
      "__________________________________________________________________________________________________\n",
      "conv2d_987 (Conv2D)             (None, 88, 112, 32)  18464       dropout_402[0][0]                \n",
      "__________________________________________________________________________________________________\n",
      "batch_normalization_271 (BatchN (None, 88, 112, 32)  128         conv2d_987[0][0]                 \n",
      "__________________________________________________________________________________________________\n",
      "activation_549 (Activation)     (None, 88, 112, 32)  0           batch_normalization_271[0][0]    \n",
      "__________________________________________________________________________________________________\n",
      "conv2d_988 (Conv2D)             (None, 88, 112, 32)  9248        activation_549[0][0]             \n",
      "__________________________________________________________________________________________________\n",
      "batch_normalization_272 (BatchN (None, 88, 112, 32)  128         conv2d_988[0][0]                 \n",
      "__________________________________________________________________________________________________\n",
      "activation_550 (Activation)     (None, 88, 112, 32)  0           batch_normalization_272[0][0]    \n",
      "__________________________________________________________________________________________________\n",
      "conv2d_989 (Conv2D)             (None, 88, 112, 32)  9248        activation_550[0][0]             \n",
      "__________________________________________________________________________________________________\n",
      "add_105 (Add)                   (None, 88, 112, 32)  0           conv2d_989[0][0]                 \n",
      "                                                                 conv2d_987[0][0]                 \n",
      "__________________________________________________________________________________________________\n",
      "batch_normalization_273 (BatchN (None, 88, 112, 32)  128         add_105[0][0]                    \n",
      "__________________________________________________________________________________________________\n",
      "activation_551 (Activation)     (None, 88, 112, 32)  0           batch_normalization_273[0][0]    \n",
      "__________________________________________________________________________________________________\n",
      "conv2d_990 (Conv2D)             (None, 88, 112, 32)  9248        activation_551[0][0]             \n",
      "__________________________________________________________________________________________________\n",
      "batch_normalization_274 (BatchN (None, 88, 112, 32)  128         conv2d_990[0][0]                 \n",
      "__________________________________________________________________________________________________\n",
      "activation_552 (Activation)     (None, 88, 112, 32)  0           batch_normalization_274[0][0]    \n",
      "__________________________________________________________________________________________________\n",
      "conv2d_991 (Conv2D)             (None, 88, 112, 32)  9248        activation_552[0][0]             \n",
      "__________________________________________________________________________________________________\n",
      "add_106 (Add)                   (None, 88, 112, 32)  0           conv2d_991[0][0]                 \n",
      "                                                                 add_105[0][0]                    \n",
      "__________________________________________________________________________________________________\n",
      "batch_normalization_275 (BatchN (None, 88, 112, 32)  128         add_106[0][0]                    \n",
      "__________________________________________________________________________________________________\n",
      "activation_553 (Activation)     (None, 88, 112, 32)  0           batch_normalization_275[0][0]    \n",
      "__________________________________________________________________________________________________\n",
      "conv2d_transpose_125 (Conv2DTra (None, 176, 224, 16) 4624        activation_553[0][0]             \n",
      "__________________________________________________________________________________________________\n",
      "concatenate_93 (Concatenate)    (None, 176, 224, 32) 0           conv2d_transpose_125[0][0]       \n",
      "                                                                 activation_518[0][0]             \n",
      "__________________________________________________________________________________________________\n",
      "dropout_403 (Dropout)           (None, 176, 224, 32) 0           concatenate_93[0][0]             \n",
      "__________________________________________________________________________________________________\n",
      "conv2d_992 (Conv2D)             (None, 176, 224, 16) 4624        dropout_403[0][0]                \n",
      "__________________________________________________________________________________________________\n",
      "batch_normalization_276 (BatchN (None, 176, 224, 16) 64          conv2d_992[0][0]                 \n",
      "__________________________________________________________________________________________________\n",
      "activation_554 (Activation)     (None, 176, 224, 16) 0           batch_normalization_276[0][0]    \n",
      "__________________________________________________________________________________________________\n",
      "conv2d_993 (Conv2D)             (None, 176, 224, 16) 2320        activation_554[0][0]             \n",
      "__________________________________________________________________________________________________\n",
      "batch_normalization_277 (BatchN (None, 176, 224, 16) 64          conv2d_993[0][0]                 \n",
      "__________________________________________________________________________________________________\n",
      "activation_555 (Activation)     (None, 176, 224, 16) 0           batch_normalization_277[0][0]    \n",
      "__________________________________________________________________________________________________\n",
      "conv2d_994 (Conv2D)             (None, 176, 224, 16) 2320        activation_555[0][0]             \n",
      "__________________________________________________________________________________________________\n",
      "add_107 (Add)                   (None, 176, 224, 16) 0           conv2d_994[0][0]                 \n",
      "                                                                 conv2d_992[0][0]                 \n",
      "__________________________________________________________________________________________________\n",
      "batch_normalization_278 (BatchN (None, 176, 224, 16) 64          add_107[0][0]                    \n",
      "__________________________________________________________________________________________________\n",
      "activation_556 (Activation)     (None, 176, 224, 16) 0           batch_normalization_278[0][0]    \n",
      "__________________________________________________________________________________________________\n",
      "conv2d_995 (Conv2D)             (None, 176, 224, 16) 2320        activation_556[0][0]             \n",
      "__________________________________________________________________________________________________\n",
      "batch_normalization_279 (BatchN (None, 176, 224, 16) 64          conv2d_995[0][0]                 \n",
      "__________________________________________________________________________________________________\n",
      "activation_557 (Activation)     (None, 176, 224, 16) 0           batch_normalization_279[0][0]    \n",
      "__________________________________________________________________________________________________\n",
      "conv2d_996 (Conv2D)             (None, 176, 224, 16) 2320        activation_557[0][0]             \n",
      "__________________________________________________________________________________________________\n",
      "add_108 (Add)                   (None, 176, 224, 16) 0           conv2d_996[0][0]                 \n",
      "                                                                 add_107[0][0]                    \n",
      "__________________________________________________________________________________________________\n",
      "batch_normalization_280 (BatchN (None, 176, 224, 16) 64          add_108[0][0]                    \n",
      "__________________________________________________________________________________________________\n",
      "activation_558 (Activation)     (None, 176, 224, 16) 0           batch_normalization_280[0][0]    \n",
      "__________________________________________________________________________________________________\n",
      "conv2d_997 (Conv2D)             (None, 176, 224, 3)  51          activation_558[0][0]             \n",
      "__________________________________________________________________________________________________\n",
      "cropping2d_52 (Cropping2D)      (None, 161, 216, 3)  0           conv2d_997[0][0]                 \n",
      "__________________________________________________________________________________________________\n",
      "reshape_10 (Reshape)            (None, 161, 216, 3)  0           cropping2d_52[0][0]              \n",
      "__________________________________________________________________________________________________\n",
      "activation_559 (Activation)     (None, 161, 216, 3)  0           reshape_10[0][0]                 \n",
      "==================================================================================================\n",
      "Total params: 5,120,179\n",
      "Trainable params: 5,112,819\n",
      "Non-trainable params: 7,360\n",
      "__________________________________________________________________________________________________\n"
     ]
    }
   ],
   "source": [
    "model_unet_res.summary()"
   ]
  },
  {
   "cell_type": "markdown",
   "metadata": {},
   "source": [
    "### Entrenamiento"
   ]
  },
  {
   "cell_type": "code",
   "execution_count": 638,
   "metadata": {
    "ExecuteTime": {
     "end_time": "2018-11-05T20:54:54.439095Z",
     "start_time": "2018-11-05T20:47:24.377065Z"
    },
    "scrolled": true
   },
   "outputs": [
    {
     "name": "stdout",
     "output_type": "stream",
     "text": [
      "Train on 96 samples, validate on 24 samples\n",
      "Epoch 1/30\n",
      "96/96 [==============================] - 48s 504ms/step - loss: 0.8455 - f1: 0.1665 - mean_iou: 0.2063 - val_loss: 1.1605 - val_f1: 0.0827 - val_mean_iou: 0.3122\n",
      "\n",
      "Epoch 00001: val_loss improved from inf to 1.16051, saving model to model-unet-res-cwfid.h5\n",
      "Epoch 2/30\n",
      "96/96 [==============================] - 4s 44ms/step - loss: 0.7290 - f1: 0.3156 - mean_iou: 0.3153 - val_loss: 4.7468 - val_f1: 0.1779 - val_mean_iou: 0.3215\n",
      "\n",
      "Epoch 00002: val_loss did not improve from 1.16051\n",
      "Epoch 3/30\n",
      "96/96 [==============================] - 4s 43ms/step - loss: 0.6542 - f1: 0.4889 - mean_iou: 0.3171 - val_loss: 3.2418 - val_f1: 0.3031 - val_mean_iou: 0.3264\n",
      "\n",
      "Epoch 00003: val_loss did not improve from 1.16051\n",
      "Epoch 4/30\n",
      "96/96 [==============================] - 4s 43ms/step - loss: 0.6052 - f1: 0.6271 - mean_iou: 0.3273 - val_loss: 0.9712 - val_f1: 0.4738 - val_mean_iou: 0.3353\n",
      "\n",
      "Epoch 00004: val_loss improved from 1.16051 to 0.97119, saving model to model-unet-res-cwfid.h5\n",
      "Epoch 5/30\n",
      "96/96 [==============================] - 4s 43ms/step - loss: 0.5737 - f1: 0.7498 - mean_iou: 0.3390 - val_loss: 0.8099 - val_f1: 0.5484 - val_mean_iou: 0.3454\n",
      "\n",
      "Epoch 00005: val_loss improved from 0.97119 to 0.80986, saving model to model-unet-res-cwfid.h5\n",
      "Epoch 6/30\n",
      "96/96 [==============================] - 4s 43ms/step - loss: 0.5542 - f1: 0.8391 - mean_iou: 0.3489 - val_loss: 0.7203 - val_f1: 0.6232 - val_mean_iou: 0.3538\n",
      "\n",
      "Epoch 00006: val_loss improved from 0.80986 to 0.72026, saving model to model-unet-res-cwfid.h5\n",
      "Epoch 7/30\n",
      "96/96 [==============================] - 4s 43ms/step - loss: 0.5392 - f1: 0.8744 - mean_iou: 0.3570 - val_loss: 0.6232 - val_f1: 0.7333 - val_mean_iou: 0.3613\n",
      "\n",
      "Epoch 00007: val_loss improved from 0.72026 to 0.62320, saving model to model-unet-res-cwfid.h5\n",
      "Epoch 8/30\n",
      "96/96 [==============================] - 4s 43ms/step - loss: 0.5269 - f1: 0.8840 - mean_iou: 0.3645 - val_loss: 0.5809 - val_f1: 0.7911 - val_mean_iou: 0.3686\n",
      "\n",
      "Epoch 00008: val_loss improved from 0.62320 to 0.58091, saving model to model-unet-res-cwfid.h5\n",
      "Epoch 9/30\n",
      "96/96 [==============================] - 4s 43ms/step - loss: 0.5160 - f1: 0.8854 - mean_iou: 0.3718 - val_loss: 0.5590 - val_f1: 0.8226 - val_mean_iou: 0.3756\n",
      "\n",
      "Epoch 00009: val_loss improved from 0.58091 to 0.55903, saving model to model-unet-res-cwfid.h5\n",
      "Epoch 10/30\n",
      "96/96 [==============================] - 4s 43ms/step - loss: 0.5058 - f1: 0.8853 - mean_iou: 0.3785 - val_loss: 0.5388 - val_f1: 0.8480 - val_mean_iou: 0.3818\n",
      "\n",
      "Epoch 00010: val_loss improved from 0.55903 to 0.53883, saving model to model-unet-res-cwfid.h5\n",
      "Epoch 11/30\n",
      "96/96 [==============================] - 4s 43ms/step - loss: 0.4965 - f1: 0.8855 - mean_iou: 0.3843 - val_loss: 0.5236 - val_f1: 0.8592 - val_mean_iou: 0.3874\n",
      "\n",
      "Epoch 00011: val_loss improved from 0.53883 to 0.52357, saving model to model-unet-res-cwfid.h5\n",
      "Epoch 12/30\n",
      "96/96 [==============================] - 4s 43ms/step - loss: 0.4869 - f1: 0.8863 - mean_iou: 0.3898 - val_loss: 0.5078 - val_f1: 0.8702 - val_mean_iou: 0.3924\n",
      "\n",
      "Epoch 00012: val_loss improved from 0.52357 to 0.50782, saving model to model-unet-res-cwfid.h5\n",
      "Epoch 13/30\n",
      "96/96 [==============================] - 4s 43ms/step - loss: 0.4784 - f1: 0.8855 - mean_iou: 0.3946 - val_loss: 0.4936 - val_f1: 0.8799 - val_mean_iou: 0.3970\n",
      "\n",
      "Epoch 00013: val_loss improved from 0.50782 to 0.49364, saving model to model-unet-res-cwfid.h5\n",
      "Epoch 14/30\n",
      "96/96 [==============================] - 4s 43ms/step - loss: 0.4698 - f1: 0.8831 - mean_iou: 0.3989 - val_loss: 0.4800 - val_f1: 0.8896 - val_mean_iou: 0.4011\n",
      "\n",
      "Epoch 00014: val_loss improved from 0.49364 to 0.48003, saving model to model-unet-res-cwfid.h5\n",
      "Epoch 15/30\n",
      "96/96 [==============================] - 4s 43ms/step - loss: 0.4614 - f1: 0.8807 - mean_iou: 0.4029 - val_loss: 0.4667 - val_f1: 0.8968 - val_mean_iou: 0.4049\n",
      "\n",
      "Epoch 00015: val_loss improved from 0.48003 to 0.46667, saving model to model-unet-res-cwfid.h5\n",
      "Epoch 16/30\n",
      "96/96 [==============================] - 4s 43ms/step - loss: 0.4535 - f1: 0.8806 - mean_iou: 0.4067 - val_loss: 0.4534 - val_f1: 0.9059 - val_mean_iou: 0.4089\n",
      "\n",
      "Epoch 00016: val_loss improved from 0.46667 to 0.45337, saving model to model-unet-res-cwfid.h5\n",
      "Epoch 17/30\n",
      "96/96 [==============================] - 4s 43ms/step - loss: 0.4459 - f1: 0.8829 - mean_iou: 0.4110 - val_loss: 0.4428 - val_f1: 0.9141 - val_mean_iou: 0.4132\n",
      "\n",
      "Epoch 00017: val_loss improved from 0.45337 to 0.44276, saving model to model-unet-res-cwfid.h5\n",
      "Epoch 18/30\n",
      "96/96 [==============================] - 4s 43ms/step - loss: 0.4383 - f1: 0.8848 - mean_iou: 0.4154 - val_loss: 0.4340 - val_f1: 0.9180 - val_mean_iou: 0.4177\n",
      "\n",
      "Epoch 00018: val_loss improved from 0.44276 to 0.43399, saving model to model-unet-res-cwfid.h5\n",
      "Epoch 19/30\n",
      "96/96 [==============================] - 4s 43ms/step - loss: 0.4312 - f1: 0.8858 - mean_iou: 0.4199 - val_loss: 0.4246 - val_f1: 0.9178 - val_mean_iou: 0.4222\n",
      "\n",
      "Epoch 00019: val_loss improved from 0.43399 to 0.42465, saving model to model-unet-res-cwfid.h5\n",
      "Epoch 20/30\n",
      "96/96 [==============================] - 4s 43ms/step - loss: 0.4243 - f1: 0.8871 - mean_iou: 0.4242 - val_loss: 0.4166 - val_f1: 0.9175 - val_mean_iou: 0.4264\n",
      "\n",
      "Epoch 00020: val_loss improved from 0.42465 to 0.41665, saving model to model-unet-res-cwfid.h5\n",
      "Epoch 21/30\n",
      "96/96 [==============================] - 4s 43ms/step - loss: 0.4175 - f1: 0.8882 - mean_iou: 0.4283 - val_loss: 0.4103 - val_f1: 0.9180 - val_mean_iou: 0.4303\n",
      "\n",
      "Epoch 00021: val_loss improved from 0.41665 to 0.41031, saving model to model-unet-res-cwfid.h5\n",
      "Epoch 22/30\n",
      "96/96 [==============================] - 4s 43ms/step - loss: 0.4110 - f1: 0.8890 - mean_iou: 0.4321 - val_loss: 0.4040 - val_f1: 0.9200 - val_mean_iou: 0.4340\n",
      "\n",
      "Epoch 00022: val_loss improved from 0.41031 to 0.40401, saving model to model-unet-res-cwfid.h5\n",
      "Epoch 23/30\n",
      "96/96 [==============================] - 4s 43ms/step - loss: 0.4045 - f1: 0.8904 - mean_iou: 0.4357 - val_loss: 0.3976 - val_f1: 0.9213 - val_mean_iou: 0.4375\n",
      "\n",
      "Epoch 00023: val_loss improved from 0.40401 to 0.39762, saving model to model-unet-res-cwfid.h5\n",
      "Epoch 24/30\n",
      "96/96 [==============================] - 4s 43ms/step - loss: 0.3984 - f1: 0.8917 - mean_iou: 0.4391 - val_loss: 0.3910 - val_f1: 0.9223 - val_mean_iou: 0.4409\n",
      "\n",
      "Epoch 00024: val_loss improved from 0.39762 to 0.39098, saving model to model-unet-res-cwfid.h5\n",
      "Epoch 25/30\n",
      "96/96 [==============================] - 4s 43ms/step - loss: 0.3922 - f1: 0.8922 - mean_iou: 0.4425 - val_loss: 0.3845 - val_f1: 0.9240 - val_mean_iou: 0.4443\n",
      "\n",
      "Epoch 00025: val_loss improved from 0.39098 to 0.38453, saving model to model-unet-res-cwfid.h5\n",
      "Epoch 26/30\n",
      "96/96 [==============================] - 4s 43ms/step - loss: 0.3861 - f1: 0.8934 - mean_iou: 0.4461 - val_loss: 0.3782 - val_f1: 0.9261 - val_mean_iou: 0.4480\n",
      "\n",
      "Epoch 00026: val_loss improved from 0.38453 to 0.37824, saving model to model-unet-res-cwfid.h5\n",
      "Epoch 27/30\n",
      "96/96 [==============================] - 4s 43ms/step - loss: 0.3802 - f1: 0.8948 - mean_iou: 0.4499 - val_loss: 0.3723 - val_f1: 0.9278 - val_mean_iou: 0.4519\n",
      "\n",
      "Epoch 00027: val_loss improved from 0.37824 to 0.37226, saving model to model-unet-res-cwfid.h5\n",
      "Epoch 28/30\n",
      "96/96 [==============================] - 4s 43ms/step - loss: 0.3742 - f1: 0.8956 - mean_iou: 0.4538 - val_loss: 0.3660 - val_f1: 0.9287 - val_mean_iou: 0.4558\n",
      "\n",
      "Epoch 00028: val_loss improved from 0.37226 to 0.36598, saving model to model-unet-res-cwfid.h5\n",
      "Epoch 29/30\n",
      "96/96 [==============================] - 4s 43ms/step - loss: 0.3683 - f1: 0.8974 - mean_iou: 0.4577 - val_loss: 0.3605 - val_f1: 0.9297 - val_mean_iou: 0.4596\n",
      "\n",
      "Epoch 00029: val_loss improved from 0.36598 to 0.36050, saving model to model-unet-res-cwfid.h5\n",
      "Epoch 30/30\n",
      "96/96 [==============================] - 4s 43ms/step - loss: 0.3625 - f1: 0.8995 - mean_iou: 0.4614 - val_loss: 0.3557 - val_f1: 0.9312 - val_mean_iou: 0.4633\n",
      "\n",
      "Epoch 00030: val_loss improved from 0.36050 to 0.35568, saving model to model-unet-res-cwfid.h5\n"
     ]
    }
   ],
   "source": [
    "callbacks_full = [\n",
    "    ModelCheckpoint('model-unet-res-cwfid.h5', verbose=1, save_best_only=True)\n",
    "]\n",
    "\n",
    "model_unet_res_full_history = model_unet_res.fit(x = X_train,\n",
    "                         y = y_train,\n",
    "                         batch_size = 32,\n",
    "                         epochs = 30,\n",
    "                         verbose = 1,\n",
    "                         validation_split = 0.2,\n",
    "                          callbacks = callbacks_full\n",
    "                         )"
   ]
  },
  {
   "cell_type": "markdown",
   "metadata": {},
   "source": [
    "### k-Fold\n",
    "Puede demorar mucho tiempo"
   ]
  },
  {
   "cell_type": "code",
   "execution_count": 690,
   "metadata": {
    "ExecuteTime": {
     "end_time": "2018-11-05T21:37:07.163339Z",
     "start_time": "2018-11-05T21:37:07.159631Z"
    }
   },
   "outputs": [],
   "source": [
    "kfold = KFold(n_splits=5, shuffle=True, random_state=1337)"
   ]
  },
  {
   "cell_type": "code",
   "execution_count": 698,
   "metadata": {
    "ExecuteTime": {
     "end_time": "2018-11-05T21:41:49.986915Z",
     "start_time": "2018-11-05T21:41:49.980392Z"
    }
   },
   "outputs": [],
   "source": [
    "def k_fold(X_train, y_train):\n",
    "    \n",
    "    histories = []\n",
    "    for train, test in kfold.split(X_train, y_train):\n",
    "        _X_train = X_train[train]\n",
    "        x_val = X_train[test]\n",
    "        _y_train = y_train[train]\n",
    "        y_val = y_train[test]\n",
    "\n",
    "        # Fit the model for each split\n",
    "        callbacks_full = [\n",
    "            ModelCheckpoint('model-unet-res-cwfid.h5', verbose=1, save_best_only=True)\n",
    "        ]\n",
    "\n",
    "        model_unet_res_full_history = model_unet_res.fit(x = _X_train,\n",
    "                                 y = _y_train,\n",
    "                                 batch_size = 32,\n",
    "                                 epochs = 10,\n",
    "                                 verbose = 1,\n",
    "                                 validation_data=([x_val], y_val),callbacks = callbacks_full)\n",
    "\n",
    "        histories.append(model_unet_res_full_history)\n",
    "\n",
    "        # Evaluation after each split\n",
    "        scores = model_unet_res.evaluate(x_val, y_val)\n",
    "        print('Scores: {}'.format(scores))"
   ]
  },
  {
   "cell_type": "code",
   "execution_count": 699,
   "metadata": {
    "ExecuteTime": {
     "end_time": "2018-11-05T21:45:48.858781Z",
     "start_time": "2018-11-05T21:41:51.607840Z"
    },
    "scrolled": true
   },
   "outputs": [
    {
     "name": "stdout",
     "output_type": "stream",
     "text": [
      "Train on 96 samples, validate on 24 samples\n",
      "Epoch 1/10\n",
      "96/96 [==============================] - 4s 44ms/step - loss: 0.1984 - f1: 0.9519 - mean_iou: 0.5609 - val_loss: 0.2008 - val_f1: 0.9516 - val_mean_iou: 0.5624\n",
      "\n",
      "Epoch 00001: val_loss improved from inf to 0.20076, saving model to model-unet-res-cwfid.h5\n",
      "Epoch 2/10\n",
      "96/96 [==============================] - 4s 43ms/step - loss: 0.1943 - f1: 0.9528 - mean_iou: 0.5637 - val_loss: 0.2045 - val_f1: 0.9363 - val_mean_iou: 0.5652\n",
      "\n",
      "Epoch 00002: val_loss did not improve from 0.20076\n",
      "Epoch 3/10\n",
      "96/96 [==============================] - 4s 43ms/step - loss: 0.1903 - f1: 0.9537 - mean_iou: 0.5665 - val_loss: 0.1965 - val_f1: 0.9519 - val_mean_iou: 0.5679\n",
      "\n",
      "Epoch 00003: val_loss improved from 0.20076 to 0.19652, saving model to model-unet-res-cwfid.h5\n",
      "Epoch 4/10\n",
      "96/96 [==============================] - 4s 43ms/step - loss: 0.1869 - f1: 0.9542 - mean_iou: 0.5692 - val_loss: 0.1974 - val_f1: 0.9398 - val_mean_iou: 0.5707\n",
      "\n",
      "Epoch 00004: val_loss did not improve from 0.19652\n",
      "Epoch 5/10\n",
      "96/96 [==============================] - 4s 43ms/step - loss: 0.1826 - f1: 0.9550 - mean_iou: 0.5720 - val_loss: 0.1938 - val_f1: 0.9407 - val_mean_iou: 0.5736\n",
      "\n",
      "Epoch 00005: val_loss improved from 0.19652 to 0.19377, saving model to model-unet-res-cwfid.h5\n",
      "Epoch 6/10\n",
      "96/96 [==============================] - 4s 43ms/step - loss: 0.1794 - f1: 0.9555 - mean_iou: 0.5749 - val_loss: 0.1850 - val_f1: 0.9459 - val_mean_iou: 0.5765\n",
      "\n",
      "Epoch 00006: val_loss improved from 0.19377 to 0.18500, saving model to model-unet-res-cwfid.h5\n",
      "Epoch 7/10\n",
      "96/96 [==============================] - 4s 43ms/step - loss: 0.1756 - f1: 0.9562 - mean_iou: 0.5778 - val_loss: 0.1889 - val_f1: 0.9448 - val_mean_iou: 0.5794\n",
      "\n",
      "Epoch 00007: val_loss did not improve from 0.18500\n",
      "Epoch 8/10\n",
      "96/96 [==============================] - 4s 43ms/step - loss: 0.1724 - f1: 0.9565 - mean_iou: 0.5807 - val_loss: 0.1776 - val_f1: 0.9535 - val_mean_iou: 0.5823\n",
      "\n",
      "Epoch 00008: val_loss improved from 0.18500 to 0.17756, saving model to model-unet-res-cwfid.h5\n",
      "Epoch 9/10\n",
      "96/96 [==============================] - 4s 43ms/step - loss: 0.1690 - f1: 0.9572 - mean_iou: 0.5835 - val_loss: 0.1846 - val_f1: 0.9393 - val_mean_iou: 0.5851\n",
      "\n",
      "Epoch 00009: val_loss did not improve from 0.17756\n",
      "Epoch 10/10\n",
      "96/96 [==============================] - 4s 43ms/step - loss: 0.1652 - f1: 0.9577 - mean_iou: 0.5864 - val_loss: 0.1846 - val_f1: 0.9350 - val_mean_iou: 0.5879\n",
      "\n",
      "Epoch 00010: val_loss did not improve from 0.17756\n",
      "24/24 [==============================] - 0s 17ms/step\n",
      "Scores: [0.18464989960193634, 0.9350267052650452, 0.5884820222854614]\n",
      "Train on 96 samples, validate on 24 samples\n",
      "Epoch 1/10\n",
      "96/96 [==============================] - 4s 43ms/step - loss: 0.1631 - f1: 0.9583 - mean_iou: 0.5898 - val_loss: 0.1720 - val_f1: 0.9476 - val_mean_iou: 0.5913\n",
      "\n",
      "Epoch 00001: val_loss improved from inf to 0.17200, saving model to model-unet-res-cwfid.h5\n",
      "Epoch 2/10\n",
      "96/96 [==============================] - 4s 43ms/step - loss: 0.1602 - f1: 0.9589 - mean_iou: 0.5926 - val_loss: 0.1748 - val_f1: 0.9433 - val_mean_iou: 0.5940\n",
      "\n",
      "Epoch 00002: val_loss did not improve from 0.17200\n",
      "Epoch 3/10\n",
      "96/96 [==============================] - 4s 43ms/step - loss: 0.1565 - f1: 0.9592 - mean_iou: 0.5953 - val_loss: 0.1832 - val_f1: 0.9305 - val_mean_iou: 0.5967\n",
      "\n",
      "Epoch 00003: val_loss did not improve from 0.17200\n",
      "Epoch 4/10\n",
      "96/96 [==============================] - 4s 43ms/step - loss: 0.1542 - f1: 0.9587 - mean_iou: 0.5979 - val_loss: 0.1964 - val_f1: 0.9184 - val_mean_iou: 0.5993\n",
      "\n",
      "Epoch 00004: val_loss did not improve from 0.17200\n",
      "Epoch 5/10\n",
      "96/96 [==============================] - 4s 43ms/step - loss: 0.1502 - f1: 0.9599 - mean_iou: 0.6005 - val_loss: 0.1876 - val_f1: 0.9286 - val_mean_iou: 0.6019\n",
      "\n",
      "Epoch 00005: val_loss did not improve from 0.17200\n",
      "Epoch 6/10\n",
      "96/96 [==============================] - 4s 43ms/step - loss: 0.1472 - f1: 0.9605 - mean_iou: 0.6030 - val_loss: 0.1965 - val_f1: 0.9209 - val_mean_iou: 0.6044\n",
      "\n",
      "Epoch 00006: val_loss did not improve from 0.17200\n",
      "Epoch 7/10\n",
      "96/96 [==============================] - 4s 43ms/step - loss: 0.1440 - f1: 0.9607 - mean_iou: 0.6055 - val_loss: 0.1576 - val_f1: 0.9476 - val_mean_iou: 0.6068\n",
      "\n",
      "Epoch 00007: val_loss improved from 0.17200 to 0.15764, saving model to model-unet-res-cwfid.h5\n",
      "Epoch 8/10\n",
      "96/96 [==============================] - 4s 43ms/step - loss: 0.1419 - f1: 0.9607 - mean_iou: 0.6080 - val_loss: 0.1636 - val_f1: 0.9360 - val_mean_iou: 0.6093\n",
      "\n",
      "Epoch 00008: val_loss did not improve from 0.15764\n",
      "Epoch 9/10\n",
      "96/96 [==============================] - 4s 43ms/step - loss: 0.1394 - f1: 0.9609 - mean_iou: 0.6105 - val_loss: 0.1517 - val_f1: 0.9484 - val_mean_iou: 0.6118\n",
      "\n",
      "Epoch 00009: val_loss improved from 0.15764 to 0.15167, saving model to model-unet-res-cwfid.h5\n",
      "Epoch 10/10\n",
      "96/96 [==============================] - 4s 43ms/step - loss: 0.1369 - f1: 0.9604 - mean_iou: 0.6130 - val_loss: 0.1600 - val_f1: 0.9417 - val_mean_iou: 0.6144\n",
      "\n",
      "Epoch 00010: val_loss did not improve from 0.15167\n",
      "24/24 [==============================] - 0s 17ms/step\n",
      "Scores: [0.1600082963705063, 0.9416795969009399, 0.6148891448974609]\n",
      "Train on 96 samples, validate on 24 samples\n",
      "Epoch 1/10\n",
      "96/96 [==============================] - 4s 43ms/step - loss: 0.1352 - f1: 0.9589 - mean_iou: 0.6160 - val_loss: 0.1361 - val_f1: 0.9663 - val_mean_iou: 0.6174\n",
      "\n",
      "Epoch 00001: val_loss improved from inf to 0.13613, saving model to model-unet-res-cwfid.h5\n",
      "Epoch 2/10\n",
      "96/96 [==============================] - 4s 43ms/step - loss: 0.1334 - f1: 0.9581 - mean_iou: 0.6185 - val_loss: 0.1420 - val_f1: 0.9513 - val_mean_iou: 0.6199\n",
      "\n",
      "Epoch 00002: val_loss did not improve from 0.13613\n",
      "Epoch 3/10\n",
      "96/96 [==============================] - 4s 43ms/step - loss: 0.1297 - f1: 0.9593 - mean_iou: 0.6211 - val_loss: 0.1350 - val_f1: 0.9560 - val_mean_iou: 0.6225\n",
      "\n",
      "Epoch 00003: val_loss improved from 0.13613 to 0.13497, saving model to model-unet-res-cwfid.h5\n",
      "Epoch 4/10\n",
      "96/96 [==============================] - 4s 43ms/step - loss: 0.1275 - f1: 0.9599 - mean_iou: 0.6237 - val_loss: 0.1472 - val_f1: 0.9596 - val_mean_iou: 0.6251\n",
      "\n",
      "Epoch 00004: val_loss did not improve from 0.13497\n",
      "Epoch 5/10\n",
      "96/96 [==============================] - 4s 43ms/step - loss: 0.1249 - f1: 0.9608 - mean_iou: 0.6263 - val_loss: 0.1371 - val_f1: 0.9613 - val_mean_iou: 0.6276\n",
      "\n",
      "Epoch 00005: val_loss did not improve from 0.13497\n",
      "Epoch 6/10\n",
      "96/96 [==============================] - 4s 43ms/step - loss: 0.1225 - f1: 0.9607 - mean_iou: 0.6288 - val_loss: 0.1294 - val_f1: 0.9580 - val_mean_iou: 0.6302\n",
      "\n",
      "Epoch 00006: val_loss improved from 0.13497 to 0.12941, saving model to model-unet-res-cwfid.h5\n",
      "Epoch 7/10\n",
      "96/96 [==============================] - 4s 43ms/step - loss: 0.1206 - f1: 0.9611 - mean_iou: 0.6314 - val_loss: 0.1286 - val_f1: 0.9584 - val_mean_iou: 0.6327\n",
      "\n",
      "Epoch 00007: val_loss improved from 0.12941 to 0.12861, saving model to model-unet-res-cwfid.h5\n",
      "Epoch 8/10\n",
      "96/96 [==============================] - 4s 43ms/step - loss: 0.1187 - f1: 0.9614 - mean_iou: 0.6339 - val_loss: 0.1260 - val_f1: 0.9592 - val_mean_iou: 0.6352\n",
      "\n",
      "Epoch 00008: val_loss improved from 0.12861 to 0.12597, saving model to model-unet-res-cwfid.h5\n",
      "Epoch 9/10\n",
      "96/96 [==============================] - 4s 43ms/step - loss: 0.1163 - f1: 0.9618 - mean_iou: 0.6363 - val_loss: 0.1348 - val_f1: 0.9495 - val_mean_iou: 0.6376\n",
      "\n",
      "Epoch 00009: val_loss did not improve from 0.12597\n",
      "Epoch 10/10\n",
      "96/96 [==============================] - 4s 43ms/step - loss: 0.1141 - f1: 0.9623 - mean_iou: 0.6387 - val_loss: 0.1192 - val_f1: 0.9612 - val_mean_iou: 0.6400\n",
      "\n",
      "Epoch 00010: val_loss improved from 0.12597 to 0.11920, saving model to model-unet-res-cwfid.h5\n",
      "24/24 [==============================] - 0s 17ms/step\n",
      "Scores: [0.11920422315597534, 0.9611810445785522, 0.6404794454574585]\n",
      "Train on 96 samples, validate on 24 samples\n",
      "Epoch 1/10\n",
      "96/96 [==============================] - 4s 43ms/step - loss: 0.1111 - f1: 0.9648 - mean_iou: 0.6416 - val_loss: 0.1257 - val_f1: 0.9538 - val_mean_iou: 0.6428\n",
      "\n",
      "Epoch 00001: val_loss improved from inf to 0.12566, saving model to model-unet-res-cwfid.h5\n",
      "Epoch 2/10\n"
     ]
    },
    {
     "name": "stdout",
     "output_type": "stream",
     "text": [
      "96/96 [==============================] - 4s 43ms/step - loss: 0.1083 - f1: 0.9661 - mean_iou: 0.6439 - val_loss: 0.1311 - val_f1: 0.9465 - val_mean_iou: 0.6451\n",
      "\n",
      "Epoch 00002: val_loss did not improve from 0.12566\n",
      "Epoch 3/10\n",
      "96/96 [==============================] - 4s 43ms/step - loss: 0.1087 - f1: 0.9643 - mean_iou: 0.6461 - val_loss: 0.1389 - val_f1: 0.9385 - val_mean_iou: 0.6474\n",
      "\n",
      "Epoch 00003: val_loss did not improve from 0.12566\n",
      "Epoch 4/10\n",
      "96/96 [==============================] - 4s 43ms/step - loss: 0.1053 - f1: 0.9658 - mean_iou: 0.6484 - val_loss: 0.1344 - val_f1: 0.9427 - val_mean_iou: 0.6495\n",
      "\n",
      "Epoch 00004: val_loss did not improve from 0.12566\n",
      "Epoch 5/10\n",
      "96/96 [==============================] - 4s 43ms/step - loss: 0.1032 - f1: 0.9670 - mean_iou: 0.6505 - val_loss: 0.1271 - val_f1: 0.9493 - val_mean_iou: 0.6517\n",
      "\n",
      "Epoch 00005: val_loss did not improve from 0.12566\n",
      "Epoch 6/10\n",
      "96/96 [==============================] - 4s 43ms/step - loss: 0.1015 - f1: 0.9666 - mean_iou: 0.6527 - val_loss: 0.1255 - val_f1: 0.9504 - val_mean_iou: 0.6538\n",
      "\n",
      "Epoch 00006: val_loss improved from 0.12566 to 0.12552, saving model to model-unet-res-cwfid.h5\n",
      "Epoch 7/10\n",
      "96/96 [==============================] - 4s 43ms/step - loss: 0.0998 - f1: 0.9667 - mean_iou: 0.6548 - val_loss: 0.1260 - val_f1: 0.9476 - val_mean_iou: 0.6559\n",
      "\n",
      "Epoch 00007: val_loss did not improve from 0.12552\n",
      "Epoch 8/10\n",
      "96/96 [==============================] - 4s 43ms/step - loss: 0.0983 - f1: 0.9670 - mean_iou: 0.6568 - val_loss: 0.1337 - val_f1: 0.9403 - val_mean_iou: 0.6579\n",
      "\n",
      "Epoch 00008: val_loss did not improve from 0.12552\n",
      "Epoch 9/10\n",
      "96/96 [==============================] - 4s 43ms/step - loss: 0.0970 - f1: 0.9671 - mean_iou: 0.6588 - val_loss: 0.1241 - val_f1: 0.9461 - val_mean_iou: 0.6599\n",
      "\n",
      "Epoch 00009: val_loss improved from 0.12552 to 0.12410, saving model to model-unet-res-cwfid.h5\n",
      "Epoch 10/10\n",
      "96/96 [==============================] - 4s 43ms/step - loss: 0.0953 - f1: 0.9674 - mean_iou: 0.6608 - val_loss: 0.1114 - val_f1: 0.9553 - val_mean_iou: 0.6619\n",
      "\n",
      "Epoch 00010: val_loss improved from 0.12410 to 0.11137, saving model to model-unet-res-cwfid.h5\n",
      "24/24 [==============================] - 0s 17ms/step\n",
      "Scores: [0.11136641353368759, 0.9552924633026123, 0.6622769832611084]\n",
      "Train on 96 samples, validate on 24 samples\n",
      "Epoch 1/10\n",
      "96/96 [==============================] - 4s 43ms/step - loss: 0.0943 - f1: 0.9670 - mean_iou: 0.6632 - val_loss: 0.1218 - val_f1: 0.9474 - val_mean_iou: 0.6642\n",
      "\n",
      "Epoch 00001: val_loss improved from inf to 0.12178, saving model to model-unet-res-cwfid.h5\n",
      "Epoch 2/10\n",
      "96/96 [==============================] - 4s 43ms/step - loss: 0.0928 - f1: 0.9673 - mean_iou: 0.6651 - val_loss: 0.1192 - val_f1: 0.9476 - val_mean_iou: 0.6661\n",
      "\n",
      "Epoch 00002: val_loss improved from 0.12178 to 0.11923, saving model to model-unet-res-cwfid.h5\n",
      "Epoch 3/10\n",
      "96/96 [==============================] - 4s 43ms/step - loss: 0.0913 - f1: 0.9676 - mean_iou: 0.6670 - val_loss: 0.1051 - val_f1: 0.9571 - val_mean_iou: 0.6680\n",
      "\n",
      "Epoch 00003: val_loss improved from 0.11923 to 0.10509, saving model to model-unet-res-cwfid.h5\n",
      "Epoch 4/10\n",
      "96/96 [==============================] - 4s 43ms/step - loss: 0.0900 - f1: 0.9678 - mean_iou: 0.6688 - val_loss: 0.1338 - val_f1: 0.9366 - val_mean_iou: 0.6698\n",
      "\n",
      "Epoch 00004: val_loss did not improve from 0.10509\n",
      "Epoch 5/10\n",
      "96/96 [==============================] - 4s 43ms/step - loss: 0.0886 - f1: 0.9684 - mean_iou: 0.6706 - val_loss: 0.1422 - val_f1: 0.9327 - val_mean_iou: 0.6716\n",
      "\n",
      "Epoch 00005: val_loss did not improve from 0.10509\n",
      "Epoch 6/10\n",
      "96/96 [==============================] - 4s 43ms/step - loss: 0.0877 - f1: 0.9677 - mean_iou: 0.6724 - val_loss: 0.1015 - val_f1: 0.9580 - val_mean_iou: 0.6734\n",
      "\n",
      "Epoch 00006: val_loss improved from 0.10509 to 0.10151, saving model to model-unet-res-cwfid.h5\n",
      "Epoch 7/10\n",
      "96/96 [==============================] - 4s 43ms/step - loss: 0.0871 - f1: 0.9675 - mean_iou: 0.6742 - val_loss: 0.0987 - val_f1: 0.9592 - val_mean_iou: 0.6751\n",
      "\n",
      "Epoch 00007: val_loss improved from 0.10151 to 0.09871, saving model to model-unet-res-cwfid.h5\n",
      "Epoch 8/10\n",
      "96/96 [==============================] - 4s 43ms/step - loss: 0.0854 - f1: 0.9682 - mean_iou: 0.6759 - val_loss: 0.1031 - val_f1: 0.9558 - val_mean_iou: 0.6769\n",
      "\n",
      "Epoch 00008: val_loss did not improve from 0.09871\n",
      "Epoch 9/10\n",
      "96/96 [==============================] - 4s 43ms/step - loss: 0.0845 - f1: 0.9683 - mean_iou: 0.6777 - val_loss: 0.1104 - val_f1: 0.9502 - val_mean_iou: 0.6786\n",
      "\n",
      "Epoch 00009: val_loss did not improve from 0.09871\n",
      "Epoch 10/10\n",
      "96/96 [==============================] - 4s 43ms/step - loss: 0.0832 - f1: 0.9685 - mean_iou: 0.6793 - val_loss: 0.1193 - val_f1: 0.9450 - val_mean_iou: 0.6803\n",
      "\n",
      "Epoch 00010: val_loss did not improve from 0.09871\n",
      "24/24 [==============================] - 0s 17ms/step\n",
      "Scores: [0.11931776255369186, 0.9450281858444214, 0.6805906295776367]\n"
     ]
    }
   ],
   "source": [
    "k_fold(X_train, y_train)"
   ]
  },
  {
   "cell_type": "markdown",
   "metadata": {},
   "source": [
    "### Métricas"
   ]
  },
  {
   "cell_type": "code",
   "execution_count": 639,
   "metadata": {
    "ExecuteTime": {
     "end_time": "2018-11-05T20:55:09.132740Z",
     "start_time": "2018-11-05T20:54:54.442177Z"
    }
   },
   "outputs": [],
   "source": [
    "pred_model_unet_res = model_unet_res.predict(X_test)"
   ]
  },
  {
   "cell_type": "code",
   "execution_count": 640,
   "metadata": {
    "ExecuteTime": {
     "end_time": "2018-11-05T20:55:09.895851Z",
     "start_time": "2018-11-05T20:55:09.135942Z"
    }
   },
   "outputs": [
    {
     "data": {
      "text/plain": [
       "<matplotlib.image.AxesImage at 0x7fb229a3e5c0>"
      ]
     },
     "execution_count": 640,
     "metadata": {},
     "output_type": "execute_result"
    },
    {
     "data": {
      "image/png": "[encoded data removed]",
      "text/plain": [
       "<Figure size 432x288 with 6 Axes>"
      ]
     },
     "metadata": {
      "needs_background": "light"
     },
     "output_type": "display_data"
    }
   ],
   "source": [
    "i = 5\n",
    "plt.figure()\n",
    "plt.subplot(2,3,1)\n",
    "plt.imshow(pred_model_unet_res[i,:,:,2])\n",
    "plt.subplot(2,3,4)\n",
    "plt.imshow(y_test[i,:,:,2])\n",
    "plt.subplot(2,3,2)\n",
    "plt.imshow(pred_model_unet_res[i,:,:,1])\n",
    "plt.subplot(2,3,5)\n",
    "plt.imshow(y_test[i,:,:,1])\n",
    "plt.subplot(2,3,3)\n",
    "plt.imshow(pred_model_unet_res[i,:,:,0])\n",
    "plt.subplot(2,3,6)\n",
    "plt.imshow(y_test[i,:,:,0])"
   ]
  },
  {
   "cell_type": "code",
   "execution_count": 641,
   "metadata": {
    "ExecuteTime": {
     "end_time": "2018-11-05T20:55:10.241102Z",
     "start_time": "2018-11-05T20:55:09.898738Z"
    },
    "scrolled": true
   },
   "outputs": [
    {
     "data": {
      "text/plain": [
       "<matplotlib.image.AxesImage at 0x7fb228b97f98>"
      ]
     },
     "execution_count": 641,
     "metadata": {},
     "output_type": "execute_result"
    },
    {
     "data": {
      "image/png": "[encoded data removed]",
      "text/plain": [
       "<Figure size 432x288 with 2 Axes>"
      ]
     },
     "metadata": {
      "needs_background": "light"
     },
     "output_type": "display_data"
    }
   ],
   "source": [
    "i = 5\n",
    "plt.figure()\n",
    "plt.subplot(1,2,1)\n",
    "plt.imshow(pred_model_unet_res[i,:,:,:])\n",
    "plt.subplot(1,2,2)\n",
    "plt.imshow(y_test[i,:,:,:])"
   ]
  }
 ],
 "metadata": {
  "kernelspec": {
   "display_name": "Python 3",
   "language": "python",
   "name": "python3"
  },
  "language_info": {
   "codemirror_mode": {
    "name": "ipython",
    "version": 3
   },
   "file_extension": ".py",
   "mimetype": "text/x-python",
   "name": "python",
   "nbconvert_exporter": "python",
   "pygments_lexer": "ipython3",
   "version": "3.5.2"
  },
  "toc": {
   "base_numbering": 1,
   "nav_menu": {},
   "number_sections": true,
   "sideBar": true,
   "skip_h1_title": false,
   "title_cell": "Table of Contents",
   "title_sidebar": "Contents",
   "toc_cell": false,
   "toc_position": {
    "height": "calc(100% - 180px)",
    "left": "10px",
    "top": "150px",
    "width": "273.188px"
   },
   "toc_section_display": true,
   "toc_window_display": true
  }
 },
 "nbformat": 4,
 "nbformat_minor": 2
}
