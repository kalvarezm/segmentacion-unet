{
  "nbformat": 4,
  "nbformat_minor": 0,
  "metadata": {
    "colab": {
      "name": "drive-ejecucion-modelo-base.ipynb",
      "version": "0.3.2",
      "provenance": [],
      "include_colab_link": true
    },
    "kernelspec": {
      "display_name": "Python 3",
      "language": "python",
      "name": "python3"
    }
  },
  "cells": [
    {
      "cell_type": "markdown",
      "metadata": {
        "id": "view-in-github",
        "colab_type": "text"
      },
      "source": [
        "[View in Colaboratory](https://colab.research.google.com/github/kalvarezm/segmentacion-unet/blob/master/drive_ejecucion_modelo_base.ipynb)"
      ]
    },
    {
      "metadata": {
        "id": "H3_6dvWdLuD1",
        "colab_type": "text"
      },
      "cell_type": "markdown",
      "source": [
        "# Ejecución de modelo base"
      ]
    },
    {
      "metadata": {
        "id": "z7otdA5rLuD3",
        "colab_type": "text"
      },
      "cell_type": "markdown",
      "source": [
        "- [1] O. Ronneberger, P. Fischer, and T. Brox, “U-Net: Convolutional Networks for Biomedical Image Segmentation,” CoRR, vol. abs/1505.0, 2015.\n",
        "- [1] J. Akeret, C. Chang, A. Lucchi, and A. Refregier, “Radio frequency interference mitigation using deep convolutional neural networks,” Astron. Comput., vol. 18, pp. 35–39, 2017."
      ]
    },
    {
      "metadata": {
        "id": "kRzqplz9LuD4",
        "colab_type": "code",
        "colab": {}
      },
      "cell_type": "code",
      "source": [
        "%matplotlib inline\n",
        "import matplotlib.pyplot as plt\n",
        "import matplotlib\n",
        "import numpy as np\n",
        "import glob\n",
        "import tensorflow as tf\n",
        "import logging\n",
        "from collections import OrderedDict\n",
        "import os\n",
        "import shutil\n",
        "from PIL import Image\n",
        "import h5py\n",
        "from PIL import Image\n",
        "import wget #pip install wget"
      ],
      "execution_count": 0,
      "outputs": []
    },
    {
      "metadata": {
        "id": "wp1UDrtmLuD7",
        "colab_type": "code",
        "colab": {}
      },
      "cell_type": "code",
      "source": [
        "logging.basicConfig(level=logging.INFO, format='%(asctime)s %(message)s')"
      ],
      "execution_count": 0,
      "outputs": []
    },
    {
      "metadata": {
        "id": "B6UNMHYwLuD-",
        "colab_type": "text"
      },
      "cell_type": "markdown",
      "source": [
        "## Implementación de tf_unet\n",
        "- Obtenido de (Akered, 2017)\n",
        "- Código: https://github.com/jakeret/tf_unet"
      ]
    },
    {
      "metadata": {
        "id": "2jWq7mmjLuD_",
        "colab_type": "text"
      },
      "cell_type": "markdown",
      "source": [
        "### util.py\n",
        "Obtenido de (Akered, 2017)"
      ]
    },
    {
      "metadata": {
        "id": "PCzwT3E-LuEA",
        "colab_type": "code",
        "colab": {}
      },
      "cell_type": "code",
      "source": [
        "def plot_prediction(x_test, y_test, prediction, save=False):\n",
        "    import matplotlib\n",
        "    import matplotlib.pyplot as plt\n",
        "    \n",
        "    test_size = x_test.shape[0]\n",
        "    fig, ax = plt.subplots(test_size, 3, figsize=(12,12), sharey=True, sharex=True)\n",
        "    \n",
        "    x_test = crop_to_shape(x_test, prediction.shape)\n",
        "    y_test = crop_to_shape(y_test, prediction.shape)\n",
        "    \n",
        "    ax = np.atleast_2d(ax)\n",
        "    for i in range(test_size):\n",
        "        cax = ax[i, 0].imshow(x_test[i])\n",
        "        plt.colorbar(cax, ax=ax[i,0])\n",
        "        cax = ax[i, 1].imshow(y_test[i, ..., 1])\n",
        "        plt.colorbar(cax, ax=ax[i,1])\n",
        "        pred = prediction[i, ..., 1]\n",
        "        pred -= np.amin(pred)\n",
        "        pred /= np.amax(pred)\n",
        "        cax = ax[i, 2].imshow(pred)\n",
        "        plt.colorbar(cax, ax=ax[i,2])\n",
        "        if i==0:\n",
        "            ax[i, 0].set_title(\"x\")\n",
        "            ax[i, 1].set_title(\"y\")\n",
        "            ax[i, 2].set_title(\"pred\")\n",
        "    fig.tight_layout()\n",
        "    \n",
        "    if save:\n",
        "        fig.savefig(save)\n",
        "    else:\n",
        "        fig.show()\n",
        "        plt.show()\n",
        "\n",
        "def to_rgb(img):\n",
        "    \"\"\"\n",
        "    Converts the given array into a RGB image. If the number of channels is not\n",
        "    3 the array is tiled such that it has 3 channels. Finally, the values are\n",
        "    rescaled to [0,255) \n",
        "    \n",
        "    :param img: the array to convert [nx, ny, channels]\n",
        "    \n",
        "    :returns img: the rgb image [nx, ny, 3]\n",
        "    \"\"\"\n",
        "    img = np.atleast_3d(img)\n",
        "    channels = img.shape[2]\n",
        "    if channels < 3:\n",
        "        img = np.tile(img, 3)\n",
        "    \n",
        "    img[np.isnan(img)] = 0\n",
        "    img -= np.amin(img)\n",
        "    img /= np.amax(img)\n",
        "    img *= 255\n",
        "    return img\n",
        "\n",
        "def crop_to_shape(data, shape):\n",
        "    \"\"\"\n",
        "    Crops the array to the given image shape by removing the border (expects a tensor of shape [batches, nx, ny, channels].\n",
        "    \n",
        "    :param data: the array to crop\n",
        "    :param shape: the target shape\n",
        "    \"\"\"\n",
        "    offset0 = (data.shape[1] - shape[1])//2\n",
        "    offset1 = (data.shape[2] - shape[2])//2\n",
        "    return data[:, offset0:(-offset0), offset1:(-offset1)]\n",
        "\n",
        "def combine_img_prediction(data, gt, pred):\n",
        "    \"\"\"\n",
        "    Combines the data, grouth thruth and the prediction into one rgb image\n",
        "    \n",
        "    :param data: the data tensor\n",
        "    :param gt: the ground thruth tensor\n",
        "    :param pred: the prediction tensor\n",
        "    \n",
        "    :returns img: the concatenated rgb image \n",
        "    \"\"\"\n",
        "    ny = pred.shape[2]\n",
        "    ch = data.shape[3]\n",
        "    img = np.concatenate((to_rgb(crop_to_shape(data, pred.shape).reshape(-1, ny, ch)), \n",
        "                          to_rgb(crop_to_shape(gt[..., 1], pred.shape).reshape(-1, ny, 1)), \n",
        "                          to_rgb(pred[..., 1].reshape(-1, ny, 1))), axis=1)\n",
        "    return img\n",
        "\n",
        "def save_image(img, path):\n",
        "    \"\"\"\n",
        "    Writes the image to disk\n",
        "    \n",
        "    :param img: the rgb image to save\n",
        "    :param path: the target path\n",
        "    \"\"\"\n",
        "    Image.fromarray(img.round().astype(np.uint8)).save(path, 'JPEG', dpi=[300,300], quality=90)"
      ],
      "execution_count": 0,
      "outputs": []
    },
    {
      "metadata": {
        "id": "tDLVT6FjLuEZ",
        "colab_type": "text"
      },
      "cell_type": "markdown",
      "source": [
        "### layers.py\n",
        "Obtenido de (Akered, 2017)"
      ]
    },
    {
      "metadata": {
        "id": "cxX6PTCcLuEZ",
        "colab_type": "code",
        "colab": {}
      },
      "cell_type": "code",
      "source": [
        "def weight_variable(shape, stddev=0.1, name=\"weight\"):\n",
        "    initial = tf.truncated_normal(shape, stddev=stddev)\n",
        "    return tf.Variable(initial, name=name)\n",
        "\n",
        "def weight_variable_devonc(shape, stddev=0.1, name=\"weight_devonc\"):\n",
        "    return tf.Variable(tf.truncated_normal(shape, stddev=stddev), name=name)\n",
        "\n",
        "def bias_variable(shape, name=\"bias\"):\n",
        "    initial = tf.constant(0.1, shape=shape)\n",
        "    return tf.Variable(initial, name=name)\n",
        "\n",
        "def conv2d(x, W, b, keep_prob_):\n",
        "    with tf.name_scope(\"conv2d\"):\n",
        "        conv_2d = tf.nn.conv2d(x, W, strides=[1, 1, 1, 1], padding='VALID')\n",
        "        conv_2d_b = tf.nn.bias_add(conv_2d, b)\n",
        "        return tf.nn.dropout(conv_2d_b, keep_prob_)\n",
        "\n",
        "def deconv2d(x, W,stride):\n",
        "    with tf.name_scope(\"deconv2d\"):\n",
        "        x_shape = tf.shape(x)\n",
        "        output_shape = tf.stack([x_shape[0], x_shape[1]*2, x_shape[2]*2, x_shape[3]//2])\n",
        "        return tf.nn.conv2d_transpose(x, W, output_shape, strides=[1, stride, stride, 1], padding='VALID', name=\"conv2d_transpose\")\n",
        "\n",
        "def max_pool(x,n):\n",
        "    return tf.nn.max_pool(x, ksize=[1, n, n, 1], strides=[1, n, n, 1], padding='VALID')\n",
        "\n",
        "def crop_and_concat(x1,x2):\n",
        "    with tf.name_scope(\"crop_and_concat\"):\n",
        "        x1_shape = tf.shape(x1)\n",
        "        x2_shape = tf.shape(x2)\n",
        "        # offsets for the top left corner of the crop\n",
        "        offsets = [0, (x1_shape[1] - x2_shape[1]) // 2, (x1_shape[2] - x2_shape[2]) // 2, 0]\n",
        "        size = [-1, x2_shape[1], x2_shape[2], -1]\n",
        "        x1_crop = tf.slice(x1, offsets, size)\n",
        "        return tf.concat([x1_crop, x2], 3)\n",
        "\n",
        "def pixel_wise_softmax(output_map):\n",
        "    with tf.name_scope(\"pixel_wise_softmax\"):\n",
        "        max_axis = tf.reduce_max(output_map, axis=3, keepdims=True)\n",
        "        exponential_map = tf.exp(output_map - max_axis)\n",
        "        normalize = tf.reduce_sum(exponential_map, axis=3, keepdims=True)\n",
        "        return exponential_map / normalize\n",
        "\n",
        "def cross_entropy(y_,output_map):\n",
        "    return -tf.reduce_mean(y_*tf.log(tf.clip_by_value(output_map,1e-10,1.0)), name=\"cross_entropy\")"
      ],
      "execution_count": 0,
      "outputs": []
    },
    {
      "metadata": {
        "id": "JBfnZHeCLuEw",
        "colab_type": "text"
      },
      "cell_type": "markdown",
      "source": [
        "### Unet\n",
        "Obtenido de (Akered, 2017)"
      ]
    },
    {
      "metadata": {
        "id": "pu6RA6JBLuEy",
        "colab_type": "code",
        "colab": {}
      },
      "cell_type": "code",
      "source": [
        "def create_conv_net(x, keep_prob, channels, n_class, layers=3, features_root=16, filter_size=3, pool_size=2,\n",
        "                    summaries=True):\n",
        "    \"\"\"\n",
        "    Creates a new convolutional unet for the given parametrization.\n",
        "\n",
        "    :param x: input tensor, shape [?,nx,ny,channels]\n",
        "    :param keep_prob: dropout probability tensor\n",
        "    :param channels: number of channels in the input image\n",
        "    :param n_class: number of output labels\n",
        "    :param layers: number of layers in the net\n",
        "    :param features_root: number of features in the first layer\n",
        "    :param filter_size: size of the convolution filter\n",
        "    :param pool_size: size of the max pooling operation\n",
        "    :param summaries: Flag if summaries should be created\n",
        "    \"\"\"\n",
        "\n",
        "    logging.info(\n",
        "        \"Layers {layers}, features {features}, filter size {filter_size}x{filter_size}, pool size: {pool_size}x{pool_size}\".format(\n",
        "            layers=layers,\n",
        "            features=features_root,\n",
        "            filter_size=filter_size,\n",
        "            pool_size=pool_size))\n",
        "\n",
        "    # Placeholder for the input image\n",
        "    with tf.name_scope(\"preprocessing\"):\n",
        "        nx = tf.shape(x)[1]\n",
        "        ny = tf.shape(x)[2]\n",
        "        x_image = tf.reshape(x, tf.stack([-1, nx, ny, channels]))\n",
        "        in_node = x_image\n",
        "        batch_size = tf.shape(x_image)[0]\n",
        "\n",
        "    weights = []\n",
        "    biases = []\n",
        "    convs = []\n",
        "    pools = OrderedDict()\n",
        "    deconv = OrderedDict()\n",
        "    dw_h_convs = OrderedDict()\n",
        "    up_h_convs = OrderedDict()\n",
        "\n",
        "    in_size = 1000\n",
        "    size = in_size\n",
        "    # down layers\n",
        "    for layer in range(0, layers):\n",
        "        with tf.name_scope(\"down_conv_{}\".format(str(layer))):\n",
        "            features = 2 ** layer * features_root\n",
        "            stddev = np.sqrt(2 / (filter_size ** 2 * features))\n",
        "            if layer == 0:\n",
        "                w1 = weight_variable([filter_size, filter_size, channels, features], stddev, name=\"w1\")\n",
        "            else:\n",
        "                w1 = weight_variable([filter_size, filter_size, features // 2, features], stddev, name=\"w1\")\n",
        "\n",
        "            w2 = weight_variable([filter_size, filter_size, features, features], stddev, name=\"w2\")\n",
        "            b1 = bias_variable([features], name=\"b1\")\n",
        "            b2 = bias_variable([features], name=\"b2\")\n",
        "\n",
        "            conv1 = conv2d(in_node, w1, b1, keep_prob)\n",
        "            tmp_h_conv = tf.nn.relu(conv1)\n",
        "            conv2 = conv2d(tmp_h_conv, w2, b2, keep_prob)\n",
        "            dw_h_convs[layer] = tf.nn.relu(conv2)\n",
        "\n",
        "            weights.append((w1, w2))\n",
        "            biases.append((b1, b2))\n",
        "            convs.append((conv1, conv2))\n",
        "\n",
        "            size -= 4\n",
        "            if layer < layers - 1:\n",
        "                pools[layer] = max_pool(dw_h_convs[layer], pool_size)\n",
        "                in_node = pools[layer]\n",
        "                size /= 2\n",
        "\n",
        "    in_node = dw_h_convs[layers - 1]\n",
        "\n",
        "    # up layers\n",
        "    for layer in range(layers - 2, -1, -1):\n",
        "        with tf.name_scope(\"up_conv_{}\".format(str(layer))):\n",
        "            features = 2 ** (layer + 1) * features_root\n",
        "            stddev = np.sqrt(2 / (filter_size ** 2 * features))\n",
        "\n",
        "            wd = weight_variable_devonc([pool_size, pool_size, features // 2, features], stddev, name=\"wd\")\n",
        "            bd = bias_variable([features // 2], name=\"bd\")\n",
        "            h_deconv = tf.nn.relu(deconv2d(in_node, wd, pool_size) + bd)\n",
        "            h_deconv_concat = crop_and_concat(dw_h_convs[layer], h_deconv)\n",
        "            deconv[layer] = h_deconv_concat\n",
        "\n",
        "            w1 = weight_variable([filter_size, filter_size, features, features // 2], stddev, name=\"w1\")\n",
        "            w2 = weight_variable([filter_size, filter_size, features // 2, features // 2], stddev, name=\"w2\")\n",
        "            b1 = bias_variable([features // 2], name=\"b1\")\n",
        "            b2 = bias_variable([features // 2], name=\"b2\")\n",
        "\n",
        "            conv1 = conv2d(h_deconv_concat, w1, b1, keep_prob)\n",
        "            h_conv = tf.nn.relu(conv1)\n",
        "            conv2 = conv2d(h_conv, w2, b2, keep_prob)\n",
        "            in_node = tf.nn.relu(conv2)\n",
        "            up_h_convs[layer] = in_node\n",
        "\n",
        "            weights.append((w1, w2))\n",
        "            biases.append((b1, b2))\n",
        "            convs.append((conv1, conv2))\n",
        "\n",
        "            size *= 2\n",
        "            size -= 4\n",
        "\n",
        "    # Output Map\n",
        "    with tf.name_scope(\"output_map\"):\n",
        "        weight = weight_variable([1, 1, features_root, n_class], stddev)\n",
        "        bias = bias_variable([n_class], name=\"bias\")\n",
        "        conv = conv2d(in_node, weight, bias, tf.constant(1.0))\n",
        "        output_map = tf.nn.relu(conv)\n",
        "        up_h_convs[\"out\"] = output_map\n",
        "\n",
        "    if summaries:\n",
        "        with tf.name_scope(\"summaries\"):\n",
        "            for i, (c1, c2) in enumerate(convs):\n",
        "                tf.summary.image('summary_conv_%02d_01' % i, get_image_summary(c1))\n",
        "                tf.summary.image('summary_conv_%02d_02' % i, get_image_summary(c2))\n",
        "\n",
        "            for k in pools.keys():\n",
        "                tf.summary.image('summary_pool_%02d' % k, get_image_summary(pools[k]))\n",
        "\n",
        "            for k in deconv.keys():\n",
        "                tf.summary.image('summary_deconv_concat_%02d' % k, get_image_summary(deconv[k]))\n",
        "\n",
        "            for k in dw_h_convs.keys():\n",
        "                tf.summary.histogram(\"dw_convolution_%02d\" % k + '/activations', dw_h_convs[k])\n",
        "\n",
        "            for k in up_h_convs.keys():\n",
        "                tf.summary.histogram(\"up_convolution_%s\" % k + '/activations', up_h_convs[k])\n",
        "\n",
        "    variables = []\n",
        "    for w1, w2 in weights:\n",
        "        variables.append(w1)\n",
        "        variables.append(w2)\n",
        "\n",
        "    for b1, b2 in biases:\n",
        "        variables.append(b1)\n",
        "        variables.append(b2)\n",
        "\n",
        "    return output_map, variables, int(in_size - size)"
      ],
      "execution_count": 0,
      "outputs": []
    },
    {
      "metadata": {
        "id": "0aO8wK-KLuE2",
        "colab_type": "code",
        "colab": {}
      },
      "cell_type": "code",
      "source": [
        "class Unet(object):\n",
        "    \"\"\"\n",
        "    A unet implementation\n",
        "\n",
        "    :param channels: (optional) number of channels in the input image\n",
        "    :param n_class: (optional) number of output labels\n",
        "    :param cost: (optional) name of the cost function. Default is 'cross_entropy'\n",
        "    :param cost_kwargs: (optional) kwargs passed to the cost function. See Unet._get_cost for more options\n",
        "    \"\"\"\n",
        "\n",
        "    def __init__(self, channels=3, n_class=2, cost=\"cross_entropy\", cost_kwargs={}, **kwargs):\n",
        "        tf.reset_default_graph()\n",
        "\n",
        "        self.n_class = n_class\n",
        "        self.summaries = kwargs.get(\"summaries\", True)\n",
        "\n",
        "        self.x = tf.placeholder(\"float\", shape=[None, None, None, channels], name=\"x\")\n",
        "        self.y = tf.placeholder(\"float\", shape=[None, None, None, n_class], name=\"y\")\n",
        "        self.keep_prob = tf.placeholder(tf.float32, name=\"dropout_probability\")  # dropout (keep probability)\n",
        "\n",
        "        logits, self.variables, self.offset = create_conv_net(self.x, self.keep_prob, channels, n_class, **kwargs)\n",
        "\n",
        "        self.cost = self._get_cost(logits, cost, cost_kwargs)\n",
        "\n",
        "        self.gradients_node = tf.gradients(self.cost, self.variables)\n",
        "\n",
        "        with tf.name_scope(\"cross_entropy\"):\n",
        "            self.cross_entropy = cross_entropy(tf.reshape(self.y, [-1, n_class]),\n",
        "                                               tf.reshape(pixel_wise_softmax(logits), [-1, n_class]))\n",
        "\n",
        "        with tf.name_scope(\"results\"):\n",
        "            self.predicter = pixel_wise_softmax(logits)\n",
        "            self.correct_pred = tf.equal(tf.argmax(self.predicter, 3), tf.argmax(self.y, 3))\n",
        "            self.accuracy = tf.reduce_mean(tf.cast(self.correct_pred, tf.float32))\n",
        "\n",
        "    def _get_cost(self, logits, cost_name, cost_kwargs):\n",
        "        \"\"\"\n",
        "        Constructs the cost function, either cross_entropy, weighted cross_entropy or dice_coefficient.\n",
        "        Optional arguments are:\n",
        "        class_weights: weights for the different classes in case of multi-class imbalance\n",
        "        regularizer: power of the L2 regularizers added to the loss function\n",
        "        \"\"\"\n",
        "\n",
        "        with tf.name_scope(\"cost\"):\n",
        "            flat_logits = tf.reshape(logits, [-1, self.n_class])\n",
        "            flat_labels = tf.reshape(self.y, [-1, self.n_class])\n",
        "            if cost_name == \"cross_entropy\":\n",
        "                class_weights = cost_kwargs.pop(\"class_weights\", None)\n",
        "\n",
        "                if class_weights is not None:\n",
        "                    class_weights = tf.constant(np.array(class_weights, dtype=np.float32))\n",
        "\n",
        "                    weight_map = tf.multiply(flat_labels, class_weights)\n",
        "                    weight_map = tf.reduce_sum(weight_map, axis=1)\n",
        "\n",
        "                    loss_map = tf.nn.softmax_cross_entropy_with_logits_v2(logits=flat_logits,\n",
        "                                                                          labels=flat_labels)\n",
        "                    weighted_loss = tf.multiply(loss_map, weight_map)\n",
        "\n",
        "                    loss = tf.reduce_mean(weighted_loss)\n",
        "\n",
        "                else:\n",
        "                    loss = tf.reduce_mean(tf.nn.softmax_cross_entropy_with_logits_v2(logits=flat_logits,\n",
        "                                                                                     labels=flat_labels))\n",
        "            elif cost_name == \"dice_coefficient\":\n",
        "                eps = 1e-5\n",
        "                prediction = pixel_wise_softmax(logits)\n",
        "                intersection = tf.reduce_sum(prediction * self.y)\n",
        "                union = eps + tf.reduce_sum(prediction) + tf.reduce_sum(self.y)\n",
        "                loss = -(2 * intersection / (union))\n",
        "\n",
        "            else:\n",
        "                raise ValueError(\"Unknown cost function: \" % cost_name)\n",
        "\n",
        "            regularizer = cost_kwargs.pop(\"regularizer\", None)\n",
        "            if regularizer is not None:\n",
        "                regularizers = sum([tf.nn.l2_loss(variable) for variable in self.variables])\n",
        "                loss += (regularizer * regularizers)\n",
        "\n",
        "            return loss\n",
        "\n",
        "    def predict(self, model_path, x_test):\n",
        "        \"\"\"\n",
        "        Uses the model to create a prediction for the given data\n",
        "\n",
        "        :param model_path: path to the model checkpoint to restore\n",
        "        :param x_test: Data to predict on. Shape [n, nx, ny, channels]\n",
        "        :returns prediction: The unet prediction Shape [n, px, py, labels] (px=nx-self.offset/2)\n",
        "        \"\"\"\n",
        "\n",
        "        init = tf.global_variables_initializer()\n",
        "        with tf.Session() as sess:\n",
        "            # Initialize variables\n",
        "            sess.run(init)\n",
        "\n",
        "            # Restore model weights from previously saved model\n",
        "            self.restore(sess, model_path)\n",
        "\n",
        "            y_dummy = np.empty((x_test.shape[0], x_test.shape[1], x_test.shape[2], self.n_class))\n",
        "            prediction = sess.run(self.predicter, feed_dict={self.x: x_test, self.y: y_dummy, self.keep_prob: 1.})\n",
        "\n",
        "        return prediction\n",
        "\n",
        "    def save(self, sess, model_path):\n",
        "        \"\"\"\n",
        "        Saves the current session to a checkpoint\n",
        "\n",
        "        :param sess: current session\n",
        "        :param model_path: path to file system location\n",
        "        \"\"\"\n",
        "\n",
        "        saver = tf.train.Saver()\n",
        "        save_path = saver.save(sess, model_path)\n",
        "        return save_path\n",
        "\n",
        "    def restore(self, sess, model_path):\n",
        "        \"\"\"\n",
        "        Restores a session from a checkpoint\n",
        "\n",
        "        :param sess: current session instance\n",
        "        :param model_path: path to file system checkpoint location\n",
        "        \"\"\"\n",
        "\n",
        "        saver = tf.train.Saver()\n",
        "        saver.restore(sess, model_path)\n",
        "        logging.info(\"Model restored from file: %s\" % model_path)"
      ],
      "execution_count": 0,
      "outputs": []
    },
    {
      "metadata": {
        "id": "HCMROCdlLuE5",
        "colab_type": "code",
        "colab": {}
      },
      "cell_type": "code",
      "source": [
        "def _update_avg_gradients(avg_gradients, gradients, step):\n",
        "    if avg_gradients is None:\n",
        "        avg_gradients = [np.zeros_like(gradient) for gradient in gradients]\n",
        "    for i in range(len(gradients)):\n",
        "        avg_gradients[i] = (avg_gradients[i] * (1.0 - (1.0 / (step + 1)))) + (gradients[i] / (step + 1))\n",
        "\n",
        "    return avg_gradients\n",
        "\n",
        "\n",
        "def error_rate(predictions, labels):\n",
        "    \"\"\"\n",
        "    Return the error rate based on dense predictions and 1-hot labels.\n",
        "    \"\"\"\n",
        "\n",
        "    return 100.0 - (\n",
        "            100.0 *\n",
        "            np.sum(np.argmax(predictions, 3) == np.argmax(labels, 3)) /\n",
        "            (predictions.shape[0] * predictions.shape[1] * predictions.shape[2]))\n",
        "\n",
        "\n",
        "def get_image_summary(img, idx=0):\n",
        "    \"\"\"\n",
        "    Make an image summary for 4d tensor image with index idx\n",
        "    \"\"\"\n",
        "\n",
        "    V = tf.slice(img, (0, 0, 0, idx), (1, -1, -1, 1))\n",
        "    V -= tf.reduce_min(V)\n",
        "    V /= tf.reduce_max(V)\n",
        "    V *= 255\n",
        "\n",
        "    img_w = tf.shape(img)[1]\n",
        "    img_h = tf.shape(img)[2]\n",
        "    V = tf.reshape(V, tf.stack((img_w, img_h, 1)))\n",
        "    V = tf.transpose(V, (2, 0, 1))\n",
        "    V = tf.reshape(V, tf.stack((-1, img_w, img_h, 1)))\n",
        "    return V"
      ],
      "execution_count": 0,
      "outputs": []
    },
    {
      "metadata": {
        "id": "QKjArLGKLuFm",
        "colab_type": "code",
        "colab": {}
      },
      "cell_type": "code",
      "source": [
        "class Trainer(object):\n",
        "    \"\"\"\n",
        "    Trains a unet instance\n",
        "\n",
        "    :param net: the unet instance to train\n",
        "    :param batch_size: size of training batch\n",
        "    :param verification_batch_size: size of verification batch\n",
        "    :param norm_grads: (optional) true if normalized gradients should be added to the summaries\n",
        "    :param optimizer: (optional) name of the optimizer to use (momentum or adam)\n",
        "    :param opt_kwargs: (optional) kwargs passed to the learning rate (momentum opt) and to the optimizer\n",
        "\n",
        "    \"\"\"\n",
        "\n",
        "    def __init__(self, net, batch_size=1, verification_batch_size = 4, norm_grads=False, optimizer=\"momentum\", opt_kwargs={}):\n",
        "        self.net = net\n",
        "        self.batch_size = batch_size\n",
        "        self.verification_batch_size = verification_batch_size\n",
        "        self.norm_grads = norm_grads\n",
        "        self.optimizer = optimizer\n",
        "        self.opt_kwargs = opt_kwargs\n",
        "\n",
        "    def _get_optimizer(self, training_iters, global_step):\n",
        "        if self.optimizer == \"momentum\":\n",
        "            learning_rate = self.opt_kwargs.pop(\"learning_rate\", 0.2)\n",
        "            decay_rate = self.opt_kwargs.pop(\"decay_rate\", 0.95)\n",
        "            momentum = self.opt_kwargs.pop(\"momentum\", 0.2)\n",
        "\n",
        "            self.learning_rate_node = tf.train.exponential_decay(learning_rate=learning_rate,\n",
        "                                                                 global_step=global_step,\n",
        "                                                                 decay_steps=training_iters,\n",
        "                                                                 decay_rate=decay_rate,\n",
        "                                                                 staircase=True)\n",
        "\n",
        "            optimizer = tf.train.MomentumOptimizer(learning_rate=self.learning_rate_node, momentum=momentum,\n",
        "                                                   **self.opt_kwargs).minimize(self.net.cost,\n",
        "                                                                               global_step=global_step)\n",
        "        elif self.optimizer == \"adam\":\n",
        "            learning_rate = self.opt_kwargs.pop(\"learning_rate\", 0.001)\n",
        "            self.learning_rate_node = tf.Variable(learning_rate, name=\"learning_rate\")\n",
        "\n",
        "            optimizer = tf.train.AdamOptimizer(learning_rate=self.learning_rate_node,\n",
        "                                               **self.opt_kwargs).minimize(self.net.cost,\n",
        "                                                                           global_step=global_step)\n",
        "\n",
        "        return optimizer\n",
        "\n",
        "    def _initialize(self, training_iters, output_path, restore, prediction_path):\n",
        "        global_step = tf.Variable(0, name=\"global_step\")\n",
        "\n",
        "        self.norm_gradients_node = tf.Variable(tf.constant(0.0, shape=[len(self.net.gradients_node)]), name=\"norm_gradients\")\n",
        "\n",
        "        if self.net.summaries and self.norm_grads:\n",
        "            tf.summary.histogram('norm_grads', self.norm_gradients_node)\n",
        "\n",
        "        tf.summary.scalar('loss', self.net.cost)\n",
        "        tf.summary.scalar('cross_entropy', self.net.cross_entropy)\n",
        "        tf.summary.scalar('accuracy', self.net.accuracy)\n",
        "\n",
        "        self.optimizer = self._get_optimizer(training_iters, global_step)\n",
        "        tf.summary.scalar('learning_rate', self.learning_rate_node)\n",
        "\n",
        "        self.summary_op = tf.summary.merge_all()\n",
        "        init = tf.global_variables_initializer()\n",
        "\n",
        "        self.prediction_path = prediction_path\n",
        "        abs_prediction_path = os.path.abspath(self.prediction_path)\n",
        "        output_path = os.path.abspath(output_path)\n",
        "\n",
        "        if not restore:\n",
        "            logging.info(\"Removing '{:}'\".format(abs_prediction_path))\n",
        "            shutil.rmtree(abs_prediction_path, ignore_errors=True)\n",
        "            logging.info(\"Removing '{:}'\".format(output_path))\n",
        "            shutil.rmtree(output_path, ignore_errors=True)\n",
        "\n",
        "        if not os.path.exists(abs_prediction_path):\n",
        "            logging.info(\"Allocating '{:}'\".format(abs_prediction_path))\n",
        "            os.makedirs(abs_prediction_path)\n",
        "\n",
        "        if not os.path.exists(output_path):\n",
        "            logging.info(\"Allocating '{:}'\".format(output_path))\n",
        "            os.makedirs(output_path)\n",
        "\n",
        "        return init\n",
        "\n",
        "    def train(self, data_provider, output_path, training_iters=10, epochs=100, dropout=0.75, display_step=1,\n",
        "              restore=False, write_graph=False, prediction_path='prediction'):\n",
        "        \"\"\"\n",
        "        Lauches the training process\n",
        "\n",
        "        :param data_provider: callable returning training and verification data\n",
        "        :param output_path: path where to store checkpoints\n",
        "        :param training_iters: number of training mini batch iteration\n",
        "        :param epochs: number of epochs\n",
        "        :param dropout: dropout probability\n",
        "        :param display_step: number of steps till outputting stats\n",
        "        :param restore: Flag if previous model should be restored\n",
        "        :param write_graph: Flag if the computation graph should be written as protobuf file to the output path\n",
        "        :param prediction_path: path where to save predictions on each epoch\n",
        "        \"\"\"\n",
        "        save_path = os.path.join(output_path, \"model.ckpt\")\n",
        "        if epochs == 0:\n",
        "            return save_path\n",
        "\n",
        "        init = self._initialize(training_iters, output_path, restore, prediction_path)\n",
        "\n",
        "        with tf.Session() as sess:\n",
        "            if write_graph:\n",
        "                tf.train.write_graph(sess.graph_def, output_path, \"graph.pb\", False)\n",
        "\n",
        "            sess.run(init)\n",
        "\n",
        "            if restore:\n",
        "                ckpt = tf.train.get_checkpoint_state(output_path)\n",
        "                if ckpt and ckpt.model_checkpoint_path:\n",
        "                    self.net.restore(sess, ckpt.model_checkpoint_path)\n",
        "\n",
        "            test_x, test_y = data_provider(self.verification_batch_size)\n",
        "            pred_shape = self.store_prediction(sess, test_x, test_y, \"_init\")\n",
        "\n",
        "            summary_writer = tf.summary.FileWriter(output_path, graph=sess.graph)\n",
        "            logging.info(\"Start optimization\")\n",
        "\n",
        "            avg_gradients = None\n",
        "            for epoch in range(epochs):\n",
        "                total_loss = 0\n",
        "                for step in range((epoch * training_iters), ((epoch + 1) * training_iters)):\n",
        "                    batch_x, batch_y = data_provider(self.batch_size)\n",
        "\n",
        "                    # Run optimization op (backprop)\n",
        "                    _, loss, lr, gradients = sess.run(\n",
        "                        (self.optimizer, self.net.cost, self.learning_rate_node, self.net.gradients_node),\n",
        "                        feed_dict={self.net.x: batch_x,\n",
        "                                   self.net.y: crop_to_shape(batch_y, pred_shape),\n",
        "                                   self.net.keep_prob: dropout})\n",
        "\n",
        "                    if self.net.summaries and self.norm_grads:\n",
        "                        avg_gradients = _update_avg_gradients(avg_gradients, gradients, step)\n",
        "                        norm_gradients = [np.linalg.norm(gradient) for gradient in avg_gradients]\n",
        "                        self.norm_gradients_node.assign(norm_gradients).eval()\n",
        "\n",
        "                    if step % display_step == 0:\n",
        "                        self.output_minibatch_stats(sess, summary_writer, step, batch_x,\n",
        "                                                    crop_to_shape(batch_y, pred_shape))\n",
        "\n",
        "                    total_loss += loss\n",
        "\n",
        "                self.output_epoch_stats(epoch, total_loss, training_iters, lr)\n",
        "                self.store_prediction(sess, test_x, test_y, \"epoch_%s\" % epoch)\n",
        "\n",
        "                save_path = self.net.save(sess, save_path)\n",
        "            logging.info(\"Optimization Finished!\")\n",
        "\n",
        "            return save_path\n",
        "\n",
        "    def store_prediction(self, sess, batch_x, batch_y, name):\n",
        "        prediction = sess.run(self.net.predicter, feed_dict={self.net.x: batch_x,\n",
        "                                                             self.net.y: batch_y,\n",
        "                                                             self.net.keep_prob: 1.})\n",
        "        pred_shape = prediction.shape\n",
        "\n",
        "        loss = sess.run(self.net.cost, feed_dict={self.net.x: batch_x,\n",
        "                                                  self.net.y: crop_to_shape(batch_y, pred_shape),\n",
        "                                                  self.net.keep_prob: 1.})\n",
        "\n",
        "        logging.info(\"Verification error= {:.1f}%, loss= {:.4f}\".format(error_rate(prediction,\n",
        "                                                                                   crop_to_shape(batch_y,\n",
        "                                                                                                      prediction.shape)),\n",
        "                                                                        loss))\n",
        "\n",
        "        img = combine_img_prediction(batch_x, batch_y, prediction)\n",
        "        save_image(img, \"%s/%s.jpg\" % (self.prediction_path, name))\n",
        "\n",
        "        return pred_shape\n",
        "\n",
        "    def output_epoch_stats(self, epoch, total_loss, training_iters, lr):\n",
        "        logging.info(\n",
        "            \"Epoch {:}, Average loss: {:.4f}, learning rate: {:.4f}\".format(epoch, (total_loss / training_iters), lr))\n",
        "\n",
        "    def output_minibatch_stats(self, sess, summary_writer, step, batch_x, batch_y):\n",
        "        # Calculate batch loss and accuracy\n",
        "        summary_str, loss, acc, predictions = sess.run([self.summary_op,\n",
        "                                                        self.net.cost,\n",
        "                                                        self.net.accuracy,\n",
        "                                                        self.net.predicter],\n",
        "                                                       feed_dict={self.net.x: batch_x,\n",
        "                                                                  self.net.y: batch_y,\n",
        "                                                                  self.net.keep_prob: 1.})\n",
        "        summary_writer.add_summary(summary_str, step)\n",
        "        summary_writer.flush()\n",
        "        logging.info(\n",
        "            \"Iter {:}, Minibatch Loss= {:.4f}, Training Accuracy= {:.4f}, Minibatch error= {:.1f}%\".format(step,\n",
        "                                                                                                           loss,\n",
        "                                                                                                           acc,\n",
        "                                                                                                           error_rate(\n",
        "                                                                                                               predictions,\n",
        "                                                                                                               batch_y)))\n",
        "    "
      ],
      "execution_count": 0,
      "outputs": []
    },
    {
      "metadata": {
        "id": "77KX9z3NLuFw",
        "colab_type": "text"
      },
      "cell_type": "markdown",
      "source": [
        "### image_util\n",
        "Obtenido de (Akered, 2017)"
      ]
    },
    {
      "metadata": {
        "id": "OmytXqiULuFy",
        "colab_type": "code",
        "colab": {}
      },
      "cell_type": "code",
      "source": [
        "class BaseDataProvider(object):\n",
        "    \"\"\"\n",
        "    Abstract base class for DataProvider implementation. Subclasses have to\n",
        "    overwrite the `_next_data` method that load the next data and label array.\n",
        "    This implementation automatically clips the data with the given min/max and\n",
        "    normalizes the values to (0,1]. To change this behavoir the `_process_data`\n",
        "    method can be overwritten. To enable some post processing such as data\n",
        "    augmentation the `_post_process` method can be overwritten.\n",
        "\n",
        "    :param a_min: (optional) min value used for clipping\n",
        "    :param a_max: (optional) max value used for clipping\n",
        "\n",
        "    \"\"\"\n",
        "    channels = 1\n",
        "    n_class = 2    \n",
        "    \n",
        "    def __init__(self, a_min=None, a_max=None):\n",
        "        self.a_min = a_min if a_min is not None else -np.inf\n",
        "        self.a_max = a_max if a_min is not None else np.inf\n",
        "        \n",
        "    def _load_data_and_label(self):\n",
        "        data, label = self._next_data()\n",
        "        train_data = self._process_data(data)\n",
        "        labels = self._process_labels(label)\n",
        "        train_data, labels = self._post_process(train_data, labels)\n",
        "        nx = train_data.shape[1]\n",
        "        ny = train_data.shape[0]  \n",
        "        return train_data.reshape(1, ny, nx, self.channels), labels.reshape(1, ny, nx, self.n_class),\n",
        "\n",
        "    def _process_labels(self, label):\n",
        "        if self.n_class == 2:\n",
        "            nx = label.shape[1]\n",
        "            ny = label.shape[0]\n",
        "            labels = np.zeros((ny, nx, self.n_class), dtype=np.float32)\n",
        "            labels[..., 1] = label\n",
        "            labels[..., 0] = ~label\n",
        "            return labels\n",
        "        \n",
        "        return label\n",
        "    \n",
        "    def _process_data(self, data):\n",
        "        # normalization\n",
        "        data = np.clip(np.fabs(data), self.a_min, self.a_max)\n",
        "        data -= np.amin(data)\n",
        "        data /= np.amax(data)\n",
        "        return data\n",
        "    \n",
        "    def _post_process(self, data, labels):\n",
        "        \"\"\"\n",
        "        Post processing hook that can be used for data augmentation\n",
        "        \n",
        "        :param data: the data array\n",
        "        :param labels: the label array\n",
        "        \"\"\"\n",
        "        return data, labels    \n",
        "    \n",
        "    def reset_ids(self):\n",
        "        self._reset_ids();\n",
        "        \n",
        "    def __call__(self, n):\n",
        "        train_data, labels = self._load_data_and_label()\n",
        "        nx = train_data.shape[1]\n",
        "        ny = train_data.shape[2]\n",
        "    \n",
        "        X = np.zeros((n, nx, ny, self.channels))\n",
        "        Y = np.zeros((n, nx, ny, self.n_class))\n",
        "    \n",
        "        X[0] = train_data\n",
        "        Y[0] = labels\n",
        "        for i in range(1, n):\n",
        "            train_data, labels = self._load_data_and_label()\n",
        "            X[i] = train_data\n",
        "            Y[i] = labels\n",
        "    \n",
        "        return X, Y        "
      ],
      "execution_count": 0,
      "outputs": []
    },
    {
      "metadata": {
        "id": "UkPWWtdDLuGg",
        "colab_type": "code",
        "colab": {}
      },
      "cell_type": "code",
      "source": [
        "class SimpleDataProvider(BaseDataProvider):\n",
        "    \"\"\"\n",
        "    A simple data provider for numpy arrays. \n",
        "    Assumes that the data and label are numpy array with the dimensions\n",
        "    data `[n, X, Y, channels]`, label `[n, X, Y, classes]`. Where\n",
        "    `n` is the number of images, `X`, `Y` the size of the image.\n",
        "\n",
        "    :param data: data numpy array. Shape=[n, X, Y, channels]\n",
        "    :param label: label numpy array. Shape=[n, X, Y, classes]\n",
        "    :param a_min: (optional) min value used for clipping\n",
        "    :param a_max: (optional) max value used for clipping\n",
        "    :param channels: (optional) number of channels, default=1\n",
        "    :param n_class: (optional) number of classes, default=2\n",
        "    \n",
        "    \"\"\"\n",
        "    \n",
        "    def __init__(self, data, label, a_min=None, a_max=None, channels=1, n_class = 2):\n",
        "        super(SimpleDataProvider, self).__init__(a_min, a_max)\n",
        "        self.data = data\n",
        "        self.label = label\n",
        "        self.file_count = data.shape[0]\n",
        "        self.n_class = n_class\n",
        "        self.channels = channels\n",
        "\n",
        "    def _next_data(self):\n",
        "        idx = np.random.choice(self.file_count)\n",
        "        return self.data[idx], self.label[idx]"
      ],
      "execution_count": 0,
      "outputs": []
    },
    {
      "metadata": {
        "id": "9uxT77HOLuGm",
        "colab_type": "code",
        "colab": {}
      },
      "cell_type": "code",
      "source": [
        "class ImageDataProvider(BaseDataProvider):\n",
        "    \"\"\"\n",
        "    Generic data provider for images, supports gray scale and colored images.\n",
        "    Assumes that the data images and label images are stored in the same folder\n",
        "    and that the labels have a different file suffix \n",
        "    e.g. 'train/fish_1.tif' and 'train/fish_1_mask.tif'\n",
        "\n",
        "    Usage:\n",
        "    data_provider = ImageDataProvider(\"..fishes/train/*.tif\")\n",
        "        \n",
        "    :param search_path: a glob search pattern to find all data and label images\n",
        "    :param a_min: (optional) min value used for clipping\n",
        "    :param a_max: (optional) max value used for clipping\n",
        "    :param data_suffix: suffix pattern for the data images. Default '.tif'\n",
        "    :param mask_suffix: suffix pattern for the label images. Default '_mask.tif'\n",
        "    :param shuffle_data: if the order of the loaded file path should be randomized. Default 'True'\n",
        "    :param channels: (optional) number of channels, default=1\n",
        "    :param n_class: (optional) number of classes, default=2\n",
        "    \n",
        "    \"\"\"\n",
        "    \n",
        "    def __init__(self, search_path, a_min=None, a_max=None, data_suffix=\".tif\", mask_suffix='_mask.tif', shuffle_data=True, n_class = 2):\n",
        "        super(ImageDataProvider, self).__init__(a_min, a_max)\n",
        "        self.data_suffix = data_suffix\n",
        "        self.mask_suffix = mask_suffix\n",
        "        self.file_idx = -1\n",
        "        self.file_frame_idx = -1 #cantidad de frames por imagen\n",
        "        self.file_n_frames = 1 #tamaño de frames de imagen\n",
        "        self.file_n_frames_ids = [] #ids de cada frame\n",
        "        self.shuffle_data = shuffle_data\n",
        "        self.n_class = n_class\n",
        "        self.data_files = self._find_data_files(search_path)\n",
        "        \n",
        "        if self.shuffle_data:\n",
        "            np.random.shuffle(self.data_files)\n",
        "        \n",
        "        assert len(self.data_files) > 0, \"No training files\"\n",
        "        print(\"Number of files used: %s\" % len(self.data_files))\n",
        "        \n",
        "        img = self._load_file(self.data_files[0])\n",
        "        self.channels = 1 if len(img.shape) == 2 else img.shape[-1]\n",
        "        \n",
        "    def _find_data_files(self, search_path):\n",
        "        all_files = glob.glob(search_path)\n",
        "        return [name for name in all_files if self.data_suffix in name and not self.mask_suffix in name]\n",
        "    \n",
        "    def _load_file(self, path, dtype=np.float32):\n",
        "        img = np.array(Image.open(path), dtype)\n",
        "        return img\n",
        "    \n",
        "    def _load_tif_file(self, path):\n",
        "        img_tif = Image.open(path)\n",
        "        return img_tif\n",
        "\n",
        "    #Método modificado para soportar frames en los TIF\n",
        "    def _cylce_file(self):\n",
        "        if self.file_n_frames == (self.file_frame_idx + 1):\n",
        "            self.file_idx += 1\n",
        "            self.file_frame_idx = 0\n",
        "            if self.file_idx >= len(self.data_files):\n",
        "                self.file_idx = 0\n",
        "                self.file_frame_idx = 0\n",
        "                if self.shuffle_data:\n",
        "                    np.random.shuffle(self.data_files)\n",
        "        else:\n",
        "            self.file_frame_idx += 1\n",
        "            \n",
        "        if self.file_idx == -1:\n",
        "            self.file_idx = 0\n",
        "\n",
        "    #Método modificado para soportar frames en los TIF\n",
        "    def _next_data(self):\n",
        "        self._cylce_file()\n",
        "        image_name = self.data_files[self.file_idx]\n",
        "        label_name = image_name.replace(self.data_suffix, self.mask_suffix)\n",
        "        tif_image = self._load_tif_file(image_name)\n",
        "        tif_label = self._load_tif_file(label_name)\n",
        "        self.file_n_frames = tif_image.n_frames\n",
        "        \n",
        "        if self.file_frame_idx == 0:\n",
        "            self.file_n_frames_ids = np.arange(0, self.file_n_frames)\n",
        "            np.random.shuffle(self.file_n_frames_ids)\n",
        "        print(\"Image name \" + image_name + \" - Frame Id: \" + str(self.file_n_frames_ids[self.file_frame_idx]) + \" - #Frame: \" + str(self.file_frame_idx))\n",
        "        \n",
        "        tif_image.seek(self.file_n_frames_ids[self.file_frame_idx])\n",
        "        tif_label.seek(self.file_n_frames_ids[self.file_frame_idx])\n",
        "        \n",
        "        img = np.array(tif_image, np.float32)\n",
        "        label = np.array(tif_label, np.bool)\n",
        "    \n",
        "        return img,label\n",
        "    \n",
        "    #Nuevo metodo para reiniciar los ids\n",
        "    def _reset_ids(self):\n",
        "        print(\"Ids reiniciados\")\n",
        "        self.file_idx = -1\n",
        "        self.file_frame_idx = -1 #cantidad de frames por imagen\n",
        "        self.file_n_frames = 1 #tamaño de frames de imagen\n",
        "        self.file_n_frames_ids = [] #ids de cada frame"
      ],
      "execution_count": 0,
      "outputs": []
    },
    {
      "metadata": {
        "id": "Nb-AEGMWLuGw",
        "colab_type": "text"
      },
      "cell_type": "markdown",
      "source": [
        "### image_gen\n",
        "Obtenido de (Akered, 2017)"
      ]
    },
    {
      "metadata": {
        "id": "azsXch7iLuGw",
        "colab_type": "code",
        "colab": {}
      },
      "cell_type": "code",
      "source": [
        "def create_image_and_label(nx, ny, cnt = 10, r_min = 5, r_max = 50, border = 92, sigma = 20, rectangles=False):\n",
        "        image = np.ones((nx, ny, 1))\n",
        "        label = np.zeros((nx, ny, 3), dtype=np.bool)\n",
        "        mask = np.zeros((nx, ny), dtype=np.bool)\n",
        "        for _ in range(cnt):\n",
        "            a = np.random.randint(border, nx-border)\n",
        "            b = np.random.randint(border, ny-border)\n",
        "            r = np.random.randint(r_min, r_max)\n",
        "            h = np.random.randint(1,255)\n",
        "\n",
        "            y,x = np.ogrid[-a:nx-a, -b:ny-b]\n",
        "            m = x*x + y*y <= r*r\n",
        "            mask = np.logical_or(mask, m)\n",
        "\n",
        "            image[m] = h\n",
        "\n",
        "        label[mask, 1] = 1\n",
        "\n",
        "        if rectangles:\n",
        "            mask = np.zeros((nx, ny), dtype=np.bool)\n",
        "            for _ in range(cnt//2):\n",
        "                a = np.random.randint(nx)\n",
        "                b = np.random.randint(ny)\n",
        "                r =  np.random.randint(r_min, r_max)\n",
        "                h = np.random.randint(1,255)\n",
        "\n",
        "                m = np.zeros((nx, ny), dtype=np.bool)\n",
        "                m[a:a+r, b:b+r] = True\n",
        "                mask = np.logical_or(mask, m)\n",
        "                image[m] = h\n",
        "\n",
        "            label[mask, 2] = 1\n",
        "\n",
        "            label[..., 0] = ~(np.logical_or(label[...,1], label[...,2]))\n",
        "\n",
        "        image += np.random.normal(scale=sigma, size=image.shape)\n",
        "        image -= np.amin(image)\n",
        "        image /= np.amax(image)\n",
        "\n",
        "        if rectangles:\n",
        "            return image, label\n",
        "        else:\n",
        "            return image, label[..., 1] "
      ],
      "execution_count": 0,
      "outputs": []
    },
    {
      "metadata": {
        "id": "x5V1RCgsLuH9",
        "colab_type": "code",
        "colab": {}
      },
      "cell_type": "code",
      "source": [
        "class GrayScaleDataProvider(BaseDataProvider):\n",
        "    channels = 1\n",
        "    n_class = 2\n",
        "    \n",
        "    def __init__(self, nx, ny, **kwargs):\n",
        "        super(GrayScaleDataProvider, self).__init__()\n",
        "        self.nx = nx\n",
        "        self.ny = ny\n",
        "        self.kwargs = kwargs\n",
        "        rect = kwargs.get(\"rectangles\", False)\n",
        "        if rect:\n",
        "            self.n_class=3\n",
        "        \n",
        "    def _next_data(self):\n",
        "        return create_image_and_label(self.nx, self.ny, **self.kwargs)   \n",
        "    \n",
        "    def _reset_ids(self):\n",
        "        self"
      ],
      "execution_count": 0,
      "outputs": []
    },
    {
      "metadata": {
        "id": "zyu3PDv0LuIE",
        "colab_type": "text"
      },
      "cell_type": "markdown",
      "source": [
        "## Entranmientos y pruebas\n",
        "Pruebas con diferentes conjuntos de datos\n",
        "- Utilizar imágenes del formato TIFF. \n",
        "- Se recomienda visualizar las imágenes con el siguiente editor: https://fiji.sc/\n",
        "- Cada prueba tiene una variable que comienza con ENTRENAR (Ej. ENTRENAR_BROAD_TOY_PROBLEM_MODEL). Esa variable indica si vamos a reutilizar un modelo ya entrenado o vamos a entrenar de nuevo. Se recomienda que sea True al entrenar y luego pasarlo a False. "
      ]
    },
    {
      "metadata": {
        "id": "hgw1twqwLuIG",
        "colab_type": "code",
        "colab": {}
      },
      "cell_type": "code",
      "source": [
        "class Pruebas():\n",
        "    \n",
        "    def train(self, data_provider, trained_folder, training_iters=32, epochs=10, batch_size=1, train = True):\n",
        "        x_train, y_train = data_provider(1)        \n",
        "        data_provider.reset_ids()\n",
        "        fig, ax = plt.subplots(1,2, sharey=True, figsize=(8,4))\n",
        "        ax[0].imshow(x_train[0,...,0], aspect=\"auto\")\n",
        "        ax[1].imshow(y_train[0,...,1], aspect=\"auto\") \n",
        "        plt.show()\n",
        "        net = Unet(channels=data_provider.channels, n_class=data_provider.n_class, layers=3, features_root=16)\n",
        "        trainer = Trainer(net, optimizer=\"momentum\", opt_kwargs=dict(momentum=0.2), batch_size=batch_size)\n",
        "        if train:\n",
        "            path = trainer.train(data_provider, \"./\" + trained_folder, \n",
        "                                 training_iters = training_iters, \n",
        "                                 epochs = epochs, \n",
        "                                 display_step = 2, \n",
        "                                 prediction_path='prediction_' + trained_folder)\n",
        "        return net\n",
        "        \n",
        "    def test(self, model, data_provider, trained_folder, sin_mascara=False):\n",
        "        x_test, y_test = data_provider(1)\n",
        "        prediction = model.predict(\"./\" + trained_folder + \"/model.ckpt\", x_test)\n",
        "        cantidad_graficas = (2 if sin_mascara else 3)\n",
        "        fig, ax = plt.subplots(1, cantidad_graficas, sharex=True, sharey=True, figsize=(12,5))\n",
        "        ax[0].imshow(x_test[0,...,0], aspect=\"auto\")\n",
        "        ax[0].set_title(\"Input\")\n",
        "        if not sin_mascara:\n",
        "            ax[1].imshow(y_test[0,...,1], aspect=\"auto\")\n",
        "            mask = prediction[0,...,1] > 0.9\n",
        "            ax[2].imshow(mask, aspect=\"auto\")\n",
        "            ax[1].set_title(\"Ground truth\")\n",
        "            ax[2].set_title(\"Prediction\")\n",
        "        else: \n",
        "            mask = prediction[0,...,1] > 0.9\n",
        "            ax[1].imshow(mask, aspect=\"auto\") \n",
        "            ax[1].set_title(\"Prediction\")\n",
        "        fig.tight_layout()\n",
        "        fig.savefig(\"img/\"+ \"./\" + trained_folder+\".png\")        "
      ],
      "execution_count": 0,
      "outputs": []
    },
    {
      "metadata": {
        "id": "XlgWdeqfLuIL",
        "colab_type": "text"
      },
      "cell_type": "markdown",
      "source": [
        "### demo_toy_problem\n",
        "- Demos obtenidos del repositorio https://github.com/jakeret/tf_unet\n",
        "- Crea una imágen con valores aleatóreos"
      ]
    },
    {
      "metadata": {
        "id": "L4Y1ldaxLuIM",
        "colab_type": "code",
        "colab": {}
      },
      "cell_type": "code",
      "source": [
        "TRAINED_FOLDER_TOY_PROBLEM = \"unet_trained_toy_problem\"\n",
        "#########################\n",
        "#True: Volver a entrenar el modelo\n",
        "#False: Reutiliza los modelos ya entrenados con formado ckpt\n",
        "#########################\n",
        "ENTRENAR_BROAD_TOY_PROBLEM_MODEL = False"
      ],
      "execution_count": 0,
      "outputs": []
    },
    {
      "metadata": {
        "id": "dW2FapKbLuIR",
        "colab_type": "code",
        "colab": {}
      },
      "cell_type": "code",
      "source": [
        "def generar_toy_image():\n",
        "    nx = 572\n",
        "    ny = 572\n",
        "    plt.rcParams['image.cmap'] = 'gist_earth'\n",
        "    np.random.seed(98765)\n",
        "    return GrayScaleDataProvider(nx, ny, cnt=20);"
      ],
      "execution_count": 0,
      "outputs": []
    },
    {
      "metadata": {
        "id": "Y13UnEbcLuIc",
        "colab_type": "text"
      },
      "cell_type": "markdown",
      "source": [
        "Train"
      ]
    },
    {
      "metadata": {
        "id": "0eO8NjbsLuIe",
        "colab_type": "code",
        "colab": {}
      },
      "cell_type": "code",
      "source": [
        "data_provider_toy_problem_train = generar_toy_image()"
      ],
      "execution_count": 0,
      "outputs": []
    },
    {
      "metadata": {
        "id": "_msn28e0LuIj",
        "colab_type": "code",
        "colab": {}
      },
      "cell_type": "code",
      "source": [
        "#Ejecuta esta línea para reflejar los cambios en la clase Pruebas\n",
        "pruebas_toy_problem = Pruebas();"
      ],
      "execution_count": 0,
      "outputs": []
    },
    {
      "metadata": {
        "id": "97gCjEXcLuIn",
        "colab_type": "code",
        "colab": {},
        "outputId": "a2389428-16b2-4b99-b2ab-cfac956c1684"
      },
      "cell_type": "code",
      "source": [
        "#########################\n",
        "#train(data_provider, folder, train_iter, epoch, train)\n",
        "#Al terminar el entrenamiento se recomienda guardar el contenido de la carpeta unet_trained_*\n",
        "#########################\n",
        "model_toy_problem = pruebas_toy_problem.train(data_provider_toy_problem_train, \n",
        "                                              TRAINED_FOLDER_TOY_PROBLEM, \n",
        "                                              32, #iterations\n",
        "                                              10, #epoch\n",
        "                                              1, #batch size \n",
        "                                              ENTRENAR_BROAD_TOY_PROBLEM_MODEL)"
      ],
      "execution_count": 0,
      "outputs": [
        {
          "output_type": "display_data",
          "data": {
            "image/png": "[encoded data removed]",
            "text/plain": [
              "<Figure size 576x288 with 2 Axes>"
            ]
          },
          "metadata": {
            "tags": []
          }
        },
        {
          "output_type": "stream",
          "text": [
            "2018-09-27 15:53:50,617 Layers 3, features 16, filter size 3x3, pool size: 2x2\n",
            "2018-09-27 15:53:51,782 Removing 'C:\\Users\\Kevin\\AnacondaProjects\\Segmentacion\\segmentacion-unet\\prediction_unet_trained_toy_problem'\n",
            "2018-09-27 15:53:51,784 Removing 'C:\\Users\\Kevin\\AnacondaProjects\\Segmentacion\\segmentacion-unet\\unet_trained_toy_problem'\n",
            "2018-09-27 15:53:51,786 Allocating 'C:\\Users\\Kevin\\AnacondaProjects\\Segmentacion\\segmentacion-unet\\prediction_unet_trained_toy_problem'\n",
            "2018-09-27 15:53:58,541 Verification error= 72.2%, loss= 0.6973\n",
            "2018-09-27 15:53:59,180 Start optimization\n",
            "2018-09-27 15:54:03,938 Iter 0, Minibatch Loss= 0.6420, Training Accuracy= 0.8080, Minibatch error= 19.2%\n",
            "2018-09-27 15:54:11,201 Iter 2, Minibatch Loss= 0.5456, Training Accuracy= 0.8856, Minibatch error= 11.4%\n",
            "2018-09-27 15:54:18,417 Iter 4, Minibatch Loss= 0.5314, Training Accuracy= 0.8146, Minibatch error= 18.5%\n",
            "2018-09-27 15:54:25,828 Iter 6, Minibatch Loss= 0.4343, Training Accuracy= 0.8623, Minibatch error= 13.8%\n",
            "2018-09-27 15:54:32,903 Iter 8, Minibatch Loss= 0.4137, Training Accuracy= 0.8612, Minibatch error= 13.9%\n",
            "2018-09-27 15:54:40,206 Iter 10, Minibatch Loss= 0.5110, Training Accuracy= 0.7926, Minibatch error= 20.7%\n",
            "2018-09-27 15:54:47,380 Iter 12, Minibatch Loss= 0.4562, Training Accuracy= 0.8283, Minibatch error= 17.2%\n",
            "2018-09-27 15:54:54,734 Iter 14, Minibatch Loss= 0.4343, Training Accuracy= 0.8386, Minibatch error= 16.1%\n",
            "2018-09-27 15:55:02,296 Iter 16, Minibatch Loss= 0.4232, Training Accuracy= 0.8418, Minibatch error= 15.8%\n",
            "2018-09-27 15:55:09,608 Iter 18, Minibatch Loss= 0.4858, Training Accuracy= 0.7907, Minibatch error= 20.9%\n",
            "2018-09-27 15:55:16,721 Iter 20, Minibatch Loss= 0.4319, Training Accuracy= 0.8052, Minibatch error= 19.5%\n",
            "2018-09-27 15:55:23,811 Iter 22, Minibatch Loss= 0.3157, Training Accuracy= 0.8684, Minibatch error= 13.2%\n",
            "2018-09-27 15:55:30,912 Iter 24, Minibatch Loss= 0.3222, Training Accuracy= 0.8389, Minibatch error= 16.1%\n",
            "2018-09-27 15:55:38,127 Iter 26, Minibatch Loss= 0.3913, Training Accuracy= 0.7702, Minibatch error= 23.0%\n",
            "2018-09-27 15:55:45,369 Iter 28, Minibatch Loss= 0.2375, Training Accuracy= 0.8531, Minibatch error= 14.7%\n",
            "2018-09-27 15:55:52,648 Iter 30, Minibatch Loss= 0.2594, Training Accuracy= 0.8384, Minibatch error= 16.2%\n",
            "2018-09-27 15:55:55,840 Epoch 0, Average loss: 0.4470, learning rate: 0.2000\n",
            "2018-09-27 15:56:01,888 Verification error= 16.4%, loss= 0.3070\n",
            "2018-09-27 15:56:06,623 Iter 32, Minibatch Loss= 0.4231, Training Accuracy= 0.8262, Minibatch error= 17.4%\n",
            "2018-09-27 15:56:13,941 Iter 34, Minibatch Loss= 0.2752, Training Accuracy= 0.8377, Minibatch error= 16.2%\n",
            "2018-09-27 15:56:21,785 Iter 36, Minibatch Loss= 0.2186, Training Accuracy= 0.8473, Minibatch error= 15.3%\n",
            "2018-09-27 15:56:29,512 Iter 38, Minibatch Loss= 0.2240, Training Accuracy= 0.8393, Minibatch error= 16.1%\n",
            "2018-09-27 15:56:36,726 Iter 40, Minibatch Loss= 0.1636, Training Accuracy= 0.9616, Minibatch error= 3.8%\n",
            "2018-09-27 15:56:43,953 Iter 42, Minibatch Loss= 0.4838, Training Accuracy= 0.9232, Minibatch error= 7.7%\n",
            "2018-09-27 15:56:51,207 Iter 44, Minibatch Loss= 0.3162, Training Accuracy= 0.8000, Minibatch error= 20.0%\n",
            "2018-09-27 15:56:58,371 Iter 46, Minibatch Loss= 0.2193, Training Accuracy= 0.9146, Minibatch error= 8.5%\n",
            "2018-09-27 15:57:05,720 Iter 48, Minibatch Loss= 0.2048, Training Accuracy= 0.9564, Minibatch error= 4.4%\n",
            "2018-09-27 15:57:13,137 Iter 50, Minibatch Loss= 0.1924, Training Accuracy= 0.9504, Minibatch error= 5.0%\n",
            "2018-09-27 15:57:20,844 Iter 52, Minibatch Loss= 0.0942, Training Accuracy= 0.9888, Minibatch error= 1.1%\n",
            "2018-09-27 15:57:27,944 Iter 54, Minibatch Loss= 0.3129, Training Accuracy= 0.9365, Minibatch error= 6.3%\n",
            "2018-09-27 15:57:35,009 Iter 56, Minibatch Loss= 0.0655, Training Accuracy= 0.9871, Minibatch error= 1.3%\n",
            "2018-09-27 15:57:42,107 Iter 58, Minibatch Loss= 0.0499, Training Accuracy= 0.9945, Minibatch error= 0.5%\n",
            "2018-09-27 15:57:49,244 Iter 60, Minibatch Loss= 0.2318, Training Accuracy= 0.9620, Minibatch error= 3.8%\n",
            "2018-09-27 15:57:56,476 Iter 62, Minibatch Loss= 0.3264, Training Accuracy= 0.9163, Minibatch error= 8.4%\n",
            "2018-09-27 15:57:59,606 Epoch 1, Average loss: 0.2662, learning rate: 0.1900\n",
            "2018-09-27 15:58:05,473 Verification error= 16.4%, loss= 1.6729\n",
            "2018-09-27 15:58:10,084 Iter 64, Minibatch Loss= 0.3962, Training Accuracy= 0.8027, Minibatch error= 19.7%\n",
            "2018-09-27 15:58:17,211 Iter 66, Minibatch Loss= 0.3186, Training Accuracy= 0.9293, Minibatch error= 7.1%\n",
            "2018-09-27 15:58:24,393 Iter 68, Minibatch Loss= 0.2245, Training Accuracy= 0.9295, Minibatch error= 7.1%\n",
            "2018-09-27 15:58:31,512 Iter 70, Minibatch Loss= 0.0736, Training Accuracy= 0.9910, Minibatch error= 0.9%\n",
            "2018-09-27 15:58:38,596 Iter 72, Minibatch Loss= 0.1061, Training Accuracy= 0.9687, Minibatch error= 3.1%\n",
            "2018-09-27 15:58:45,710 Iter 74, Minibatch Loss= 0.0490, Training Accuracy= 0.9941, Minibatch error= 0.6%\n",
            "2018-09-27 15:58:52,898 Iter 76, Minibatch Loss= 0.0660, Training Accuracy= 0.9856, Minibatch error= 1.4%\n",
            "2018-09-27 15:59:00,046 Iter 78, Minibatch Loss= 0.0220, Training Accuracy= 0.9957, Minibatch error= 0.4%\n",
            "2018-09-27 15:59:07,190 Iter 80, Minibatch Loss= 0.1246, Training Accuracy= 0.9735, Minibatch error= 2.7%\n",
            "2018-09-27 15:59:14,376 Iter 82, Minibatch Loss= 0.0823, Training Accuracy= 0.9691, Minibatch error= 3.1%\n",
            "2018-09-27 15:59:21,521 Iter 84, Minibatch Loss= 0.0477, Training Accuracy= 0.9854, Minibatch error= 1.5%\n",
            "2018-09-27 15:59:28,752 Iter 86, Minibatch Loss= 0.0360, Training Accuracy= 0.9900, Minibatch error= 1.0%\n",
            "2018-09-27 15:59:36,221 Iter 88, Minibatch Loss= 1.3649, Training Accuracy= 0.8201, Minibatch error= 18.0%\n",
            "2018-09-27 15:59:43,600 Iter 90, Minibatch Loss= 0.3200, Training Accuracy= 0.8710, Minibatch error= 12.9%\n",
            "2018-09-27 15:59:51,055 Iter 92, Minibatch Loss= 0.2408, Training Accuracy= 0.9057, Minibatch error= 9.4%\n",
            "2018-09-27 15:59:58,520 Iter 94, Minibatch Loss= 0.2312, Training Accuracy= 0.9174, Minibatch error= 8.3%\n",
            "2018-09-27 16:00:01,771 Epoch 2, Average loss: 0.2809, learning rate: 0.1805\n",
            "2018-09-27 16:00:07,780 Verification error= 6.3%, loss= 0.1900\n",
            "2018-09-27 16:00:12,450 Iter 96, Minibatch Loss= 0.2090, Training Accuracy= 0.9343, Minibatch error= 6.6%\n",
            "2018-09-27 16:00:19,729 Iter 98, Minibatch Loss= 0.0760, Training Accuracy= 0.9840, Minibatch error= 1.6%\n",
            "2018-09-27 16:00:26,903 Iter 100, Minibatch Loss= 0.0570, Training Accuracy= 0.9897, Minibatch error= 1.0%\n",
            "2018-09-27 16:00:34,068 Iter 102, Minibatch Loss= 0.0507, Training Accuracy= 0.9898, Minibatch error= 1.0%\n",
            "2018-09-27 16:00:41,153 Iter 104, Minibatch Loss= 0.2043, Training Accuracy= 0.9383, Minibatch error= 6.2%\n",
            "2018-09-27 16:00:48,407 Iter 106, Minibatch Loss= 0.0339, Training Accuracy= 0.9885, Minibatch error= 1.2%\n",
            "2018-09-27 16:00:55,606 Iter 108, Minibatch Loss= 0.0923, Training Accuracy= 0.9717, Minibatch error= 2.8%\n",
            "2018-09-27 16:01:02,778 Iter 110, Minibatch Loss= 0.0237, Training Accuracy= 0.9932, Minibatch error= 0.7%\n",
            "2018-09-27 16:01:09,894 Iter 112, Minibatch Loss= 0.0750, Training Accuracy= 0.9809, Minibatch error= 1.9%\n",
            "2018-09-27 16:01:17,036 Iter 114, Minibatch Loss= 0.1017, Training Accuracy= 0.9687, Minibatch error= 3.1%\n",
            "2018-09-27 16:01:24,451 Iter 116, Minibatch Loss= 0.0297, Training Accuracy= 0.9919, Minibatch error= 0.8%\n",
            "2018-09-27 16:01:31,554 Iter 118, Minibatch Loss= 0.0449, Training Accuracy= 0.9884, Minibatch error= 1.2%\n",
            "2018-09-27 16:01:38,575 Iter 120, Minibatch Loss= 0.0269, Training Accuracy= 0.9915, Minibatch error= 0.9%\n",
            "2018-09-27 16:01:45,693 Iter 122, Minibatch Loss= 0.1176, Training Accuracy= 0.9664, Minibatch error= 3.4%\n",
            "2018-09-27 16:01:52,803 Iter 124, Minibatch Loss= 0.0877, Training Accuracy= 0.9724, Minibatch error= 2.8%\n",
            "2018-09-27 16:02:00,061 Iter 126, Minibatch Loss= 0.2866, Training Accuracy= 0.9129, Minibatch error= 8.7%\n",
            "2018-09-27 16:02:03,191 Epoch 3, Average loss: 0.1582, learning rate: 0.1715\n",
            "2018-09-27 16:02:09,086 Verification error= 10.6%, loss= 0.2632\n",
            "2018-09-27 16:02:14,180 Iter 128, Minibatch Loss= 0.1851, Training Accuracy= 0.9390, Minibatch error= 6.1%\n",
            "2018-09-27 16:02:21,363 Iter 130, Minibatch Loss= 0.1896, Training Accuracy= 0.9434, Minibatch error= 5.7%\n",
            "2018-09-27 16:02:28,766 Iter 132, Minibatch Loss= 0.1243, Training Accuracy= 0.9634, Minibatch error= 3.7%\n"
          ],
          "name": "stderr"
        },
        {
          "output_type": "stream",
          "text": [
            "2018-09-27 16:02:35,965 Iter 134, Minibatch Loss= 0.1657, Training Accuracy= 0.9458, Minibatch error= 5.4%\n",
            "2018-09-27 16:02:43,054 Iter 136, Minibatch Loss= 0.1340, Training Accuracy= 0.9509, Minibatch error= 4.9%\n",
            "2018-09-27 16:02:50,912 Iter 138, Minibatch Loss= 0.1154, Training Accuracy= 0.9669, Minibatch error= 3.3%\n",
            "2018-09-27 16:02:58,228 Iter 140, Minibatch Loss= 0.1591, Training Accuracy= 0.9491, Minibatch error= 5.1%\n",
            "2018-09-27 16:03:05,387 Iter 142, Minibatch Loss= 0.0607, Training Accuracy= 0.9836, Minibatch error= 1.6%\n",
            "2018-09-27 16:03:12,756 Iter 144, Minibatch Loss= 0.0573, Training Accuracy= 0.9809, Minibatch error= 1.9%\n",
            "2018-09-27 16:03:19,983 Iter 146, Minibatch Loss= 0.1280, Training Accuracy= 0.9570, Minibatch error= 4.3%\n",
            "2018-09-27 16:03:27,038 Iter 148, Minibatch Loss= 0.0899, Training Accuracy= 0.9777, Minibatch error= 2.2%\n",
            "2018-09-27 16:03:34,108 Iter 150, Minibatch Loss= 0.0735, Training Accuracy= 0.9702, Minibatch error= 3.0%\n",
            "2018-09-27 16:03:41,175 Iter 152, Minibatch Loss= 0.0604, Training Accuracy= 0.9815, Minibatch error= 1.9%\n",
            "2018-09-27 16:03:48,342 Iter 154, Minibatch Loss= 0.0275, Training Accuracy= 0.9892, Minibatch error= 1.1%\n",
            "2018-09-27 16:03:55,502 Iter 156, Minibatch Loss= 0.1013, Training Accuracy= 0.9746, Minibatch error= 2.5%\n",
            "2018-09-27 16:04:02,613 Iter 158, Minibatch Loss= 0.0334, Training Accuracy= 0.9900, Minibatch error= 1.0%\n",
            "2018-09-27 16:04:05,653 Epoch 4, Average loss: 0.1328, learning rate: 0.1629\n",
            "2018-09-27 16:04:11,557 Verification error= 2.4%, loss= 0.0806\n",
            "2018-09-27 16:04:16,224 Iter 160, Minibatch Loss= 0.0746, Training Accuracy= 0.9797, Minibatch error= 2.0%\n",
            "2018-09-27 16:04:23,346 Iter 162, Minibatch Loss= 0.0457, Training Accuracy= 0.9834, Minibatch error= 1.7%\n",
            "2018-09-27 16:04:30,371 Iter 164, Minibatch Loss= 0.0863, Training Accuracy= 0.9720, Minibatch error= 2.8%\n",
            "2018-09-27 16:04:37,497 Iter 166, Minibatch Loss= 0.1056, Training Accuracy= 0.9716, Minibatch error= 2.8%\n",
            "2018-09-27 16:04:44,566 Iter 168, Minibatch Loss= 0.0189, Training Accuracy= 0.9937, Minibatch error= 0.6%\n",
            "2018-09-27 16:04:51,691 Iter 170, Minibatch Loss= 0.0916, Training Accuracy= 0.9731, Minibatch error= 2.7%\n",
            "2018-09-27 16:04:58,848 Iter 172, Minibatch Loss= 0.0375, Training Accuracy= 0.9894, Minibatch error= 1.1%\n",
            "2018-09-27 16:05:05,981 Iter 174, Minibatch Loss= 0.0393, Training Accuracy= 0.9881, Minibatch error= 1.2%\n",
            "2018-09-27 16:05:13,073 Iter 176, Minibatch Loss= 0.0289, Training Accuracy= 0.9917, Minibatch error= 0.8%\n",
            "2018-09-27 16:05:20,413 Iter 178, Minibatch Loss= 0.1250, Training Accuracy= 0.9616, Minibatch error= 3.8%\n",
            "2018-09-27 16:05:27,542 Iter 180, Minibatch Loss= 0.0372, Training Accuracy= 0.9886, Minibatch error= 1.1%\n",
            "2018-09-27 16:05:34,588 Iter 182, Minibatch Loss= 0.0374, Training Accuracy= 0.9899, Minibatch error= 1.0%\n",
            "2018-09-27 16:05:41,635 Iter 184, Minibatch Loss= 0.0251, Training Accuracy= 0.9936, Minibatch error= 0.6%\n",
            "2018-09-27 16:05:48,664 Iter 186, Minibatch Loss= 0.1184, Training Accuracy= 0.9687, Minibatch error= 3.1%\n",
            "2018-09-27 16:05:55,721 Iter 188, Minibatch Loss= 0.3599, Training Accuracy= 0.9427, Minibatch error= 5.7%\n",
            "2018-09-27 16:06:02,805 Iter 190, Minibatch Loss= 0.1587, Training Accuracy= 0.9480, Minibatch error= 5.2%\n",
            "2018-09-27 16:06:05,873 Epoch 5, Average loss: 0.1322, learning rate: 0.1548\n",
            "2018-09-27 16:06:11,680 Verification error= 5.8%, loss= 0.1675\n",
            "2018-09-27 16:06:16,354 Iter 192, Minibatch Loss= 0.0821, Training Accuracy= 0.9826, Minibatch error= 1.7%\n",
            "2018-09-27 16:06:23,348 Iter 194, Minibatch Loss= 0.2562, Training Accuracy= 0.9171, Minibatch error= 8.3%\n",
            "2018-09-27 16:06:30,372 Iter 196, Minibatch Loss= 0.2226, Training Accuracy= 0.9162, Minibatch error= 8.4%\n",
            "2018-09-27 16:06:37,437 Iter 198, Minibatch Loss= 0.1812, Training Accuracy= 0.9465, Minibatch error= 5.4%\n",
            "2018-09-27 16:06:44,485 Iter 200, Minibatch Loss= 0.0795, Training Accuracy= 0.9777, Minibatch error= 2.2%\n",
            "2018-09-27 16:06:51,668 Iter 202, Minibatch Loss= 0.0434, Training Accuracy= 0.9878, Minibatch error= 1.2%\n",
            "2018-09-27 16:06:59,352 Iter 204, Minibatch Loss= 0.0896, Training Accuracy= 0.9721, Minibatch error= 2.8%\n",
            "2018-09-27 16:07:06,535 Iter 206, Minibatch Loss= 0.0976, Training Accuracy= 0.9753, Minibatch error= 2.5%\n",
            "2018-09-27 16:07:13,648 Iter 208, Minibatch Loss= 0.0307, Training Accuracy= 0.9926, Minibatch error= 0.7%\n",
            "2018-09-27 16:07:20,707 Iter 210, Minibatch Loss= 0.0352, Training Accuracy= 0.9922, Minibatch error= 0.8%\n",
            "2018-09-27 16:07:27,730 Iter 212, Minibatch Loss= 0.0274, Training Accuracy= 0.9922, Minibatch error= 0.8%\n",
            "2018-09-27 16:07:34,753 Iter 214, Minibatch Loss= 0.0577, Training Accuracy= 0.9819, Minibatch error= 1.8%\n",
            "2018-09-27 16:07:41,825 Iter 216, Minibatch Loss= 0.0398, Training Accuracy= 0.9870, Minibatch error= 1.3%\n",
            "2018-09-27 16:07:49,032 Iter 218, Minibatch Loss= 0.0644, Training Accuracy= 0.9799, Minibatch error= 2.0%\n",
            "2018-09-27 16:07:56,157 Iter 220, Minibatch Loss= 0.0432, Training Accuracy= 0.9862, Minibatch error= 1.4%\n",
            "2018-09-27 16:08:03,182 Iter 222, Minibatch Loss= 0.0290, Training Accuracy= 0.9902, Minibatch error= 1.0%\n",
            "2018-09-27 16:08:06,310 Epoch 6, Average loss: 0.1151, learning rate: 0.1470\n",
            "2018-09-27 16:08:12,081 Verification error= 2.1%, loss= 0.0733\n",
            "2018-09-27 16:08:16,721 Iter 224, Minibatch Loss= 0.1011, Training Accuracy= 0.9739, Minibatch error= 2.6%\n",
            "2018-09-27 16:08:23,802 Iter 226, Minibatch Loss= 0.1817, Training Accuracy= 0.9518, Minibatch error= 4.8%\n",
            "2018-09-27 16:08:30,969 Iter 228, Minibatch Loss= 0.1485, Training Accuracy= 0.9539, Minibatch error= 4.6%\n",
            "2018-09-27 16:08:37,953 Iter 230, Minibatch Loss= 0.0219, Training Accuracy= 0.9932, Minibatch error= 0.7%\n",
            "2018-09-27 16:08:45,024 Iter 232, Minibatch Loss= 0.0372, Training Accuracy= 0.9904, Minibatch error= 1.0%\n",
            "2018-09-27 16:08:52,068 Iter 234, Minibatch Loss= 0.0318, Training Accuracy= 0.9913, Minibatch error= 0.9%\n",
            "2018-09-27 16:08:59,123 Iter 236, Minibatch Loss= 0.1227, Training Accuracy= 0.9638, Minibatch error= 3.6%\n",
            "2018-09-27 16:09:06,206 Iter 238, Minibatch Loss= 0.1078, Training Accuracy= 0.9583, Minibatch error= 4.2%\n",
            "2018-09-27 16:09:13,261 Iter 240, Minibatch Loss= 0.0723, Training Accuracy= 0.9774, Minibatch error= 2.3%\n",
            "2018-09-27 16:09:20,305 Iter 242, Minibatch Loss= 0.0818, Training Accuracy= 0.9752, Minibatch error= 2.5%\n",
            "2018-09-27 16:09:27,399 Iter 244, Minibatch Loss= 0.2371, Training Accuracy= 0.9507, Minibatch error= 4.9%\n",
            "2018-09-27 16:09:34,533 Iter 246, Minibatch Loss= 0.0502, Training Accuracy= 0.9802, Minibatch error= 2.0%\n",
            "2018-09-27 16:09:41,568 Iter 248, Minibatch Loss= 0.0369, Training Accuracy= 0.9876, Minibatch error= 1.2%\n",
            "2018-09-27 16:09:48,678 Iter 250, Minibatch Loss= 0.0817, Training Accuracy= 0.9806, Minibatch error= 1.9%\n",
            "2018-09-27 16:09:55,737 Iter 252, Minibatch Loss= 0.1727, Training Accuracy= 0.9487, Minibatch error= 5.1%\n",
            "2018-09-27 16:10:02,875 Iter 254, Minibatch Loss= 0.1024, Training Accuracy= 0.9714, Minibatch error= 2.9%\n",
            "2018-09-27 16:10:05,912 Epoch 7, Average loss: 0.1343, learning rate: 0.1397\n",
            "2018-09-27 16:10:11,692 Verification error= 2.4%, loss= 0.1177\n",
            "2018-09-27 16:10:16,492 Iter 256, Minibatch Loss= 0.0689, Training Accuracy= 0.9842, Minibatch error= 1.6%\n",
            "2018-09-27 16:10:23,567 Iter 258, Minibatch Loss= 0.0654, Training Accuracy= 0.9860, Minibatch error= 1.4%\n",
            "2018-09-27 16:10:30,901 Iter 260, Minibatch Loss= 0.0595, Training Accuracy= 0.9798, Minibatch error= 2.0%\n",
            "2018-09-27 16:10:38,579 Iter 262, Minibatch Loss= 0.1129, Training Accuracy= 0.9574, Minibatch error= 4.3%\n",
            "2018-09-27 16:10:46,186 Iter 264, Minibatch Loss= 0.0285, Training Accuracy= 0.9928, Minibatch error= 0.7%\n",
            "2018-09-27 16:10:54,058 Iter 266, Minibatch Loss= 0.0953, Training Accuracy= 0.9717, Minibatch error= 2.8%\n",
            "2018-09-27 16:11:01,842 Iter 268, Minibatch Loss= 0.0699, Training Accuracy= 0.9777, Minibatch error= 2.2%\n",
            "2018-09-27 16:11:09,137 Iter 270, Minibatch Loss= 0.1081, Training Accuracy= 0.9664, Minibatch error= 3.4%\n",
            "2018-09-27 16:11:16,724 Iter 272, Minibatch Loss= 0.0525, Training Accuracy= 0.9841, Minibatch error= 1.6%\n",
            "2018-09-27 16:11:25,929 Iter 274, Minibatch Loss= 0.0959, Training Accuracy= 0.9835, Minibatch error= 1.7%\n",
            "2018-09-27 16:11:34,033 Iter 276, Minibatch Loss= 0.0513, Training Accuracy= 0.9831, Minibatch error= 1.7%\n"
          ],
          "name": "stderr"
        },
        {
          "output_type": "stream",
          "text": [
            "2018-09-27 16:11:42,242 Iter 278, Minibatch Loss= 0.0407, Training Accuracy= 0.9909, Minibatch error= 0.9%\n",
            "2018-09-27 16:11:50,047 Iter 280, Minibatch Loss= 0.1001, Training Accuracy= 0.9712, Minibatch error= 2.9%\n",
            "2018-09-27 16:11:57,450 Iter 282, Minibatch Loss= 0.0388, Training Accuracy= 0.9928, Minibatch error= 0.7%\n",
            "2018-09-27 16:12:04,964 Iter 284, Minibatch Loss= 0.0620, Training Accuracy= 0.9800, Minibatch error= 2.0%\n",
            "2018-09-27 16:12:12,665 Iter 286, Minibatch Loss= 0.0474, Training Accuracy= 0.9874, Minibatch error= 1.3%\n",
            "2018-09-27 16:12:15,804 Epoch 8, Average loss: 0.0983, learning rate: 0.1327\n",
            "2018-09-27 16:12:21,625 Verification error= 2.3%, loss= 0.0784\n",
            "2018-09-27 16:12:26,280 Iter 288, Minibatch Loss= 0.0577, Training Accuracy= 0.9845, Minibatch error= 1.5%\n",
            "2018-09-27 16:12:33,382 Iter 290, Minibatch Loss= 0.0416, Training Accuracy= 0.9886, Minibatch error= 1.1%\n",
            "2018-09-27 16:12:41,311 Iter 292, Minibatch Loss= 0.1050, Training Accuracy= 0.9591, Minibatch error= 4.1%\n",
            "2018-09-27 16:12:48,888 Iter 294, Minibatch Loss= 0.0759, Training Accuracy= 0.9791, Minibatch error= 2.1%\n",
            "2018-09-27 16:12:56,096 Iter 296, Minibatch Loss= 0.0402, Training Accuracy= 0.9857, Minibatch error= 1.4%\n",
            "2018-09-27 16:13:03,315 Iter 298, Minibatch Loss= 0.2474, Training Accuracy= 0.9347, Minibatch error= 6.5%\n",
            "2018-09-27 16:13:10,437 Iter 300, Minibatch Loss= 0.0250, Training Accuracy= 0.9940, Minibatch error= 0.6%\n",
            "2018-09-27 16:13:17,621 Iter 302, Minibatch Loss= 0.1473, Training Accuracy= 0.9606, Minibatch error= 3.9%\n",
            "2018-09-27 16:13:25,945 Iter 304, Minibatch Loss= 0.1053, Training Accuracy= 0.9710, Minibatch error= 2.9%\n",
            "2018-09-27 16:13:33,231 Iter 306, Minibatch Loss= 0.0566, Training Accuracy= 0.9807, Minibatch error= 1.9%\n",
            "2018-09-27 16:13:40,335 Iter 308, Minibatch Loss= 0.0228, Training Accuracy= 0.9939, Minibatch error= 0.6%\n",
            "2018-09-27 16:13:47,467 Iter 310, Minibatch Loss= 0.0510, Training Accuracy= 0.9810, Minibatch error= 1.9%\n",
            "2018-09-27 16:13:54,602 Iter 312, Minibatch Loss= 0.0383, Training Accuracy= 0.9873, Minibatch error= 1.3%\n",
            "2018-09-27 16:14:02,165 Iter 314, Minibatch Loss= 0.1389, Training Accuracy= 0.9567, Minibatch error= 4.3%\n",
            "2018-09-27 16:14:09,494 Iter 316, Minibatch Loss= 0.1338, Training Accuracy= 0.9719, Minibatch error= 2.8%\n",
            "2018-09-27 16:14:16,616 Iter 318, Minibatch Loss= 0.0368, Training Accuracy= 0.9889, Minibatch error= 1.1%\n",
            "2018-09-27 16:14:19,701 Epoch 9, Average loss: 0.1136, learning rate: 0.1260\n",
            "2018-09-27 16:14:25,574 Verification error= 2.3%, loss= 0.0785\n",
            "2018-09-27 16:14:26,238 Optimization Finished!\n"
          ],
          "name": "stderr"
        }
      ]
    },
    {
      "metadata": {
        "id": "pNFBYWyKLuIz",
        "colab_type": "text"
      },
      "cell_type": "markdown",
      "source": [
        "Test"
      ]
    },
    {
      "metadata": {
        "id": "-7vgvIxILuI0",
        "colab_type": "code",
        "colab": {}
      },
      "cell_type": "code",
      "source": [
        "data_provider_toy_problem_test = data_provider_toy_problem_train"
      ],
      "execution_count": 0,
      "outputs": []
    },
    {
      "metadata": {
        "id": "-ahkhErcLuI4",
        "colab_type": "code",
        "colab": {}
      },
      "cell_type": "code",
      "source": [
        "pruebas_toy_problem.test(model_toy_problem, data_provider_toy_problem_test, TRAINED_FOLDER_TOY_PROBLEM)"
      ],
      "execution_count": 0,
      "outputs": []
    },
    {
      "metadata": {
        "id": "bk_1LR3fLuI9",
        "colab_type": "text"
      },
      "cell_type": "markdown",
      "source": [
        "### EM segmentation challenge - ISBI 2012\n",
        "- http://brainiac2.mit.edu/isbi_challenge/\n",
        "- Es la que usan en el paper base (Ronneberger et al., 2015)\n",
        "- Resolución: 512 x 512 x 30\n",
        "- No existen imágenes de máscaras para conjunto de pruebas"
      ]
    },
    {
      "metadata": {
        "id": "1U0gaW0DLuI-",
        "colab_type": "code",
        "colab": {}
      },
      "cell_type": "code",
      "source": [
        "PATH_ISBI_2012_TRAIN = \"dataset/isbi-challenge/train/\"\n",
        "PATH_ISBI_2012_TEST = \"dataset/isbi-challenge/test/\"\n",
        "TRAINED_FOLDER_ISBI_2012 = \"unet_trained_isbi_2012\"\n",
        "#########################\n",
        "#True: Volver a entrenar el modelo\n",
        "#False: Reutiliza los modelos ya entrenados con formado ckpt\n",
        "#########################\n",
        "ENTRENAR_BROAD_ISBI_2012_MODEL = False"
      ],
      "execution_count": 0,
      "outputs": []
    },
    {
      "metadata": {
        "id": "7rnaQE6pLuJC",
        "colab_type": "text"
      },
      "cell_type": "markdown",
      "source": [
        "Train"
      ]
    },
    {
      "metadata": {
        "id": "ZK3ugsk7LuJE",
        "colab_type": "code",
        "colab": {},
        "outputId": "842a5dff-ee01-43ab-8d7d-23a0ac8bf498"
      },
      "cell_type": "code",
      "source": [
        "data_provider_isbi_2012_train = ImageDataProvider(PATH_ISBI_2012_TRAIN + \"*.tif\")"
      ],
      "execution_count": 0,
      "outputs": [
        {
          "output_type": "stream",
          "text": [
            "Number of files used: 1\n"
          ],
          "name": "stdout"
        }
      ]
    },
    {
      "metadata": {
        "id": "QMzuixlxLuJI",
        "colab_type": "code",
        "colab": {}
      },
      "cell_type": "code",
      "source": [
        "#Ejecuta esta línea para reflejar los cambios en la clase Pruebas\n",
        "pruebas_isbi_2012 = Pruebas();"
      ],
      "execution_count": 0,
      "outputs": []
    },
    {
      "metadata": {
        "id": "xIY8Yf7CLuJM",
        "colab_type": "code",
        "colab": {}
      },
      "cell_type": "code",
      "source": [
        "#########################\n",
        "#train(data_provider, folder, train_iter, epoch, train)\n",
        "#Al terminar el entrenamiento se recomienda guardar el contenido de la carpeta unet_trained_*\n",
        "#########################\n",
        "model_isbi_2012 = pruebas_isbi_2012.train(data_provider_isbi_2012_train, \n",
        "                                          TRAINED_FOLDER_ISBI_2012, \n",
        "                                          32, #iterations\n",
        "                                          10, #epoch\n",
        "                                          1, #batch size  \n",
        "                                          ENTRENAR_BROAD_ISBI_2012_MODEL)"
      ],
      "execution_count": 0,
      "outputs": []
    },
    {
      "metadata": {
        "id": "PkeaaX7gLuJU",
        "colab_type": "text"
      },
      "cell_type": "markdown",
      "source": [
        "Test\n",
        "- No tenemos imágenes de las máscaras"
      ]
    },
    {
      "metadata": {
        "id": "RKcMG8bsLuJV",
        "colab_type": "code",
        "colab": {},
        "outputId": "acd049f9-a641-42d0-ed56-d2366191353e"
      },
      "cell_type": "code",
      "source": [
        "data_provider_isbi_2012_test = ImageDataProvider(PATH_ISBI_2012_TEST + \"*.tif\")"
      ],
      "execution_count": 0,
      "outputs": [
        {
          "output_type": "stream",
          "text": [
            "Number of files used: 1\n"
          ],
          "name": "stdout"
        }
      ]
    },
    {
      "metadata": {
        "id": "OYziZW6ALuJb",
        "colab_type": "code",
        "colab": {}
      },
      "cell_type": "code",
      "source": [
        "pruebas_isbi_2012.test(model_isbi_2012, data_provider_isbi_2012_test, TRAINED_FOLDER_ISBI_2012, True)"
      ],
      "execution_count": 0,
      "outputs": []
    },
    {
      "metadata": {
        "id": "_4ab_7BTLuJf",
        "colab_type": "text"
      },
      "cell_type": "markdown",
      "source": [
        "### Cell Tracking Challenge \n",
        "- http://www.celltrackingchallenge.net/datasets.html\n",
        "- Solo existe una imagen sin máscara\n",
        "- Se necesitan buscar reemplazos de ambos conjuntos"
      ]
    },
    {
      "metadata": {
        "id": "DpbPsGyWLuJv",
        "colab_type": "text"
      },
      "cell_type": "markdown",
      "source": [
        "PhC-U373 - PhC-C2DH-U373\n",
        "- Glioblastoma-astrocytoma U373 cells on a polyacrylimide substrate  (2D)\n",
        "- Dr. Sanjay Kumar. Department of Bioengineering\n",
        "- University of California at Berkeley. Berkeley CA (USA)\n",
        "- Microscope: Nikon\n",
        "- Objective lens: Plan Fluor DLL 20X/0.5\n",
        "- Pixel size (microns): 0.65 x 0.65\n",
        "- Time step (min): 15"
      ]
    },
    {
      "metadata": {
        "id": "x3ponG_NLuJw",
        "colab_type": "code",
        "colab": {},
        "outputId": "e4cec577-77c0-4439-f61a-98cbcbd29f59"
      },
      "cell_type": "code",
      "source": [
        "img = Image.open(\"img/PhC-C2DH-U373.gif\")\n",
        "img = img.resize((300, 250), Image.ANTIALIAS)\n",
        "img"
      ],
      "execution_count": 0,
      "outputs": [
        {
          "output_type": "execute_result",
          "data": {
            "image/png": "[encoded data removed]",
            "text/plain": [
              "<PIL.Image.Image image mode=P size=300x250 at 0x2379CE065F8>"
            ]
          },
          "metadata": {
            "tags": []
          },
          "execution_count": 47
        }
      ]
    },
    {
      "metadata": {
        "id": "aJXd_bbcLuJ-",
        "colab_type": "text"
      },
      "cell_type": "markdown",
      "source": [
        "DIC-HeLA - Fluo-N2DL-HeLa\n",
        "- HeLa cells stably expressing H2b-GFP (2D)\n",
        "- Mitocheck Consortium\n",
        "- Microscope: Olympus IX81\n",
        "- Objective lens: Plan 10x/0.4\n",
        "- Pixel size (microns): 0.645 x 0.645\n",
        "- Time step (min): 30"
      ]
    },
    {
      "metadata": {
        "id": "kSmecC22LuJ_",
        "colab_type": "code",
        "colab": {},
        "outputId": "0442b7de-e4ed-4732-cac1-6c4ebe5e034e"
      },
      "cell_type": "code",
      "source": [
        "img = Image.open(\"img/N2DL-HeLa.gif\")\n",
        "img = img.resize((400, 250), Image.ANTIALIAS)\n",
        "img"
      ],
      "execution_count": 0,
      "outputs": [
        {
          "output_type": "execute_result",
          "data": {
            "image/png": "[encoded data removed]",
            "text/plain": [
              "<PIL.Image.Image image mode=P size=400x250 at 0x2379CE06588>"
            ]
          },
          "metadata": {
            "tags": []
          },
          "execution_count": 48
        }
      ]
    },
    {
      "metadata": {
        "id": "XTzBKdMdLuKh",
        "colab_type": "text"
      },
      "cell_type": "markdown",
      "source": [
        "### Broad Bioimage Benchmark Collection (BBBC003)\n",
        "- Embriones de ratones.\n",
        "- Modo de toma: Fluor\n",
        "- https://data.broadinstitute.org/bbbc/BBBC003/\n",
        "- Existen diferentes conjuntos de datos\n",
        "- Todas las imágenes deben tener la misma orientación (horizontal o vertical). Se modificaron manualmente."
      ]
    },
    {
      "metadata": {
        "id": "8vIT6YQrLuKi",
        "colab_type": "code",
        "colab": {}
      },
      "cell_type": "code",
      "source": [
        "PATH_BROAD_003_TRAIN = \"dataset/broad-bioimage/BBBC003/train/\"\n",
        "PATH_BROAD_003_TEST = \"dataset/broad-bioimage/BBBC003/test/\"\n",
        "TRAINED_FOLDER_BROAD_003 = \"unet_trained_broad_003\"\n",
        "#########################\n",
        "#True: Volver a entrenar el modelo\n",
        "#False: Reutiliza los modelos ya entrenados con formado ckpt\n",
        "#########################\n",
        "ENTRENAR_BROAD_003_MODEL = False "
      ],
      "execution_count": 0,
      "outputs": []
    },
    {
      "metadata": {
        "id": "ksDFy9EBLuKo",
        "colab_type": "text"
      },
      "cell_type": "markdown",
      "source": [
        "Train"
      ]
    },
    {
      "metadata": {
        "id": "98qCjtaVLuKp",
        "colab_type": "code",
        "colab": {},
        "outputId": "d560197c-2ac1-4344-9025-b19f883c421c"
      },
      "cell_type": "code",
      "source": [
        "data_provider_broad_003_train = ImageDataProvider(PATH_BROAD_003_TRAIN + \"*.tif\")"
      ],
      "execution_count": 0,
      "outputs": [
        {
          "output_type": "stream",
          "text": [
            "Number of files used: 11\n"
          ],
          "name": "stdout"
        }
      ]
    },
    {
      "metadata": {
        "id": "GxB1H2rELuKv",
        "colab_type": "code",
        "colab": {}
      },
      "cell_type": "code",
      "source": [
        "#Ejecuta esta línea para reflejar los cambios en la clase Pruebas\n",
        "pruebas_broad_003 = Pruebas();"
      ],
      "execution_count": 0,
      "outputs": []
    },
    {
      "metadata": {
        "id": "pVpCeSjoLuLb",
        "colab_type": "code",
        "colab": {}
      },
      "cell_type": "code",
      "source": [
        "#########################\n",
        "#train(data_provider, folder, train_iter, epoch, train)\n",
        "#Al terminar el entrenamiento se recomienda guardar el contenido de la carpeta unet_trained_broad_005\n",
        "#########################\n",
        "model_broad_003 = pruebas_broad_003.train(data_provider_broad_003_train, \n",
        "                                          TRAINED_FOLDER_BROAD_003, \n",
        "                                          32, #iterations\n",
        "                                          10, #epoch\n",
        "                                          1, #batch size \n",
        "                                          ENTRENAR_BROAD_003_MODEL)"
      ],
      "execution_count": 0,
      "outputs": []
    },
    {
      "metadata": {
        "id": "bRfsAWR3LuND",
        "colab_type": "text"
      },
      "cell_type": "markdown",
      "source": [
        "Test"
      ]
    },
    {
      "metadata": {
        "id": "qU_Mot3HLuNY",
        "colab_type": "code",
        "colab": {},
        "outputId": "117db109-19ac-471e-81fd-8254df09483f"
      },
      "cell_type": "code",
      "source": [
        "data_provider_broad_003_test = ImageDataProvider(PATH_BROAD_003_TEST + \"*.tif\")"
      ],
      "execution_count": 0,
      "outputs": [
        {
          "output_type": "stream",
          "text": [
            "Number of files used: 4\n"
          ],
          "name": "stdout"
        }
      ]
    },
    {
      "metadata": {
        "id": "Z6PwSmhKLuNv",
        "colab_type": "code",
        "colab": {}
      },
      "cell_type": "code",
      "source": [
        "pruebas_broad_003.test(model_broad_003, data_provider_broad_003_test, TRAINED_FOLDER_BROAD_003, False)"
      ],
      "execution_count": 0,
      "outputs": []
    },
    {
      "metadata": {
        "id": "SPIjxhUELuOI",
        "colab_type": "text"
      },
      "cell_type": "markdown",
      "source": [
        "### Broad Bioimage Benchmark Collection (BBBC005)\n",
        "- https://data.broadinstitute.org/bbbc/image_sets.html\n",
        "- Existen diferentes conjuntos de datos"
      ]
    },
    {
      "metadata": {
        "id": "9nkxjAEhLuOK",
        "colab_type": "code",
        "colab": {}
      },
      "cell_type": "code",
      "source": [
        "PATH_BROAD_005_TRAIN = \"dataset/broad-bioimage/BBBC005/train/\"\n",
        "PATH_BROAD_005_TEST = \"dataset/broad-bioimage/BBBC005/test/\"\n",
        "TRAINED_FOLDER_BROAD_005 = \"unet_trained_broad_005\"\n",
        "#########################\n",
        "#True: Volver a entrenar el modelo\n",
        "#False: Reutiliza los modelos ya entrenados con formado ckpt\n",
        "#########################\n",
        "ENTRENAR_BROAD_005_MODEL = False "
      ],
      "execution_count": 0,
      "outputs": []
    },
    {
      "metadata": {
        "id": "mjQXzJeXLuOR",
        "colab_type": "text"
      },
      "cell_type": "markdown",
      "source": [
        "Train"
      ]
    },
    {
      "metadata": {
        "id": "7bH7s0VsLuOY",
        "colab_type": "code",
        "colab": {},
        "outputId": "78513542-4248-4b31-8b6d-ffa2728922d6"
      },
      "cell_type": "code",
      "source": [
        "data_provider_broad_005_train = ImageDataProvider(PATH_BROAD_005_TRAIN + \"*.tif\")"
      ],
      "execution_count": 0,
      "outputs": [
        {
          "output_type": "stream",
          "text": [
            "Number of files used: 28\n"
          ],
          "name": "stdout"
        }
      ]
    },
    {
      "metadata": {
        "id": "_nE_-UJsLuRd",
        "colab_type": "code",
        "colab": {}
      },
      "cell_type": "code",
      "source": [
        "#Ejecuta esta línea para reflejar los cambios en la clase Pruebas\n",
        "pruebas_broad_005 = Pruebas();"
      ],
      "execution_count": 0,
      "outputs": []
    },
    {
      "metadata": {
        "id": "u5xSz2iILuRg",
        "colab_type": "code",
        "colab": {}
      },
      "cell_type": "code",
      "source": [
        "#########################\n",
        "#train(data_provider, folder, train_iter, epoch, train)\n",
        "#Al terminar el entrenamiento se recomienda guardar el contenido de la carpeta unet_trained_broad_005\n",
        "#########################\n",
        "model_broad_005 = pruebas_broad_005.train(data_provider_broad_005_train, \n",
        "                                          TRAINED_FOLDER_BROAD_005, \n",
        "                                          32, #iterations\n",
        "                                          10, #epoch\n",
        "                                          1, #batch size \n",
        "                                          ENTRENAR_BROAD_005_MODEL)"
      ],
      "execution_count": 0,
      "outputs": []
    },
    {
      "metadata": {
        "id": "D4loRDYgLuR-",
        "colab_type": "text"
      },
      "cell_type": "markdown",
      "source": [
        "Test"
      ]
    },
    {
      "metadata": {
        "id": "2gn33QUzLuR_",
        "colab_type": "code",
        "colab": {},
        "outputId": "43cdc4eb-03ab-49a8-8b91-1ed4a16aa1ef"
      },
      "cell_type": "code",
      "source": [
        "data_provider_broad_005_test = ImageDataProvider(PATH_BROAD_005_TEST + \"*.tif\")"
      ],
      "execution_count": 0,
      "outputs": [
        {
          "output_type": "stream",
          "text": [
            "Number of files used: 28\n"
          ],
          "name": "stdout"
        }
      ]
    },
    {
      "metadata": {
        "id": "fXjm5_Z_LuSD",
        "colab_type": "code",
        "colab": {}
      },
      "cell_type": "code",
      "source": [
        "pruebas_broad_005.test(model_broad_005, data_provider_broad_005_test, TRAINED_FOLDER_BROAD_005, False)"
      ],
      "execution_count": 0,
      "outputs": []
    },
    {
      "metadata": {
        "id": "0dsX43dGLuSH",
        "colab_type": "text"
      },
      "cell_type": "markdown",
      "source": [
        "### Broad Bioimage Benchmark Collection (BBBC009)\n",
        "- https://data.broadinstitute.org/bbbc/BBBC009/\n",
        "- Human red blood cells"
      ]
    },
    {
      "metadata": {
        "id": "lICJqfMcLuSI",
        "colab_type": "code",
        "colab": {}
      },
      "cell_type": "code",
      "source": [
        "PATH_BROAD_009_TRAIN = \"dataset/broad-bioimage/BBBC009/train/\"\n",
        "PATH_BROAD_009_TEST = \"dataset/broad-bioimage/BBBC009/test/\"\n",
        "TRAINED_FOLDER_BROAD_009 = \"unet_trained_broad_009\"\n",
        "#########################\n",
        "#True: Volver a entrenar el modelo\n",
        "#False: Reutiliza los modelos ya entrenados con formado ckpt\n",
        "#########################\n",
        "ENTRENAR_BROAD_009_MODEL = False "
      ],
      "execution_count": 0,
      "outputs": []
    },
    {
      "metadata": {
        "id": "nCbhHl_hLuSK",
        "colab_type": "text"
      },
      "cell_type": "markdown",
      "source": [
        "Train"
      ]
    },
    {
      "metadata": {
        "id": "FNvYIssGLuSK",
        "colab_type": "code",
        "colab": {},
        "outputId": "31a634b5-e186-4fea-9f4f-9be8734bf3b5"
      },
      "cell_type": "code",
      "source": [
        "data_provider_broad_009_train = ImageDataProvider(PATH_BROAD_009_TRAIN + \"*.tif\")"
      ],
      "execution_count": 0,
      "outputs": [
        {
          "output_type": "stream",
          "text": [
            "Number of files used: 3\n"
          ],
          "name": "stdout"
        }
      ]
    },
    {
      "metadata": {
        "id": "Fa1VIscZLuST",
        "colab_type": "code",
        "colab": {}
      },
      "cell_type": "code",
      "source": [
        "#Ejecuta esta línea para reflejar los cambios en la clase Pruebas\n",
        "pruebas_broad_009 = Pruebas();"
      ],
      "execution_count": 0,
      "outputs": []
    },
    {
      "metadata": {
        "id": "KGK20EkvLuSW",
        "colab_type": "code",
        "colab": {}
      },
      "cell_type": "code",
      "source": [
        "#########################\n",
        "#train(data_provider, folder, train_iter, epoch, train)\n",
        "#Al terminar el entrenamiento se recomienda guardar el contenido de la carpeta unet_trained_broad_005\n",
        "#########################\n",
        "model_broad_009 = pruebas_broad_009.train(data_provider_broad_009_train, \n",
        "                                          TRAINED_FOLDER_BROAD_009, \n",
        "                                          32, #iterations\n",
        "                                          10, #epoch\n",
        "                                          1, #batch size \n",
        "                                          ENTRENAR_BROAD_009_MODEL)"
      ],
      "execution_count": 0,
      "outputs": []
    },
    {
      "metadata": {
        "id": "MA6G4ckPLuTF",
        "colab_type": "text"
      },
      "cell_type": "markdown",
      "source": [
        "Test"
      ]
    },
    {
      "metadata": {
        "id": "y-bh0OIWLuTF",
        "colab_type": "code",
        "colab": {},
        "outputId": "d1807f00-50e5-43dc-b4f9-b9e7b83f616a"
      },
      "cell_type": "code",
      "source": [
        "data_provider_broad_009_test = ImageDataProvider(PATH_BROAD_009_TEST + \"*.tif\")"
      ],
      "execution_count": 0,
      "outputs": [
        {
          "output_type": "stream",
          "text": [
            "Number of files used: 2\n"
          ],
          "name": "stdout"
        }
      ]
    },
    {
      "metadata": {
        "id": "rCrFjBG9LuTI",
        "colab_type": "code",
        "colab": {}
      },
      "cell_type": "code",
      "source": [
        "pruebas_broad_009.test(model_broad_009, data_provider_broad_009_test, TRAINED_FOLDER_BROAD_009, False)"
      ],
      "execution_count": 0,
      "outputs": []
    },
    {
      "metadata": {
        "id": "qLZZF8oELuTN",
        "colab_type": "text"
      },
      "cell_type": "markdown",
      "source": [
        "###  Electron Microscopy Dataset\n",
        "- Tomas del hipocampo\n",
        "- Fuente: https://cvlab.epfl.ch/data/data-em/\n",
        "- Resolución: 1024 x 768 x 165\n",
        "- Podría ser utilizado como complemento del dataset EM segmentation challenge - ISBI 2012\n",
        "- Se ha corrido con 10 épocas y aún no logra buenos resultados (hay que probarlo en la nube)"
      ]
    },
    {
      "metadata": {
        "id": "o9Aw5IzHLuTO",
        "colab_type": "code",
        "colab": {}
      },
      "cell_type": "code",
      "source": [
        "PATH_ELECTRON_MICROSCOPY_TRAIN = \"dataset/electron-microscopy/train/\"\n",
        "PATH_ELECTRON_MICROSCOPY_TEST = \"dataset/electron-microscopy/test/\"\n",
        "TRAINED_FOLDER_ELECTRON_MICROSCOPY = \"unet_trained_electron_microscopy\"\n",
        "#########################\n",
        "#True: Volver a entrenar el modelo\n",
        "#False: Reutiliza los modelos ya entrenados con formado ckpt\n",
        "#########################\n",
        "ENTRENAR_ELECTRON_MICROSCOPY_MODEL = True "
      ],
      "execution_count": 0,
      "outputs": []
    },
    {
      "metadata": {
        "id": "jvnV1_e7LuTP",
        "colab_type": "text"
      },
      "cell_type": "markdown",
      "source": [
        "Los archivos pesan más de 100mb, por lo que no podremos integrarlos al repositorio. Se procede a descargarlos por única vez."
      ]
    },
    {
      "metadata": {
        "id": "wKMbhvg1LuTP",
        "colab_type": "code",
        "colab": {}
      },
      "cell_type": "code",
      "source": [
        "#Descargar imágenes\n",
        "URL_ELECTRON_MICROSCOPY_TRAIN = \"https://documents.epfl.ch/groups/c/cv/cvlab-unit/www/data/ ElectronMicroscopy_Hippocampus/training.tif\"\n",
        "URL_ELECTRON_MICROSCOPY_TRAIN_MASK = \"https://documents.epfl.ch/groups/c/cv/cvlab-unit/www/data/ ElectronMicroscopy_Hippocampus/training_groundtruth.tif\"\n",
        "URL_ELECTRON_MICROSCOPY_TEST = \"https://documents.epfl.ch/groups/c/cv/cvlab-unit/www/data/ ElectronMicroscopy_Hippocampus/testing.tif\"\n",
        "URL_ELECTRON_MICROSCOPY_TEST_MASK = \"https://documents.epfl.ch/groups/c/cv/cvlab-unit/www/data/ ElectronMicroscopy_Hippocampus/testing_groundtruth.tif\"\n",
        "\n",
        "def crear_carpetas():\n",
        "    try:\n",
        "        os.mkdir(\"dataset/electron-microscopy/\")\n",
        "        os.mkdir(\"dataset/electron-microscopy/train\") \n",
        "        os.mkdir(\"dataset/electron-microscopy/test\") \n",
        "        print(\"Las carpetas han sido creadas\")\n",
        "    except:\n",
        "        print(\"Ya están creadas las carpetas\")\n",
        "        \n",
        "def descargar_imagen(url, path):\n",
        "    if not os.path.exists(path):\n",
        "        print(\"Descargando \" + path)\n",
        "        wget.download(url=url, out=path)"
      ],
      "execution_count": 0,
      "outputs": []
    },
    {
      "metadata": {
        "id": "TbEvCrhMLuTS",
        "colab_type": "code",
        "colab": {},
        "outputId": "43c40a91-b562-4475-d177-05f2c7d0c2b4"
      },
      "cell_type": "code",
      "source": [
        "crear_carpetas()\n",
        "descargar_imagen(URL_ELECTRON_MICROSCOPY_TRAIN, 'dataset/electron-microscopy/train/training.tif')\n",
        "descargar_imagen(URL_ELECTRON_MICROSCOPY_TRAIN_MASK, 'dataset/electron-microscopy/train/training_mask.tif')\n",
        "descargar_imagen(URL_ELECTRON_MICROSCOPY_TEST, 'dataset/electron-microscopy/test/testing.tif')\n",
        "descargar_imagen(URL_ELECTRON_MICROSCOPY_TEST_MASK, 'dataset/electron-microscopy/test/testing_mask.tif')"
      ],
      "execution_count": 0,
      "outputs": [
        {
          "output_type": "stream",
          "text": [
            "Ya están creadas las carpetas\n"
          ],
          "name": "stdout"
        }
      ]
    },
    {
      "metadata": {
        "id": "XbSssKYQLuTX",
        "colab_type": "text"
      },
      "cell_type": "markdown",
      "source": [
        "Train"
      ]
    },
    {
      "metadata": {
        "id": "BhrtuwODLuTb",
        "colab_type": "code",
        "colab": {},
        "outputId": "4fa57286-9b5e-4085-cdc4-977e8156e6fb"
      },
      "cell_type": "code",
      "source": [
        "data_provider_electron_microscopy_train = ImageDataProvider(PATH_ELECTRON_MICROSCOPY_TRAIN + \"*.tif\")"
      ],
      "execution_count": 0,
      "outputs": [
        {
          "output_type": "stream",
          "text": [
            "Number of files used: 1\n"
          ],
          "name": "stdout"
        }
      ]
    },
    {
      "metadata": {
        "id": "q8gLygPsLuTg",
        "colab_type": "code",
        "colab": {}
      },
      "cell_type": "code",
      "source": [
        "#Ejecuta esta línea para reflejar los cambios en la clase Pruebas\n",
        "pruebas_electron_microscopy = Pruebas();"
      ],
      "execution_count": 0,
      "outputs": []
    },
    {
      "metadata": {
        "id": "zV35mv5kLuTk",
        "colab_type": "code",
        "colab": {}
      },
      "cell_type": "code",
      "source": [
        "#########################\n",
        "#train(data_provider, folder, train_iter, epoch, train)\n",
        "#Al terminar el entrenamiento se recomienda guardar el contenido de la carpeta unet_trained_broad_005\n",
        "#Ej. 40 iteraciones x 4 batch size = 160 ejemplos. Tenemos 165 frames en la imagen\n",
        "#Recomendaciones de batch: https://www.quora.com/What-are-the-usual-batch-sizes-people-use-to-train-neural-nets                     \n",
        "#########################\n",
        "model_electron_microscopy = pruebas_electron_microscopy.train(data_provider_electron_microscopy_train, \n",
        "                                          TRAINED_FOLDER_ELECTRON_MICROSCOPY, \n",
        "                                          160, #iterations\n",
        "                                          5, #epoch\n",
        "                                          1, #batch size \n",
        "                                          ENTRENAR_ELECTRON_MICROSCOPY_MODEL)"
      ],
      "execution_count": 0,
      "outputs": []
    },
    {
      "metadata": {
        "id": "JQ0wjP18LuTp",
        "colab_type": "text"
      },
      "cell_type": "markdown",
      "source": [
        "Test"
      ]
    },
    {
      "metadata": {
        "id": "NoNAh32oLuTq",
        "colab_type": "code",
        "colab": {},
        "outputId": "4abefb7a-a9b1-4606-ae80-7fefb886a6a5"
      },
      "cell_type": "code",
      "source": [
        "data_provider_electron_microscopy_test = ImageDataProvider(PATH_ELECTRON_MICROSCOPY_TEST + \"*.tif\")"
      ],
      "execution_count": 0,
      "outputs": [
        {
          "output_type": "stream",
          "text": [
            "Number of files used: 1\n"
          ],
          "name": "stdout"
        }
      ]
    },
    {
      "metadata": {
        "id": "a3aiGR4yLuTw",
        "colab_type": "code",
        "colab": {}
      },
      "cell_type": "code",
      "source": [
        "pruebas_electron_microscopy.test(model_electron_microscopy, \n",
        "                                 data_provider_electron_microscopy_test, \n",
        "                                 TRAINED_FOLDER_BROAD_005, \n",
        "                                 False)"
      ],
      "execution_count": 0,
      "outputs": []
    }
  ]
}