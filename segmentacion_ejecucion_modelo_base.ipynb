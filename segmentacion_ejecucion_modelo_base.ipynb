{
 "cells": [
  {
   "cell_type": "markdown",
   "metadata": {},
   "source": [
    "# U-Net: Redes neuronales convolucionales para segmentación de imágenes biomédicas\n",
    "\n",
    "Pontificia Universidad Católica del Perú\n",
    "\n",
    "Escuela de Posgrado PUCP, Maestría en Informática, Ciencias de la Computacion\n",
    "\n",
    "Curso: \n",
    "- Técnicas avanzadas de data mining y sistemas inteligentes\n",
    "\n",
    "Alumnos:\n",
    "- 20173589 Alarcon Flores, Jorge Brian\n",
    "- 20173685 Chicchón Apaza, Miguel Angel\n",
    "- 20173789 Alvarez Mouravskaia, Kevin\n",
    "- 20173810 Pacheco Condori, Jesús Edwar\n",
    "\n",
    "---"
   ]
  },
  {
   "cell_type": "markdown",
   "metadata": {},
   "source": [
    "## Línea base\n",
    "\n",
    "- [1] O. Ronneberger, P. Fischer, and T. Brox, “U-Net: Convolutional Networks for Biomedical Image Segmentation,” CoRR, vol. abs/1505.0, 2015.\n",
    "- [2] J. Akeret, C. Chang, A. Lucchi, and A. Refregier, “Radio frequency interference mitigation using deep convolutional neural networks,” Astron. Comput., vol. 18, pp. 35–39, 2017."
   ]
  },
  {
   "cell_type": "markdown",
   "metadata": {},
   "source": [
    "## Importación de librerías"
   ]
  },
  {
   "cell_type": "code",
   "execution_count": 2,
   "metadata": {
    "ExecuteTime": {
     "end_time": "2018-10-06T14:14:00.247715Z",
     "start_time": "2018-10-06T14:13:54.620154Z"
    }
   },
   "outputs": [
    {
     "name": "stderr",
     "output_type": "stream",
     "text": [
      "C:\\Users\\Kevin\\Anaconda3\\lib\\site-packages\\h5py\\__init__.py:36: FutureWarning: Conversion of the second argument of issubdtype from `float` to `np.floating` is deprecated. In future, it will be treated as `np.float64 == np.dtype(float).type`.\n",
      "  from ._conv import register_converters as _register_converters\n"
     ]
    }
   ],
   "source": [
    "%matplotlib inline\n",
    "import matplotlib.pyplot as plt\n",
    "import matplotlib\n",
    "import numpy as np\n",
    "import glob\n",
    "import tensorflow as tf\n",
    "import logging\n",
    "from collections import OrderedDict\n",
    "import os\n",
    "import shutil\n",
    "from PIL import Image\n",
    "import h5py\n",
    "from PIL import Image\n",
    "import wget #pip install wget"
   ]
  },
  {
   "cell_type": "markdown",
   "metadata": {},
   "source": [
    "##### Configuración de logs"
   ]
  },
  {
   "cell_type": "code",
   "execution_count": 3,
   "metadata": {
    "ExecuteTime": {
     "end_time": "2018-10-06T14:14:00.252849Z",
     "start_time": "2018-10-06T14:14:00.247715Z"
    }
   },
   "outputs": [],
   "source": [
    "logging.basicConfig(level=logging.INFO, format='%(asctime)s %(message)s')"
   ]
  },
  {
   "cell_type": "markdown",
   "metadata": {},
   "source": [
    "# Arquitectura de Red Neuronal UNET\n",
    "\n",
    "![title](https://lmb.informatik.uni-freiburg.de/people/ronneber/u-net/u-net-architecture.png)\n",
    "\n",
    "La arquitectura consiste de una primera parte \"contraccion\" (Lado izquierdo) y una \"expansion\" (Lado derecho). \n",
    "- La parte de contraccion sigue la arquitectura tipica de una red convolucional. Esta consiste de repetir la \n",
    "aplicacion de dos convoluciones 3x3 (unpadded convolucions), cada una seguida por una unidad de rectificacion \n",
    "lineal (ReLU) y una operacion de max pooling con stride 2x2 para el downsampling. En cada paso de downsampling \n",
    "doblamos el numero de canales de caracteristicas. \n",
    "- Cada paso del lado de expansion consiste en un upsampling \n",
    "del mapa de caracteristicas seguido por una convolucional 2x2 \"up-convolutional\" que divide en partes iguales \n",
    "el numero de canalaes caracteristicas, luego una concatenacion con el correspondiente mapa de caracteristicas\n",
    "sesgado obtenido en la contraccion y dos convoluciones 3x3 cada uno seguido por una por un ReLU.\n",
    "El sesgo (cropping) es necesario debido a la perdida de los pixeles del borde en cada convolucion. \n",
    "En la capa final se utiliza una convolucion de 1x1 para mapear cada 64 vector caracteristica al numero deseado \n",
    "de clases. \n",
    "- En total la red neuronal tiene 23 capas convolucionales. Para permitir ua salida del mapa segmentado sin fisuras, es importante seleccionar el ingreso de imagenes tales que las operaciones son aplicadas a la capa con un tamanio para \"x\" y \"y\".\n",
    "\n",
    "---"
   ]
  },
  {
   "cell_type": "markdown",
   "metadata": {},
   "source": [
    "## Implementación de tf_unet\n",
    "- Obtenido de (Akered, 2017)\n",
    "- Código: https://github.com/jakeret/tf_unet"
   ]
  },
  {
   "cell_type": "markdown",
   "metadata": {},
   "source": [
    "### util.py\n",
    "Obtenido de (Akered, 2017)"
   ]
  },
  {
   "cell_type": "code",
   "execution_count": 4,
   "metadata": {
    "ExecuteTime": {
     "end_time": "2018-10-06T14:14:00.267834Z",
     "start_time": "2018-10-06T14:14:00.253865Z"
    }
   },
   "outputs": [],
   "source": [
    "def plot_prediction(x_test, y_test, prediction, save=False): \n",
    "    test_size = x_test.shape[0]\n",
    "    fig, ax = plt.subplots(test_size, 3, figsize=(12,12), sharey=True, sharex=True)\n",
    "    \n",
    "    x_test = crop_to_shape(x_test, prediction.shape)\n",
    "    y_test = crop_to_shape(y_test, prediction.shape)\n",
    "    \n",
    "    ax = np.atleast_2d(ax)\n",
    "    for i in range(test_size):\n",
    "        cax = ax[i, 0].imshow(x_test[i])\n",
    "        plt.colorbar(cax, ax=ax[i,0])\n",
    "        cax = ax[i, 1].imshow(y_test[i, ..., 1])\n",
    "        plt.colorbar(cax, ax=ax[i,1])\n",
    "        pred = prediction[i, ..., 1]\n",
    "        pred -= np.amin(pred)\n",
    "        pred /= np.amax(pred)\n",
    "        cax = ax[i, 2].imshow(pred)\n",
    "        plt.colorbar(cax, ax=ax[i,2])\n",
    "        if i==0:\n",
    "            ax[i, 0].set_title(\"x\")\n",
    "            ax[i, 1].set_title(\"y\")\n",
    "            ax[i, 2].set_title(\"pred\")\n",
    "    fig.tight_layout()\n",
    "    \n",
    "    if save:\n",
    "        fig.savefig(save)\n",
    "    else:\n",
    "        fig.show()\n",
    "        plt.show()\n",
    "\n",
    "        \n",
    "def to_rgb(img): \n",
    "    #Función que nos permite convertir una matriz en una imagen RGB\n",
    "    #param img: la matriz que se va a convertir en la imagen RGB\n",
    "    \n",
    "    img = np.atleast_3d(img)\n",
    "    channels = img.shape[2]\n",
    "    if channels < 3:    #La matriz debe tener 3 canales.\n",
    "        img = np.tile(img, 3) #En caso de no tener 3 canales, se realiza una transformación mediante la función np.tile\n",
    "    \n",
    "    img[np.isnan(img)] = 0\n",
    "    img -= np.amin(img)\n",
    "    img /= np.amax(img)\n",
    "    img *= 255          #Finalmente, los valores son reescalados al rango de [0,255) \n",
    "    return img  ##Retorna la imagen RGB\n",
    "\n",
    "\n",
    "def crop_to_shape(data, shape): \n",
    "    #Recorta la matriz a la forma de imagen dada quitando el borde\n",
    "    #:param data: la matriz a recortar\n",
    "    #:param shape: la forma objetivo del recorte\n",
    "    \n",
    "    offset0 = (data.shape[1] - shape[1])//2\n",
    "    offset1 = (data.shape[2] - shape[2])//2\n",
    "    return data[:, offset0:(-offset0), offset1:(-offset1)]\n",
    "\n",
    "\n",
    "def combine_img_prediction(data, gt, pred): \n",
    "    #Combina los datos, mejorando la precisión de la predicción en la imagen RGB\n",
    "    #:param data: parámetro referente a la data a analizar\n",
    "    #:param gt: parámetro \"grouth thruth\"; en deep learning, el término \"grouth thruth\" se refiere a la acción de\n",
    "                #predicción de la clasificación del conjunto de entrenamiento\n",
    "    #:param pred: parámetro predicción\n",
    "   \n",
    "    ny = pred.shape[2]\n",
    "    ch = data.shape[3]\n",
    "    img = np.concatenate((to_rgb(crop_to_shape(data, pred.shape).reshape(-1, ny, ch)), \n",
    "                          to_rgb(crop_to_shape(gt[..., 1], pred.shape).reshape(-1, ny, 1)), \n",
    "                          to_rgb(pred[..., 1].reshape(-1, ny, 1))), axis=1)\n",
    "    return img #Retorna la imagen concatenada de RGB\n",
    "\n",
    "\n",
    "def save_image(img, path): \n",
    "    #función que guarda la imagen\n",
    "    #:param img: la imagen RGB a guardar\n",
    "    #:param path: la ruta objetivo donde se guardará la imagen RGB\n",
    "    \n",
    "    Image.fromarray(img.round().astype(np.uint8)).save(path, 'JPEG', dpi=[300,300], quality=90)"
   ]
  },
  {
   "cell_type": "markdown",
   "metadata": {},
   "source": [
    "### layers.py\n",
    "Obtenido de (Akered, 2017)"
   ]
  },
  {
   "cell_type": "code",
   "execution_count": 5,
   "metadata": {
    "ExecuteTime": {
     "end_time": "2018-10-06T14:14:00.280820Z",
     "start_time": "2018-10-06T14:14:00.269831Z"
    }
   },
   "outputs": [],
   "source": [
    "def weight_variable(shape, stddev=0.1, name=\"weight\"):\n",
    "    initial = tf.truncated_normal(shape, stddev=stddev)\n",
    "    return tf.Variable(initial, name=name)\n",
    "\n",
    "def weight_variable_devonc(shape, stddev=0.1, name=\"weight_devonc\"):\n",
    "    return tf.Variable(tf.truncated_normal(shape, stddev=stddev), name=name)\n",
    "\n",
    "def bias_variable(shape, name=\"bias\"):\n",
    "    initial = tf.constant(0.1, shape=shape)\n",
    "    return tf.Variable(initial, name=name)\n",
    "\n",
    "def conv2d(x, W, b, keep_prob_):\n",
    "    with tf.name_scope(\"conv2d\"):\n",
    "        conv_2d = tf.nn.conv2d(x, W, strides=[1, 1, 1, 1], padding='VALID')\n",
    "        conv_2d_b = tf.nn.bias_add(conv_2d, b)\n",
    "        return tf.nn.dropout(conv_2d_b, keep_prob_)\n",
    "\n",
    "def deconv2d(x, W,stride):\n",
    "    with tf.name_scope(\"deconv2d\"):\n",
    "        x_shape = tf.shape(x)\n",
    "        output_shape = tf.stack([x_shape[0], x_shape[1]*2, x_shape[2]*2, x_shape[3]//2])\n",
    "        return tf.nn.conv2d_transpose(x, W, output_shape, strides=[1, stride, stride, 1], padding='VALID', name=\"conv2d_transpose\")\n",
    "\n",
    "def max_pool(x,n):\n",
    "    return tf.nn.max_pool(x, ksize=[1, n, n, 1], strides=[1, n, n, 1], padding='VALID')\n",
    "\n",
    "def crop_and_concat(x1,x2):\n",
    "    with tf.name_scope(\"crop_and_concat\"):\n",
    "        x1_shape = tf.shape(x1)\n",
    "        x2_shape = tf.shape(x2)\n",
    "        # offsets for the top left corner of the crop\n",
    "        offsets = [0, (x1_shape[1] - x2_shape[1]) // 2, (x1_shape[2] - x2_shape[2]) // 2, 0]\n",
    "        size = [-1, x2_shape[1], x2_shape[2], -1]\n",
    "        x1_crop = tf.slice(x1, offsets, size)\n",
    "        return tf.concat([x1_crop, x2], 3)\n",
    "\n",
    "def pixel_wise_softmax(output_map):\n",
    "    with tf.name_scope(\"pixel_wise_softmax\"):\n",
    "        max_axis = tf.reduce_max(output_map, axis=3, keepdims=True)\n",
    "        exponential_map = tf.exp(output_map - max_axis)\n",
    "        normalize = tf.reduce_sum(exponential_map, axis=3, keepdims=True)\n",
    "        return exponential_map / normalize\n",
    "\n",
    "def cross_entropy(y_,output_map):\n",
    "    return -tf.reduce_mean(y_*tf.log(tf.clip_by_value(output_map,1e-10,1.0)), name=\"cross_entropy\")"
   ]
  },
  {
   "cell_type": "markdown",
   "metadata": {},
   "source": [
    "### Unet\n",
    "Obtenido de (Akered, 2017)"
   ]
  },
  {
   "cell_type": "code",
   "execution_count": 6,
   "metadata": {
    "ExecuteTime": {
     "end_time": "2018-10-06T14:14:00.297812Z",
     "start_time": "2018-10-06T14:14:00.282817Z"
    }
   },
   "outputs": [],
   "source": [
    "def create_conv_net(x, keep_prob, channels, n_class, layers=3, features_root=16, filter_size=3, pool_size=2,\n",
    "                    summaries=True):\n",
    "                    #Función que nos permite crear una nueva red unet convolucional para la parametrización dada.\n",
    "    \n",
    "                    #:param x: tensor input [?,nx,ny,channels]\n",
    "                    #:param keep_prob: probabilidad marginal del tensor\n",
    "                    #:param channels: número de canales en la imagen input\n",
    "                    #:param n_class: número de etiquetas output\n",
    "                    #:param layers: número de capas en la red\n",
    "                    #:param features_root: número de capas en la primera red\n",
    "                    #:param filter_size: tamaño del filtro de convolución\n",
    "                    #:param pool_size: tamaño de la operación del max pooling\n",
    "  \n",
    "\n",
    "    logging.info(\n",
    "        \"Layers {layers}, features {features}, filter size {filter_size}x{filter_size}, pool size: {pool_size}x{pool_size}\".format(\n",
    "            layers=layers,\n",
    "            features=features_root,\n",
    "            filter_size=filter_size,\n",
    "            pool_size=pool_size))\n",
    "\n",
    "    # Marcador de posición para la imagen input\n",
    "    with tf.name_scope(\"preprocessing\"):\n",
    "        nx = tf.shape(x)[1]\n",
    "        ny = tf.shape(x)[2]\n",
    "        x_image = tf.reshape(x, tf.stack([-1, nx, ny, channels]))\n",
    "        in_node = x_image\n",
    "        batch_size = tf.shape(x_image)[0]\n",
    "\n",
    "    weights = []\n",
    "    biases = []\n",
    "    convs = []\n",
    "    pools = OrderedDict()\n",
    "    deconv = OrderedDict()\n",
    "    dw_h_convs = OrderedDict()\n",
    "    up_h_convs = OrderedDict()\n",
    "\n",
    "    in_size = 1000\n",
    "    size = in_size\n",
    "\n",
    "    for layer in range(0, layers):\n",
    "        with tf.name_scope(\"down_conv_{}\".format(str(layer))):\n",
    "            features = 2 ** layer * features_root\n",
    "            stddev = np.sqrt(2 / (filter_size ** 2 * features))\n",
    "            if layer == 0:\n",
    "                w1 = weight_variable([filter_size, filter_size, channels, features], stddev, name=\"w1\")\n",
    "            else:\n",
    "                w1 = weight_variable([filter_size, filter_size, features // 2, features], stddev, name=\"w1\")\n",
    "\n",
    "            w2 = weight_variable([filter_size, filter_size, features, features], stddev, name=\"w2\")\n",
    "            b1 = bias_variable([features], name=\"b1\")\n",
    "            b2 = bias_variable([features], name=\"b2\")\n",
    "\n",
    "            conv1 = conv2d(in_node, w1, b1, keep_prob)\n",
    "            tmp_h_conv = tf.nn.relu(conv1)\n",
    "            conv2 = conv2d(tmp_h_conv, w2, b2, keep_prob)\n",
    "            dw_h_convs[layer] = tf.nn.relu(conv2)\n",
    "\n",
    "            weights.append((w1, w2))\n",
    "            biases.append((b1, b2))\n",
    "            convs.append((conv1, conv2))\n",
    "\n",
    "            size -= 4\n",
    "            if layer < layers - 1:\n",
    "                pools[layer] = max_pool(dw_h_convs[layer], pool_size)\n",
    "                in_node = pools[layer]\n",
    "                size /= 2\n",
    "\n",
    "    in_node = dw_h_convs[layers - 1]\n",
    "\n",
    "   \n",
    "    for layer in range(layers - 2, -1, -1):\n",
    "        with tf.name_scope(\"up_conv_{}\".format(str(layer))):\n",
    "            features = 2 ** (layer + 1) * features_root\n",
    "            stddev = np.sqrt(2 / (filter_size ** 2 * features))\n",
    "\n",
    "            wd = weight_variable_devonc([pool_size, pool_size, features // 2, features], stddev, name=\"wd\")\n",
    "            bd = bias_variable([features // 2], name=\"bd\")\n",
    "            h_deconv = tf.nn.relu(deconv2d(in_node, wd, pool_size) + bd)\n",
    "            h_deconv_concat = crop_and_concat(dw_h_convs[layer], h_deconv)\n",
    "            deconv[layer] = h_deconv_concat\n",
    "\n",
    "            w1 = weight_variable([filter_size, filter_size, features, features // 2], stddev, name=\"w1\")\n",
    "            w2 = weight_variable([filter_size, filter_size, features // 2, features // 2], stddev, name=\"w2\")\n",
    "            b1 = bias_variable([features // 2], name=\"b1\")\n",
    "            b2 = bias_variable([features // 2], name=\"b2\")\n",
    "\n",
    "            conv1 = conv2d(h_deconv_concat, w1, b1, keep_prob)\n",
    "            h_conv = tf.nn.relu(conv1)\n",
    "            conv2 = conv2d(h_conv, w2, b2, keep_prob)\n",
    "            in_node = tf.nn.relu(conv2)\n",
    "            up_h_convs[layer] = in_node\n",
    "\n",
    "            weights.append((w1, w2))\n",
    "            biases.append((b1, b2))\n",
    "            convs.append((conv1, conv2))\n",
    "\n",
    "            size *= 2\n",
    "            size -= 4\n",
    "\n",
    "    # Mapa Output\n",
    "    with tf.name_scope(\"output_map\"):\n",
    "        weight = weight_variable([1, 1, features_root, n_class], stddev)\n",
    "        bias = bias_variable([n_class], name=\"bias\")\n",
    "        conv = conv2d(in_node, weight, bias, tf.constant(1.0))\n",
    "        output_map = tf.nn.relu(conv)\n",
    "        up_h_convs[\"out\"] = output_map\n",
    "\n",
    "    if summaries:\n",
    "        with tf.name_scope(\"summaries\"):\n",
    "            for i, (c1, c2) in enumerate(convs):\n",
    "                tf.summary.image('summary_conv_%02d_01' % i, get_image_summary(c1))\n",
    "                tf.summary.image('summary_conv_%02d_02' % i, get_image_summary(c2))\n",
    "\n",
    "            for k in pools.keys():\n",
    "                tf.summary.image('summary_pool_%02d' % k, get_image_summary(pools[k]))\n",
    "\n",
    "            for k in deconv.keys():\n",
    "                tf.summary.image('summary_deconv_concat_%02d' % k, get_image_summary(deconv[k]))\n",
    "\n",
    "            for k in dw_h_convs.keys():\n",
    "                tf.summary.histogram(\"dw_convolution_%02d\" % k + '/activations', dw_h_convs[k])\n",
    "\n",
    "            for k in up_h_convs.keys():\n",
    "                tf.summary.histogram(\"up_convolution_%s\" % k + '/activations', up_h_convs[k])\n",
    "\n",
    "    variables = []\n",
    "    for w1, w2 in weights:\n",
    "        variables.append(w1)\n",
    "        variables.append(w2)\n",
    "\n",
    "    for b1, b2 in biases:\n",
    "        variables.append(b1)\n",
    "        variables.append(b2)\n",
    "\n",
    "    return output_map, variables, int(in_size - size)"
   ]
  },
  {
   "cell_type": "code",
   "execution_count": 7,
   "metadata": {
    "ExecuteTime": {
     "end_time": "2018-10-06T14:14:00.314801Z",
     "start_time": "2018-10-06T14:14:00.298803Z"
    }
   },
   "outputs": [],
   "source": [
    "#Implementación de unet\n",
    "#######################\n",
    "\n",
    "class Unet(object): \n",
    " \n",
    "    \n",
    "    def __init__(self, channels=3, n_class=2, cost=\"cross_entropy\", cost_kwargs={}, **kwargs): \n",
    "        #Inicializamos y definimos parámetros\n",
    "        tf.reset_default_graph()  \n",
    "\n",
    "        self.n_class = n_class\n",
    "        self.summaries = kwargs.get(\"summaries\", True)\n",
    "\n",
    "        self.x = tf.placeholder(\"float\", shape=[None, None, None, channels], name=\"x\")\n",
    "        self.y = tf.placeholder(\"float\", shape=[None, None, None, n_class], name=\"y\")\n",
    "        self.keep_prob = tf.placeholder(tf.float32, name=\"dropout_probability\")  # Probabilidad marginal\n",
    "\n",
    "        logits, self.variables, self.offset = create_conv_net(self.x, self.keep_prob, channels, n_class, **kwargs)\n",
    "\n",
    "        self.cost = self._get_cost(logits, cost, cost_kwargs)\n",
    "\n",
    "        self.gradients_node = tf.gradients(self.cost, self.variables)\n",
    "\n",
    "        with tf.name_scope(\"cross_entropy\"):\n",
    "            self.cross_entropy = cross_entropy(tf.reshape(self.y, [-1, n_class]),\n",
    "                                               tf.reshape(pixel_wise_softmax(logits), [-1, n_class]))\n",
    "\n",
    "        with tf.name_scope(\"results\"):\n",
    "            self.predicter = pixel_wise_softmax(logits)\n",
    "            self.correct_pred = tf.equal(tf.argmax(self.predicter, 3), tf.argmax(self.y, 3))\n",
    "            self.accuracy = tf.reduce_mean(tf.cast(self.correct_pred, tf.float32))\n",
    "\n",
    "            \n",
    "            \n",
    "    def _get_cost(self, logits, cost_name, cost_kwargs): \n",
    "        #Construimos la función de costo\n",
    "\n",
    "        with tf.name_scope(\"cost\"):\n",
    "            flat_logits = tf.reshape(logits, [-1, self.n_class])\n",
    "            flat_labels = tf.reshape(self.y, [-1, self.n_class])\n",
    "            if cost_name == \"cross_entropy\":\n",
    "                class_weights = cost_kwargs.pop(\"class_weights\", None)\n",
    "\n",
    "                if class_weights is not None:\n",
    "                    class_weights = tf.constant(np.array(class_weights, dtype=np.float32))\n",
    "\n",
    "                    weight_map = tf.multiply(flat_labels, class_weights)\n",
    "                    weight_map = tf.reduce_sum(weight_map, axis=1)\n",
    "\n",
    "                    loss_map = tf.nn.softmax_cross_entropy_with_logits_v2(logits=flat_logits,\n",
    "                                                                          labels=flat_labels)\n",
    "                    weighted_loss = tf.multiply(loss_map, weight_map)\n",
    "\n",
    "                    loss = tf.reduce_mean(weighted_loss)\n",
    "\n",
    "                else:\n",
    "                    loss = tf.reduce_mean(tf.nn.softmax_cross_entropy_with_logits_v2(logits=flat_logits,\n",
    "                                                                                     labels=flat_labels))\n",
    "            elif cost_name == \"dice_coefficient\":\n",
    "                eps = 1e-5\n",
    "                prediction = pixel_wise_softmax(logits)\n",
    "                intersection = tf.reduce_sum(prediction * self.y)\n",
    "                union = eps + tf.reduce_sum(prediction) + tf.reduce_sum(self.y)\n",
    "                loss = -(2 * intersection / (union))\n",
    "\n",
    "            else:\n",
    "                raise ValueError(\"Unknown cost function: \" % cost_name)\n",
    "\n",
    "            regularizer = cost_kwargs.pop(\"regularizer\", None) #Proceso de regularización\n",
    "            if regularizer is not None:\n",
    "                regularizers = sum([tf.nn.l2_loss(variable) for variable in self.variables])\n",
    "                loss += (regularizer * regularizers)\n",
    "\n",
    "            return loss\n",
    "\n",
    "    \n",
    "    def predict(self, model_path, x_test):  \n",
    "        #Utilizamos el modelo para crear una predicción para los datos dados\n",
    "       \n",
    "        init = tf.global_variables_initializer()\n",
    "        with tf.Session() as sess:\n",
    "            # Inicializamos las variables\n",
    "            sess.run(init)\n",
    "\n",
    "            # Restaura los pesos del modelo guardado previamente\n",
    "            self.restore(sess, model_path)\n",
    "\n",
    "            y_dummy = np.empty((x_test.shape[0], x_test.shape[1], x_test.shape[2], self.n_class))\n",
    "            prediction = sess.run(self.predicter, feed_dict={self.x: x_test, self.y: y_dummy, self.keep_prob: 1.})\n",
    "\n",
    "        return prediction \n",
    "    \n",
    "    \n",
    "    def save(self, sess, model_path): \n",
    "        #Guarda la sesión actual en un checkpoint\n",
    "        saver = tf.train.Saver()\n",
    "        save_path = saver.save(sess, model_path)\n",
    "        return save_path\n",
    "\n",
    "    def restore(self, sess, model_path): \n",
    "        #Restaura la sesión de un checkpoint\n",
    "        saver = tf.train.Saver()\n",
    "        saver.restore(sess, model_path)\n",
    "        logging.info(\"Model restored from file: %s\" % model_path)"
   ]
  },
  {
   "cell_type": "code",
   "execution_count": 8,
   "metadata": {
    "ExecuteTime": {
     "end_time": "2018-10-06T14:14:00.324784Z",
     "start_time": "2018-10-06T14:14:00.315783Z"
    }
   },
   "outputs": [],
   "source": [
    "def _update_avg_gradients(avg_gradients, gradients, step):\n",
    "    if avg_gradients is None:\n",
    "        avg_gradients = [np.zeros_like(gradient) for gradient in gradients]\n",
    "    for i in range(len(gradients)):\n",
    "        avg_gradients[i] = (avg_gradients[i] * (1.0 - (1.0 / (step + 1)))) + (gradients[i] / (step + 1))\n",
    "\n",
    "    return avg_gradients\n",
    "\n",
    "\n",
    "def error_rate(predictions, labels): \n",
    "    #Devuelve la tasa de error en base a las predicciones densas \n",
    "    return 100.0 - ( 100.0 * np.sum(np.argmax(predictions, 3) == np.argmax(labels, 3)) / \n",
    "                    (predictions.shape[0] * predictions.shape[1] * predictions.shape[2]))\n",
    "\n",
    "\n",
    "def get_image_summary(img, idx=0): \n",
    "    #Genera un resumen de la imagen para la imagen del tensor 4d con el índice idx\n",
    "\n",
    "    V = tf.slice(img, (0, 0, 0, idx), (1, -1, -1, 1))\n",
    "    V -= tf.reduce_min(V)\n",
    "    V /= tf.reduce_max(V)\n",
    "    V *= 255\n",
    "\n",
    "    img_w = tf.shape(img)[1]\n",
    "    img_h = tf.shape(img)[2]\n",
    "    V = tf.reshape(V, tf.stack((img_w, img_h, 1)))\n",
    "    V = tf.transpose(V, (2, 0, 1))\n",
    "    V = tf.reshape(V, tf.stack((-1, img_w, img_h, 1)))\n",
    "    return V"
   ]
  },
  {
   "cell_type": "code",
   "execution_count": 9,
   "metadata": {
    "ExecuteTime": {
     "end_time": "2018-10-06T14:14:00.348760Z",
     "start_time": "2018-10-06T14:14:00.325774Z"
    }
   },
   "outputs": [],
   "source": [
    "class Trainer(object): \n",
    "    #Entrena una instancia de unet\n",
    "\n",
    "    def __init__(self, net, batch_size=1, verification_batch_size = 4, norm_grads=False, optimizer=\"momentum\", opt_kwargs={}):\n",
    "        self.net = net\n",
    "        self.batch_size = batch_size\n",
    "        self.verification_batch_size = verification_batch_size\n",
    "        self.norm_grads = norm_grads\n",
    "        self.optimizer = optimizer\n",
    "        self.opt_kwargs = opt_kwargs\n",
    "\n",
    "    def _get_optimizer(self, training_iters, global_step):\n",
    "        if self.optimizer == \"momentum\":\n",
    "            learning_rate = self.opt_kwargs.pop(\"learning_rate\", 0.2)\n",
    "            decay_rate = self.opt_kwargs.pop(\"decay_rate\", 0.95)\n",
    "            momentum = self.opt_kwargs.pop(\"momentum\", 0.2)\n",
    "\n",
    "            self.learning_rate_node = tf.train.exponential_decay(learning_rate=learning_rate,\n",
    "                                                                 global_step=global_step,\n",
    "                                                                 decay_steps=training_iters,\n",
    "                                                                 decay_rate=decay_rate,\n",
    "                                                                 staircase=True)\n",
    "            \n",
    "            optimizer = tf.train.MomentumOptimizer(learning_rate=self.learning_rate_node, momentum=momentum,\n",
    "                                                   **self.opt_kwargs).minimize(self.net.cost,\n",
    "                                                                               global_step=global_step)\n",
    "        elif self.optimizer == \"adam\":\n",
    "            learning_rate = self.opt_kwargs.pop(\"learning_rate\", 0.001)\n",
    "            self.learning_rate_node = tf.Variable(learning_rate, name=\"learning_rate\")\n",
    "\n",
    "            optimizer = tf.train.AdamOptimizer(learning_rate=self.learning_rate_node,\n",
    "                                               **self.opt_kwargs).minimize(self.net.cost,\n",
    "                                                                           global_step=global_step)\n",
    "\n",
    "        return optimizer\n",
    "\n",
    "    def _initialize(self, training_iters, output_path, restore, prediction_path):\n",
    "        global_step = tf.Variable(0, name=\"global_step\")\n",
    "\n",
    "        self.norm_gradients_node = tf.Variable(tf.constant(0.0, shape=[len(self.net.gradients_node)]), name=\"norm_gradients\")\n",
    "\n",
    "        if self.net.summaries and self.norm_grads:\n",
    "            tf.summary.histogram('norm_grads', self.norm_gradients_node)\n",
    "\n",
    "        tf.summary.scalar('loss', self.net.cost)\n",
    "        tf.summary.scalar('cross_entropy', self.net.cross_entropy)\n",
    "        tf.summary.scalar('accuracy', self.net.accuracy)\n",
    "\n",
    "        self.optimizer = self._get_optimizer(training_iters, global_step)\n",
    "        tf.summary.scalar('learning_rate', self.learning_rate_node)\n",
    "\n",
    "        self.summary_op = tf.summary.merge_all()\n",
    "        init = tf.global_variables_initializer()\n",
    "\n",
    "        self.prediction_path = prediction_path\n",
    "        abs_prediction_path = os.path.abspath(self.prediction_path)\n",
    "        output_path = os.path.abspath(output_path)\n",
    "\n",
    "        if not restore:\n",
    "            logging.info(\"Removing '{:}'\".format(abs_prediction_path))\n",
    "            shutil.rmtree(abs_prediction_path, ignore_errors=True)\n",
    "            logging.info(\"Removing '{:}'\".format(output_path))\n",
    "            shutil.rmtree(output_path, ignore_errors=True)\n",
    "\n",
    "        if not os.path.exists(abs_prediction_path):\n",
    "            logging.info(\"Allocating '{:}'\".format(abs_prediction_path))\n",
    "            os.makedirs(abs_prediction_path)\n",
    "\n",
    "        if not os.path.exists(output_path):\n",
    "            logging.info(\"Allocating '{:}'\".format(output_path))\n",
    "            os.makedirs(output_path)\n",
    "\n",
    "        return init\n",
    "\n",
    "    def train(self, data_provider, output_path, training_iters=10, epochs=100, dropout=0.75, display_step=1,\n",
    "              restore=False, write_graph=False, prediction_path='prediction'):\n",
    "         # Se realiza el proceso de entrenamiento del modelo\n",
    "        \n",
    "        save_path = os.path.join(output_path, \"model.ckpt\")\n",
    "        if epochs == 0:\n",
    "            return save_path\n",
    "\n",
    "        init = self._initialize(training_iters, output_path, restore, prediction_path)\n",
    "\n",
    "        with tf.Session() as sess:\n",
    "            if write_graph:\n",
    "                tf.train.write_graph(sess.graph_def, output_path, \"graph.pb\", False)\n",
    "\n",
    "            sess.run(init)\n",
    "\n",
    "            if restore:\n",
    "                ckpt = tf.train.get_checkpoint_state(output_path)\n",
    "                if ckpt and ckpt.model_checkpoint_path:\n",
    "                    self.net.restore(sess, ckpt.model_checkpoint_path)\n",
    "\n",
    "            test_x, test_y = data_provider(self.verification_batch_size)\n",
    "            pred_shape,_,_,_ = self.store_prediction(sess, test_x, test_y, \"_init\")\n",
    "\n",
    "            summary_writer = tf.summary.FileWriter(output_path, graph=sess.graph)\n",
    "            logging.info(\"Start optimization\")\n",
    "\n",
    "            avg_gradients = None\n",
    "            \n",
    "            # Listas para almacenar las metricas\n",
    "            losses_train = []\n",
    "            losses_val = []\n",
    "            accs_train = []\n",
    "            accs_val = []\n",
    "            lrs_train = []\n",
    "            lrs_val = []\n",
    "            \n",
    "            for epoch in range(epochs):\n",
    "                total_loss = 0\n",
    "                total_acc = 0  # para acumular accuracy\n",
    "                for step in range((epoch * training_iters), ((epoch + 1) * training_iters)):\n",
    "                    batch_x, batch_y = data_provider(self.batch_size)\n",
    "                    # loss, acc, lr -> por iteracion\n",
    "                    _, loss, acc, lr, gradients = sess.run((self.optimizer, self.net.cost, self.net.accuracy,\n",
    "                                                            self.learning_rate_node, self.net.gradients_node),\n",
    "                                                           feed_dict={self.net.x: batch_x, self.net.y: crop_to_shape(batch_y, pred_shape),\n",
    "                                                                      self.net.keep_prob: dropout})\n",
    "\n",
    "                    if self.net.summaries and self.norm_grads:\n",
    "                        avg_gradients = _update_avg_gradients(avg_gradients, gradients, step)\n",
    "                        norm_gradients = [np.linalg.norm(gradient) for gradient in avg_gradients]\n",
    "                        self.norm_gradients_node.assign(norm_gradients).eval()\n",
    "\n",
    "                    if step % display_step == 0:\n",
    "                        self.output_minibatch_stats(sess, summary_writer, step, batch_x,\n",
    "                                                    crop_to_shape(batch_y, pred_shape))\n",
    "\n",
    "                    total_loss += loss\n",
    "                    total_acc += acc # acumulando accuracy\n",
    "\n",
    "                self.output_epoch_stats(epoch, total_loss, training_iters, lr)\n",
    "                # validacion\n",
    "                _, loss_val, acc_val, lr_val = self.store_prediction(sess, test_x, test_y, \"epoch_%s\" % epoch)\n",
    "                \n",
    "                # agregando metricas de una epoca\n",
    "                losses_train.append(total_loss/training_iters)\n",
    "                accs_train.append(total_acc/training_iters)\n",
    "                lrs_train.append(lr)\n",
    "                losses_val.append(loss_val)\n",
    "                accs_val.append(acc_val)\n",
    "                lrs_val.append(lr_val)\n",
    "\n",
    "                save_path = self.net.save(sess, save_path)\n",
    "            logging.info(\"Optimization Finished!\")\n",
    "            \n",
    "            # Variable de salida para metricas\n",
    "            data_metric = [losses_train, accs_train, lrs_train, losses_val,  accs_val,  lrs_val ]\n",
    "\n",
    "            return save_path, data_metric\n",
    "\n",
    "    def store_prediction(self, sess, batch_x, batch_y, name):\n",
    "        prediction = sess.run(self.net.predicter, feed_dict={self.net.x: batch_x,\n",
    "                                                             self.net.y: batch_y,\n",
    "                                                             self.net.keep_prob: 1.})\n",
    "        pred_shape = prediction.shape\n",
    "        \n",
    "        # loss, acc, lr -> validacion\n",
    "        loss, acc, lr = sess.run((self.net.cost, self.net.accuracy, self.learning_rate_node), feed_dict={self.net.x: batch_x,\n",
    "                                                  self.net.y: crop_to_shape(batch_y, pred_shape),\n",
    "                                                  self.net.keep_prob: 1.})\n",
    "\n",
    "        logging.info(\"Verification error= {:.1f}%, loss= {:.4f}\".format(error_rate(prediction,\n",
    "                                                                                   crop_to_shape(batch_y,\n",
    "                                                                                                      prediction.shape)),\n",
    "                                                                        loss))\n",
    "\n",
    "        img = combine_img_prediction(batch_x, batch_y, prediction)\n",
    "        save_image(img, \"%s/%s.jpg\" % (self.prediction_path, name))\n",
    "\n",
    "        # retorna loss, acc, lr\n",
    "        return pred_shape, loss, acc, lr\n",
    "\n",
    "    def output_epoch_stats(self, epoch, total_loss, training_iters, lr):\n",
    "        logging.info(\n",
    "            \"Epoch {:}, Average loss: {:.4f}, learning rate: {:.4f}\".format(epoch, (total_loss / training_iters), lr))\n",
    "\n",
    "    def output_minibatch_stats(self, sess, summary_writer, step, batch_x, batch_y):\n",
    "        # Calculamos las métricas\n",
    "        summary_str, loss, acc, predictions = sess.run([self.summary_op,\n",
    "                                                        self.net.cost,\n",
    "                                                        self.net.accuracy,\n",
    "                                                        self.net.predicter],\n",
    "                                                       feed_dict={self.net.x: batch_x,\n",
    "                                                                  self.net.y: batch_y,\n",
    "                                                                  self.net.keep_prob: 1.})\n",
    "        summary_writer.add_summary(summary_str, step)\n",
    "        summary_writer.flush()\n",
    "        logging.info(\n",
    "            \"Iter {:}, Minibatch Loss= {:.4f}, Training Accuracy= {:.4f}, Minibatch error= {:.1f}%\".format(step,\n",
    "                                                                                                           loss,\n",
    "                                                                                                           acc,\n",
    "                                                                                                           error_rate(\n",
    "                                                                                                               predictions,\n",
    "                                                                                                               batch_y)))\n",
    "    "
   ]
  },
  {
   "cell_type": "markdown",
   "metadata": {
    "heading_collapsed": true
   },
   "source": [
    "### image_util\n",
    "Obtenido de (Akered, 2017)"
   ]
  },
  {
   "cell_type": "code",
   "execution_count": 10,
   "metadata": {
    "ExecuteTime": {
     "end_time": "2018-10-06T14:14:00.363736Z",
     "start_time": "2018-10-06T14:14:00.350750Z"
    },
    "hidden": true
   },
   "outputs": [],
   "source": [
    "class BaseDataProvider(object):\n",
    "  #Clase base abstracta para la implementación de DataProvider. \n",
    "  #Esta implementación recorta automáticamente los datos y normaliza los valores a (0,1). \n",
    "\n",
    "    channels = 1\n",
    "    n_class = 2    \n",
    "    \n",
    "    def __init__(self, a_min=None, a_max=None):\n",
    "        self.a_min = a_min if a_min is not None else -np.inf\n",
    "        self.a_max = a_max if a_min is not None else np.inf\n",
    "        \n",
    "    def _load_data_and_label(self):\n",
    "        data, label = self._next_data()\n",
    "        train_data = self._process_data(data)\n",
    "        labels = self._process_labels(label)\n",
    "        train_data, labels = self._post_process(train_data, labels)\n",
    "        nx = train_data.shape[1]\n",
    "        ny = train_data.shape[0]  \n",
    "        return train_data.reshape(1, ny, nx, self.channels), labels.reshape(1, ny, nx, self.n_class),\n",
    "\n",
    "    def _process_labels(self, label):\n",
    "        if self.n_class == 2:\n",
    "            nx = label.shape[1]\n",
    "            ny = label.shape[0]\n",
    "            labels = np.zeros((ny, nx, self.n_class), dtype=np.float32)\n",
    "            labels[..., 1] = label\n",
    "            labels[..., 0] = ~label\n",
    "            return labels\n",
    "        \n",
    "        return label\n",
    "    \n",
    "    def _process_data(self, data):\n",
    "        # normalización\n",
    "        data = np.clip(np.fabs(data), self.a_min, self.a_max)\n",
    "        data -= np.amin(data)\n",
    "        data /= np.amax(data)\n",
    "        return data\n",
    "    \n",
    "    def _post_process(self, data, labels):\n",
    "              return data, labels    \n",
    "    \n",
    "    def reset_ids(self):\n",
    "        self._reset_ids();\n",
    "        \n",
    "    def __call__(self, n):\n",
    "        train_data, labels = self._load_data_and_label()\n",
    "        nx = train_data.shape[1]\n",
    "        ny = train_data.shape[2]\n",
    "    \n",
    "        X = np.zeros((n, nx, ny, self.channels))\n",
    "        Y = np.zeros((n, nx, ny, self.n_class))\n",
    "    \n",
    "        X[0] = train_data\n",
    "        Y[0] = labels\n",
    "        for i in range(1, n):\n",
    "            train_data, labels = self._load_data_and_label()\n",
    "            X[i] = train_data\n",
    "            Y[i] = labels\n",
    "    \n",
    "        return X, Y           "
   ]
  },
  {
   "cell_type": "code",
   "execution_count": 11,
   "metadata": {
    "ExecuteTime": {
     "end_time": "2018-10-06T14:14:00.371728Z",
     "start_time": "2018-10-06T14:14:00.365733Z"
    },
    "hidden": true
   },
   "outputs": [],
   "source": [
    "class SimpleDataProvider(BaseDataProvider):\n",
    "    #Proveedor de datos simple para matrices (numpy).\n",
    "    # Se supone que los datos y la etiqueta son una matriz numpy con las dimensiones\n",
    "    # data '[n, X, Y, channels]', label '[n, X, Y, classes]''. Donde 'n' es el número de imágenes,\n",
    "    # 'X', 'Y' del tamaño de la imagen.\n",
    "    \"\"\"\n",
    "    :param data: data numpy array. Shape=[n, X, Y, channels]\n",
    "    :param label: label numpy array. Shape=[n, X, Y, classes]\n",
    "    :param a_min: (optional) min value used for clipping\n",
    "    :param a_max: (optional) max value used for clipping\n",
    "    :param channels: (optional) number of channels, default=1\n",
    "    :param n_class: (optional) number of classes, default=2\n",
    "    \n",
    "    \"\"\"\n",
    "    \n",
    "    def __init__(self, data, label, a_min=None, a_max=None, channels=1, n_class = 2):\n",
    "        super(SimpleDataProvider, self).__init__(a_min, a_max)\n",
    "        self.data = data\n",
    "        self.label = label\n",
    "        self.file_count = data.shape[0]\n",
    "        self.n_class = n_class\n",
    "        self.channels = channels\n",
    "\n",
    "    def _next_data(self):\n",
    "        idx = np.random.choice(self.file_count)\n",
    "        return self.data[idx], self.label[idx]"
   ]
  },
  {
   "cell_type": "code",
   "execution_count": 12,
   "metadata": {
    "ExecuteTime": {
     "end_time": "2018-10-06T14:14:00.383715Z",
     "start_time": "2018-10-06T14:14:00.373725Z"
    },
    "hidden": true
   },
   "outputs": [],
   "source": [
    "class ImageDataProvider(BaseDataProvider):\n",
    "    #Proveedor de datos genérico para imágenes, admite escala de grises e imágenes en color.\n",
    "    \n",
    "    def __init__(self, search_path, a_min=None, a_max=None, data_suffix=\".tif\", mask_suffix='_mask.tif', shuffle_data=True, n_class = 2):\n",
    "        super(ImageDataProvider, self).__init__(a_min, a_max)\n",
    "        self.data_suffix = data_suffix\n",
    "        self.mask_suffix = mask_suffix\n",
    "        self.file_idx = -1\n",
    "        self.file_frame_idx = -1 #cantidad de frames por imagen\n",
    "        self.file_n_frames = 1 #tamaño de frames de imagen\n",
    "        self.file_n_frames_ids = [] #ids de cada frame\n",
    "        self.shuffle_data = shuffle_data\n",
    "        self.n_class = n_class\n",
    "        self.data_files = self._find_data_files(search_path)\n",
    "        \n",
    "        if self.shuffle_data:\n",
    "            np.random.shuffle(self.data_files)\n",
    "        \n",
    "        assert len(self.data_files) > 0, \"No training files\"\n",
    "        print(\"Number of files used: %s\" % len(self.data_files))\n",
    "        \n",
    "        img = self._load_file(self.data_files[0])\n",
    "        self.channels = 1 if len(img.shape) == 2 else img.shape[-1]\n",
    "        \n",
    "    def _find_data_files(self, search_path):\n",
    "        all_files = glob.glob(search_path)\n",
    "        return [name for name in all_files if self.data_suffix in name and not self.mask_suffix in name]\n",
    "    \n",
    "    def _load_file(self, path, dtype=np.float32):\n",
    "        img = np.array(Image.open(path), dtype)\n",
    "        return img\n",
    "    \n",
    "    def _load_tif_file(self, path):\n",
    "        img_tif = Image.open(path)\n",
    "        return img_tif\n",
    "\n",
    "    #Método modificado para soportar frames en los TIF\n",
    "    def _cylce_file(self):\n",
    "        if self.file_n_frames == (self.file_frame_idx + 1):\n",
    "            self.file_idx += 1\n",
    "            self.file_frame_idx = 0\n",
    "            if self.file_idx >= len(self.data_files):\n",
    "                self.file_idx = 0\n",
    "                self.file_frame_idx = 0\n",
    "                if self.shuffle_data:\n",
    "                    np.random.shuffle(self.data_files)\n",
    "        else:\n",
    "            self.file_frame_idx += 1\n",
    "            \n",
    "        if self.file_idx == -1:\n",
    "            self.file_idx = 0\n",
    "\n",
    "    #Método modificado para soportar frames en los TIF\n",
    "    def _next_data(self):\n",
    "        self._cylce_file()\n",
    "        image_name = self.data_files[self.file_idx]\n",
    "        label_name = image_name.replace(self.data_suffix, self.mask_suffix)\n",
    "        tif_image = self._load_tif_file(image_name)\n",
    "        tif_label = self._load_tif_file(label_name)\n",
    "        self.file_n_frames = tif_image.n_frames\n",
    "        \n",
    "        if self.file_frame_idx == 0:\n",
    "            self.file_n_frames_ids = np.arange(0, self.file_n_frames)\n",
    "            np.random.shuffle(self.file_n_frames_ids)\n",
    "            \n",
    "        #print(\"Image name \" + image_name + \" - Frame Id: \" + str(self.file_n_frames_ids[self.file_frame_idx]) + \" - #Frame: \" + str(self.file_frame_idx))\n",
    "        tif_image.seek(self.file_n_frames_ids[self.file_frame_idx])\n",
    "        tif_label.seek(self.file_n_frames_ids[self.file_frame_idx])\n",
    "        \n",
    "        img = np.array(tif_image, np.float32)\n",
    "        label = np.array(tif_label, np.bool)\n",
    "    \n",
    "        return img,label\n",
    "    \n",
    "    #Nuevo metodo para reiniciar los ids\n",
    "    def _reset_ids(self):\n",
    "        self.file_idx = -1\n",
    "        self.file_frame_idx = -1 #cantidad de frames por imagen\n",
    "        self.file_n_frames = 1 #tamaño de frames de imagen\n",
    "        self.file_n_frames_ids = [] #ids de cada frame"
   ]
  },
  {
   "cell_type": "markdown",
   "metadata": {
    "heading_collapsed": true
   },
   "source": [
    "### image_gen\n",
    "Obtenido de (Akered, 2017)"
   ]
  },
  {
   "cell_type": "code",
   "execution_count": 13,
   "metadata": {
    "ExecuteTime": {
     "end_time": "2018-10-06T14:14:00.394703Z",
     "start_time": "2018-10-06T14:14:00.385714Z"
    },
    "hidden": true
   },
   "outputs": [],
   "source": [
    "def create_image_and_label(nx, ny, cnt = 10, r_min = 5, r_max = 50, border = 92, sigma = 20, rectangles=False):\n",
    "        image = np.ones((nx, ny, 1))\n",
    "        label = np.zeros((nx, ny, 3), dtype=np.bool)\n",
    "        mask = np.zeros((nx, ny), dtype=np.bool)\n",
    "        for _ in range(cnt):\n",
    "            a = np.random.randint(border, nx-border)\n",
    "            b = np.random.randint(border, ny-border)\n",
    "            r = np.random.randint(r_min, r_max)\n",
    "            h = np.random.randint(1,255)\n",
    "\n",
    "            y,x = np.ogrid[-a:nx-a, -b:ny-b]\n",
    "            m = x*x + y*y <= r*r\n",
    "            mask = np.logical_or(mask, m)\n",
    "\n",
    "            image[m] = h\n",
    "\n",
    "        label[mask, 1] = 1\n",
    "\n",
    "        if rectangles:\n",
    "            mask = np.zeros((nx, ny), dtype=np.bool)\n",
    "            for _ in range(cnt//2):\n",
    "                a = np.random.randint(nx)\n",
    "                b = np.random.randint(ny)\n",
    "                r =  np.random.randint(r_min, r_max)\n",
    "                h = np.random.randint(1,255)\n",
    "\n",
    "                m = np.zeros((nx, ny), dtype=np.bool)\n",
    "                m[a:a+r, b:b+r] = True\n",
    "                mask = np.logical_or(mask, m)\n",
    "                image[m] = h\n",
    "\n",
    "            label[mask, 2] = 1\n",
    "\n",
    "            label[..., 0] = ~(np.logical_or(label[...,1], label[...,2]))\n",
    "\n",
    "        image += np.random.normal(scale=sigma, size=image.shape)\n",
    "        image -= np.amin(image)\n",
    "        image /= np.amax(image)\n",
    "\n",
    "        if rectangles:\n",
    "            return image, label\n",
    "        else:\n",
    "            return image, label[..., 1] "
   ]
  },
  {
   "cell_type": "code",
   "execution_count": 14,
   "metadata": {
    "ExecuteTime": {
     "end_time": "2018-10-06T14:14:00.403694Z",
     "start_time": "2018-10-06T14:14:00.396703Z"
    },
    "hidden": true
   },
   "outputs": [],
   "source": [
    "class GrayScaleDataProvider(BaseDataProvider):\n",
    "    channels = 1\n",
    "    n_class = 2\n",
    "    \n",
    "    def __init__(self, nx, ny, **kwargs):\n",
    "        super(GrayScaleDataProvider, self).__init__()\n",
    "        self.nx = nx\n",
    "        self.ny = ny\n",
    "        self.kwargs = kwargs\n",
    "        rect = kwargs.get(\"rectangles\", False)\n",
    "        if rect:\n",
    "            self.n_class=3\n",
    "        \n",
    "    def _next_data(self):\n",
    "        return create_image_and_label(self.nx, self.ny, **self.kwargs)   \n",
    "    \n",
    "    def _reset_ids(self):\n",
    "        self"
   ]
  },
  {
   "cell_type": "markdown",
   "metadata": {},
   "source": [
    "# Entrenamiento y pruebas\n",
    "Pruebas con diferentes conjuntos de datos\n",
    "- Utilizar imágenes del formato TIFF. \n",
    "- Se recomienda visualizar las imágenes con el siguiente editor: https://fiji.sc/\n",
    "- Cada prueba tiene una variable que comienza con ENTRENAR (Ej. ENTRENAR_BROAD_TOY_PROBLEM_MODEL). Esa variable indica si vamos a reutilizar un modelo ya entrenado o vamos a entrenar de nuevo. Se recomienda que sea True al entrenar y luego pasarlo a False. "
   ]
  },
  {
   "cell_type": "markdown",
   "metadata": {},
   "source": [
    "### Implementacion de U-Net con Tensorflow\n",
    "\n",
    "\n",
    "#### Paso1: Definimos la red UNET\n",
    "\n",
    "- Definimos la red U-Net\n",
    "\n",
    "```python\n",
    "Unet(channels=3, n_class=2, cost=u'cross_entropy', cost_kwargs={}, **kwargs)\n",
    "```\n",
    "\n",
    "- Donde:\t\n",
    "    - channels:(Opcional) Numero de canales en la imagen de entrada\n",
    "    - n_class: (Opcional) Numero de clases de salida.\n",
    "    - cost:(Opcional) Nombre de la funcion de costo. Por defecto es ‘cross_entropy’\n",
    "    - cost_kwargs: (Opcional) Argumentos para la funcion costo. Ver funcion costo.\n",
    "    \n",
    "    - Ejemplo:\n",
    "    ```python\n",
    "net = Unet(channels=1, n_class=2, layers=3, features_root=64)\n",
    "    ```\n",
    "\n",
    "    - channels: Como utilizamos imagenes en escala de grises, se asigno el valor de channels=1. Para el caso de utilizar imagenes en color RGB, el numero de canales deberia ser channels=3.\n",
    "    - n_class: El objetivo de la U-Net es predecir un problema binario, por l que las clases se asignarion a class=2.\n",
    "    - layers: El numero de capas  o niveles de la arquitectura de la UNET se definio a Layers=3.\n",
    "    - features_root: El numero de caracteristicas en la primera capa, por lo que features_root=16\n",
    "\n",
    "#### Paso 2: Definimos el Entrenamiento \n",
    "\n",
    "- Definimos el objeto de entrenamiento\n",
    "\n",
    "```python\n",
    "trainer = Trainer(net, batch_size=1, verification_batch_size = 4, norm_grads=False, optimizer=\"momentum\", opt_kwargs={}\n",
    "```\n",
    "\n",
    "- Donde:\n",
    "    - net: Es la instancia a entrenar.\n",
    "    - batch_size: Es el tamanio batch a entrenar, para dataset con gran volumen de data.\n",
    "    - verification_batch_size: (Opcional) tamanio de verifiacion del batch. Valor por defecto 4.\n",
    "    - norm_grads: (Opcional) true si las gradientes normalizadas deberia ser agregados al resumen, por defecto False.\n",
    "    - optimizer: (Opcional) nombre del optimizador a utilizar peude ser momentum or adam, por defecto el primero.\n",
    "    - opt_kwargs: (Opcional) kwargs pasado para el grado de aprendiazje (momentum opt) and al optimizador.\n",
    "\n",
    "    - Ejemplo: \n",
    "    ```python\n",
    "    trainer = Trainer(net, trainers_iters=32, epochs=100, batch_size=500)\n",
    "    ```\n",
    "\n",
    "#### Paso 3: Ejecutamos la red entrenada\n",
    "\n",
    "- Definimos el objeto de Predicion\n",
    "\n",
    "```python\n",
    "prediction = model.predict(output_path, x_test)\n",
    "```\n",
    "\n",
    "- Donde:\n",
    "    - output_path: indicandole la ruta donde se encuentra el archivo con el modelo entrenado.\n",
    "    - x_test: Data a predecir en la red. De la forma [n, nx, ny, channels]\n",
    "\n",
    "    - Ejemplo: \n",
    "    ```python\n",
    "    prediction = model.predict(output_path, x_test)\n",
    "    ```"
   ]
  },
  {
   "cell_type": "code",
   "execution_count": 41,
   "metadata": {
    "ExecuteTime": {
     "end_time": "2018-10-06T15:05:33.454526Z",
     "start_time": "2018-10-06T15:05:33.445535Z"
    }
   },
   "outputs": [],
   "source": [
    "#######################################\n",
    "#Fuente: elaboración propia\n",
    "#Clase que se invoca para entrenar los modelos y probarlos\n",
    "#######################################\n",
    "class Pruebas():\n",
    "    \n",
    "    def get_image_plt(self, image_array, index):\n",
    "        return to_rgb(image_array[0,...,index]).round().astype(np.uint8)\n",
    "    \n",
    "    def train(self, data_provider, trained_folder, training_iters=32, epochs=10, batch_size=1, \n",
    "              layers=3, features=16, momentum=0.2, train = True):\n",
    "        #TODO: solo muestra la primera imagen\n",
    "        x_train, y_train = data_provider(1)   \n",
    "        \n",
    "        #Convertimos las imagenes para no perder información al graficar\n",
    "        x_img = self.get_image_plt(x_train, 0)\n",
    "        y_img = self.get_image_plt(y_train, 1)\n",
    "        \n",
    "        data_provider.reset_ids()\n",
    "        \n",
    "        #Graficar\n",
    "        fig, ax = plt.subplots(1,2, sharey=True, figsize=(8,4))\n",
    "        ax[0].imshow(x_img, aspect=\"auto\")\n",
    "        ax[1].imshow(y_img, aspect=\"auto\") \n",
    "        plt.show()\n",
    "        \n",
    "        #Entrenar\n",
    "        net = Unet(channels=data_provider.channels, n_class=data_provider.n_class, layers=layers, features_root=features)\n",
    "        trainer = Trainer(net, optimizer=\"momentum\", opt_kwargs=dict(momentum=momentum), batch_size=batch_size)\n",
    "        data_metric = None\n",
    "        if train:\n",
    "            path, data_metric = trainer.train(data_provider, \"./\" + trained_folder, \n",
    "                                 training_iters = training_iters, \n",
    "                                 epochs = epochs, \n",
    "                                 display_step = 2, \n",
    "                                 prediction_path='prediction_' + trained_folder, \n",
    "                                 restore = True, \n",
    "                                 write_graph = True)\n",
    "        return net, data_metric\n",
    "        \n",
    "    def test(self, model, data_provider, trained_folder):\n",
    "        #TODO: solo muestra la primera imagen\n",
    "        x_test, y_test = data_provider(1)\n",
    "        #Predicción\n",
    "        prediction = model.predict(\"./\" + trained_folder + \"/model.ckpt\", x_test)\n",
    "        \n",
    "        #Convertimos las imagenes para no perder información al grafica\n",
    "        x_img = self.get_image_plt(x_test, 0)\n",
    "        y_img = self.get_image_plt(y_test, 1)\n",
    "        pred_img = self.get_image_plt(prediction, 1)\n",
    "        \n",
    "        #Graficar\n",
    "        fig, ax = plt.subplots(1, 3, sharex=True, sharey=True, figsize=(12,5))\n",
    "        ax[0].set_title(\"Input\")\n",
    "        ax[1].set_title(\"Ground truth\")\n",
    "        ax[2].set_title(\"Prediction\")\n",
    "        \n",
    "        ax[0].imshow(x_img, aspect=\"auto\")\n",
    "        ax[1].imshow(y_img, aspect=\"auto\")\n",
    "        ax[2].imshow(pred_img, aspect=\"auto\")\n",
    "        fig.tight_layout()\n",
    "        \n",
    "        #Guardamos imagen para documentación\n",
    "        fig.savefig(\"img/\"+ \"./\" + trained_folder+\".png\")        \n",
    "        "
   ]
  },
  {
   "cell_type": "code",
   "execution_count": 16,
   "metadata": {
    "ExecuteTime": {
     "end_time": "2018-10-06T14:14:00.423674Z",
     "start_time": "2018-10-06T14:14:00.416683Z"
    }
   },
   "outputs": [],
   "source": [
    "#######################################\n",
    "#Fuente: elaboración propia\n",
    "#Función para mostrar métricas\n",
    "#######################################\n",
    "\n",
    "def show_results(data_metric):\n",
    "    losses_train = data_metric[0]\n",
    "    accs_train   = data_metric[1]\n",
    "    lrs_train     = data_metric[2]\n",
    "    losses_val   = data_metric[3]\n",
    "    accs_val     = data_metric[4]\n",
    "    lrs_val       = data_metric[5]\n",
    "        \n",
    "    fig, axes = plt.subplots(1, 3, figsize=(14,4))\n",
    "    ax1, ax2, ax3 = axes\n",
    "    ax1.plot(losses_train, label='train')\n",
    "    ax1.plot(losses_val, label='test')\n",
    "    ax1.set_xlabel('epoch'); ax1.set_ylabel('loss')\n",
    "    ax2.plot(accs_train, label='train')\n",
    "    ax2.plot(accs_val, label='test')\n",
    "    ax2.set_xlabel('epoch'); ax2.set_ylabel('accuracy')\n",
    "    ax3.plot(lrs_train, label='train')\n",
    "    ax3.plot(lrs_val, label='test')\n",
    "    ax3.set_xlabel('epoch'); ax3.set_ylabel('learning rate')\n",
    "    for ax in axes: ax.legend()"
   ]
  },
  {
   "cell_type": "markdown",
   "metadata": {},
   "source": [
    "### demo_toy_problem\n",
    "- Demos obtenidos del repositorio https://github.com/jakeret/tf_unet\n",
    "- Crea una imágen con valores aleatóreos"
   ]
  },
  {
   "cell_type": "code",
   "execution_count": 42,
   "metadata": {
    "ExecuteTime": {
     "end_time": "2018-10-06T15:05:37.430946Z",
     "start_time": "2018-10-06T15:05:37.427950Z"
    }
   },
   "outputs": [],
   "source": [
    "TRAINED_FOLDER_TOY_PROBLEM = \"unet_trained_toy_problem\"\n",
    "#########################\n",
    "#True: Volver a entrenar el modelo\n",
    "#False: Reutiliza los modelos ya entrenados con formado ckpt\n",
    "#########################\n",
    "ENTRENAR_BROAD_TOY_PROBLEM_MODEL = False"
   ]
  },
  {
   "cell_type": "code",
   "execution_count": 43,
   "metadata": {
    "ExecuteTime": {
     "end_time": "2018-10-06T15:05:38.755601Z",
     "start_time": "2018-10-06T15:05:38.751607Z"
    },
    "scrolled": true
   },
   "outputs": [],
   "source": [
    "def generar_toy_image():\n",
    "    nx = 572\n",
    "    ny = 572\n",
    "    plt.rcParams['image.cmap'] = 'gist_earth'\n",
    "    np.random.seed(98765)\n",
    "    return GrayScaleDataProvider(nx, ny, cnt=20);"
   ]
  },
  {
   "cell_type": "markdown",
   "metadata": {},
   "source": [
    "Train"
   ]
  },
  {
   "cell_type": "code",
   "execution_count": 44,
   "metadata": {
    "ExecuteTime": {
     "end_time": "2018-10-06T15:05:40.547664Z",
     "start_time": "2018-10-06T15:05:40.543669Z"
    }
   },
   "outputs": [],
   "source": [
    "data_provider_toy_problem_train = generar_toy_image()"
   ]
  },
  {
   "cell_type": "code",
   "execution_count": 45,
   "metadata": {
    "ExecuteTime": {
     "end_time": "2018-10-06T15:05:42.009912Z",
     "start_time": "2018-10-06T15:05:42.006915Z"
    }
   },
   "outputs": [],
   "source": [
    "#Ejecuta esta línea para reflejar los cambios en la clase Pruebas\n",
    "pruebas_toy_problem = Pruebas();"
   ]
  },
  {
   "cell_type": "code",
   "execution_count": 46,
   "metadata": {
    "ExecuteTime": {
     "end_time": "2018-10-06T15:05:45.761663Z",
     "start_time": "2018-10-06T15:05:44.315951Z"
    },
    "scrolled": true
   },
   "outputs": [
    {
     "data": {
      "image/png": "[encoded data removed]",
      "text/plain": [
       "<Figure size 576x288 with 2 Axes>"
      ]
     },
     "metadata": {},
     "output_type": "display_data"
    },
    {
     "name": "stderr",
     "output_type": "stream",
     "text": [
      "2018-10-06 10:05:44,644 Layers 5, features 32, filter size 3x3, pool size: 2x2\n"
     ]
    }
   ],
   "source": [
    "#########################\n",
    "#train(data_provider, folder, train_iter, epoch, train)\n",
    "#Al terminar el entrenamiento se recomienda guardar el contenido de la carpeta unet_trained_*\n",
    "#########################\n",
    "model_toy_problem, data_metric = pruebas_toy_problem.train(data_provider_toy_problem_train, \n",
    "                                              TRAINED_FOLDER_TOY_PROBLEM, \n",
    "                                              32, #iterations\n",
    "                                              10, #epoch\n",
    "                                              1, #batch size\n",
    "                                              5, #layers\n",
    "                                              32, #features\n",
    "                                              0.5, #momentum\n",
    "                                              ENTRENAR_BROAD_TOY_PROBLEM_MODEL)"
   ]
  },
  {
   "cell_type": "markdown",
   "metadata": {},
   "source": [
    "Métricas"
   ]
  },
  {
   "cell_type": "code",
   "execution_count": 47,
   "metadata": {
    "ExecuteTime": {
     "end_time": "2018-10-06T15:06:10.691154Z",
     "start_time": "2018-10-06T15:06:10.688157Z"
    }
   },
   "outputs": [],
   "source": [
    "if (data_metric is not None):\n",
    "    show_results(data_metric)"
   ]
  },
  {
   "cell_type": "markdown",
   "metadata": {},
   "source": [
    "Test"
   ]
  },
  {
   "cell_type": "code",
   "execution_count": 48,
   "metadata": {
    "ExecuteTime": {
     "end_time": "2018-10-06T15:06:12.468603Z",
     "start_time": "2018-10-06T15:06:12.464608Z"
    }
   },
   "outputs": [],
   "source": [
    "data_provider_toy_problem_test = data_provider_toy_problem_train"
   ]
  },
  {
   "cell_type": "code",
   "execution_count": 49,
   "metadata": {
    "ExecuteTime": {
     "end_time": "2018-10-06T15:06:15.864433Z",
     "start_time": "2018-10-06T15:06:14.677813Z"
    }
   },
   "outputs": [
    {
     "name": "stdout",
     "output_type": "stream",
     "text": [
      "INFO:tensorflow:Restoring parameters from ./unet_trained_toy_problem/model.ckpt\n"
     ]
    },
    {
     "name": "stderr",
     "output_type": "stream",
     "text": [
      "2018-10-06 10:06:14,927 Restoring parameters from ./unet_trained_toy_problem/model.ckpt\n",
      "2018-10-06 10:06:15,027 Model restored from file: ./unet_trained_toy_problem/model.ckpt\n"
     ]
    },
    {
     "data": {
      "image/png": "[encoded data removed]",
      "text/plain": [
       "<Figure size 864x360 with 3 Axes>"
      ]
     },
     "metadata": {},
     "output_type": "display_data"
    }
   ],
   "source": [
    "pruebas_toy_problem.test(model_toy_problem, data_provider_toy_problem_test, TRAINED_FOLDER_TOY_PROBLEM)"
   ]
  },
  {
   "cell_type": "markdown",
   "metadata": {},
   "source": [
    "### EM segmentation challenge - ISBI 2012 (línea base)\n",
    "- http://brainiac2.mit.edu/isbi_challenge/\n",
    "- Es la que usan en el paper base (Ronneberger et al., 2015)\n",
    "- Resolución: 512 x 512 x 30\n",
    "- No existen imágenes de máscaras para conjunto de pruebas"
   ]
  },
  {
   "cell_type": "code",
   "execution_count": null,
   "metadata": {
    "ExecuteTime": {
     "end_time": "2018-10-06T14:14:02.399919Z",
     "start_time": "2018-10-06T14:13:54.692Z"
    }
   },
   "outputs": [],
   "source": [
    "PATH_ISBI_2012_TRAIN = \"dataset/isbi-challenge/train/\"\n",
    "PATH_ISBI_2012_TEST_ORIGINAL = \"dataset/isbi-challenge/test-original/\"\n",
    "PATH_ISBI_2012_TEST_MASK = \"dataset/isbi-challenge/test-mask/\"\n",
    "TRAINED_FOLDER_ISBI_2012 = \"unet_trained_isbi_2012\"\n",
    "#########################\n",
    "#True: Volver a entrenar el modelo\n",
    "#False: Reutiliza los modelos ya entrenados con formado ckpt\n",
    "#########################\n",
    "ENTRENAR_BROAD_ISBI_2012_MODEL = False"
   ]
  },
  {
   "cell_type": "markdown",
   "metadata": {},
   "source": [
    "Train"
   ]
  },
  {
   "cell_type": "code",
   "execution_count": null,
   "metadata": {
    "ExecuteTime": {
     "end_time": "2018-10-06T14:14:02.400918Z",
     "start_time": "2018-10-06T14:13:54.696Z"
    }
   },
   "outputs": [],
   "source": [
    "#######################################\n",
    "#Fuente: elaboración propia\n",
    "#Clase para separar los frames que una imagen TIF\n",
    "#Util cuando no se tiene imágenes de test\n",
    "#######################################\n",
    "class ImageSeparator:\n",
    "    \n",
    "    def borrar_archivos(self, path):\n",
    "        for root, dirs, files in os.walk(path):\n",
    "            for file in files:\n",
    "                os.remove(os.path.join(root, file))   \n",
    "    \n",
    "    def separar_tif(self, image_path_train, image_path_label, path_copy):\n",
    "        \n",
    "        path_train = path_copy + \"train\"\n",
    "        path_test = path_copy + \"test-mask\"\n",
    "        \n",
    "        #obtenemos las imágenes y las guardamos en un arreglo\n",
    "        ids = []\n",
    "        images_train = []\n",
    "        tif_image = Image.open(image_path_train)\n",
    "        n_frames = tif_image.n_frames\n",
    "        print(\"La imagenes tiene: \" + str(n_frames) + \" frames/capas\")\n",
    "        for i in range(0, n_frames):\n",
    "            tif_image.seek(i)\n",
    "            ids.append(i)\n",
    "            images_train.append(tif_image.copy())\n",
    "            \n",
    "        #obtenemos las imágenes de los label y las guardamos en un arreglo\n",
    "        images_label = []\n",
    "        tif_label = Image.open(image_path_label)\n",
    "        for i in range(0, n_frames):\n",
    "            tif_label.seek(i)\n",
    "            images_label.append(tif_label.copy())            \n",
    "\n",
    "        #mezclamos aleatoreamente el arreglo de imágenes\n",
    "        np.random.seed(0) #cambiar la semilla si quieren generar de nuevo\n",
    "        np.random.shuffle(ids)\n",
    "\n",
    "        #separamos conjunto de entrenamiento (70%) y pruebas (30%)\n",
    "        n_frames_train = int(n_frames * 0.7)\n",
    "        print(\"Total de imágenes de entrenamiento (70%): \" + str(n_frames_train))\n",
    "        print(\"Total de imágenes de prueba (30%): \" + str(n_frames - n_frames_train))\n",
    "\n",
    "        #borramos los archivos actuales\n",
    "        self.borrar_archivos(path_train)\n",
    "        self.borrar_archivos(path_test)\n",
    "\n",
    "        #guardamos las imágenes de entrenamiento\n",
    "        for i in range(0, n_frames_train):\n",
    "            new_name_file = path_copy + \"train/train\" + \"-\" + str(i)\n",
    "            images_train[ids[i]].save(new_name_file + \".tif\")\n",
    "            images_label[ids[i]].save(new_name_file + \"_mask.tif\")\n",
    "\n",
    "        #guardamos las imágenes de prueba    \n",
    "        for i in range(n_frames_train, n_frames):\n",
    "            new_name_file = path_copy + \"test-mask/test\" + \"-\" + str(i)\n",
    "            images_train[ids[i]].save(new_name_file + \".tif\")\n",
    "            images_label[ids[i]].save(new_name_file + \"_mask.tif\")\n",
    "            \n",
    "        print(\"Fin de proceso\")\n",
    "\n",
    "    def separarImagenesIsbiChallenge(self, generar):\n",
    "        if generar:\n",
    "            #Las imágenes de entrenamiento tienen que tener la misma cantidad de capas que los labels\n",
    "            IMAGE_PATH_TRAIN = \"dataset/isbi-challenge/original/train-volume.tif\"\n",
    "            IMAGE_PATH_LABEL = \"dataset/isbi-challenge/original/train-labels.tif\"\n",
    "            self.separar_tif(IMAGE_PATH_TRAIN, IMAGE_PATH_LABEL, \"dataset/isbi-challenge/\")            "
   ]
  },
  {
   "cell_type": "code",
   "execution_count": null,
   "metadata": {
    "ExecuteTime": {
     "end_time": "2018-10-06T14:14:02.401935Z",
     "start_time": "2018-10-06T14:13:54.699Z"
    }
   },
   "outputs": [],
   "source": [
    "imageSeparator = ImageSeparator()\n",
    "#Pasar a false si ya tienen generadas las imágenes\n",
    "imageSeparator.separarImagenesIsbiChallenge(False)"
   ]
  },
  {
   "cell_type": "code",
   "execution_count": null,
   "metadata": {
    "ExecuteTime": {
     "end_time": "2018-10-06T14:14:02.401935Z",
     "start_time": "2018-10-06T14:13:54.701Z"
    },
    "scrolled": false
   },
   "outputs": [],
   "source": [
    "data_provider_isbi_2012_train = ImageDataProvider(PATH_ISBI_2012_TRAIN + \"*.tif\")"
   ]
  },
  {
   "cell_type": "code",
   "execution_count": null,
   "metadata": {
    "ExecuteTime": {
     "end_time": "2018-10-06T14:14:02.402916Z",
     "start_time": "2018-10-06T14:13:54.703Z"
    }
   },
   "outputs": [],
   "source": [
    "#Ejecuta esta línea para reflejar los cambios en la clase Pruebas\n",
    "pruebas_isbi_2012 = Pruebas();"
   ]
  },
  {
   "cell_type": "code",
   "execution_count": null,
   "metadata": {
    "ExecuteTime": {
     "end_time": "2018-10-06T14:14:02.403915Z",
     "start_time": "2018-10-06T14:13:54.709Z"
    },
    "scrolled": true
   },
   "outputs": [],
   "source": [
    "#########################\n",
    "#train(data_provider, folder, train_iter, epoch, train)\n",
    "#Al terminar el entrenamiento se recomienda guardar el contenido de la carpeta unet_trained_*\n",
    "#########################\n",
    "model_isbi_2012, data_metric_isbi_2012 = pruebas_isbi_2012.train(data_provider_isbi_2012_train, \n",
    "                                          TRAINED_FOLDER_ISBI_2012, \n",
    "                                          32, #iterations\n",
    "                                          50, #epoch\n",
    "                                          1, #batch size\n",
    "                                          5, #layers\n",
    "                                          32, #features\n",
    "                                          0.5, #momentum\n",
    "                                          ENTRENAR_BROAD_ISBI_2012_MODEL)"
   ]
  },
  {
   "cell_type": "markdown",
   "metadata": {},
   "source": [
    "Test\n",
    "- Este conjunto de prueba no tiene labels con cual comparar"
   ]
  },
  {
   "cell_type": "markdown",
   "metadata": {},
   "source": [
    "Métricas"
   ]
  },
  {
   "cell_type": "code",
   "execution_count": null,
   "metadata": {
    "ExecuteTime": {
     "end_time": "2018-10-06T14:14:02.404916Z",
     "start_time": "2018-10-06T14:13:54.713Z"
    }
   },
   "outputs": [],
   "source": [
    "if (data_metric_isbi_2012 is not None):\n",
    "    show_results(data_metric_isbi_2012)"
   ]
  },
  {
   "cell_type": "code",
   "execution_count": null,
   "metadata": {
    "ExecuteTime": {
     "end_time": "2018-10-06T14:14:02.404916Z",
     "start_time": "2018-10-06T14:13:54.716Z"
    },
    "scrolled": true
   },
   "outputs": [],
   "source": [
    "data_provider_isbi_2012_test = ImageDataProvider(PATH_ISBI_2012_TEST_ORIGINAL + \"*.tif\")"
   ]
  },
  {
   "cell_type": "code",
   "execution_count": null,
   "metadata": {
    "ExecuteTime": {
     "end_time": "2018-10-06T14:14:02.405913Z",
     "start_time": "2018-10-06T14:13:54.719Z"
    },
    "scrolled": false
   },
   "outputs": [],
   "source": [
    "pruebas_isbi_2012.test(model_isbi_2012, data_provider_isbi_2012_test, TRAINED_FOLDER_ISBI_2012)"
   ]
  },
  {
   "cell_type": "markdown",
   "metadata": {},
   "source": [
    "Test\n",
    "- Utilizamos los labels reservados de la imagen original para poder hacer las comparaciones"
   ]
  },
  {
   "cell_type": "code",
   "execution_count": null,
   "metadata": {
    "ExecuteTime": {
     "end_time": "2018-10-06T14:14:02.406930Z",
     "start_time": "2018-10-06T14:13:54.722Z"
    }
   },
   "outputs": [],
   "source": [
    "data_provider_isbi_2012_test_mask = ImageDataProvider(PATH_ISBI_2012_TEST_MASK + \"*.tif\")"
   ]
  },
  {
   "cell_type": "code",
   "execution_count": null,
   "metadata": {
    "ExecuteTime": {
     "end_time": "2018-10-06T14:14:02.406930Z",
     "start_time": "2018-10-06T14:13:54.724Z"
    }
   },
   "outputs": [],
   "source": [
    "pruebas_isbi_2012.test(model_isbi_2012, data_provider_isbi_2012_test_mask, TRAINED_FOLDER_ISBI_2012)"
   ]
  },
  {
   "cell_type": "markdown",
   "metadata": {},
   "source": [
    "### Cell Tracking Challenge (línea base)\n",
    "- http://www.celltrackingchallenge.net/datasets.html\n",
    "- Solo existe una imagen sin máscara\n",
    "- Se necesitan buscar reemplazos de ambos conjuntos"
   ]
  },
  {
   "cell_type": "markdown",
   "metadata": {},
   "source": [
    "PhC-U373 - PhC-C2DH-U373\n",
    "- Glioblastoma-astrocytoma U373 cells on a polyacrylimide substrate  (2D)\n",
    "- Dr. Sanjay Kumar. Department of Bioengineering\n",
    "- University of California at Berkeley. Berkeley CA (USA)\n",
    "- Microscope: Nikon\n",
    "- Objective lens: Plan Fluor DLL 20X/0.5\n",
    "- Pixel size (microns): 0.65 x 0.65\n",
    "- Time step (min): 15"
   ]
  },
  {
   "cell_type": "code",
   "execution_count": null,
   "metadata": {
    "ExecuteTime": {
     "end_time": "2018-10-06T14:14:02.407913Z",
     "start_time": "2018-10-06T14:13:54.728Z"
    }
   },
   "outputs": [],
   "source": [
    "img = Image.open(\"img/PhC-C2DH-U373.gif\")\n",
    "img = img.resize((300, 250), Image.ANTIALIAS)\n",
    "img"
   ]
  },
  {
   "cell_type": "markdown",
   "metadata": {},
   "source": [
    "DIC-HeLA - Fluo-N2DL-HeLa\n",
    "- HeLa cells stably expressing H2b-GFP (2D)\n",
    "- Mitocheck Consortium\n",
    "- Microscope: Olympus IX81\n",
    "- Objective lens: Plan 10x/0.4\n",
    "- Pixel size (microns): 0.645 x 0.645\n",
    "- Time step (min): 30"
   ]
  },
  {
   "cell_type": "code",
   "execution_count": null,
   "metadata": {
    "ExecuteTime": {
     "end_time": "2018-10-06T14:14:02.408910Z",
     "start_time": "2018-10-06T14:13:54.732Z"
    }
   },
   "outputs": [],
   "source": [
    "img = Image.open(\"img/N2DL-HeLa.gif\")\n",
    "img = img.resize((400, 250), Image.ANTIALIAS)\n",
    "img"
   ]
  },
  {
   "cell_type": "markdown",
   "metadata": {},
   "source": [
    "### Broad Bioimage Benchmark Collection (BBBC003)\n",
    "- Embriones de ratones.\n",
    "- Modo de toma: Fluor\n",
    "- https://data.broadinstitute.org/bbbc/BBBC003/\n",
    "- Existen diferentes conjuntos de datos\n",
    "- Todas las imágenes deben tener la misma orientación (horizontal o vertical). Se modificaron manualmente."
   ]
  },
  {
   "cell_type": "code",
   "execution_count": null,
   "metadata": {
    "ExecuteTime": {
     "end_time": "2018-10-06T14:14:02.409910Z",
     "start_time": "2018-10-06T14:13:54.735Z"
    }
   },
   "outputs": [],
   "source": [
    "PATH_BROAD_003_TRAIN = \"dataset/broad-bioimage/BBBC003/train/\"\n",
    "PATH_BROAD_003_TEST = \"dataset/broad-bioimage/BBBC003/test/\"\n",
    "TRAINED_FOLDER_BROAD_003 = \"unet_trained_broad_003\"\n",
    "#########################\n",
    "#True: Volver a entrenar el modelo\n",
    "#False: Reutiliza los modelos ya entrenados con formado ckpt\n",
    "#########################\n",
    "ENTRENAR_BROAD_003_MODEL = False "
   ]
  },
  {
   "cell_type": "markdown",
   "metadata": {},
   "source": [
    "Train"
   ]
  },
  {
   "cell_type": "code",
   "execution_count": null,
   "metadata": {
    "ExecuteTime": {
     "end_time": "2018-10-06T14:14:02.409910Z",
     "start_time": "2018-10-06T14:13:54.737Z"
    }
   },
   "outputs": [],
   "source": [
    "data_provider_broad_003_train = ImageDataProvider(PATH_BROAD_003_TRAIN + \"*.tif\")"
   ]
  },
  {
   "cell_type": "code",
   "execution_count": null,
   "metadata": {
    "ExecuteTime": {
     "end_time": "2018-10-06T14:14:02.410908Z",
     "start_time": "2018-10-06T14:13:54.740Z"
    }
   },
   "outputs": [],
   "source": [
    "#Ejecuta esta línea para reflejar los cambios en la clase Pruebas\n",
    "pruebas_broad_003 = Pruebas();"
   ]
  },
  {
   "cell_type": "code",
   "execution_count": null,
   "metadata": {
    "ExecuteTime": {
     "end_time": "2018-10-06T14:14:02.411907Z",
     "start_time": "2018-10-06T14:13:54.743Z"
    },
    "scrolled": true
   },
   "outputs": [],
   "source": [
    "#########################\n",
    "#train(data_provider, folder, train_iter, epoch, train)\n",
    "#Al terminar el entrenamiento se recomienda guardar el contenido de la carpeta unet_trained_broad_005\n",
    "#########################\n",
    "model_broad_003, data_metric_broad_003 = pruebas_broad_003.train(data_provider_broad_003_train, \n",
    "                                          TRAINED_FOLDER_BROAD_003, \n",
    "                                          32, #iterations\n",
    "                                          50, #epoch\n",
    "                                          1, #batch size\n",
    "                                          5, #layers\n",
    "                                          32, #features\n",
    "                                          0.5, #momentum \n",
    "                                          ENTRENAR_BROAD_003_MODEL)"
   ]
  },
  {
   "cell_type": "markdown",
   "metadata": {},
   "source": [
    "Métricas"
   ]
  },
  {
   "cell_type": "code",
   "execution_count": null,
   "metadata": {
    "ExecuteTime": {
     "end_time": "2018-10-06T14:14:02.412906Z",
     "start_time": "2018-10-06T14:13:54.745Z"
    }
   },
   "outputs": [],
   "source": [
    "if (data_metric_isbi_2012 is not None):\n",
    "    show_results(data_metric_isbi_2012)"
   ]
  },
  {
   "cell_type": "markdown",
   "metadata": {},
   "source": [
    "Test"
   ]
  },
  {
   "cell_type": "code",
   "execution_count": null,
   "metadata": {
    "ExecuteTime": {
     "end_time": "2018-10-06T14:14:02.412906Z",
     "start_time": "2018-10-06T14:13:54.749Z"
    }
   },
   "outputs": [],
   "source": [
    "data_provider_broad_003_test = ImageDataProvider(PATH_BROAD_003_TEST + \"*.tif\")"
   ]
  },
  {
   "cell_type": "code",
   "execution_count": null,
   "metadata": {
    "ExecuteTime": {
     "end_time": "2018-10-06T14:14:02.413920Z",
     "start_time": "2018-10-06T14:13:54.751Z"
    }
   },
   "outputs": [],
   "source": [
    "pruebas_broad_003.test(model_broad_003, data_provider_broad_003_test, TRAINED_FOLDER_BROAD_003)"
   ]
  },
  {
   "cell_type": "markdown",
   "metadata": {},
   "source": [
    "### Broad Bioimage Benchmark Collection (BBBC005)\n",
    "- https://data.broadinstitute.org/bbbc/image_sets.html\n",
    "- Existen diferentes conjuntos de datos"
   ]
  },
  {
   "cell_type": "code",
   "execution_count": null,
   "metadata": {
    "ExecuteTime": {
     "end_time": "2018-10-06T14:14:02.414904Z",
     "start_time": "2018-10-06T14:13:54.754Z"
    }
   },
   "outputs": [],
   "source": [
    "PATH_BROAD_005_TRAIN = \"dataset/broad-bioimage/BBBC005/train/\"\n",
    "PATH_BROAD_005_TEST = \"dataset/broad-bioimage/BBBC005/test/\"\n",
    "TRAINED_FOLDER_BROAD_005 = \"unet_trained_broad_005\"\n",
    "#########################\n",
    "#True: Volver a entrenar el modelo\n",
    "#False: Reutiliza los modelos ya entrenados con formado ckpt\n",
    "#########################\n",
    "ENTRENAR_BROAD_005_MODEL = False "
   ]
  },
  {
   "cell_type": "markdown",
   "metadata": {},
   "source": [
    "Train"
   ]
  },
  {
   "cell_type": "code",
   "execution_count": null,
   "metadata": {
    "ExecuteTime": {
     "end_time": "2018-10-06T14:14:02.414904Z",
     "start_time": "2018-10-06T14:13:54.757Z"
    }
   },
   "outputs": [],
   "source": [
    "data_provider_broad_005_train = ImageDataProvider(PATH_BROAD_005_TRAIN + \"*.tif\")"
   ]
  },
  {
   "cell_type": "code",
   "execution_count": null,
   "metadata": {
    "ExecuteTime": {
     "end_time": "2018-10-06T14:14:02.415904Z",
     "start_time": "2018-10-06T14:13:54.759Z"
    }
   },
   "outputs": [],
   "source": [
    "#Ejecuta esta línea para reflejar los cambios en la clase Pruebas\n",
    "pruebas_broad_005 = Pruebas();"
   ]
  },
  {
   "cell_type": "code",
   "execution_count": null,
   "metadata": {
    "ExecuteTime": {
     "end_time": "2018-10-06T14:14:02.416902Z",
     "start_time": "2018-10-06T14:13:54.762Z"
    },
    "scrolled": true
   },
   "outputs": [],
   "source": [
    "#########################\n",
    "#train(data_provider, folder, train_iter, epoch, train)\n",
    "#Al terminar el entrenamiento se recomienda guardar el contenido de la carpeta unet_trained_broad_005\n",
    "#########################\n",
    "model_broad_005, data_metric_broad_005 = pruebas_broad_005.train(data_provider_broad_005_train, \n",
    "                                          TRAINED_FOLDER_BROAD_005, \n",
    "                                          32, #iterations\n",
    "                                          20, #epoch\n",
    "                                          1, #batch size\n",
    "                                          5, #layers\n",
    "                                          32, #features\n",
    "                                          0.5, #momentum\n",
    "                                          ENTRENAR_BROAD_005_MODEL)"
   ]
  },
  {
   "cell_type": "markdown",
   "metadata": {},
   "source": [
    "Métricas"
   ]
  },
  {
   "cell_type": "code",
   "execution_count": null,
   "metadata": {
    "ExecuteTime": {
     "end_time": "2018-10-06T14:14:02.417917Z",
     "start_time": "2018-10-06T14:13:54.765Z"
    }
   },
   "outputs": [],
   "source": [
    "if (data_metric_broad_005 is not None):\n",
    "    show_results(data_metric_broad_005)"
   ]
  },
  {
   "cell_type": "markdown",
   "metadata": {},
   "source": [
    "Test"
   ]
  },
  {
   "cell_type": "code",
   "execution_count": null,
   "metadata": {
    "ExecuteTime": {
     "end_time": "2018-10-06T14:14:02.417917Z",
     "start_time": "2018-10-06T14:13:54.768Z"
    }
   },
   "outputs": [],
   "source": [
    "data_provider_broad_005_test = ImageDataProvider(PATH_BROAD_005_TEST + \"*.tif\")"
   ]
  },
  {
   "cell_type": "code",
   "execution_count": null,
   "metadata": {
    "ExecuteTime": {
     "end_time": "2018-10-06T14:14:02.418900Z",
     "start_time": "2018-10-06T14:13:54.770Z"
    }
   },
   "outputs": [],
   "source": [
    "pruebas_broad_005.test(model_broad_005, data_provider_broad_005_test, TRAINED_FOLDER_BROAD_005)"
   ]
  },
  {
   "cell_type": "markdown",
   "metadata": {},
   "source": [
    "###  Electron Microscopy Dataset\n",
    "- Tomas del hipocampo\n",
    "- Fuente: https://cvlab.epfl.ch/data/data-em/\n",
    "- Resolución: 1024 x 768 x 165\n",
    "- Podría ser utilizado como complemento del dataset EM segmentation challenge - ISBI 2012\n",
    "- Se ha corrido con 10 épocas y aún no logra buenos resultados (hay que probarlo en la nube)"
   ]
  },
  {
   "cell_type": "code",
   "execution_count": null,
   "metadata": {
    "ExecuteTime": {
     "end_time": "2018-10-06T14:14:02.419900Z",
     "start_time": "2018-10-06T14:13:54.773Z"
    }
   },
   "outputs": [],
   "source": [
    "PATH_ELECTRON_MICROSCOPY_TRAIN = \"dataset/electron-microscopy/train/\"\n",
    "PATH_ELECTRON_MICROSCOPY_TEST = \"dataset/electron-microscopy/test/\"\n",
    "TRAINED_FOLDER_ELECTRON_MICROSCOPY = \"unet_trained_electron_microscopy\"\n",
    "#########################\n",
    "#True: Volver a entrenar el modelo\n",
    "#False: Reutiliza los modelos ya entrenados con formado ckpt\n",
    "#########################\n",
    "ENTRENAR_ELECTRON_MICROSCOPY_MODEL = False "
   ]
  },
  {
   "cell_type": "markdown",
   "metadata": {},
   "source": [
    "Los archivos pesan más de 100mb, por lo que no podremos integrarlos al repositorio. Se procede a descargarlos por única vez."
   ]
  },
  {
   "cell_type": "code",
   "execution_count": null,
   "metadata": {
    "ExecuteTime": {
     "end_time": "2018-10-06T14:14:02.419900Z",
     "start_time": "2018-10-06T14:13:54.776Z"
    }
   },
   "outputs": [],
   "source": [
    "#Descargar imágenes\n",
    "URL_ELECTRON_MICROSCOPY_TRAIN = \"https://documents.epfl.ch/groups/c/cv/cvlab-unit/www/data/ ElectronMicroscopy_Hippocampus/training.tif\"\n",
    "URL_ELECTRON_MICROSCOPY_TRAIN_MASK = \"https://documents.epfl.ch/groups/c/cv/cvlab-unit/www/data/ ElectronMicroscopy_Hippocampus/training_groundtruth.tif\"\n",
    "URL_ELECTRON_MICROSCOPY_TEST = \"https://documents.epfl.ch/groups/c/cv/cvlab-unit/www/data/ ElectronMicroscopy_Hippocampus/testing.tif\"\n",
    "URL_ELECTRON_MICROSCOPY_TEST_MASK = \"https://documents.epfl.ch/groups/c/cv/cvlab-unit/www/data/ ElectronMicroscopy_Hippocampus/testing_groundtruth.tif\"\n",
    "\n",
    "def crear_carpetas():\n",
    "    try:\n",
    "        os.mkdir(\"dataset/electron-microscopy/\")\n",
    "        os.mkdir(\"dataset/electron-microscopy/train\") \n",
    "        os.mkdir(\"dataset/electron-microscopy/test\") \n",
    "        print(\"Las carpetas han sido creadas\")\n",
    "    except:\n",
    "        print(\"Ya están creadas las carpetas\")\n",
    "        \n",
    "def descargar_imagen(url, path):\n",
    "    if not os.path.exists(path):\n",
    "        print(\"Descargando \" + path)\n",
    "        wget.download(url=url, out=path)"
   ]
  },
  {
   "cell_type": "code",
   "execution_count": null,
   "metadata": {
    "ExecuteTime": {
     "end_time": "2018-10-06T14:14:02.420898Z",
     "start_time": "2018-10-06T14:13:54.778Z"
    }
   },
   "outputs": [],
   "source": [
    "crear_carpetas()\n",
    "descargar_imagen(URL_ELECTRON_MICROSCOPY_TRAIN, 'dataset/electron-microscopy/train/training.tif')\n",
    "descargar_imagen(URL_ELECTRON_MICROSCOPY_TRAIN_MASK, 'dataset/electron-microscopy/train/training_mask.tif')\n",
    "descargar_imagen(URL_ELECTRON_MICROSCOPY_TEST, 'dataset/electron-microscopy/test/testing.tif')\n",
    "descargar_imagen(URL_ELECTRON_MICROSCOPY_TEST_MASK, 'dataset/electron-microscopy/test/testing_mask.tif')"
   ]
  },
  {
   "cell_type": "markdown",
   "metadata": {},
   "source": [
    "Train"
   ]
  },
  {
   "cell_type": "code",
   "execution_count": null,
   "metadata": {
    "ExecuteTime": {
     "end_time": "2018-10-06T14:14:02.421898Z",
     "start_time": "2018-10-06T14:13:54.780Z"
    }
   },
   "outputs": [],
   "source": [
    "data_provider_electron_microscopy_train = ImageDataProvider(PATH_ELECTRON_MICROSCOPY_TRAIN + \"*.tif\")"
   ]
  },
  {
   "cell_type": "code",
   "execution_count": null,
   "metadata": {
    "ExecuteTime": {
     "end_time": "2018-10-06T14:14:02.422897Z",
     "start_time": "2018-10-06T14:13:54.782Z"
    }
   },
   "outputs": [],
   "source": [
    "#Ejecuta esta línea para reflejar los cambios en la clase Pruebas\n",
    "pruebas_electron_microscopy = Pruebas();"
   ]
  },
  {
   "cell_type": "code",
   "execution_count": null,
   "metadata": {
    "ExecuteTime": {
     "end_time": "2018-10-06T14:14:02.423911Z",
     "start_time": "2018-10-06T14:13:54.786Z"
    }
   },
   "outputs": [],
   "source": [
    "#########################\n",
    "#train(data_provider, folder, train_iter, epoch, train)\n",
    "#Al terminar el entrenamiento se recomienda guardar el contenido de la carpeta unet_trained_broad_005\n",
    "#Ej. 40 iteraciones x 4 batch size = 160 ejemplos. Tenemos 165 frames en la imagen\n",
    "#Recomendaciones de batch: https://www.quora.com/What-are-the-usual-batch-sizes-people-use-to-train-neural-nets                     \n",
    "#########################\n",
    "model_electron_microscopy, data_metric_electron_microscopy = pruebas_electron_microscopy.train(data_provider_electron_microscopy_train, \n",
    "                                          TRAINED_FOLDER_ELECTRON_MICROSCOPY, \n",
    "                                          32, #iterations\n",
    "                                          50, #epoch\n",
    "                                          1, #batch size\n",
    "                                          5, #layers\n",
    "                                          16, #features\n",
    "                                          0.5, #momentum \n",
    "                                          ENTRENAR_ELECTRON_MICROSCOPY_MODEL)"
   ]
  },
  {
   "cell_type": "markdown",
   "metadata": {},
   "source": [
    "Métricas"
   ]
  },
  {
   "cell_type": "code",
   "execution_count": null,
   "metadata": {
    "ExecuteTime": {
     "end_time": "2018-10-06T14:14:02.423911Z",
     "start_time": "2018-10-06T14:13:54.788Z"
    }
   },
   "outputs": [],
   "source": [
    "if (data_metric_electron_microscopy is not None):\n",
    "    show_results(data_metric_electron_microscopy)"
   ]
  },
  {
   "cell_type": "markdown",
   "metadata": {},
   "source": [
    "Test"
   ]
  },
  {
   "cell_type": "code",
   "execution_count": null,
   "metadata": {
    "ExecuteTime": {
     "end_time": "2018-10-06T14:14:02.424894Z",
     "start_time": "2018-10-06T14:13:54.792Z"
    }
   },
   "outputs": [],
   "source": [
    "data_provider_electron_microscopy_test = ImageDataProvider(PATH_ELECTRON_MICROSCOPY_TEST + \"*.tif\")"
   ]
  },
  {
   "cell_type": "code",
   "execution_count": null,
   "metadata": {
    "ExecuteTime": {
     "end_time": "2018-10-06T14:14:02.425894Z",
     "start_time": "2018-10-06T14:13:54.795Z"
    }
   },
   "outputs": [],
   "source": [
    "pruebas_electron_microscopy.test(model_electron_microscopy, \n",
    "                                 data_provider_electron_microscopy_test, \n",
    "                                 TRAINED_FOLDER_ELECTRON_MICROSCOPY)"
   ]
  }
 ],
 "metadata": {
  "kernelspec": {
   "display_name": "Python 3",
   "language": "python",
   "name": "python3"
  },
  "language_info": {
   "codemirror_mode": {
    "name": "ipython",
    "version": 3
   },
   "file_extension": ".py",
   "mimetype": "text/x-python",
   "name": "python",
   "nbconvert_exporter": "python",
   "pygments_lexer": "ipython3",
   "version": "3.6.5"
  },
  "toc": {
   "base_numbering": 1,
   "nav_menu": {},
   "number_sections": true,
   "sideBar": true,
   "skip_h1_title": false,
   "title_cell": "Table of Contents",
   "title_sidebar": "Contents",
   "toc_cell": false,
   "toc_position": {
    "height": "calc(100% - 180px)",
    "left": "10px",
    "top": "150px",
    "width": "384px"
   },
   "toc_section_display": true,
   "toc_window_display": true
  }
 },
 "nbformat": 4,
 "nbformat_minor": 2
}
